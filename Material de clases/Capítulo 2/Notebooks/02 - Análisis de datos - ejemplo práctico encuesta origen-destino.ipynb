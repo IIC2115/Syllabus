{
 "cells": [
  {
   "cell_type": "markdown",
   "metadata": {
    "id": "aBvOOQPh3jd2"
   },
   "source": [
    "<p>\n",
    "<font size='5' face='Georgia, Arial'>IIC2115 - Programación como herramienta para la ingeniería</font><br>\n",
    "</p>"
   ]
  },
  {
   "cell_type": "markdown",
   "metadata": {
    "id": "nSZJgf5xUrVT"
   },
   "source": [
    "# Análisis de datos en Python: ejemplo real de uso con información de la EOD 2012\n",
    "(Los mayores agradecimientos a **Eduardo Graells-Garrido** por los ejemplos usados a continuación)\n",
    "\n",
    "(Se recomienda fuertemente trabajar este archivo en Google Colab)\n",
    "\n",
    "En este ejemplo se analiza la encuesta Origen Destino de Santiago, realizada el año 2012. La Encuesta Origen-Destino de Santiago, efectuada por última vez el año 2012, es el instrumento principal que utilizan las autoridades para tomar decisiones respecto a transporte en la ciudad. Consistió en entrevistar a los residentes de más de 18000 hogares haciéndoles la siguiente pregunta:\n",
    "\n",
    "> ¿Qué viajes hiciste ayer?\n",
    "\n",
    "Las personas encuestadas responden a través de un diario de viaje. En este diario incluyen todos los datos pertinentes de sus viajes: a qué hora lo iniciaron, a qué hora terminaron, los puntos de origen y destino (coordenadas), el propósito del viaje, el/los modo(s) de viaje utilizados, etc. También incluye información socio-demográfica de cada persona que responde.\n",
    "\n",
    "La encuesta es representativa a nivel comunal. Esto quiere decir que podemos sacar conclusiones sobre como se moviliza la población de Providencia, pero no de un barrio específico de la comuna. Puede ser que exista información de ese barrio específico, pero no podemos sacar conclusiones extrapolables al barrio completo."
   ]
  },
  {
   "cell_type": "markdown",
   "metadata": {
    "id": "7BatR0RpUrVW"
   },
   "source": [
    "## Datasets\n",
    "\n",
    "En este ejemplo trabajaremos con la base de datos de la EOD disponible en la página de datos del Gobierno disponible en el siguiente link.\n",
    "\n",
    "  * [Encuesta Origen-Destino Santiago 2012](http://datos.gob.cl/dataset/31616)\n",
    "\n",
    "Con el comando **git clone** descargaremos a la memoria de este notebook la información requerida para trabajar."
   ]
  },
  {
   "cell_type": "code",
   "execution_count": null,
   "metadata": {
    "id": "HkCA5S28Uzwq"
   },
   "outputs": [],
   "source": [
    "!git clone https://github.com/carnby/carto-en-python.git"
   ]
  },
  {
   "cell_type": "markdown",
   "metadata": {
    "id": "r6TRMWQQUrVZ"
   },
   "source": [
    "\n",
    "## Previo\n",
    "\n",
    "Primero vamos a importar alguna de la librerías descritas en el primer notebook de este capíutlo.\n",
    "\n",
    "Usaremos:\n",
    "\n",
    "* `numpy` (vectores)\n",
    "* `pandas`(DataFrames)\n",
    "* `matplotlib` (visualización de bajo nivel)\n",
    "* `seaborn` (visualización estadística).\n",
    "\n",
    "Ya tienen experiencia con algunas de estas cuatro bibliotecas, pero con este ejemplo profundizaremos en las dos últimas."
   ]
  },
  {
   "cell_type": "markdown",
   "metadata": {
    "id": "J9RHk5h8UrVm"
   },
   "source": [
    "## `matplotlib`\n",
    "\n",
    "`matplotlib` es una biblioteca de **bajo nivel** para visualización en Python, con un paradigma **imperativo**.\n",
    "\n",
    "  * De bajo nivel quiere decir que entrega las primitivas gráficas necesarias para crear visualizaciones más complejtas.\n",
    "  * Imperativo quiere decir que se focaliza en las instrucciones que recibe la biblioteca, ya que no _abstrae_ las operaciones o codificaciones visuales de modo que operemos sobre éstas."
   ]
  },
  {
   "cell_type": "markdown",
   "metadata": {
    "id": "1LU80g9nUrVp"
   },
   "source": [
    "## `seaborn`\n",
    "\n",
    "`seaborn` es una biblioteca que se construye _sobre_ `matplotlib`, y que incluye gráficos estadísticos y algunas funcionalidades avanzadas de modelamiento y reducción de complejidad. Esto permite _hacer más con menos código_. Al mismo tiempo, `seaborn` incluye opciones para trabajar con la codificación visual de manera más efectiva que `matplotlib`, por ejemplo, a través de la facilitación de elección de paletas de colores, o de la detección de parámetros siguiendo buenas prácticas.\n",
    "\n",
    "Y para completar más esta oferta, `seaborn` es directamente compatible con `pandas`. `matplotlib` también, pero no de manera nativa, por lo que todo lo que se relaciona con `pandas` requiere más trabajo. En el ejemplo de abajo vemos que no solamente hizo el gráfico, sino que incluso etiquetó automáticamente el eje $x$. Sin embargo, en `seaborn` la idea no es reemplazar los métodos de `matplotlib`. En realidad, lo que haremos será trabajar de manera diferente. Lo primero que debemos hacer es cambiar el formato de los datos. En `seaborn` se trabaja con **tidy data**. O datos ordenaditos.\n",
    "\n",
    "(Aquí hay dos explicaciones interesantes sobre _tidy data_: en [Python](http://www.jeannicholashould.com/tidy-data-in-python.html). El paper que explica el razonamiento detrás está [aquí](http://courses.had.co.nz.s3-website-us-east-1.amazonaws.com/12-rice-bdsi/slides/07-tidy-data.pdf))."
   ]
  },
  {
   "cell_type": "code",
   "execution_count": null,
   "metadata": {
    "id": "XY0ucqSDUrVc"
   },
   "outputs": [],
   "source": [
    "import pandas as pd\n",
    "import matplotlib.pyplot as plt\n",
    "import seaborn as sns\n",
    "import numpy as np\n",
    "\n",
    "# Esto configura la apariencia de los gráficos utilizando configuraciones de seaborn\n",
    "sns.set(context='poster', style='ticks', palette='inferno')\n",
    "\n",
    "# Esto es una instrucción de Jupyter que hace que los gráficos se desplieguen en el notebook\n",
    "%matplotlib inline\n",
    "\n",
    "# la encuesta tiene tantas columnas que hacemos esto para imprimirlas todas"
   ]
  },
  {
   "cell_type": "markdown",
   "metadata": {
    "id": "XVAbgrX8UrVq"
   },
   "source": [
    "## Los datos: endimiento y limpieza\n",
    "\n",
    "Esto involucra:\n",
    "\n",
    "  * Inspeccionar el contenido de la base de datos para saber qué cargar.\n",
    "  * Ajustar las perillas de los métodos para cargar datos, de modo que lean lo que queremos que leamos, y no se equivoquen.\n",
    "  * Realizar visualización exploratoria para saber si está todo en orden.\n",
    "  * Eliminar observaciones que no sirven, sea porque vienen _sucias_, _incompletas_, o bien no son relevantes para nuestro análisis.\n",
    "  \n",
    "  \n",
    "El siguiente comando muestra los parámetros de la EOD."
   ]
  },
  {
   "cell_type": "code",
   "execution_count": null,
   "metadata": {
    "id": "Oz_7uP6pZEvb"
   },
   "outputs": [],
   "source": [
    "!ls ./carto-en-python/input/2012_eod_stgo/EOD_STGO/Tablas_parametros/"
   ]
  },
  {
   "cell_type": "markdown",
   "metadata": {
    "id": "wb4D2kPU3jd7"
   },
   "source": [
    "La siguiente consulta muestra las tablas de información de la EOD."
   ]
  },
  {
   "cell_type": "code",
   "execution_count": null,
   "metadata": {
    "id": "bbJBQrZDzCz-"
   },
   "outputs": [],
   "source": [
    "!ls ./carto-en-python/input/2012_eod_stgo/EOD_STGO/"
   ]
  },
  {
   "cell_type": "markdown",
   "metadata": {
    "id": "Pg_YK5p_3jd7"
   },
   "source": [
    "Si queremos visualizar, por ejemplo información de viajes:"
   ]
  },
  {
   "cell_type": "code",
   "execution_count": null,
   "metadata": {
    "id": "7qLGfWMLzKr-"
   },
   "outputs": [],
   "source": [
    "trip_data = pd.read_csv('./carto-en-python/input/2012_eod_stgo/EOD_STGO/viajes.csv', sep=';')\n",
    "trip_data.head()"
   ]
  },
  {
   "cell_type": "code",
   "execution_count": null,
   "metadata": {
    "id": "4t63Lb5rUrV5"
   },
   "outputs": [],
   "source": [
    "trip_data.columns"
   ]
  },
  {
   "cell_type": "markdown",
   "metadata": {
    "id": "kUfNfJmMUrWA"
   },
   "source": [
    "Por ejemplo, notemos que las columnas ComunaOrigen y ComunaDestino tienen valores numéricos que deben ser IDs."
   ]
  },
  {
   "cell_type": "code",
   "execution_count": null,
   "metadata": {
    "id": "yEchdD4hUrWC"
   },
   "outputs": [],
   "source": [
    "municipalities = pd.read_csv('./carto-en-python/input/2012_eod_stgo/EOD_STGO/Tablas_parametros/Comuna.csv', sep=',')\n",
    "municipalities.head()"
   ]
  },
  {
   "cell_type": "markdown",
   "metadata": {
    "id": "BTUarpjHUrWJ"
   },
   "source": [
    "Entonces, seguramente las comunas de origen/destino de un viaje contienen esos valores, pero codificados."
   ]
  },
  {
   "cell_type": "code",
   "execution_count": null,
   "metadata": {
    "id": "X_P5QlfAUrWL"
   },
   "outputs": [],
   "source": [
    "trip_data.merge(municipalities, left_on='ComunaOrigen', right_on='Id').iloc[0]"
   ]
  },
  {
   "cell_type": "code",
   "execution_count": null,
   "metadata": {
    "id": "v21my2acUrWR"
   },
   "outputs": [],
   "source": [
    "def decode_column(df, fname, col_name, index_col='Id', target_col=None, value_col=None, sep=';', encoding='utf-8'):\n",
    "    '''\n",
    "    param :df: DataFrame del que leeremos una columna.\n",
    "    param :fname: nombre del archivo que contiene los valores a decodificar.\n",
    "    param :col_name: nombre de la columna que queremos decodificar.\n",
    "    param :index_col: nombre de la columna en el archivo @fname que tiene los índices que codifican @col_name\n",
    "    param :value_col: nombre de la columna en el archivo @fname que tiene los valores decodificados\n",
    "    param :sep: carácter que separa los valores en @fname.\n",
    "    param :encoding: identificación del _character set_ que utiliza el archivo. Usualmente es utf-8, si no funciona,\n",
    "                     se puede probar con iso-8859-1.\n",
    "    '''\n",
    "    if value_col is None:\n",
    "        value_col = 'value'\n",
    "\n",
    "    if target_col is None:\n",
    "        target_col = col_name\n",
    "\n",
    "    values_df = pd.read_csv(fname, sep=sep, index_col=index_col, names=[index_col, value_col], header=0,\n",
    "                            dtype={index_col: np.float64}, encoding=encoding)\n",
    "\n",
    "    src_df = df.loc[:,(col_name,)]\n",
    "\n",
    "    return pd.Series(src_df.join(values_df, on=col_name)[value_col], name=target_col)\n",
    "\n",
    "decode_column(trip_data.head(10), './carto-en-python/input/2012_eod_stgo/EOD_STGO/Tablas_parametros/Comuna.csv', 'ComunaOrigen', sep=',')"
   ]
  },
  {
   "cell_type": "markdown",
   "metadata": {
    "id": "Adv4zwKZUrWY"
   },
   "source": [
    "Estudiaremos el uso de modos de viaje. Hay una tabla de parámetros que tiene esa información:"
   ]
  },
  {
   "cell_type": "code",
   "execution_count": null,
   "metadata": {
    "id": "VvHbYAhkUrWa"
   },
   "outputs": [],
   "source": [
    "!head ./carto-en-python/input/2012_eod_stgo/EOD_STGO/Tablas_parametros/Modo.csv"
   ]
  },
  {
   "cell_type": "code",
   "execution_count": null,
   "metadata": {
    "id": "UIhvmFYlUrWg"
   },
   "outputs": [],
   "source": [
    "trip_data.MediosUsados.value_counts()"
   ]
  },
  {
   "cell_type": "markdown",
   "metadata": {
    "id": "Ixsj5O_hUrWl"
   },
   "source": [
    "Existe otra tabla llamada ViajesDifusion:"
   ]
  },
  {
   "cell_type": "code",
   "execution_count": null,
   "metadata": {
    "id": "hnCLgdPMUrWo"
   },
   "outputs": [],
   "source": [
    "trip_mode = pd.read_csv('./carto-en-python/input/2012_eod_stgo/EOD_STGO/ViajesDifusion.csv', sep=';', index_col='Viaje')\n",
    "trip_mode.head()"
   ]
  },
  {
   "cell_type": "code",
   "execution_count": null,
   "metadata": {
    "id": "h3CxJzi_UrWv"
   },
   "outputs": [],
   "source": [
    "decode_column(trip_mode.sample(15), './carto-en-python/input/2012_eod_stgo/EOD_STGO/Tablas_parametros/ModoDifusion.csv', 'ModoDifusion', sep=';', index_col='ID', encoding='iso-8859-1')"
   ]
  },
  {
   "cell_type": "markdown",
   "metadata": {
    "id": "FR2cuntiUrW4"
   },
   "source": [
    "Al parecer es más adecuada para lo que queremos."
   ]
  },
  {
   "cell_type": "code",
   "execution_count": null,
   "metadata": {
    "id": "U5KBuUR7UrW6"
   },
   "outputs": [],
   "source": [
    "trip_data.head().join(trip_mode)"
   ]
  },
  {
   "cell_type": "markdown",
   "metadata": {
    "id": "0AAWjDc_UrW9"
   },
   "source": [
    "Hagamos fast-forward :)"
   ]
  },
  {
   "cell_type": "code",
   "execution_count": null,
   "metadata": {
    "id": "RIdljaX1UrW_"
   },
   "outputs": [],
   "source": [
    "trip_data = (pd.read_csv('./carto-en-python/input/2012_eod_stgo/EOD_STGO/viajes.csv', sep=';', index_col='Viaje')\n",
    "             .assign(ComunaOrigen=lambda x: decode_column(x, './carto-en-python/input/2012_eod_stgo/EOD_STGO/Tablas_parametros/Comuna.csv', 'ComunaOrigen', sep=','))\n",
    "             .assign(ComunaDestino=lambda x: decode_column(x, './carto-en-python/input/2012_eod_stgo/EOD_STGO/Tablas_parametros/Comuna.csv', 'ComunaDestino', sep=','))\n",
    "             .assign(SectorOrigen=lambda x: decode_column(x, './carto-en-python/input/2012_eod_stgo/EOD_STGO/Tablas_parametros/Sector.csv', 'SectorOrigen', sep=';'))\n",
    "             .assign(SectorDestino=lambda x: decode_column(x, './carto-en-python/input/2012_eod_stgo/EOD_STGO/Tablas_parametros/Sector.csv', 'SectorDestino', sep=';'))\n",
    "             .join(pd.read_csv('./carto-en-python/input/2012_eod_stgo/EOD_STGO/ViajesDifusion.csv', sep=';', index_col='Viaje'))\n",
    "             .assign(ModoDifusion=lambda x: decode_column(x, './carto-en-python/input/2012_eod_stgo/EOD_STGO/Tablas_parametros/ModoDifusion.csv', 'ModoDifusion', sep=';', index_col='ID', encoding='iso-8859-1'))\n",
    "             .assign(Proposito=lambda x: decode_column(x, './carto-en-python/input/2012_eod_stgo/EOD_STGO/Tablas_parametros/Proposito.csv', 'Proposito', sep=';'))\n",
    "             .join(pd.read_csv('./carto-en-python/input/2012_eod_stgo/EOD_STGO/DistanciaViaje.csv', sep=';', index_col='Viaje'))\n",
    "            )\n",
    "\n",
    "trip_data.sample(10)"
   ]
  },
  {
   "cell_type": "markdown",
   "metadata": {
    "id": "JQ1jutiNUrXC"
   },
   "source": [
    "Todavía hay un par de asuntos que queremos resolver. Por ejemplo, los tiempos de viaje y las coordenadas geográficas. Antes de eso, limpiemos el dataset sacando valores nulos e inválidos."
   ]
  },
  {
   "cell_type": "code",
   "execution_count": null,
   "metadata": {
    "id": "6dt2XCeSUrXD"
   },
   "outputs": [],
   "source": [
    "trip_data = trip_data.dropna(subset=['HoraIni', 'HoraFin', 'SectorOrigen', 'SectorDestino', 'ComunaOrigen', 'ComunaDestino', 'Proposito', 'ModoDifusion'])"
   ]
  },
  {
   "cell_type": "code",
   "execution_count": null,
   "metadata": {
    "id": "NJpkkLzJUrXM"
   },
   "outputs": [],
   "source": [
    "trip_data['HoraIni'] = trip_data.HoraIni.str.split(':').map(lambda x: pd.Timedelta(hours=int(x[0]), minutes=int(x[1])))\n",
    "trip_data['HoraIni'].describe()"
   ]
  },
  {
   "cell_type": "code",
   "execution_count": null,
   "metadata": {
    "id": "ts4-GqcAUrXR"
   },
   "outputs": [],
   "source": [
    "trip_data['HoraFin'] = trip_data.HoraFin.str.split(':').map(lambda x: pd.Timedelta(hours=int(x[0]), minutes=int(x[1])))\n",
    "trip_data['HoraFin'].describe()"
   ]
  },
  {
   "cell_type": "markdown",
   "metadata": {
    "id": "uqEvliGDUrXZ"
   },
   "source": [
    "En algunos casos, la hora de fin es _menor_ a la hora de inicio. Eso lo podemos corregir:"
   ]
  },
  {
   "cell_type": "code",
   "execution_count": null,
   "metadata": {
    "id": "ye5q41-NUrXa"
   },
   "outputs": [],
   "source": [
    "trip_data.loc[trip_data['HoraFin'] < trip_data['HoraIni'], 'HoraFin'] = trip_data['HoraFin'][trip_data['HoraFin'] < trip_data['HoraIni']] + pd.Timedelta(days=1)"
   ]
  },
  {
   "cell_type": "code",
   "execution_count": null,
   "metadata": {
    "id": "tY56r7yxUrXf"
   },
   "outputs": [],
   "source": [
    "trip_data.sample(15)"
   ]
  },
  {
   "cell_type": "markdown",
   "metadata": {
    "id": "kXRfTls-UrXq"
   },
   "source": [
    "¡Ya podemos hacer cosas!"
   ]
  },
  {
   "cell_type": "code",
   "execution_count": null,
   "metadata": {
    "id": "AZIlEy2uUrXr"
   },
   "outputs": [],
   "source": [
    "sns.histplot(trip_data['HoraIni'] / pd.Timedelta(hours=1), kde=True)"
   ]
  },
  {
   "cell_type": "code",
   "execution_count": null,
   "metadata": {
    "id": "aWMTfQvJUrXx"
   },
   "outputs": [],
   "source": [
    "trip_data['departure_time'] = trip_data.HoraIni / pd.Timedelta(hours=1)"
   ]
  },
  {
   "cell_type": "code",
   "execution_count": null,
   "metadata": {
    "id": "0S3kEvEMUrX0"
   },
   "outputs": [],
   "source": [
    "sns.histplot(trip_data.departure_time, kde=True)"
   ]
  },
  {
   "cell_type": "code",
   "execution_count": null,
   "metadata": {
    "id": "UCNyktu3UrX8"
   },
   "outputs": [],
   "source": [
    "asdf = sns.FacetGrid(data=trip_data, col='Proposito', col_wrap=3, sharey=False, aspect=1.75, height=3)\n",
    "asdf.map(sns.histplot, 'departure_time')\n",
    "asdf.set(xlim=(0,24))"
   ]
  },
  {
   "cell_type": "code",
   "execution_count": null,
   "metadata": {
    "id": "wmL1-zkgUrYB"
   },
   "outputs": [],
   "source": [
    "people_data = (pd.read_csv('./carto-en-python/input/2012_eod_stgo/EOD_STGO/personas.csv', sep=';', index_col='Persona')\n",
    "               .assign(Sexo=lambda x: decode_column(x, './carto-en-python/input/2012_eod_stgo/EOD_STGO/Tablas_parametros/Sexo.csv', 'Sexo', sep=';'))\n",
    "               .assign(Relacion=lambda x: decode_column(x, './carto-en-python/input/2012_eod_stgo/EOD_STGO/Tablas_parametros/Relacion.csv', 'Relacion', sep=';'))\n",
    "               .assign(Ocupacion=lambda x: decode_column(x, './carto-en-python/input/2012_eod_stgo/EOD_STGO/Tablas_parametros/Ocupacion.csv', 'Ocupacion', sep=';'))\n",
    "              )\n",
    "people_data.head()"
   ]
  },
  {
   "cell_type": "code",
   "execution_count": null,
   "metadata": {
    "id": "pwRoDwDEUrYD"
   },
   "outputs": [],
   "source": [
    "trip_data = trip_data.join(people_data.loc[:,('Sexo', 'Relacion', 'Ocupacion')], on='Persona')"
   ]
  },
  {
   "cell_type": "code",
   "execution_count": null,
   "metadata": {
    "id": "JoFxbwKBdijl"
   },
   "outputs": [],
   "source": [
    "trip_data.sample(5)"
   ]
  },
  {
   "cell_type": "markdown",
   "metadata": {
    "id": "M6gbiLypUrYH"
   },
   "source": [
    "Ahora podemos desagregar el gráfico por más variables:"
   ]
  },
  {
   "cell_type": "code",
   "execution_count": null,
   "metadata": {
    "id": "YNmWewHkUrYH"
   },
   "outputs": [],
   "source": [
    "g = sns.FacetGrid(data=trip_data, col='Proposito', hue='Sexo', col_wrap=3, sharey=False, aspect=1.75, height=3, palette='PuOr')\n",
    "g.map(sns.histplot, 'departure_time')\n",
    "g.set(xlim=(0,24))\n",
    "g.add_legend()"
   ]
  },
  {
   "cell_type": "code",
   "execution_count": null,
   "metadata": {
    "id": "qXtkYA5yfTIn"
   },
   "outputs": [],
   "source": [
    "g = sns.FacetGrid(data=trip_data, col='Proposito', hue='Sexo', col_wrap=3, sharey=False, aspect=1.75, height=3, palette='PuOr')\n",
    "g.map(sns.histplot, 'departure_time')\n",
    "g.set(xlim=(0,24))\n",
    "g.add_legend()"
   ]
  },
  {
   "cell_type": "code",
   "execution_count": null,
   "metadata": {
    "id": "D3BZx788g2ya"
   },
   "outputs": [],
   "source": [
    "ocupations = trip_data.Ocupacion.value_counts()\n",
    "ocupations"
   ]
  },
  {
   "cell_type": "code",
   "execution_count": null,
   "metadata": {
    "id": "Z33u_N9MUrYK"
   },
   "outputs": [],
   "source": [
    "g = sns.FacetGrid(data=trip_data, col='Proposito', hue='Ocupacion', col_wrap=3, sharey=False, aspect=1.75, height=3, palette='husl',\n",
    "                 hue_order=ocupations.index[0:4])\n",
    "g.map(sns.histplot, 'departure_time')\n",
    "g.set(xlim=(0,24))\n",
    "g.add_legend()"
   ]
  }
 ],
 "metadata": {
  "colab": {
   "provenance": []
  },
  "kernelspec": {
   "display_name": "Python 3",
   "language": "python",
   "name": "python3"
  },
  "language_info": {
   "codemirror_mode": {
    "name": "ipython",
    "version": 3
   },
   "file_extension": ".py",
   "mimetype": "text/x-python",
   "name": "python",
   "nbconvert_exporter": "python",
   "pygments_lexer": "ipython3",
   "version": "3.8.6"
  }
 },
 "nbformat": 4,
 "nbformat_minor": 0
}
