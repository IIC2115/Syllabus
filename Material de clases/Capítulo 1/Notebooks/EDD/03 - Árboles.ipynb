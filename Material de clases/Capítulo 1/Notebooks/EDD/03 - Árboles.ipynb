{
 "cells": [
  {
   "cell_type": "markdown",
   "metadata": {},
   "source": [
    "<p>\n",
    "<font size='5' face='Georgia, Arial'>IIC2115 - Programación como herramienta para la ingeniería</font><br>\n",
    "<font size='1'>Basado en material de Karim Pichara y Christian Pieringer. Todos los derechos reservados.</font>\n",
    "</p>"
   ]
  },
  {
   "cell_type": "markdown",
   "metadata": {},
   "source": [
    "En esta sección describiremos un conjunto de estructuras de datos basadas en una estructura base llama __nodo__. Un __nodo__ representa a un ítem y sus elementos, y mantiene una o más referencias con sus nodos vecinos con la finalidad de representar estructuras de datos más complejas."
   ]
  },
  {
   "cell_type": "markdown",
   "metadata": {},
   "source": [
    "# Árboles\n",
    "\n",
    "Los árboles corresponden a una estructura de datos no lineal, en donde los objetos están estructurados __jerárquicamente__. A diferencia de las estructuras basadas en arreglos como colas y stacks, en los árboles los objetos quedan ordenados _sobre_ y _debajo_ de acuerdo a esta jerarquía. Cada elemento en el árbol se denomina __nodo__. El primer nodo en el árbol recibe el nombre de __raíz__ (root). A excepción del nodo raíz, cada nodo del árbol tiene un __padre__ y cero o más nodos __hijos__. Los nodos provenientes de un mismo padre se denominan __hermanos__ y los nodos en la línea de descendencia del nodo padre se conocen como __ancestros__."
   ]
  },
  {
   "cell_type": "markdown",
   "metadata": {},
   "source": [
    "Formalmente, un árbol __T__ que ordena los objetos bajo una relación _padre-hijo_ tiene las siguientes propiedades:\n",
    "\n",
    "- Si __T__ no está vacío, tiene un nodo _raíz_ que no tiene padres\n",
    "- Cada nodo _c_ en __T__ distinto de la raíz, tiene un único padre _p_, y todos los nodos _c_ que tienen por padre a _p_ son hijos de _p_.\n",
    "\n",
    "En la figura a continuación, el árbol mostrado tiene como nodo raíz al reino animal. Este nodo tiene dos nodos hijos: Vertebrados e Invertebrados. Otro ejemplo dentro del mismo árbol es el nodo Gusanos que tiene como nodo padre al nodo Invertebrados, pero tiene cero nodos hijos.\n",
    "\n",
    "![](figs/trees-example.png)"
   ]
  },
  {
   "cell_type": "markdown",
   "metadata": {},
   "source": [
    "Un __vértice__ corresponde a la conexión entre un par de nodos (_u_, _v_) que tienen una relación directa. Cada nodo tiene solo un vértice entrante y cero o varios vértices salientes. La secuencia ordenada de nodos consecutivos unidos por un vértice a lo largo de árbol __T__ forman un __camino__. En la figura anterior, los nodos _Peces_ y _Oseos_ están unidos por un vértice, y están en el camino _Reino Animal-Vertebrados-Peces-Oseos_. Los nodos que no tienen hijos se conocen como nodos __hoja__ (_leaf nodes_). Así, todos los nodos que no son hoja ni raíz se denominan nodos __interiores__.\n",
    "\n",
    "\n",
    "La __profundidad__ (depth) de un nodo _u_ se denomina como el número de áncestros que existen entre el nodo raíz y el nodo _u_, excluyendo el nodo. Así mismo, la __altura__ (height) del árbol corresponde al máximo de las profundidades alcanzada por los nodos hojas. Por ejemplo en la figura anterior, el nivel del nodo Peces es 2, y la profundidad del árbol es 3."
   ]
  },
  {
   "cell_type": "markdown",
   "metadata": {},
   "source": [
    "## Árboles de Estructura Enlazada \n",
    "\n",
    "Un forma de poder representar un árbol consiste en modelar cada nodo como un objeto con las propiedades de un nodo: id_nodo, id_padre, hijos y el valor almacenado en ese nodo. Cada nodo es en sí un árbol y podemos crear el árbol completo agregando nodos incrementalmente."
   ]
  },
  {
   "cell_type": "code",
   "execution_count": null,
   "metadata": {},
   "outputs": [],
   "source": [
    "class Arbol:\n",
    "    # Creamos la estructura básica del árbol. Los nodos hijos pueden ser guardados en alguna \n",
    "    # estructura como listas o diccionarios. Sin pérdidad de generalidad, en este ejemplo los\n",
    "    # nodos hijos serán guardados en un diccionario.\n",
    "    \n",
    "    def __init__(self, id_nodo, valor=None, id_padre=None):\n",
    "        self.id_nodo = id_nodo\n",
    "        self.id_padre = id_padre\n",
    "        self.valor = valor\n",
    "        self.hijos = {}       \n",
    "    \n",
    "    def agregar_nodo(self, id_nodo, valor=None, id_padre=None):\n",
    "        # Cada vez que agregamos un nodo verificamos primero si corresponde al nodo padre \n",
    "        # donde queremos agregar el nuevo nodo. Si no es el nodo, buscamos recursivamente \n",
    "        # a través de todos los nodos existentes hasta que encontremos el nodo correspondiente.\n",
    "        \n",
    "        if self.id_nodo == id_padre:\n",
    "            # Si el nodo es el nodo padre, entonces actualizamos el diccionario \n",
    "            # con los hijos\n",
    "            \n",
    "            self.hijos.update({id_nodo: Arbol(id_nodo, valor, id_padre)})\n",
    "            \n",
    "        else:\n",
    "            # Si no, recursivamente seguimos buscando en el árbol el nodo padre\n",
    "            \n",
    "            for hijo in self.hijos.values():\n",
    "                hijo.agregar_nodo(id_nodo, valor, id_padre)\n",
    "                \n",
    "    def obtener_nodo(self, id_nodo):\n",
    "        # recursivamente obtenemos el nodo siempre y cuando exista la posicion.\n",
    "        \n",
    "        if self.id_nodo == id_nodo:\n",
    "            return self\n",
    "        else:\n",
    "            for hijo in self.hijos.values():\n",
    "                nodo = hijo.obtener_nodo(id_nodo)\n",
    "                \n",
    "                if nodo:\n",
    "                    # retorna el nodo si es que existe en el árbol\n",
    "                    return nodo\n",
    "                             \n",
    "    def __repr__(self):\n",
    "        # Para visualizar el arbol redefinimos el método __repr__ para recorrer recursivamente\n",
    "        # todos los nodos del árbol.\n",
    "        \n",
    "        def recorrer_arbol(raiz):\n",
    "            for hijo in raiz.hijos.values():\n",
    "                self.ret += \"id-nodo: {} -> id_padre: {} -> valor: {}\\n\".format(hijo.id_nodo, hijo.id_padre, hijo.valor)\n",
    "                recorrer_arbol(hijo)\n",
    "                \n",
    "            return self\n",
    "\n",
    "        self.ret = 'RAIZ:\\nroot-id: {} -> valor: {}\\n\\nHIJOS:\\n'.format(self.id_nodo, self.valor)\n",
    "        recorrer_arbol(self)        \n",
    "        return self.ret"
   ]
  },
  {
   "cell_type": "markdown",
   "metadata": {},
   "source": [
    "Para crear y poblar el árbol, utilicemos el árbol de ejemplo mostrado en la siguiente figura. Cada nodo tiene el valor almacenado y su ID.\n",
    "![](figs/ejemplo_arbol.png)"
   ]
  },
  {
   "cell_type": "code",
   "execution_count": null,
   "metadata": {},
   "outputs": [],
   "source": [
    "T = Arbol(0, 10)\n",
    "T.agregar_nodo(1, 8, 0)\n",
    "T.agregar_nodo(2, 12, 0)\n",
    "T.agregar_nodo(3, 4, 1)\n",
    "T.agregar_nodo(4, 9, 1)\n",
    "T.agregar_nodo(5, 1, 3)\n",
    "T.agregar_nodo(6, 18, 2)\n",
    "\n",
    "# Desplegamos el árbol según se definió en el método __repr__\n",
    "print(T)"
   ]
  },
  {
   "cell_type": "markdown",
   "metadata": {},
   "source": [
    "Si queremos obtener un nodo específico utilizamos el método *obtener_nodo()* el que recursivamente busca por el id del nodo. En este ejemplo el método retorna todo el objeto el nodo."
   ]
  },
  {
   "cell_type": "code",
   "execution_count": null,
   "metadata": {},
   "outputs": [],
   "source": [
    "nodo = T.obtener_nodo(6)\n",
    "print('El ID del nodo es {}'.format(nodo.id_nodo))\n",
    "\n",
    "nodo = T.obtener_nodo(1)\n",
    "print('El nodo tiene {} hijos'.format(len(nodo.hijos)))\n"
   ]
  },
  {
   "cell_type": "markdown",
   "metadata": {},
   "source": [
    "## Recorrido de un Árbol\n",
    "\n",
    "El recorrido de un árbol o también conocido como _Tree traversal_, corresponde a la forma de accesar o visitar sistemáticamente todos los nodos de un árbol __T__. Existen múltiples formas de hacerlo, pero en este curso nos centraremos en dos esquemas: Breadth First Search (BFS) y Depth First Search (DFS).\n"
   ]
  },
  {
   "cell_type": "markdown",
   "metadata": {},
   "source": [
    "#### Bread-First Search (BFS)\n",
    "\n",
    "El enfoque **Breadth First Search** consiste en recorrer el árbol por nivel, siendo primero visitados todos los nodos de más arriba en la jerarquía del árbol. Para ejecutar el recorrido utiliza una **cola** para almacenar los nodos por visitar."
   ]
  },
  {
   "cell_type": "code",
   "execution_count": null,
   "metadata": {},
   "outputs": [],
   "source": [
    "from collections import deque\n",
    "\n",
    "class ArbolBFS(Arbol):\n",
    "    # Heredamos de la clase original del Arbol y modificamos el metodo recorrer_arbol para usar \n",
    "    # el Breadth-first Search\n",
    "    \n",
    "    def __repr__(self):\n",
    "        \n",
    "        def recorrer_arbol(raiz):\n",
    "            \n",
    "            # Utiliamos una cola para almacenar los nodos por visitar\n",
    "            Q = deque()\n",
    "            Q.append(raiz)\n",
    "            \n",
    "            # Utilizamos una lista para registrar los nodos visitados\n",
    "            visitados = []\n",
    "            \n",
    "            while len(Q) > 0:                \n",
    "                p = Q.popleft()\n",
    "                \n",
    "                if p.id_nodo not in visitados:\n",
    "                    \n",
    "                    # Revisamos si el nodo ha sido visitado. Si no ha sido visitado\n",
    "                    # lo agregamos a la lista de visitados\n",
    "                    \n",
    "                    visitados.append(p.id_nodo)\n",
    "\n",
    "                    #visitamos el nodo\n",
    "                    self.ret += \"nodo_id: {}, id_padre: {} -> valor: {}\\n\".format(\n",
    "                        p.id_nodo, p.id_padre, p.valor)\n",
    "                \n",
    "                    # Agregamos todos los nodos hijos a la cola por visitar\n",
    "                    for hijo in p.hijos.values():\n",
    "                        Q.append(hijo)\n",
    "                    \n",
    "            return self\n",
    "\n",
    "        self.ret = ''\n",
    "        recorrer_arbol(self)\n",
    "        return self.ret\n",
    "    \n",
    "# Poblamos el árbol con los datos utilizados en los casos anteriores\n",
    "T = ArbolBFS(0, 10)\n",
    "T.agregar_nodo(1, 8, 0)\n",
    "T.agregar_nodo(2, 12, 0)\n",
    "T.agregar_nodo(3, 4, 1)\n",
    "T.agregar_nodo(4, 4, 1)\n",
    "T.agregar_nodo(5, 1, 3)\n",
    "T.agregar_nodo(6, 18, 2)\n",
    "\n",
    "print(T)"
   ]
  },
  {
   "cell_type": "markdown",
   "metadata": {},
   "source": [
    "#### Depth First Search (DFS)\n",
    "\n",
    "El enfoque **Depth First Search** consiste en recorrer el árbol por profundidad, llegando siempre hasta el final de cada camino. Para ejecutar el recorrido utiliza una _stack_ para almacenar los nodos por visitar."
   ]
  },
  {
   "cell_type": "code",
   "execution_count": null,
   "metadata": {},
   "outputs": [],
   "source": [
    "from collections import deque\n",
    "\n",
    "class ArbolDFS(Arbol):\n",
    "    \n",
    "    # Heredamos de la clase original del Arbol y modificamos el metodo recorrer_arbol para usar \n",
    "    # el Depth-first Search (DFS)\n",
    "    \n",
    "    def __repr__(self):\n",
    "        \n",
    "        def recorrer_arbol(raiz):\n",
    "            \n",
    "            # En DPS utilizamos un stack para almacenar los nodos por visitar          \n",
    "            Q = deque()\n",
    "            Q.append(raiz)\n",
    "            \n",
    "            # Utilizaremos una lista para marcar los nodos visitados\n",
    "            visitados = []\n",
    "\n",
    "            while len(Q) > 0:                \n",
    "                p = Q.pop()\n",
    "                \n",
    "                if p.id_nodo not in visitados:\n",
    "                    \n",
    "                    # Revisamos si el nodo ha sido visitado. Si no ha sido visitado\n",
    "                    # lo agregamos a la lista de visitados\n",
    "                    \n",
    "                    visitados.append(p.id_nodo)\n",
    "                    \n",
    "                    self.ret += \"nodo_id: {}, id_padre: {} -> valor: {}\\n\".format(\n",
    "                        p.id_nodo, p.id_padre, p.valor)\n",
    "\n",
    "                    for hijo in p.hijos.values():\n",
    "                        Q.append(hijo)\n",
    "\n",
    "            return self\n",
    "        \n",
    "        self.ret = ''\n",
    "        recorrer_arbol(self)\n",
    "        \n",
    "        return self.ret\n",
    "    \n",
    "    \n",
    "# Poblamos el árbol con los datos utilizados en los casos anteriores\n",
    "T = ArbolDFS(0, 10)\n",
    "T.agregar_nodo(1, 8, 0)\n",
    "T.agregar_nodo(2, 12, 0)\n",
    "T.agregar_nodo(3, 4, 1)\n",
    "T.agregar_nodo(4, 4, 1)\n",
    "T.agregar_nodo(5, 1, 3)\n",
    "T.agregar_nodo(6, 18, 2)\n",
    "\n",
    "print(T)"
   ]
  },
  {
   "cell_type": "markdown",
   "metadata": {},
   "source": [
    "<font size='1' face='Arial'><sup>1</sup>Agradecemos a los (ex) ayudantes del curso Programación Avanzada Belén Saldías, Ivania Donoso, Patricio López, Jaime Castro, Rodrigo Gómez y Marco Bucchi por su colaboración durante la revisión de este material.</font>"
   ]
  }
 ],
 "metadata": {
  "anaconda-cloud": {},
  "kernelspec": {
   "display_name": "Python 3",
   "language": "python",
   "name": "python3"
  },
  "language_info": {
   "codemirror_mode": {
    "name": "ipython",
    "version": 3
   },
   "file_extension": ".py",
   "mimetype": "text/x-python",
   "name": "python",
   "nbconvert_exporter": "python",
   "pygments_lexer": "ipython3",
   "version": "3.8.6"
  }
 },
 "nbformat": 4,
 "nbformat_minor": 4
}
