{
 "cells": [
  {
   "cell_type": "markdown",
   "metadata": {},
   "source": [
    "<p>\n",
    "<font size='5' face='Georgia, Arial'>IIC2115 - Programación como herramienta para la ingeniería</font><br>\n",
    "<font size='1'>Basado en material de Karim Pichara y Christian Pieringer. Todos los derechos reservados.</font>\n",
    "</p>"
   ]
  },
  {
   "cell_type": "markdown",
   "metadata": {},
   "source": [
    "# Estructuras de Datos\n",
    "\n",
    "Se entiende por <b>estructura de datos</b> a un tipo de dato especializado, diseñado para agrupar, almacenar o acceder a la información de manera más eficiente que un tipo de dato básico (int, float, etc). Las estructuras de datos involucran un alto nivel de abstracción y por lo tanto es posible establecer una clara y directa relación con la programación orientada a objetos (POO). El uso de cada tipo de estructura de datos tiene relación directa con el contexto de aplicación, como también con el diseño y eficiencia alcanzada por los algoritmos. Es decir, la elección adecuada de la estructura de datos es fundamental para desarrollar un buen software.\n",
    "\n",
    "_\"El saber que estructura de datos ocupar y en que momento o contexto hacerlo, hace la diferencia entre un programador y un buen programador\"_.\n",
    "\n",
    "Como todos los principales lenguajes, Python posee varias estructuras ya implementadas para el manejo eficiente de datos. En este capítulo revisaremos solo tres (tuplas, listas y diccionarios), mientas que en el siguiente cubriremos algunas más avanzadas."
   ]
  },
  {
   "cell_type": "markdown",
   "metadata": {},
   "source": [
    "# Estructuras de datos básicas"
   ]
  },
  {
   "cell_type": "markdown",
   "metadata": {},
   "source": [
    "En Python, la estructura de datos más simple es una clase vacía, sin métodos. Una vez que esta clase es instanciada en un objeto, el usuario puede agregar atributos o propiedades. Para dejar la estructura vacía se utiliza la sentencia pass. Esta sentencia es una operación nula donde nada ocurre y es utilizada generalmente en lugares donde el código no tiene nada declarado, pero que eventualmente lo tendrá."
   ]
  },
  {
   "cell_type": "code",
   "execution_count": null,
   "metadata": {},
   "outputs": [],
   "source": [
    "# Se crea una clase vacía.\n",
    "class Video:\n",
    "    pass\n",
    "\n",
    "vid = Video()\n",
    "\n",
    "# se agregan atributos nuevos. ¿Por qué hacer esto no es buena práctica?\n",
    "vid.ext = 'avi'\n",
    "vid.size = '1024'\n",
    "\n",
    "print(vid.ext, vid.size) \n",
    "\n",
    "# También se puede crear una clase sin métodos pero con algunos atributos pre-definidos\n",
    "class Imagen:\n",
    "    def __init__(self):\n",
    "        self.ext = ''\n",
    "        self.size = ''\n",
    "        self.data = ''\n",
    "\n",
    "img = Imagen()\n",
    "img.ext = 'bmp'\n",
    "img.size = '8'\n",
    "img.data = [255,255,255,200,34,35]\n",
    "img.ids = 20 # python permite de todas formas agregar nuevos atributos a pesar de no estar declarados inicialmente\n",
    "\n",
    "print(img.ext, img.size, img.data, img.ids)"
   ]
  },
  {
   "cell_type": "markdown",
   "metadata": {},
   "source": [
    "## Tuplas"
   ]
  },
  {
   "cell_type": "markdown",
   "metadata": {},
   "source": [
    "Estas estructuras se utilizan para manejar datos de forma ordenada. Los contenidos pueden ser accesados utilizando el índice correspondiente al orden con que los contenidos fueron ingresados según se muestra en la figura. \n",
    "\n",
    "![](figs/indices_secuencia.png)\n",
    "\n",
    "\n",
    "Las tuplas pueden contener distintos objetos o tipos de datos. Para declarar o crear una tupla se utiliza `tuple(elementos)`"
   ]
  },
  {
   "cell_type": "code",
   "execution_count": null,
   "metadata": {},
   "outputs": [],
   "source": [
    "# Para crear una tupla vacia se usa tuple() sin ingresar elementos.\n",
    "a = tuple()\n",
    "\n",
    "# Se puede declarar explícitamente los elementos de la tupla ingresando los elementos entre paréntesis.\n",
    "b = (0, 1, 2)\n",
    "\n",
    "# La tupla puede ser creda con objetos de distito tipo. En las tuplas el uso de parentesis no es obligatorio cuando son creadas.\n",
    "c = 0, 'mensaje'\n",
    "\n",
    "print(b[0], b[1])\n",
    "print(c[0], c[1])"
   ]
  },
  {
   "cell_type": "markdown",
   "metadata": {},
   "source": [
    "Las tuplas son estructuras de datos **INMUTABLES**, es decir, que no es posible agregar o eliminar elementos, o bien cambiar el contenido de ella  una vez que esta fue creada. La principal ventaja de la inmutabilidad es que pueden ser usadas como valor de mapeo o llave en estructuras basadas en *hashing*, como son los diccionarios que veremos más adelante.\n",
    "\n",
    "En el siguiente ejemplo, la posicion 0 de la tupla **```a```** contiene originalmente un objeto del tipo `Imagen`. Intentamos reemplazar esta posición por un string (o cualquier tipo de dato). En este caso se origina un *error de tipo* debido a que la tupla no permite asignación."
   ]
  },
  {
   "cell_type": "code",
   "execution_count": null,
   "metadata": {
    "scrolled": true
   },
   "outputs": [],
   "source": [
    "img = Imagen()\n",
    "a = (img, 'este es', 'un archivo')\n",
    "a[0] = 'nuevo dato' "
   ]
  },
  {
   "cell_type": "markdown",
   "metadata": {},
   "source": [
    "Las tuplas pueden ser desempaquetadas en variables individuales. En este ejemplo creamos una función llamada `calcular_geometria()` que recibe como entrada los lados de un cuadrilátero y retorna algunas medidas geométricas típicas. Cuando las funciones retornan más de un valor, lo hacen empaquetando todos los valores en una tupla."
   ]
  },
  {
   "cell_type": "code",
   "execution_count": null,
   "metadata": {},
   "outputs": [],
   "source": [
    "def calcular_geometria(a, b):\n",
    "    area = a*b\n",
    "    perimeter = (2*a) + (2*b)\n",
    "    mpa = a/2\n",
    "    mpb = b/2\n",
    "    return (area, perimeter, mpa, mpb) # Los paréntesis son opcionales\n",
    "\n",
    "# Obtenemos una tupla con los datos provenientes de la función.\n",
    "data = calcular_geometria(20.0, 10.0)\n",
    "print('1: {0}'.format(data))\n",
    "\n",
    "# Obtenemos un valor desde la tupla directamente referenciando el índice del dato requerido.\n",
    "a = data[0]\n",
    "print('2: {0}'.format(a))\n",
    "\n",
    "# desempaquetando en variables independientes los valores contenidos en una tupla\n",
    "a, p, mpa, mpb = data\n",
    "print('3: {0}, {1}, {2}, {3}'.format(a, p, mpa, mpb))\n",
    "\n",
    "# Las funciones devuelven el conjunto de valores como una tupla. Se puede desempaquetar directamente en variables individuales como en el caso anterior.\n",
    "a, p, mpa, mpb = calcular_geometria(20.0, 10.0)\n",
    "print('4: {0}, {1}, {2}, {3}'.format(a, p, mpa, mpb))"
   ]
  },
  {
   "cell_type": "markdown",
   "metadata": {},
   "source": [
    "## Listas"
   ]
  },
  {
   "cell_type": "markdown",
   "metadata": {},
   "source": [
    "Este tipo de estructura de datos ha sido diseñada para el almacenamiento de distintas instancias de un mismo tipo de objeto (a pesar que de todas formas no existe restricción en la combinación de tipos de objetos que pueden manejar). Las listas son estructuras que guardan datos de forma **ordenada**, a diferencia de la tuplas que son estructuras que guardan una **disposición** de los datos. Los elementos que se agregan usando `append` se ponen al final de la lista. Los elementos se pueden obtener usando el valor del índice del posición donde fueron almacenados. Las listas son estructuras **MUTABLES**, es decir, que su contenido puede cambiar dinámicamente después que esta fue creada.\n",
    "\n",
    "NOTA: **EVITA** el uso de las listas para coleccionar distintos atributos de un objeto o en situaciones como la siguiente, donde se utiliza como histograma para almacenar la cuenta de palabras `[‘a’, 1, ‘b’, 2]`. Esto necesita diseñar un algoritmo de acceso a los datos dentro de la lista que hace engorroso su manejo. En este caso preferir el uso de otro tipo de estructuras como diccionarios."
   ]
  },
  {
   "cell_type": "code",
   "execution_count": null,
   "metadata": {},
   "outputs": [],
   "source": [
    "# lista vacía y agregar elementos incrementalmente. En este caso agregamos tuplas.\n",
    "lista = []\n",
    "lista.append((2015, 3, 14))\n",
    "lista.append((2015, 4, 18))\n",
    "print(lista)\n",
    "\n",
    "# Tambien es posible agregar los objetos explicitamente al definirla por primera vez\n",
    "lista = [1, 'string', 20.5, (23, 45)]\n",
    "print(lista)\n",
    "\n",
    "# Extraemos un el elemento usando el indice respectivo\n",
    "print(lista[1])"
   ]
  },
  {
   "cell_type": "markdown",
   "metadata": {},
   "source": [
    "A veces es necesario agregar nuevos elementos contenidos en otras listas. En estos casos resulta muy útil agregar la lista completa y no cada elemento de forma individual con `append()`. En este caso resulta mejor utilizar el método `extend()`."
   ]
  },
  {
   "cell_type": "code",
   "execution_count": null,
   "metadata": {},
   "outputs": [],
   "source": [
    "canciones = ['Addicted to pain', 'Ghost love score', 'As I am']\n",
    "print(canciones)\n",
    "\n",
    "nuevas_canciones = ['Elevate', 'Shine', 'Cry of Achilles']\n",
    "canciones.extend(nuevas_canciones)\n",
    "print(canciones)"
   ]
  },
  {
   "cell_type": "markdown",
   "metadata": {},
   "source": [
    "También es posible insertar elementos en posiciones específicas mediante el método `insert(posicion, elemento)`."
   ]
  },
  {
   "cell_type": "code",
   "execution_count": null,
   "metadata": {},
   "outputs": [],
   "source": [
    "print(canciones)\n",
    "canciones.insert(1, 'Sober')\n",
    "print(canciones)"
   ]
  },
  {
   "cell_type": "markdown",
   "metadata": {},
   "source": [
    "Es posible tomar secciones de las listas usando la notación <i>slicing</i>. En esta notación los índices no coinciden directamente con la posición del elemento en la lista, si no más bien funcionan como márgenes desde donde y hasta donde se necesita recuperar. Esta notación se debe usar como `lista[inicio:término:pasos]`. Por defecto el número de pasos es 1. La siguiente figura muestra un ejemplo de como se debe considerar los indices al usar la notación slicing. \n",
    "![](figs/indices_slicing.png)"
   ]
  },
  {
   "cell_type": "markdown",
   "metadata": {},
   "source": [
    "Forma general de hacer slicing en Python:\n",
    "\n",
    "- `a[start : end]`: retorna los elementos desde `start` hasta `end-1`.\n",
    "- `a[start:]`: retorna los elementos desde `start` hasta el final del arreglo.\n",
    "- `a[:end]`: retorna los elementos desde el principio hasta `end-1`.\n",
    "- `a[:]`: crea una copia (shallow) del arreglo completo. Es decir, el arreglo retornado está en una nueva dirección de memoria, pero los elementos en el arreglo están hace referencia a la dirección de memoria a los elemenos del arreglo original.\n",
    "- `a[start : end : step]`: retorna los elementos desde `start` hasta no pasar `end`, en pasos de a `step`.\n",
    "- `a[-1]`: retorna el último elemento en el arreglo.\n",
    "- `a[-n:]`:   # últimos `n` elementos en el arreglo.\n",
    "- `a[:-n]`: retorna todos los elementos del arreglo menos los últimos `n` elementos.\n",
    "\n",
    "Veamos a continuación ejemplos de *slicing* aplicado a listas (también puede aplicarse a tuplas):"
   ]
  },
  {
   "cell_type": "code",
   "execution_count": null,
   "metadata": {
    "scrolled": true
   },
   "outputs": [],
   "source": [
    "# Tomando una tajada particular\n",
    "numeros = [6, 7, 2, 4, 10, 20, 25]\n",
    "print(numeros[2:6])\n",
    "\n",
    "# tomando una seccion hasta el final de la lista\n",
    "print(numeros[2:])\n",
    "\n",
    "# tomando una sección desde el principio hasta un punto específico\n",
    "print(numeros[:5:])\n",
    "\n",
    "# considerando pasos de 2\n",
    "print(numeros[:5:2])\n",
    "\n",
    "# revirtiendo una lista\n",
    "print(numeros[::-1])"
   ]
  },
  {
   "cell_type": "markdown",
   "metadata": {},
   "source": [
    "Las listas pueden ser ordenadas utilizando el método `sort()`. Esto ordena las listas en si mismas y no devuelve nada, es decir, el resultado no es asignable a una nueva lista."
   ]
  },
  {
   "cell_type": "code",
   "execution_count": null,
   "metadata": {},
   "outputs": [],
   "source": [
    "numeros = [6, 7, 2, 4, 10, 20, 25]\n",
    "print(numeros)\n",
    "\n",
    "# En sentido ascendente. Observar como a no recibe ninguna asignacion despues de que la lista numeros es ordenada\n",
    "a = numeros.sort() \n",
    "print(numeros, a)\n",
    "\n",
    "# En sentido descendente\n",
    "numeros.sort(reverse=True)\n",
    "print(numeros)"
   ]
  },
  {
   "cell_type": "markdown",
   "metadata": {},
   "source": [
    "Las listas han sido optimizadas para ser una estructura flexible y fácil de manejar. También se pueden recorrer usando un `for`:"
   ]
  },
  {
   "cell_type": "code",
   "execution_count": null,
   "metadata": {},
   "outputs": [],
   "source": [
    "class Pieza:\n",
    "    pid = 0\n",
    "    \n",
    "    def __init__(self, pieza):\n",
    "        Pieza.pid += 1\n",
    "        self.pid = Pieza.pid\n",
    "        self.tipo = pieza\n",
    "\n",
    "piezas = []\n",
    "piezas.append(Pieza('Alfil'))\n",
    "piezas.append(Pieza('Peon'))\n",
    "piezas.append(Pieza('Rey'))\n",
    "piezas.append(Pieza('Reina'))\n",
    "\n",
    "# Por cada iteración en el ciclo la variable pieza recibe un elemento de la lista.\n",
    "for pieza in piezas:\n",
    "    print('pid: {0} - tipo de pieza: {1}'.format(pieza.pid, pieza.tipo))"
   ]
  }
 ],
 "metadata": {
  "anaconda-cloud": {},
  "kernelspec": {
   "display_name": "Python 3",
   "language": "python",
   "name": "python3"
  },
  "language_info": {
   "codemirror_mode": {
    "name": "ipython",
    "version": 3
   },
   "file_extension": ".py",
   "mimetype": "text/x-python",
   "name": "python",
   "nbconvert_exporter": "python",
   "pygments_lexer": "ipython3",
   "version": "3.8.6"
  }
 },
 "nbformat": 4,
 "nbformat_minor": 4
}
