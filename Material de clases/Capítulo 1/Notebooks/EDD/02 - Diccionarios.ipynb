{
 "cells": [
  {
   "cell_type": "markdown",
   "metadata": {},
   "source": [
    "<p>\n",
    "<font size='5' face='Georgia, Arial'>IIC2115 - Programación como herramienta para la ingeniería</font><br>\n",
    "<font size='1'>Basado en material de Karim Pichara y Christian Pieringer. Todos los derechos reservados.</font>\n",
    "</p>"
   ]
  },
  {
   "cell_type": "markdown",
   "metadata": {},
   "source": [
    "## Diccionarios\n",
    "Los diccionarios corresponden a estructuras de datos orientadas a la asociación de pares de elementos mediante una relación: __llave-valor__. Esta relación permite que la búsqueda de los elementos se realice de forma eficiente mediante el uso de la llave, quien indica la posición de memoria donde está contenido su valor asociado.\n",
    "\n",
    "![](figs/hash-table.png)\n",
    "\n",
    "En Python los diccionarios se escriben con `{}`. Se debe especificar la llave y el valor, asociadas mediante `:`. Las llaves en los diccionarios pueden ser cualquier tipo de variable __inmutable__: `int`, `str`, `tuple`, etc. Su creación se realiza como sigue:"
   ]
  },
  {
   "cell_type": "code",
   "execution_count": null,
   "metadata": {},
   "outputs": [],
   "source": [
    "perros = {'bc': 'border-collie', 'lr': 'labrador retriever', 'pg': 'pug'}\n",
    "telefonos = {23545344: 'Juanito', 23545340: 'Sole', 23545342: 'Ignacio'}\n",
    "tuplas = {('23545344', 0): 'oficina', ('2353445340', 1): 'secretaria'}\n",
    "\n",
    "print(perros)\n",
    "print(tuplas)"
   ]
  },
  {
   "cell_type": "markdown",
   "metadata": {},
   "source": [
    "La referenciación mediante llaves es incluso más flexible. Las llaves dentro de un diccionario pueden ser de distinto tipo. Nota en el ejemplo que el ordenamiento no está relacionado al orden de ingreso de los valores."
   ]
  },
  {
   "cell_type": "code",
   "execution_count": null,
   "metadata": {},
   "outputs": [],
   "source": [
    "varios = {1:'primera llave', '2': 'segunda llave', 23.0: 'tercera llave', (23,5): 'cuarta llave'}\n",
    "print(varios)"
   ]
  },
  {
   "cell_type": "markdown",
   "metadata": {},
   "source": [
    "Los contenidos del diccionario **no** están ordenados según ingreso como ocurre en las tuplas y listas. Para acceder a cada valor asociado a cada llave utilizamos la llave como `nombre_diccionario[nombre_llave]`. A continuación algunos ejemplos:"
   ]
  },
  {
   "cell_type": "code",
   "execution_count": null,
   "metadata": {},
   "outputs": [],
   "source": [
    "print(perros['bc'])\n",
    "print(telefonos[23545344])\n",
    "print(tuplas[('23545344', 0)])"
   ]
  },
  {
   "cell_type": "markdown",
   "metadata": {},
   "source": [
    "Los diccionarios son estructuras de datos **mutables**, es decir, su contenido puede cambiar a lo largo del programa. Si se asigna un valor a una llave, existen dos comportamientos posibles: si la llave no existe, esta se crea y se le asigna un valor; si la llave ya existe, se actualiza con el nuevo valor."
   ]
  },
  {
   "cell_type": "code",
   "execution_count": null,
   "metadata": {},
   "outputs": [],
   "source": [
    "perros['te'] = 'terrier'\n",
    "print(perros)\n",
    "\n",
    "perros['pg'] = 'pug-pug'\n",
    "print(perros)"
   ]
  },
  {
   "cell_type": "markdown",
   "metadata": {},
   "source": [
    "Se puede eliminar items desde el diccionario utilizando la sentencia **del** como: ```del diccionario[<llave>]```."
   ]
  },
  {
   "cell_type": "code",
   "execution_count": null,
   "metadata": {},
   "outputs": [],
   "source": [
    "del perros['te']\n",
    "print(perros)"
   ]
  },
  {
   "cell_type": "markdown",
   "metadata": {},
   "source": [
    "Para comprobar la existencia de una llave en el diccionario se puede utilizar la sentencia `in`. El comportamiento por defecto al utilizar sentencias sobre el diccionario es operar sobre los valores de las llaves. En el caso de in devuelve True si la llave requerida existe dentro de las llaves en el diccionario"
   ]
  },
  {
   "cell_type": "code",
   "execution_count": null,
   "metadata": {},
   "outputs": [],
   "source": [
    "print('pg' in perros)\n",
    "print('te' in perros)"
   ]
  },
  {
   "cell_type": "markdown",
   "metadata": {},
   "source": [
    "Otra forma consiste en utilizar el método get que posee la clase diccionario. Este método require dos parámetros: la llave buscada y un valor en caso que la llave no exista."
   ]
  },
  {
   "cell_type": "code",
   "execution_count": null,
   "metadata": {},
   "outputs": [],
   "source": [
    "print(perros.get('pg', False))\n",
    "print(perros.get('te', False))\n",
    "print(perros.get('te', 'No existe el perro'))"
   ]
  },
  {
   "cell_type": "markdown",
   "metadata": {},
   "source": [
    "Una aplicación típica de esto es el llenado de diccionarios vacíos, como por ejemplo contando letras, debido a que en principio es difícil saber que letras aparecerán y cuántas."
   ]
  },
  {
   "cell_type": "code",
   "execution_count": null,
   "metadata": {},
   "outputs": [],
   "source": [
    "msg = 'supercalifragilisticoespialidoso'\n",
    "vocales = dict() # Crea un diccionario vacío para contabilizar las letras\n",
    "\n",
    "for v in msg:\n",
    "    if v not in 'aeiou': # Revisa si v es una vocal\n",
    "        continue\n",
    "        \n",
    "    if v not in vocales: # Revisa si v existe en el diccionario, si no la crea en 0\n",
    "        vocales[v] = 0\n",
    "\n",
    "    vocales[v] += 1 # si ya existe, agrega una cuenta mas\n",
    "\n",
    "print(vocales)"
   ]
  },
  {
   "cell_type": "markdown",
   "metadata": {},
   "source": [
    "Tres métodos útiles que existen en los diccionarios son: ```keys()```, ```values()```, y ```items()```. Estos permiten obtener elementos del diccionario a distintos niveles. El resultado de cada uno de estos métodos es una lista con los elementos solicitados."
   ]
  },
  {
   "cell_type": "code",
   "execution_count": null,
   "metadata": {},
   "outputs": [],
   "source": [
    "monedas = {'chile':'peso', 'brasil':'real', 'peru':'sol','españa':'euro','italia':'euro'}\n",
    "\n",
    "print(monedas.keys()) # una lista con todas las llaves\n",
    "print(monedas.values()) # una lista con todos los valores\n",
    "print(monedas.items()) # una lista con tuplas de pares llave-valor"
   ]
  },
  {
   "cell_type": "markdown",
   "metadata": {},
   "source": [
    "Estos métodos son prácticos y útiles durante la iteración sobre diccionarios."
   ]
  },
  {
   "cell_type": "code",
   "execution_count": null,
   "metadata": {},
   "outputs": [],
   "source": [
    "print('Las llaves en el diccionario son las siguientes:')\n",
    "\n",
    "for m in monedas.keys():\n",
    "    print('{0}'.format(m))\n",
    "\n",
    "print()\n",
    "for m in monedas: # por defecto recorremos las llaves\n",
    "    print('{0}'.format(m))"
   ]
  },
  {
   "cell_type": "code",
   "execution_count": null,
   "metadata": {},
   "outputs": [],
   "source": [
    "print('Los valores en el diccionario:')\n",
    "for v in monedas.values():\n",
    "    print('{0}'.format(v))"
   ]
  },
  {
   "cell_type": "code",
   "execution_count": null,
   "metadata": {},
   "outputs": [],
   "source": [
    "print('Los pares en el diccionario:')\n",
    "for k, v in monedas.items():\n",
    "    print('la moneda de {0} es {1}'.format(k,v))"
   ]
  },
  {
   "cell_type": "markdown",
   "metadata": {},
   "source": [
    "### Defaultdicts\n",
    "\n",
    "Los `defaultdict`s son diccionarios que nos permiten asignar un valor por defecto a cada *key* con la que se llama el diccionario. Esto nos ahorra el problema de tener que escribir código preocupándonos de los casos en que el valor que se intenta obtener el diccionario no existe. Otra cualidad importante de los `defaultdics` es que aceptan una función para ser asignada como valor por defecto, la cual puede realizar cualquier acción y retornar cualquier objeto (a ser asignado como valor para el respectivo key en el diccionario).\n",
    " \n",
    "Por ejemplo, supongamos que queremos un diccionario en donde cada elemento nuevo tiene como valor inicial una lista con un string equivalente al número de elementos nuevos insertados hasta el momento en el diccionario:"
   ]
  },
  {
   "cell_type": "code",
   "execution_count": null,
   "metadata": {},
   "outputs": [],
   "source": [
    "from collections import defaultdict\n",
    "\n",
    "num_items = 0\n",
    "\n",
    "def funcion_ej():\n",
    "    global num_items\n",
    "    num_items += 1\n",
    "    return ([str(num_items)])\n",
    "\n",
    "d = defaultdict(funcion_ej)\n",
    "\n",
    "print(d['a'])\n",
    "print(d['b'])\n",
    "print(d['c'])\n",
    "print(d['d'])\n",
    "print(d['d'])\n",
    "print(d['e'])\n",
    "\n",
    "print(d)"
   ]
  },
  {
   "cell_type": "markdown",
   "metadata": {},
   "source": [
    "### Otro uso de los diccionarios (y listas): `*args` y `**kwargs`\n",
    "\n",
    "`**kwargs` se refiere a un _keyworded variable-length argument list_, donde `**` mapea los elementos contenidos en el diccionario `kwargs` y los pasa a la función como argumentos no posicionales. Este método puede ser usado para enviar una cantidad variable de argumentos a una función:"
   ]
  },
  {
   "cell_type": "code",
   "execution_count": null,
   "metadata": {},
   "outputs": [],
   "source": [
    "def metodo(arg1, arg2, arg3):\n",
    "    print(\"arg1: {}\".format(arg1))\n",
    "    print(\"arg2: {}\".format(arg2))\n",
    "    print(\"arg3: {}\".format(arg3))\n",
    "\n",
    "kwargs = {\"arg3\": 3, \"arg2\": \"two\"}\n",
    "metodo(1, **kwargs)"
   ]
  },
  {
   "cell_type": "markdown",
   "metadata": {},
   "source": [
    "De forma casi análoga, `*args` se refiere a un _non-keyworded variable length argument list_, donde el operador `*` desempaqueta el contenido del iterable `args` y los pasa a la función como argumentos posicionales. La principal diferencia es que la lista de argumentos contiene simplemente los valores, sin los keywords (guardada en una lista):"
   ]
  },
  {
   "cell_type": "code",
   "execution_count": null,
   "metadata": {},
   "outputs": [],
   "source": [
    "def metodo2(f_arg, *argv):\n",
    "    print(\"primer arg normal: {}\".format(f_arg))\n",
    "    for arg in argv:\n",
    "        print(\"siguiente argumento de *argv : {}\".format(arg))\n",
    "\n",
    "metodo2('hola','como','va','todo')"
   ]
  },
  {
   "cell_type": "markdown",
   "metadata": {},
   "source": [
    "Otro ejemplo:"
   ]
  },
  {
   "cell_type": "code",
   "execution_count": null,
   "metadata": {},
   "outputs": [],
   "source": [
    "def funcion(a=0, b=0):\n",
    "    return a+b\n",
    "\n",
    "# Usando solo un valor posicional y el resto usa los argumentos por defecto\n",
    "valores = (1,)\n",
    "print(funcion(*valores))\n",
    "\n",
    "# Usando todos los argumentos posicionales definidos en la lista\n",
    "valores = (1,2)\n",
    "print(funcion(*valores))\n",
    "\n",
    "# La función necesita dos argumentos, por lo tanto el exceso de argumentos posicionales genera un error.\n",
    "valores = (1,2,3)\n",
    "print(funcion(*valores))"
   ]
  },
  {
   "cell_type": "markdown",
   "metadata": {},
   "source": [
    "Cuando usamos en una llamada `*args` y `**kwargs` juntos, se debe usar el siguiente orden: `alguna_funcion(argumentos_normales,*args,**kwargs)`(por qué?)"
   ]
  },
  {
   "cell_type": "code",
   "execution_count": null,
   "metadata": {},
   "outputs": [],
   "source": [
    "class AddressHolder:\n",
    "    def __init__(self, calle='', ciudad='', numero='', comuna='',**kwargs):\n",
    "        super().__init__(**kwargs)\n",
    "        self.calle = calle\n",
    "        self.ciudad = ciudad\n",
    "        self.comuna = comuna\n",
    "        self.numero = numero\n",
    "\n",
    "\n",
    "class Contacto:\n",
    "\n",
    "    contactos_list = []\n",
    "\n",
    "    def __init__(self, nombre = '', email = '', **kwargs):\n",
    "        super().__init__(**kwargs)\n",
    "        self.nombre = nombre\n",
    "        self.email = email\n",
    "        Contacto.contactos_list.append(self)\n",
    "\n",
    "\n",
    "class Cliente(Contacto, AddressHolder):#Notar aquí que la clase Contacto fue involucrada (a posterior)\n",
    "                                       #en un contexto de multiherencia\n",
    "    def __init__(self, telefono='', **kwargs):\n",
    "        super().__init__(**kwargs)\n",
    "        self.telefono = telefono\n",
    "\n",
    "print(Cliente.__mro__)"
   ]
  },
  {
   "cell_type": "code",
   "execution_count": null,
   "metadata": {},
   "outputs": [],
   "source": [
    "c = Cliente(nombre = 'Juan Perez', email = 'jp@gmail.com', telefono = '23542331',\n",
    "            calle = 'Pedro de Valdivia', numero = '231', comuna = 'Providencia', ciudad = 'Santiago')\n",
    "\n",
    "print(\"{}, {}, {}, {}\".format(c.nombre, c.email, c.calle, c.comuna))"
   ]
  }
 ],
 "metadata": {
  "kernelspec": {
   "display_name": "Python 3",
   "language": "python",
   "name": "python3"
  },
  "language_info": {
   "codemirror_mode": {
    "name": "ipython",
    "version": 3
   },
   "file_extension": ".py",
   "mimetype": "text/x-python",
   "name": "python",
   "nbconvert_exporter": "python",
   "pygments_lexer": "ipython3",
   "version": "3.8.6"
  }
 },
 "nbformat": 4,
 "nbformat_minor": 4
}
