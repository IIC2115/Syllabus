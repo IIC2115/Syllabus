{
 "cells": [
  {
   "cell_type": "markdown",
   "metadata": {},
   "source": [
    "<p>\r\n",
    "<font size='5' face='Georgia, Arial'>IIC-2115 Programación como herramienta para la ingeniería</font><br>\r\n",
    "<font size='1'>Basado en: &copy; 2015 Karim Pichara - Christian Pieringer. Todos los derechos reservados.</font>\r\n",
    "</p>"
   ]
  },
  {
   "cell_type": "markdown",
   "metadata": {},
   "source": [
    "<h1> Programación Orientada a Objetos </h1>\r\n",
    "\r\n",
    "En el mundo real, los objetos son tangibles; podemos tocarlos y sentirlos, representan algo significativo para nosotros. En el campo del desarrollo de software, los objetos son una representación virtual de entidades que tienen un significado dentro de un contexto particular. En este sentido, los objetos mantienen información/datos relacionados con lo que representan y pueden realizar acciones/comportamientos utilizando sus datos. La programación orientada a objetos (OOP por sus siglas en inglés) significa que los programas modelan funcionalidades a través de la interacción entre los objetos que utilizan sus datos y su comportamiento. La forma en que OOP representa los objetos es una __abstracción__, que consiste en crear un modelo simplificado de la realidad tomando los elementos más relacionados según el contexto del problema y transformándolos en atributos y comportamientos. Asignar atributos y métodos a objetos considera dos conceptos principales relacionados con la abstracción: _encapsulación_ e _interfaz_. \r\n",
    "\r\n",
    "La _encapsulación_ se refiere a la idea de que algunos atributos no necesitan ser visualizados o accedidos directamente por otros objetos, por lo que podemos producir un código más limpio si mantenemos esos atributos dentro de su respectivo objeto. Por ejemplo, imaginemos que tenemos el objeto `Amplificador` que incluye los atributos `tubos` y `transformador de potencia`. Estos atributos solo tienen sentido en el interior del amplificador porque otros objetos como una `Guitarra` no necesitan interactuar con ellos ni visualizarlos. Por eso, debemos mantenerlos dentro del objeto `Amplificador`.\r\n",
    "\r\n",
    "La _interfaz_ permite que cada objeto tenga una \"fachada\" para proteger su implementación (atributos y métodos internos) e interactuar con el resto de objetos. Por ejemplo, un amplificador puede ser un objeto (real) muy complejo con un montón de componentes electrónicos dentro. Consideremos ahora otro objeto (también real) como un guitarrista o la guitarra, que solo interactúan con el amplificador\r\n",
    "a través del enchufe de entrada y las perillas. Además de los mencionado anteriormente, dos o más objetos (de software) pueden tener la misma interfaz, lo que nos permite reemplazarlos independientemente de su implementación y sin cambiar cómo los usamos. Imaginemos que un guitarrista quiere probar un amplificador de válvulas y un amplificador de estado sólido. En ambos casos, los amplificadores tienen la misma interfaz (perillas y entrada) y ofrecen la misma experiencia de usuario independientemente de su construcción interna"
   ]
  },
  {
   "cell_type": "markdown",
   "metadata": {},
   "source": [
    "<h2> Forma básica para crear una clase: </h2>"
   ]
  },
  {
   "cell_type": "code",
   "execution_count": null,
   "metadata": {},
   "outputs": [],
   "source": [
    "class Departamento:\r\n",
    "    '''Clase que representa un departamento en venta\r\n",
    "       valor esta en UF.\r\n",
    "    '''\r\n",
    "    def __init__(self, _id, mts2, valor, num_dorms, num_banos):\r\n",
    "        self._id = _id\r\n",
    "        self.mts2 = mts2\r\n",
    "        self.valor = valor\r\n",
    "        self.num_dorms = num_dorms\r\n",
    "        self.num_banos = num_banos\r\n",
    "        self.vendido = False\r\n",
    "\r\n",
    "    def vender(self):\r\n",
    "        if not self.vendido:\r\n",
    "            self.vendido = True\r\n",
    "        else:\r\n",
    "            print(\"Departamento {} ya se vendió\".format(self._id))"
   ]
  },
  {
   "cell_type": "code",
   "execution_count": null,
   "metadata": {},
   "outputs": [],
   "source": [
    "class Operaciones:\r\n",
    "    \r\n",
    "    def __init__(self, a=0, b=0, c=0):\r\n",
    "        self.a = a\r\n",
    "        self.b = b\r\n",
    "        self.c = c\r\n",
    "        \r\n",
    "    def suma(self):\r\n",
    "        print(self.a)\r\n",
    "        print(self.b)\r\n",
    "        print(self.c)\r\n",
    "        return self.a + self.b + self.c\r\n",
    "    \r\n",
    "s = Operaciones(a = 1, c = 2)\r\n",
    "s.suma()"
   ]
  },
  {
   "cell_type": "code",
   "execution_count": null,
   "metadata": {},
   "outputs": [],
   "source": [
    "d1 = Departamento(_id=1, mts2=100, valor=5000, num_dorms=3, num_banos=2)\r\n",
    "print(d1.vendido)\r\n",
    "d1.vender()\r\n",
    "print(d1.vendido)\r\n",
    "d1.vender()"
   ]
  },
  {
   "cell_type": "markdown",
   "metadata": {},
   "source": [
    "<h2> Para ver una descripción de la clase: </h2>"
   ]
  },
  {
   "cell_type": "code",
   "execution_count": null,
   "metadata": {},
   "outputs": [],
   "source": [
    "help(Departamento)"
   ]
  },
  {
   "cell_type": "markdown",
   "metadata": {},
   "source": [
    "## Para _sugerir_ que un método o variable sea interno:\r\n",
    "\r\n",
    "A diferencia de lo que ocurre en otros lenguajes de programación (por ejemplo, en Java), en Python todas las variables y métodos de un objeto pueden ser accedidos desde fuera de él. Es decir, son **públicos**. En ciertos casos, nos gustaría indicar que un método es de uso **interno** de la clase. Esto ocurre cuando hay acciones que son realizadas por un objeto, pero no deseamos que sean expuestas a su entorno. Por ejemplo:"
   ]
  },
  {
   "cell_type": "code",
   "execution_count": null,
   "metadata": {},
   "outputs": [],
   "source": [
    "class Televisor:\r\n",
    "    ''' Clase que modela un televisor.\r\n",
    "    '''\r\n",
    "    \r\n",
    "    def __init__(self, pulgadas, marca):\r\n",
    "        self.pulgadas = pulgadas\r\n",
    "        self.marca = marca\r\n",
    "        self.encendido = False\r\n",
    "        self.canal_actual = 0\r\n",
    "        \r\n",
    "    def encender(self):\r\n",
    "        self.encendido = True\r\n",
    "        \r\n",
    "    def apagar(self):\r\n",
    "        self.encendido = False\r\n",
    "        \r\n",
    "    def cambiar_canal(self, nuevo_canal):\r\n",
    "        self._codificar_imagen()\r\n",
    "        self.canal_actual = nuevo_canal\r\n",
    "        \r\n",
    "    def _codificar_imagen(self):\r\n",
    "        print(\"Estoy convirtiendo una señal eléctrica en la imagen que estás viendo.\")\r\n",
    "        "
   ]
  },
  {
   "cell_type": "markdown",
   "metadata": {},
   "source": [
    "En este ejemplo, podemos notar que la clase `Televisor` tiene los métodos `encender`, `apagar`, `cambiar_canal` y `_codificar_imagen`. Digamos que queremos crear objetos de la clase `Televisor`. "
   ]
  },
  {
   "cell_type": "code",
   "execution_count": null,
   "metadata": {},
   "outputs": [],
   "source": [
    "televisor1 = Televisor(17, 'zony')\r\n",
    "televisor2 = Televisor(21, 'zamsung')"
   ]
  },
  {
   "cell_type": "markdown",
   "metadata": {},
   "source": [
    "Estos televisores que hemos creado deberían poder ser encendidos y apagados. También deberíamos poder cambiar el canal.\n",
    "Sin embargo, no necesitamos decirle al televisor que codifique la imagen. Ésta es una operación que se realiza automáticamente, cada vez que se cambia el canal."
   ]
  },
  {
   "cell_type": "code",
   "execution_count": null,
   "metadata": {},
   "outputs": [],
   "source": [
    "televisor1._codificar_imagen()"
   ]
  },
  {
   "cell_type": "markdown",
   "metadata": {},
   "source": [
    "Notemos, entonces, que la codificación de las señales eléctricas es un proceso interno. No es relevante para el usuario de esta clase saber cómo ocurre: sólo le interesa poder cambiar el canal.\n",
    "Es por esto que, por convención, los metodos que esperamos que sean sólo de uso interno deben comenzar con un underscore (\\_), por ejemplo `_codificar_imagen()`. **Notemos que esto es sólo una sugerencia, aun se pueden acceder directamente si así se quiere.**\n",
    "\n",
    "Para sugerir _fuertemente_ que el método o variable sea interna, usamos doble _underscore_ (\\_\\_). En este caso, el acceso no es tan directo. Esto se llama **_name mangling_**, que se refiere a codificar información adicional semántica en algunas variables."
   ]
  },
  {
   "cell_type": "code",
   "execution_count": null,
   "metadata": {},
   "outputs": [],
   "source": [
    "class PalabraSecreta:\r\n",
    "    ''' Clase que guarda un string sin mucha seguridad.\r\n",
    "    '''\r\n",
    "    def __init__(self, palabra_clave, frase_secreta):\r\n",
    "        self.__palabra_clave = palabra_clave\r\n",
    "        self.__frase_secreta = frase_secreta\r\n",
    "\r\n",
    "    def decriptar(self, frase_secreta):\r\n",
    "        ''' Solo si la frase_secreta es correcta'''\r\n",
    "        if frase_secreta == self.__frase_secreta:\r\n",
    "            return self.__palabra_clave\r\n",
    "        else:\r\n",
    "            return ''"
   ]
  },
  {
   "cell_type": "markdown",
   "metadata": {},
   "source": [
    "Si intentamos ahora acceder a la variable \\_\\_`palabra_clave`, no podemos hacerlo de manera directa:"
   ]
  },
  {
   "cell_type": "code",
   "execution_count": null,
   "metadata": {},
   "outputs": [],
   "source": [
    "s = PalabraSecreta(\"animal\", \"tiene patas\")\r\n",
    "print(s.decriptar(\"tiene patas\"))\r\n",
    "s.__palabra_clave"
   ]
  },
  {
   "cell_type": "markdown",
   "metadata": {},
   "source": [
    "Pero como indicamos anteriormente, esto sigue siendo una sugerencia. Si se requiere acceder de todas maneras a la variable o método, se puede hacer fácilmente de la siguiente manera:"
   ]
  },
  {
   "cell_type": "code",
   "execution_count": null,
   "metadata": {},
   "outputs": [],
   "source": [
    "s._PalabraSecreta__palabra_clave"
   ]
  },
  {
   "cell_type": "markdown",
   "metadata": {},
   "source": [
    "<h2>Ejemplo: Post It </h2>\n",
    "Veamos ahora un ejemplo más acabado de orientación a objetos:"
   ]
  },
  {
   "cell_type": "markdown",
   "metadata": {},
   "source": [
    "<h3> Clase PostIt: </h3>"
   ]
  },
  {
   "cell_type": "code",
   "execution_count": null,
   "metadata": {},
   "outputs": [],
   "source": [
    "#Ejemplo: Programa para manejar postits en un panel mural\r\n",
    "\r\n",
    "import datetime\r\n",
    "\r\n",
    "class PostIt:\r\n",
    "    ''' Representa un post it, contiene un mensaje, guarda un conjunto de tags y responde si hay match con ciertos tags\r\n",
    "        Contiene ademas un id\r\n",
    "    '''\r\n",
    "    last_id = 0 #variable estática para manejar el ultimo id generado\r\n",
    "    \r\n",
    "    def __init__(self, mensaje, tags = ''):\r\n",
    "        self.mensaje = mensaje\r\n",
    "        self.tags = tags\r\n",
    "        self.creation_date = datetime.date.today()\r\n",
    "        self._id = PostIt.last_id #variable de la clase para manejar el ultimo id generado\r\n",
    "        PostIt.last_id += 1\r\n",
    "\r\n",
    "    def match(self, keyword):\r\n",
    "        ''' determina si el mensaje de la nota contiene el keyword o no'''\r\n",
    "        return keyword in self.mensaje or keyword in self.tags\r\n"
   ]
  },
  {
   "cell_type": "markdown",
   "metadata": {},
   "source": [
    "<h3> Clase Panel: </h3>"
   ]
  },
  {
   "cell_type": "code",
   "execution_count": null,
   "metadata": {},
   "outputs": [],
   "source": [
    "class Panel:\r\n",
    "    ''' Representa un panel con un conjunto de postits (con memos) pegados\r\n",
    "        cada hoja ademas de un memo tiene tags, asi podemos buscar hojas\r\n",
    "        tambien podemos modificarlas\r\n",
    "    '''\r\n",
    "\r\n",
    "    def __init__(self):\r\n",
    "        self.postit_dict = {}\r\n",
    "\r\n",
    "    #esta función será necesaria para varios métodos de la clase\r\n",
    "    #una mejor opción es usar un diccionario e indexar por el id del postit\r\n",
    "    #def _buscar_postit_id(self, postit_id):\r\n",
    "    #    ''' Busca el postit correspondiente al id'''\r\n",
    "    #    for p in self.postit_dict:\r\n",
    "    #        if p._id == postit_id:\r\n",
    "    #            return p\r\n",
    "    #    return None\r\n",
    "\r\n",
    "    def nuevo_postit(self, texto, tags=''):\r\n",
    "        '''Agrega una hoja con un mensaje a nuestro muro'''\r\n",
    "        p = PostIt(texto, tags)\r\n",
    "        self.postit_dict.update({p._id : p})\r\n",
    "\r\n",
    "\r\n",
    "    def modifica_mensaje(self, postit_id, mensaje_nuevo):\r\n",
    "        #este for era una opcion pero es mejor hacer una fucion aparte que busque, para\r\n",
    "        #no repetir codigo en la funcion modifica_tags\r\n",
    "        #for p in self.postit_dict:\r\n",
    "        #    if p._id == postit_id:\r\n",
    "        self.postit_dict[postit_id].mensaje = mensaje_nuevo\r\n",
    "\r\n",
    "\r\n",
    "    def modifica_tags(self, postit_id, tags_nuevos):\r\n",
    "        self.postit_dict[postit_id].tags = tags_nuevos\r\n",
    "\r\n",
    "    def buscar_postits(self, keyword):\r\n",
    "        return [p for p in self.postit_dict.values() if p.match(keyword)]\r\n",
    "\r\n",
    "\r\n",
    "    def display(self, keyword=None):\r\n",
    "        ''' Muestra todos los post its en el panel'''\r\n",
    "        result = []\r\n",
    "        if keyword:\r\n",
    "            result = [p for p in self.buscar_postits(keyword)]\r\n",
    "        else:\r\n",
    "            result = self.postit_dict\r\n",
    "\r\n",
    "        for p in result:\r\n",
    "            print(\"post it {0}: \\n Mensaje: {1} \\n Tags: {2}\".format(p._id, p.mensaje, p.tags))"
   ]
  },
  {
   "cell_type": "markdown",
   "metadata": {},
   "source": [
    "<h3> Menú para crear, editar, leer, etc. PostIts:</h3>"
   ]
  },
  {
   "cell_type": "code",
   "execution_count": null,
   "metadata": {},
   "outputs": [],
   "source": [
    "import sys\r\n",
    "# from postit import PostIt, Panel\r\n",
    "# Aquí no es necesario por el iPython, pero si tenemos un archivo separado para el menu hay que\r\n",
    "# importar estas clases\r\n",
    "\r\n",
    "class Menu:\r\n",
    "    def __init__(self):\r\n",
    "        self.panel = Panel()\r\n",
    "        self.opciones = {\r\n",
    "                        \"1\": self.display_postits,\r\n",
    "                        \"2\": self.buscar_postits,\r\n",
    "                        \"3\": self.agregar_postit,\r\n",
    "                        \"4\": self.modificar_postit,\r\n",
    "                        \"5\": self.salir\r\n",
    "                        }\r\n",
    "\r\n",
    "    def display_menu(self):\r\n",
    "        print(\"\"\"\r\n",
    "            Menu:\r\n",
    "                1: Mostrar Post-Its\r\n",
    "                2: Buscar Post-Its\r\n",
    "                3: Agregar nuevo Post-It\r\n",
    "                4: Modificar Post-It existente\r\n",
    "                5: Salir\r\n",
    "            \"\"\")\r\n",
    "\r\n",
    "    def run(self):\r\n",
    "        running = True\r\n",
    "        while running:\r\n",
    "            self.display_menu()\r\n",
    "            eleccion = input(\"Ingrese Opcion: \")\r\n",
    "            accion = self.opciones.get(eleccion)\r\n",
    "            if accion:\r\n",
    "                accion()  # aqui se llama a la funcion\r\n",
    "            else:\r\n",
    "                print(\"{0} no es una opcion valida\".format(eleccion))\r\n",
    "            if eleccion == '5':\r\n",
    "                running = False\r\n",
    "\r\n",
    "    def display_postits(self, p_list=None):\r\n",
    "        if not p_list:\r\n",
    "            p_list = self.panel.postit_dict.values()  # si no dan la lista a mostrar, mostramos todos los post-its\r\n",
    "\r\n",
    "        if not p_list:\r\n",
    "            print(\"No hay Post-Its creados...\")\r\n",
    "        else:\r\n",
    "            for p in p_list:\r\n",
    "                print(\"post it {0}: \\n Mensaje: {1} \\n Tags: {2}\".format(p._id, p.mensaje, p.tags))\r\n",
    "\r\n",
    "\r\n",
    "    def buscar_postits(self):\r\n",
    "        keyword = input(\"Ingrese keyword: \")\r\n",
    "        postit_list = self.panel.buscar_postits(keyword)\r\n",
    "        self.display_postits(postit_list)\r\n",
    "\r\n",
    "    def agregar_postit(self):\r\n",
    "        mensaje = input(\"Ingrese Mensaje: \")\r\n",
    "        tag_list = input(\"Ingrese Tags separados por espacios: \")\r\n",
    "        tag_list = tag_list.split()  # separa los strings por espacio y los pone en una lista\r\n",
    "        self.panel.nuevo_postit(mensaje, tag_list)\r\n",
    "        print(\"Nota creada exitosamente!!\")\r\n",
    "\r\n",
    "    def modificar_postit(self):\r\n",
    "        _id = input(\"ingrese el id del Post-It que quiere modificar: \")\r\n",
    "        _id = int(_id)\r\n",
    "        while _id not in self.panel.postit_dict.keys():\r\n",
    "            print(\"El id no existe en la base de datos..\")\r\n",
    "            _id = input(\"ingrese el id del Post-It que quiere modificar: \")\r\n",
    "            _id = int(_id)\r\n",
    "        \r\n",
    "        mensaje = input(\"Ingrese el nuevo mensaje: \")\r\n",
    "        tag_list = input(\"Ingrese los nuevos tags separados por espacios: \")\r\n",
    "        if mensaje:\r\n",
    "            print(_id)\r\n",
    "            self.panel.modifica_mensaje(_id, mensaje)\r\n",
    "        if tag_list:\r\n",
    "            tag_list = tag_list.split()\r\n",
    "            self.panel.modifica_tags(_id, tag_list)\r\n",
    "        print(\"postit modificado exitosamente!!\")\r\n",
    "            \r\n",
    "    def salir(self):\r\n",
    "        print(\"Gracias por usar nuestro Post-It\")\r\n",
    "\r\n",
    "\r\n",
    "if __name__ == \"__main__\":   # esto es para que corra en la consola\r\n",
    "    Menu().run()"
   ]
  }
 ],
 "metadata": {
  "kernelspec": {
   "display_name": "Python 3",
   "language": "python",
   "name": "python3"
  },
  "language_info": {
   "codemirror_mode": {
    "name": "ipython",
    "version": 3
   },
   "file_extension": ".py",
   "mimetype": "text/x-python",
   "name": "python",
   "nbconvert_exporter": "python",
   "pygments_lexer": "ipython3",
   "version": "3.8.6"
  }
 },
 "nbformat": 4,
 "nbformat_minor": 4
}
