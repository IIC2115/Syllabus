{
 "cells": [
  {
   "cell_type": "markdown",
   "metadata": {},
   "source": [
    "<p>\n",
    "<font size='5' face='Georgia, Arial'>IIC2115 - Programación como herramienta para la ingeniería</font><br>\n",
    "<font size='1'>Basado en material de Karim Pichara y Christian Pieringer. Todos los derechos reservados.</font>\n",
    "</p>"
   ]
  },
  {
   "cell_type": "markdown",
   "metadata": {},
   "source": [
    "<h1>Clases abstractas</h1>\n",
    "\n",
    "Las clases abstractas en un lenguaje de programación nos permiten representar mejor lo que son los conceptos realmente \"básicos\" desde el punto de vista del modelamiento. Por ejemplo, una clase `Vehículo` podría representar algo abstracto: un medio de transporte sin forma, no puede tomar vida por sí sola a menos de que sea en una subclase, es decir, una instancia de la clase `Vehículo` no tendría mucho sentido, necesitamos saber a qué (subclase) vehículo corresponde (camión, deportivo, bus, etc.) para que sepamos cómo se conduce, cuántos pasajeros traslada, etc. Son las subclases de la clase abstracta las que deben ser instanciadas. La principal razón de las clases abstractas es hacer el diseño más claro y simple, ahorrandonos el repetir las variables y métodos que compartirían todas sus subclases.\n",
    "\n",
    "Existen dentro de una clase abstracta los **métodos abstractos**, que funcionan distinto dependiendo de la subclase, por lo tanto deben ser implementados en cada subclase, y los **métodos normales**, que funcionan igual para todas las subclases y deberían estar implementados en la clase abstracta. \n",
    "\n",
    "En Python podríamos tratar de simular clases abstractas de la siguiente forma:"
   ]
  },
  {
   "cell_type": "code",
   "execution_count": null,
   "metadata": {},
   "outputs": [],
   "source": [
    "class Base:\n",
    "            \n",
    "    def func_1(self):\n",
    "        raise NotImplementedError() # acá generamos una \"excepción\", que permite tener una mejor\n",
    "                                    # explicación de los errores (ver más abajo)\n",
    "\n",
    "    def func_2(self):\n",
    "        raise NotImplementedError()\n",
    "        \n",
    "class SubClase(Base):\n",
    "    def func_1(self):\n",
    "        print(\"func_1() called...\")\n",
    "        return\n",
    "\n",
    "    # se nos olvidó el método func_2 :(\n",
    "    \n",
    "b1 = Base()\n",
    "b2 = SubClase()\n",
    "b2.func_1()\n",
    "b2.func_2()"
   ]
  },
  {
   "cell_type": "code",
   "execution_count": null,
   "metadata": {
    "scrolled": true
   },
   "outputs": [],
   "source": [
    "b1.func_2()"
   ]
  },
  {
   "cell_type": "markdown",
   "metadata": {},
   "source": [
    "El problema de este método es que el programa nos permite instanciar la clase base sin problemas, \n",
    "lo cual no es correcto ya que es una clase abstracta. Además está permitido proveer una subclase incompleta,\n",
    "lo cual tampoco es deseable. El módulo ABC (\"Abstract Base Classes\") de Python nos permite forzar a que esta situación no ocurra:"
   ]
  },
  {
   "cell_type": "code",
   "execution_count": null,
   "metadata": {},
   "outputs": [],
   "source": [
    "from abc import ABCMeta, abstractmethod\n",
    "\n",
    "class Base(metaclass=ABCMeta):\n",
    "    @abstractmethod\n",
    "    def func_1(self):\n",
    "        pass\n",
    "\n",
    "    @abstractmethod\n",
    "    def func_2(self):\n",
    "        pass\n",
    "\n",
    "class SubClase(Base):\n",
    "    def func_1(self):\n",
    "        pass\n",
    "\n",
    "    # Nuevamente olvidamos declarar el método func_2\n",
    "\n",
    "print('Es subclase: {}'.format(issubclass(SubClase, Base)))\n",
    "print('Es instancia: {}'.format(isinstance(SubClase(), Base)))"
   ]
  },
  {
   "cell_type": "code",
   "execution_count": null,
   "metadata": {},
   "outputs": [],
   "source": [
    "print('Tratando de generar una instancia de la clase Base...\\n')\n",
    "a = Base()"
   ]
  },
  {
   "cell_type": "markdown",
   "metadata": {},
   "source": [
    "Agregando entonces ambos métodos:"
   ]
  },
  {
   "cell_type": "code",
   "execution_count": null,
   "metadata": {},
   "outputs": [],
   "source": [
    "from abc import ABCMeta, abstractmethod\n",
    "\n",
    "class Base(metaclass=ABCMeta):\n",
    "    @abstractmethod\n",
    "    def func_1(self):\n",
    "        pass\n",
    "\n",
    "    @abstractmethod\n",
    "    def func_2(self):\n",
    "        pass\n",
    "\n",
    "class SubClase(Base):\n",
    "    \n",
    "    def func_1(self):\n",
    "        pass\n",
    "\n",
    "    def func_2(self):\n",
    "        pass\n",
    "\n",
    "    # Nuevamente olvidamod declarar el método func_2\n",
    "\n",
    "c = SubClase()\n",
    "print('Subclass: {}'.format(issubclass(SubClase, Base)))\n",
    "print('Instance: {}'.format(isinstance(SubClase(), Base)))"
   ]
  }
 ],
 "metadata": {
  "kernelspec": {
   "display_name": "Python 3",
   "language": "python",
   "name": "python3"
  },
  "language_info": {
   "codemirror_mode": {
    "name": "ipython",
    "version": 3
   },
   "file_extension": ".py",
   "mimetype": "text/x-python",
   "name": "python",
   "nbconvert_exporter": "python",
   "pygments_lexer": "ipython3",
   "version": "3.8.6"
  }
 },
 "nbformat": 4,
 "nbformat_minor": 4
}
