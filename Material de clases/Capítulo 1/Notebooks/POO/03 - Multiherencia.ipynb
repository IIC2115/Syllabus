{
 "cells": [
  {
   "cell_type": "markdown",
   "metadata": {},
   "source": [
    "<p>\n",
    "<font size='5' face='Georgia, Arial'>IIC2115 - Programación como herramienta para la ingeniería</font><br>\n",
    "<font size='1'>Basado en material de Karim Pichara y Christian Pieringer. Todos los derechos reservados.</font>\n",
    "</p>"
   ]
  },
  {
   "cell_type": "markdown",
   "metadata": {},
   "source": [
    "<h1>Multiherencia</h1>\n",
    "\n",
    "Tal como es posible que una subclase herede datos y comportamiento de una superclase, también es posible heredar\n",
    "de más de una clase a la vez:"
   ]
  },
  {
   "cell_type": "code",
   "execution_count": null,
   "metadata": {},
   "outputs": [],
   "source": [
    "class Investigador:\n",
    "    def __init__(self, area):\n",
    "        self.area = area\n",
    "        \n",
    "class Docente:\n",
    "    def __init__(self, departamento):\n",
    "        self.departamento = departamento\n",
    "        \n",
    "class Academico(Docente, Investigador):\n",
    "    def __init__(self, nombre, area_investigacion, departamento):\n",
    "        #esto no es del todo correcto, coming soon...\n",
    "        Investigador.__init__(self, area_investigacion)\n",
    "        Docente.__init__(self, departamento)\n",
    "        self.nombre = nombre\n",
    "\n",
    "p1 = Academico(\"Juan Perez\", \"Inteligencia de Máquina\", \"Ciencia De La Computación\")\n",
    "print(p1.nombre)\n",
    "print(p1.area)\n",
    "print(p1.departamento)"
   ]
  },
  {
   "cell_type": "markdown",
   "metadata": {},
   "source": [
    "<h2> Multiherencia y el Problema del diamante</h2>\n",
    "\n",
    "El siguiente ejemplo muestra lo que ocurre en un contexto de multiherencia si es que cada sub-clase llama directamente a inicializar a todas sus superclases. La figura siguiente muestra la jerarquía de las clases en cuestión\n",
    "\n",
    "![Diamante](figs/img_diamante.png)"
   ]
  },
  {
   "cell_type": "markdown",
   "metadata": {},
   "source": [
    "El siguiente código muestra qué ocurre cuando llamamos al método `llamar()` en ambas super clases desde la clase `SubClaseA`."
   ]
  },
  {
   "cell_type": "code",
   "execution_count": null,
   "metadata": {},
   "outputs": [],
   "source": [
    "class ClaseB:\n",
    "    num_llamadas_B = 0\n",
    "    def llamar(self):\n",
    "        print(\"Llamando método en Clase B\")\n",
    "        self.num_llamadas_B += 1\n",
    "\n",
    "\n",
    "class SubClaseIzquierda(ClaseB):\n",
    "    num_llamadas_izq = 0\n",
    "    def llamar(self):\n",
    "        ClaseB.llamar(self)\n",
    "        print(\"Llamando método en Subclase izquierda\")\n",
    "        self.num_llamadas_izq += 1\n",
    "\n",
    "class SubClaseDerecha(ClaseB):\n",
    "    num_llamadas_der = 0\n",
    "    def llamar(self):\n",
    "        ClaseB.llamar(self)\n",
    "        print(\"Llamando método en Subclase derecha\")\n",
    "        self.num_llamadas_der += 1\n",
    "\n",
    "class SubClaseA(SubClaseIzquierda, SubClaseDerecha):\n",
    "    num_llamadas_subA = 0\n",
    "    def llamar(self):\n",
    "        SubClaseIzquierda.llamar(self)\n",
    "        SubClaseDerecha.llamar(self)\n",
    "        print(\"Llamando método en SubclaseA\")\n",
    "        self.num_llamadas_subA += 1\n",
    "\n",
    "s = SubClaseA()\n",
    "s.llamar()\n",
    "print(s.num_llamadas_subA, s.num_llamadas_izq, s.num_llamadas_der, s.num_llamadas_B)"
   ]
  },
  {
   "cell_type": "markdown",
   "metadata": {},
   "source": [
    "Del output se puede apreciar que la clase de más arriba en la jerarquía (\"Clase B\"), fue llamada dos veces, a pesar de que el objetivo era llamarla sólo una vez. La estructura de jerarquía en forma de diamante ocurre siempre que tengamos una clase que hereda de dos clases. Ya que como en Python todo es un objeto, todo hereda de la clase \"object\" (ver: \"new style classes (https://www.python.org/doc/newstyle/)\"), por lo tanto en general el esquema de multiherencia se ve de la siguiente forma:\n",
    "\n",
    "![Diamante2](figs/img_diamante_2.png)\n",
    "\n",
    "Siguiendo el mismo ejemplo anterior, en vez de llamar al método \"llamar()\", llamamos al método \"__init__\", estaríamos inicializando dos veces en la clase \"object\"!!. "
   ]
  },
  {
   "cell_type": "markdown",
   "metadata": {},
   "source": [
    "<h2>Solución:</h2>\n",
    "\n",
    "La solución es que cada clase debe preocuparse de llamar a inicializar a la clase que la \"precede\" en el orden del esquema de la multiherencia. En Python el orden de las clases va de izquierda a derecha dentro de la lista de super-clases desde donde hereda la sub-clase. En este caso, simplemente debemos preocuparnos de hacer una llamada a \"super()\", Python se encargará de que la llamada corresponda a la clase que respeta el orden en la multiherencia, en este caso, después de la subclase viene la clase \"SubclaseIzquierda\", después \"SubClaseDerecha\" y finalmente \"ClaseB\""
   ]
  },
  {
   "cell_type": "code",
   "execution_count": null,
   "metadata": {},
   "outputs": [],
   "source": [
    "class ClaseB:\n",
    "    num_llamadas_B = 0\n",
    "    def llamar(self):\n",
    "        print(\"Llamando método en Clase B\")\n",
    "        self.num_llamadas_B += 1\n",
    "\n",
    "\n",
    "class SubClaseIzquierda(ClaseB):\n",
    "    num_llamadas_izq = 0\n",
    "    def llamar(self):\n",
    "        super().llamar()\n",
    "        print(\"Llamando método en Subclase Izquierda\")\n",
    "        self.num_llamadas_izq += 1\n",
    "\n",
    "class SubClaseDerecha(ClaseB):\n",
    "    num_llamadas_der = 0\n",
    "    def llamar(self):\n",
    "        super().llamar()\n",
    "        print(\"Llamando método en Subclase Derecha\")\n",
    "        self.num_llamadas_der += 1\n",
    "\n",
    "class SubClaseA(SubClaseIzquierda, SubClaseDerecha):\n",
    "    num_llamadas_subA = 0\n",
    "    def llamar(self):\n",
    "        super().llamar()\n",
    "        print(\"Llamando método en SubclaseA\")\n",
    "        self.num_llamadas_subA += 1\n",
    "\n",
    "s = SubClaseA()\n",
    "s.llamar()\n",
    "print(s.num_llamadas_subA, s.num_llamadas_izq, s.num_llamadas_der, s.num_llamadas_B)"
   ]
  },
  {
   "cell_type": "markdown",
   "metadata": {},
   "source": [
    "### El método `__mro__` (method resolution order) nos muestra el orden de la jerarquía. \n",
    "\n",
    "Para casos de multiherencia más complejos, Python utiliza el algoritmo C3 para calcular un orden lineal entre las clases que participan en el esquema de multiherencia: \n"
   ]
  },
  {
   "cell_type": "code",
   "execution_count": null,
   "metadata": {},
   "outputs": [],
   "source": [
    "SubClaseA.__mro__"
   ]
  },
  {
   "cell_type": "markdown",
   "metadata": {},
   "source": [
    "Esto significa que cualquier estructura de multiherencia que no pueda ser resuelta por el algoritmo C3, no está permitida en Python:"
   ]
  },
  {
   "cell_type": "code",
   "execution_count": null,
   "metadata": {},
   "outputs": [],
   "source": [
    "class X():\n",
    "    def call_me(self):\n",
    "        print(\"soy X\")\n",
    "    \n",
    "class Y():\n",
    "    def call_me(self):\n",
    "        print(\"soy Y\")\n",
    "    \n",
    "class A(X, Y):\n",
    "    def call_me(self):\n",
    "        print(\"soy A\")\n",
    "    \n",
    "class B(Y, X):\n",
    "     def call_me(self):\n",
    "         print(\"soy B\")\n",
    "\n",
    "class F(A, B):\n",
    "    def call_me(self):\n",
    "        print(\"soy F\")"
   ]
  }
 ],
 "metadata": {
  "kernelspec": {
   "display_name": "Python 3",
   "language": "python",
   "name": "python3"
  },
  "language_info": {
   "codemirror_mode": {
    "name": "ipython",
    "version": 3
   },
   "file_extension": ".py",
   "mimetype": "text/x-python",
   "name": "python",
   "nbconvert_exporter": "python",
   "pygments_lexer": "ipython3",
   "version": "3.8.6"
  }
 },
 "nbformat": 4,
 "nbformat_minor": 4
}
