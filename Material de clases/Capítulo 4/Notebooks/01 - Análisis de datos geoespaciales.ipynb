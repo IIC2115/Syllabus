{
 "cells": [
  {
   "cell_type": "markdown",
   "metadata": {
    "id": "NnOK6wjSiPns"
   },
   "source": [
    "# IIC2115 - Programación como Herramienta para la Ingeniería"
   ]
  },
  {
   "cell_type": "markdown",
   "metadata": {
    "id": "5-Jbek2ViPnx"
   },
   "source": [
    "# Análisis de datos geoespaciales\n",
    "El Análisis de datos geoespaciales es una disciplina dentro del campo de la ciencia de datos que se centra en la recopilación, interpretación y visualización de información que tiene una componente espacial. Esencialmente, se trata de trabajar con datos que están vinculados a ubicaciones geográficas específicas, como coordenadas de latitud y longitud, direcciones físicas o áreas geográficas definidas. Este enfoque permite comprender mejor la relación entre los datos y su contexto espacial, lo que a menudo revela patrones, tendencias y conocimientos significativos.\n",
    "\n",
    "El análisis de datos geoespaciales involucra el uso de herramientas y técnicas avanzadas, como Sistemas de Información Geográfica (SIG), para visualizar y analizar datos en mapas. Esto puede ser útil en una variedad de campos, como la planificación urbana, la gestión de recursos naturales, la epidemiología, el transporte y la logística, entre otros. Además, puede ayudar a responder preguntas críticas, como la identificación de áreas de alto riesgo, la optimización de rutas de entrega, la detección de cambios en el uso del suelo y la planificación de infraestructura.\n",
    "\n",
    "## Sistemas de información geográfica\n",
    "\n",
    "Un Sistema de Información Geográfica (SIG o GIS por sus siglas en inglés) es una integración organizada de hardware, software y datos geográficos diseñada para capturar, almacenar, manipular, analizar y desplegar en todas sus formas la información geográficamente referenciada con el fin de resolver problemas complejos de planificación y gestión."
   ]
  },
  {
   "cell_type": "markdown",
   "metadata": {
    "id": "bQxM035FFrjt"
   },
   "source": [
    "### Funcionamiento de GIS\n",
    "\n",
    "El GIS funciona como una base de datos con información geográfica (datos alfanuméricos) que se encuentra asociada por un identificador común a los objetos gráficos de un mapa digital. De esta forma, señalando un objeto, se conocen sus atributos e, inversamente, preguntando por un registro de la base de datos se puede saber su localización en la cartografía.\n",
    "\n",
    "La razón fundamental para utilizar un GIS es la gestión de información espacial. El sistema permite separar la información en diferentes capas temáticas y las almacena independientemente, permitiendo trabajar con ellas de manera rápida y sencilla, y facilitando al profesional la posibilidad de relacionar la información existente a través de la topología de los objetos, con el fin de generar otra nueva que no podríamos obtener de otra forma."
   ]
  },
  {
   "cell_type": "markdown",
   "metadata": {
    "id": "gplzSserFzbv"
   },
   "source": [
    "### La representación de los datos\n",
    "\n",
    "Los datos GIS representan los objetos del mundo real en un sistema referenciado de coordenadas. Para los alcances del curso es necesario entender que uno de los formatos más utilizados para almacenar esta información es el formato Shape (shp).\n",
    "\n",
    "Formalmente un shp es conocido como ESRI Shapefile, formato creado por la compañia ESRI y actualmente se ha convertido en formato estándar para el intercambio de información geográfica entre Sistemas de Información Geográfica.\n",
    "\n",
    "El formato shp, a diferencia de la mayoria de formatos, no se compone de un único archivo, sino que esta formato por una serie de formatos que facilitan el traspaso de información. En este capítulo revisaremos los formatos escenciales para el trabajo con GIS, siempre usted podrá complementar la información con la documentación oficial de ESRI Shapefile."
   ]
  },
  {
   "cell_type": "markdown",
   "metadata": {
    "id": "9fCInytsFzir"
   },
   "source": [
    "### Formato SHP\n",
    "\n",
    "El formato shp (shape) busca representar información geográfica, por ejemplo, Geometrías de países, comunas, áreas verdes, ciclovias, vialidad, rios, etc. Para representar alguna de estas geometrías, se utiliza una seríe de archivos, donde cada uno de estos almacena información diferente. Es importante que cada unos de los archivo que se definen acontinuación estén ubicados en la misma carpeta y se llamen exactamente igual (a diferencia de la extensión)."
   ]
  },
  {
   "cell_type": "markdown",
   "metadata": {
    "id": "O2XxKPMQF90i"
   },
   "source": [
    "#### a) Archivo SHP\n",
    "\n",
    "Este es el archivo principal del formato SHP, en él se almacenan todas las geometrías de lo que estamos trabajando. Por ejemplo, si hablamos de países, nos referimos a los polígonos que forman cada país, o si hablamos de vialidad nos refereimos a la lineas que la conforman. En total existen tres tipos de geometrías que admite el formato SHP:\n",
    "\n",
    "- Puntos\n",
    "- Líneas\n",
    "- Polígonos\n",
    "\n",
    "![](Data/geometries.png)\n",
    "\n",
    "Un archivo SHP admite solo un tipo de geometría a la vez, por lo que por ejemplo, si quisiéramos trabajar con información de rios (líneas) y áreas verdes (geometrías), debemos tener cada grupo de geometrías en un archivo shp diferente. Es decir, un archivo `rios.shp` con las geometrías de líneas y otro `areas_verdes.shp` con las geometrías de polígonos. Pueden trabajarse ambos archivos en conjunto en un proyecto, lo que veremos más adelante.\n",
    "\n",
    "Toda figura (punto, línea o polígono) esta definida por coordenadas. Por ejemplo, los shape de puntos corresponden a una única coordenada por punto, los shapes de líneas a una secuencia de coordenadas por objeto y los shape de polígonos a una secuencia de coordenadas donde la primera es igual a la última, para definir un polígono."
   ]
  },
  {
   "cell_type": "markdown",
   "metadata": {
    "id": "Fc81ZnjgGAzX"
   },
   "source": [
    "#### b) Archivo DBF\n",
    "\n",
    "El archivo DBF corresponde a la base de datos asociada a las geometrías presentes en el archivo DBF, también se conocen como los Metadatos. En esta base de datos se almacena toda la información que no esta relacionada con la geometría misma, sino que información asociada, tales como nombres, cantidades, o cualquier otra información. Cuando trabajemos con Python, verán que la información contenida en el archivo DBF se puede alamcenar dentro de un DataFrame de pandas, lo que simplifica el uso."
   ]
  },
  {
   "cell_type": "markdown",
   "metadata": {
    "id": "bN1DQYjEGNnd"
   },
   "source": [
    "#### c) Archivo SHX\n",
    "\n",
    "El archivo SHX es un archivo interno del formato SHP que almacena los indices de las geometrías y su relación con los metadatos (contenidos en el archivo DBF). Su presencia es necesaria si es que existe un archivo de dato, de lo contrario no sería posible determinar de qué geometría son los datos del DBF."
   ]
  },
  {
   "cell_type": "markdown",
   "metadata": {
    "id": "MT55A5yZG1E6"
   },
   "source": [
    "#### d) Archivo PRJ\n",
    "\n",
    "El archivo PRJ alamcena la proyección utilizada en el archivo SHP para describir las geometrías. Cualquier geometría dispuesta en la superficie de la tierra debe definirse por medio de coordenadas. Estas coordenadas puede estar especificada utilizando distintos formatos. Por ejemplo, GoogleMaps utiliza el formato **EPSG:4326** que hace referencia a las conocidas coordenadas basadas en grados de Latitud y Longitud. Cuando trabajamos a nivel de ciudades, se recomienda el uso de coordenadas UTM que disminuyen los errores para determinadas zonas del mundo y las distancias entre coordenadas estan en metros. En el caso de Santiado, Chile por ejemplo, se usa **EPSG:32719**. Si este archivo no se encuentra disponible, entonces uno deberá indicar manualmente qué sistema se utiliza basado en las coordenadas presentes en el SHP."
   ]
  },
  {
   "cell_type": "markdown",
   "metadata": {
    "id": "CpuqB2pYmlXt"
   },
   "source": [
    "## Manejo de datos geoespaciales en Python\n",
    "\n",
    "El manejo de este tipo de información por medio de Python se lleva a cabo mediante la librería GeoPandas. Una librería basada en el trabajo con DataFrames (como en Pandas), pero que esta vez se incluirá una columna geográfica para representar: Puntos, Líneas o Polígonos. Recordemos que un DataFrame (o shapefile) debe contar solo con un tipo de información. Por lo que si buscamos representar más de un tipo de datos, debemos crear un DataFrame por cada forma geográfica. Actualmente, `geopandas` se encuentra disponible en Colab sin la necesidad de instalar módulos extra (solo basta importarla antes de empezar a utilizarla)."
   ]
  },
  {
   "cell_type": "markdown",
   "metadata": {
    "id": "AMru5cpALlET"
   },
   "source": [
    "## Uso de GeoPandas\n",
    "\n",
    "### Importante\n",
    "Antes de manipular los datos, asegúrese que el archivo `data.zip`, disponible en el Syllabus, se encuentre en la misma carpeta que este archivo."
   ]
  },
  {
   "cell_type": "code",
   "execution_count": null,
   "metadata": {
    "id": "THVTA43TjuNR"
   },
   "outputs": [],
   "source": [
    "!unzip data.zip"
   ]
  },
  {
   "cell_type": "markdown",
   "metadata": {
    "id": "kV2d9aMTOcWe"
   },
   "source": [
    "### a) Lectura de archivos (.shp)\n",
    "Lo primero que debemos hacer para trabajar con archivo geográficos es importar la librería de geopandas y luego leer un archivo .shp. Para eso utilizaremos la siguiente función."
   ]
  },
  {
   "cell_type": "code",
   "execution_count": null,
   "metadata": {
    "id": "ZQplhCUsrsOB"
   },
   "outputs": [],
   "source": [
    "import geopandas as gpd\n",
    "\n",
    "distritos = gpd.read_file('data/Distritos Censales/Distritos Censales RM.shp')\n",
    "lineas_metro = gpd.read_file('data/Metro 2020/Lineas_2020/Lineas_2020.shp')"
   ]
  },
  {
   "cell_type": "markdown",
   "metadata": {
    "id": "4un-jqyjiPn8"
   },
   "source": [
    "En las dos líneas anteriores hemos leído dos archivos shp diferentes. Uno de polígonos con los distritos censales de Santiago y otro de líneas con las líneas de Metro. Notar que el archivo que abrimos es el shp. Geopandas se encarga de incluir el resto de archivos GIS.\n",
    "\n",
    "A diferecia de pandas que trabaja con DataFrames, geopandas trabaja con GeoDataFrames. Esta nueva estructura de datos es básicamente un DataFrame, pero incluye una columna con componente geográfica. Podemos usar el método `head()` para visualizar una porción del GeoDataFrame."
   ]
  },
  {
   "cell_type": "code",
   "execution_count": null,
   "metadata": {
    "id": "jsBVmIXtLgUG"
   },
   "outputs": [],
   "source": [
    "distritos.head(2)"
   ]
  },
  {
   "cell_type": "code",
   "execution_count": null,
   "metadata": {
    "id": "_m8JwNFjiPn-"
   },
   "outputs": [],
   "source": [
    "lineas_metro.head(2)"
   ]
  },
  {
   "cell_type": "markdown",
   "metadata": {
    "id": "lD3aj6E3iPn_"
   },
   "source": [
    "Podemos notar que los GeoDataFrame son idénticos a los DataFrame de pandas, de hecho, todos los métodos que tenemos disponibles para los DataFrames de pandas están disponibles para los GeoDataFrame. La diferencia recae en que los GeoDataFrame incluyen una seríe de nuevo métodos que permiten interactuar con la columna geográfica.\n",
    "\n",
    "En la columna **geometry** de los GeoDataFrame (siempre se creará por defecto) encontramos las geometrías que poseen cada uno de los registros del archivo SHP. La columna geometry solo puede almacenar una única geometría. Por ejemplo, en la visualización de los distritos vemos que geometry es un **POLYGON**, mientras que en lineas_metro es un **LINESTRING**.\n",
    "\n",
    "Como mencionámos anteriormente, GIS solo soporta tres tipos de geometrias: Puntos, Líneas y Polígonos. En geopandas, estas figuras son representadas por una librería llamada **Shapely** (dependecia de geopandas). En ella, encontramos los objetos POINT, LINESTRING y POLYGON para referirse a los Puntos, Líneas y Polígonos respectivamente. Por lo tanto, la columna geometry de los GeoDataFrames corresponde a alguno de estos tres objetos de la librería Shapely. Eso lo podemos comprobar con el método `type()` de python."
   ]
  },
  {
   "cell_type": "code",
   "execution_count": null,
   "metadata": {
    "id": "h3amo3O0iPoA"
   },
   "outputs": [],
   "source": [
    "type(distritos['geometry'][0])"
   ]
  },
  {
   "cell_type": "code",
   "execution_count": null,
   "metadata": {
    "id": "hV02lq96iPoB"
   },
   "outputs": [],
   "source": [
    "type(lineas_metro['geometry'][0])"
   ]
  },
  {
   "cell_type": "markdown",
   "metadata": {
    "id": "juwqq0fAiPoC"
   },
   "source": [
    "### b) Visualización de GeoDataFrames\n",
    "\n",
    "Dado que los GeoDataFrames incluyen una componente geográfica, estos pueden visualizarse. Para ello, haremos uso del método `plot()`"
   ]
  },
  {
   "cell_type": "code",
   "execution_count": null,
   "metadata": {
    "id": "-d56SHo2iPoC"
   },
   "outputs": [],
   "source": [
    "distritos.plot(figsize = (10,10));"
   ]
  },
  {
   "cell_type": "code",
   "execution_count": null,
   "metadata": {
    "id": "WePv2NA4iPoF"
   },
   "outputs": [],
   "source": [
    "lineas_metro.plot(figsize = (10,10));"
   ]
  },
  {
   "cell_type": "markdown",
   "metadata": {
    "id": "tz7T4XNeiPoG"
   },
   "source": [
    "Muchas veces nos gustaría visualizar estos archivos de forma conjunta, eso también es posible mediante la librería de geopandas. Para eso, podemos utilizar las líneas de acontinuación."
   ]
  },
  {
   "cell_type": "code",
   "execution_count": null,
   "metadata": {
    "id": "ZspWQVKoiPoH"
   },
   "outputs": [],
   "source": [
    "# Guardamos nuestro primer gráfico en una variable\n",
    "ax = distritos.plot(figsize = (10,10))\n",
    "\n",
    "# Usamos esa variable (que es un axes) y construímos el segundo gráfico con el anterior como base\n",
    "# Es importante que le cambiemos el color para que se puedan visualizar sin problemas.\n",
    "lineas_metro.plot(ax = ax, figsize = (10,10), color = 'red');"
   ]
  },
  {
   "cell_type": "markdown",
   "metadata": {
    "id": "LYnqSXwziPoJ"
   },
   "source": [
    "**¿Qué pasó?** Lo que pasa, es que como comentamos anteriormente, cuando uno almacena un archivo de GIS, este utiliza cierta \"lógica\" para convertir las coordenadas que están en la esfera de la tierra al plano. Estas lógicas se llaman proyecciónes y son las que se almacenan en el archivo PRJ. Por tanto, si queremos visualizar estas geometrías en conjunto debemos dejar ambos archivos en la misma proyección.\n",
    "\n",
    "#### Proyecciones\n",
    "\n",
    "Las proyecciones se utilizan para codificar las coordenadas de la tierra al plano. Existen varios formatos para almacenar esta información. Si observan el órden de magnitud de la coordenadas presentes dentro de los objetos de la columna geometry verán que para las líneas de metro tenemos número del órden -33, -70 (Coordenadas Lat Long - las que usa GoogleMaps) y en los distritos se manejan otro tipo de números (Coordenadas UTM). Esa es la razón por la que la visualización conjunta no funcionó. Para conocer las proyecciónes de cada archivo podemos hacer lo siguiente:"
   ]
  },
  {
   "cell_type": "code",
   "execution_count": null,
   "metadata": {
    "id": "rGNWkF0QiPoK"
   },
   "outputs": [],
   "source": [
    "distritos.crs"
   ]
  },
  {
   "cell_type": "code",
   "execution_count": null,
   "metadata": {
    "id": "X3-M5TJpiPoL"
   },
   "outputs": [],
   "source": [
    "lineas_metro.crs"
   ]
  },
  {
   "cell_type": "markdown",
   "metadata": {
    "id": "r77Jp2GbiPoM"
   },
   "source": [
    "Lo que nos interesa de estas líneas, es el código junto a **EPSG** en la primera línea. Este es el código de la proyección utilizada. Podemos notar que el archivo de distritos posee un EPSG 32719 mientras que el de las líneas de metro es EPSG 4326.\n",
    "\n",
    "El EPSG 32719 (Coordenadas UTM) es ampliamente utilizado en Chile por su bajo nivel de error al proyectar las coordenadas de la tierra al plano. La gran ventaja de este sistema de coordenadas es que las distancias entre dos puntos cualesquiera es en metro, lo que facilita el trabajo.\n",
    "\n",
    "El EPSG 4326 es un sistema universal basado en grados, es decir, se mide en grados de latitud y grados de longitud. Es ampliamente utilizado a nivel mundial, pero es importante mencionar que las distancias esta en grados por lo que es una medida que facilite el trabajo en mapas.\n",
    "\n",
    "Por eso, vamos a convertir las líneas de metro en EPSG 32719 y lo vamos a guardar en un nuevo GeoDataFrame."
   ]
  },
  {
   "cell_type": "code",
   "execution_count": null,
   "metadata": {
    "id": "wknNL_NEiPps"
   },
   "outputs": [],
   "source": [
    "lineas_metro_utm = lineas_metro.to_crs(32719)"
   ]
  },
  {
   "cell_type": "markdown",
   "metadata": {
    "id": "GUMUOKSbiPps"
   },
   "source": [
    "Ahora que hemos resuleto el problema de proyecciones, probemos a ver si es posible visualizarlos en conjunto:"
   ]
  },
  {
   "cell_type": "code",
   "execution_count": null,
   "metadata": {
    "id": "myjlKZXxiPpt"
   },
   "outputs": [],
   "source": [
    "# Guardamos nuestro primer gráfico en una variable\n",
    "ax = distritos.plot(figsize = (10,10));\n",
    "\n",
    "# Usamos esa variable (que es un axes) y construímos el segundo gráfico con el anterior como base\n",
    "# Es importante que le cambiemos el color para que se puedan visualizar sin problemas.\n",
    "lineas_metro_utm.plot(ax = ax, figsize = (10,10), color = 'red');"
   ]
  },
  {
   "cell_type": "markdown",
   "metadata": {
    "id": "EQDfuA_WiPpt"
   },
   "source": [
    "Esta vez funcionó perfectamente.\n",
    "\n",
    "### c) Visualización específa de datos\n",
    "\n",
    "En ocaciones, lo que buscamos es utilizar la información asociada a las geometrías para realizar filtros, transformaciones, etc. Si lo que buscamos es visualizar una columna en especifico."
   ]
  },
  {
   "cell_type": "code",
   "execution_count": null,
   "metadata": {
    "id": "UQEMUDXxiPpt"
   },
   "outputs": [],
   "source": [
    "distritos.head(1)"
   ]
  },
  {
   "cell_type": "markdown",
   "metadata": {
    "id": "8AJESIQMiPpu"
   },
   "source": [
    "Por ejemplo, en el DataFrame de distritos vemos varias columnas de información. Los datos provienen de la encuesta Adimark en base a los datos del Censo.\n",
    "    \n",
    "- NOM_REG: Nombre de la región\n",
    "- COD_PROV: Código de la provincia\n",
    "- NOM_PROV: Nombre de la provincia\n",
    "- COD_COM: Código de la comuna\n",
    "- NOM_COM: Nombre de la comuna\n",
    "- NOM_DIS: Nombre del distrito censal\n",
    "- CODIGO: Código del del distrito censal\n",
    "- E: Número de hogares clase E por distrito censal\n",
    "- D: Número de hogares clase D por distrito censal\n",
    "- C3: Número de hogares clase C3 por distrito censal\n",
    "- C2: Número de hogares clase C2 por distrito censal\n",
    "- ABC1: Número de hogares clase ABC1 por distrito censal\n",
    "- ADIMARK_T: Total de hogares\n",
    "- Area: Area del distrito\n",
    "- Densidad: Densidad poblacional del distrito\n",
    "- 1_UF_M2: Valor del metro cuadrado en UF\n",
    "\n",
    "Pensemos que quisiéramos visualizar las áreas por distrito y que estas se coloreen en base a esto."
   ]
  },
  {
   "cell_type": "code",
   "execution_count": null,
   "metadata": {
    "id": "csv_lzzLiPpu"
   },
   "outputs": [],
   "source": [
    "distritos.plot(column = 'Area', figsize = (10,10));"
   ]
  },
  {
   "cell_type": "markdown",
   "metadata": {
    "id": "FqtQnyUjiPqB"
   },
   "source": [
    "O el valor del metro cuadrado por distrito:"
   ]
  },
  {
   "cell_type": "code",
   "execution_count": null,
   "metadata": {
    "id": "NY3Tgw_-iPqC"
   },
   "outputs": [],
   "source": [
    "distritos.plot(column = '1_UF_M2', figsize = (10,10));"
   ]
  },
  {
   "cell_type": "markdown",
   "metadata": {
    "id": "_KoIafkjiPqC"
   },
   "source": [
    "### d) Filtrado y procesamiento geográfico\n",
    "\n",
    "En la visualización anterior mostramos el valor del $m^2$. Lamentablemente, este valor, se encuentra mejor contenido dentro de la zona urbana de Santiago de la RM. Por tanto, debemos buscar la forma de filtrar o cortar la región para centrarnos en la zona donde se almacena la información. Una forma sencilla, es hacer uso de la función `loc[]` de pandas para visualizar solo los distritos que estén sobre cierto valor:"
   ]
  },
  {
   "cell_type": "code",
   "execution_count": null,
   "metadata": {
    "id": "g8CX4oppiPqC"
   },
   "outputs": [],
   "source": [
    "# Realizamos un filtro de los datos\n",
    "distritos_UF_mayor = distritos.loc[distritos['1_UF_M2']>1.8]\n",
    "\n",
    "# Visualizamos este nuevo filtro\n",
    "distritos_UF_mayor.plot(column = '1_UF_M2', figsize = (10,10));"
   ]
  },
  {
   "cell_type": "markdown",
   "metadata": {
    "id": "i1OwHsWqiPqD"
   },
   "source": [
    "Logramos hacer un \"zoom\" a la zona urbana de Santiago basado en los datos de los valores del suelo. Pero esto no siempre es posible, por lo que la forma correcta de hacerlo es construir otro Shape que solo contenga la geometría de la zona urbana de Santiago y realizar una intersección. Dentro de la carpeta Data, tenemos un shape que corresponde a solo las áreas urbanas de Chile."
   ]
  },
  {
   "cell_type": "code",
   "execution_count": null,
   "metadata": {
    "id": "zf1cLd5RiPqE"
   },
   "outputs": [],
   "source": [
    "# Cargamos el shape de areas urbanas de chile\n",
    "chile_urbano = gpd.read_file('data/Areas Urbanas/areas_urbanas.shp')\n",
    "\n",
    "# Filtramos solo el de Santiago y visualizamos\n",
    "santiago_urbano = chile_urbano.loc[chile_urbano['NOMBRE']=='Santiago']\n",
    "santiago_urbano.plot();"
   ]
  },
  {
   "cell_type": "markdown",
   "metadata": {
    "id": "fmRpOLF0iPqE"
   },
   "source": [
    "Ahora, podemos intersectar nuestro dataframe de distritos con la zona urbana y volver a visualizar. GeoPandas incluye dos metodologías de intersección, puede consultarlas en los siguientes enlances:\n",
    "\n",
    "- Operaciones con **Overlay** ([Link](https://geopandas.org/set_operations.html))\n",
    "- Operaciones con **sjoin** ([Link](https://geopandas.org/mergingdata.html))\n",
    "\n",
    "En este caso realizaremos la intersección con overlay."
   ]
  },
  {
   "cell_type": "code",
   "execution_count": null,
   "metadata": {
    "id": "4uScdB0aiPqE"
   },
   "outputs": [],
   "source": [
    "distritos_urbano = gpd.overlay(distritos, santiago_urbano, how='intersection')\n",
    "distritos_urbano.plot(figsize = (10,10), column = '1_UF_M2');"
   ]
  },
  {
   "cell_type": "markdown",
   "metadata": {
    "id": "XLZD6Qj4iPqF"
   },
   "source": [
    "Lo podemos graficar en conjunto con las líneas de metro."
   ]
  },
  {
   "cell_type": "code",
   "execution_count": null,
   "metadata": {
    "id": "nGfBkuVGiPqF"
   },
   "outputs": [],
   "source": [
    "import matplotlib.pyplot as plt\n",
    "ax = distritos_urbano.plot(figsize = (10,10), column = '1_UF_M2', edgecolor = 'black', linewidth = 0.5,legend = True)\n",
    "lineas_metro_utm.plot(ax = ax, color = 'red', linewidth = 2)\n",
    "plt.axis('off')\n",
    "plt.show()"
   ]
  },
  {
   "cell_type": "markdown",
   "metadata": {
    "id": "bwZWKIb5iPqG"
   },
   "source": [
    "**¿Qué pasa si nos preguntaran por los distritos que estan a 500 m o menos de las líneas de metro?**\n",
    "\n",
    "En este caso, lo que necesitamos es un buffer. Un buffer es un contorno poligonal construido alrededor de una geometría. Por lo tanto, si construimos un buffer de un 500m alrededor de la líneas de metro, sabríamos cual es la zona que nos interesa."
   ]
  },
  {
   "cell_type": "code",
   "execution_count": null,
   "metadata": {
    "id": "zvRc47vliPqG"
   },
   "outputs": [],
   "source": [
    "# Generamos el buffer de las líneas de metro\n",
    "buffer_metro = lineas_metro_utm.copy()\n",
    "buffer_metro.geometry = buffer_metro.buffer(500)\n",
    "buffer_metro.plot();"
   ]
  },
  {
   "cell_type": "code",
   "execution_count": null,
   "metadata": {
    "id": "be4hS7qoiPqH"
   },
   "outputs": [],
   "source": [
    "import matplotlib.pyplot as plt\n",
    "ax = distritos_urbano.plot(figsize = (10,10), column = '1_UF_M2', edgecolor = 'black', linewidth = 0.5,legend = True)\n",
    "ax1 = buffer_metro.plot(ax=ax, alpha = 0.5, color = 'green')\n",
    "lineas_metro_utm.plot(ax = ax1, color = 'red', linewidth = 2)\n",
    "plt.axis('off')\n",
    "plt.show()"
   ]
  },
  {
   "cell_type": "markdown",
   "metadata": {
    "id": "eRqW9unNiPqI"
   },
   "source": [
    "Ahora, para seleccionar los distritos que son parte de esta zona de influencia, vamos a utilizar el método sjoin."
   ]
  },
  {
   "cell_type": "code",
   "execution_count": null,
   "metadata": {
    "id": "s6wxOVFbiPqI"
   },
   "outputs": [],
   "source": [
    "distritos_metro = gpd.sjoin(distritos_urbano, buffer_metro, predicate='intersects')"
   ]
  },
  {
   "cell_type": "code",
   "execution_count": null,
   "metadata": {
    "id": "4y_QnTSRiPqJ"
   },
   "outputs": [],
   "source": [
    "import matplotlib.pyplot as plt\n",
    "ax = distritos_metro.plot(figsize = (10,10), column = '1_UF_M2', edgecolor = 'black', linewidth = 0.5,legend = True)\n",
    "ax1 = buffer_metro.plot(ax=ax, alpha = 0.5, color = 'green')\n",
    "lineas_metro_utm.plot(ax = ax1, color = 'red', linewidth = 2)\n",
    "plt.axis('off')\n",
    "plt.show()"
   ]
  }
 ],
 "metadata": {
  "colab": {
   "provenance": []
  },
  "interpreter": {
   "hash": "432ee9dc30be07d38c29275a8ba4708057635a20469ddd67f0dfa942a950c372"
  },
  "kernelspec": {
   "display_name": "Python 3.8.6 64-bit",
   "name": "python3"
  },
  "language_info": {
   "name": "python",
   "version": ""
  }
 },
 "nbformat": 4,
 "nbformat_minor": 0
}
