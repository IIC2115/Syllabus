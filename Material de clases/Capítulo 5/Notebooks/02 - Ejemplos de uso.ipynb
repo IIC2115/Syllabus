{
  "cells": [
    {
      "cell_type": "code",
      "execution_count": null,
      "metadata": {
        "colab": {
          "base_uri": "https://localhost:8080/"
        },
        "id": "B9TgpyIPEZEi",
        "outputId": "84cc9662-62ac-48bd-a713-986a275e7e48"
      },
      "outputs": [],
      "source": [
        "!pip install osmnx"
      ]
    },
    {
      "cell_type": "code",
      "execution_count": null,
      "metadata": {
        "id": "fhpac2h_rmDO"
      },
      "outputs": [],
      "source": [
        "import networkx as nx\n",
        "import random\n",
        "import time\n",
        "import matplotlib.pyplot as plt\n",
        "from itertools import permutations\n",
        "import osmnx as ox"
      ]
    },
    {
      "cell_type": "code",
      "execution_count": null,
      "metadata": {
        "id": "thqJ9R04uaLj"
      },
      "outputs": [],
      "source": [
        "# Función para generar un grafo aleatorio conexo con N nodos\n",
        "def generate_connected_graph(n):\n",
        "    G = nx.Graph()\n",
        "    nodes = list(range(n))\n",
        "    G.add_nodes_from(nodes)\n",
        "\n",
        "    # Crear un árbol aleatorio para asegurar que el grafo sea conexo\n",
        "    for i in range(1, n):\n",
        "        G.add_edge(i, random.randint(0, i-1), weight=random.randint(1, 10))\n",
        "\n",
        "    # Añadir aristas adicionales aleatorias\n",
        "    while G.number_of_edges() < (n * (n - 1)) // 4:\n",
        "        u, v = random.sample(nodes, 2)\n",
        "        if not G.has_edge(u, v):\n",
        "            G.add_edge(u, v, weight=random.randint(1, 10))\n",
        "\n",
        "    return G"
      ]
    },
    {
      "cell_type": "code",
      "execution_count": null,
      "metadata": {
        "id": "58T1lThsuXkB"
      },
      "outputs": [],
      "source": [
        "random.seed(2115)\n",
        "nodes_list = [4, 7, 10]\n",
        "graphs = [generate_connected_graph(n) for n in nodes_list]"
      ]
    },
    {
      "cell_type": "code",
      "execution_count": null,
      "metadata": {
        "id": "IYd_nsUV_PSD"
      },
      "outputs": [],
      "source": [
        "def plot_multiple_graphs(graphs, titles, figsize=(15, 5)):\n",
        "    fig, axs = plt.subplots(1, len(graphs), figsize=figsize)  # Crear subplots\n",
        "    for i, (G, title) in enumerate(zip(graphs, titles)):\n",
        "        ax = axs[i]\n",
        "        nx.draw(G, with_labels=True, node_color=\"lightblue\", node_size=500, font_size=10, font_weight='bold', ax=ax)\n",
        "        ax.set_title(title)\n",
        "    plt.show()"
      ]
    },
    {
      "cell_type": "code",
      "execution_count": null,
      "metadata": {
        "colab": {
          "base_uri": "https://localhost:8080/",
          "height": 444
        },
        "id": "Njlko_PH_VkR",
        "outputId": "9a643a2c-fee7-4e00-952b-c014f54b8993"
      },
      "outputs": [],
      "source": [
        "# Visualizar los grafos\n",
        "titles = [\"Grafo con 4 nodos\", \"Grafo con 7 nodos\", \"Grafo con 10 nodos\"]\n",
        "plot_multiple_graphs(graphs, titles)"
      ]
    },
    {
      "cell_type": "code",
      "execution_count": null,
      "metadata": {
        "colab": {
          "base_uri": "https://localhost:8080/",
          "height": 659
        },
        "id": "Ah5ZE6Fj36-u",
        "outputId": "b4ed4be9-f11e-4c21-8699-d0bbe3ef2586"
      },
      "outputs": [],
      "source": [
        "G = nx.erdos_renyi_graph(7, 0.5, seed=2115, directed=False)\n",
        "plt.figure(figsize=(8, 6))\n",
        "nx.draw(G, with_labels=True, node_color='lightblue', node_size=500, font_size=10, font_weight='bold')\n",
        "plt.title(\"Grafo\")\n",
        "plt.show()"
      ]
    },
    {
      "cell_type": "code",
      "execution_count": null,
      "metadata": {
        "id": "9Rwa0M_eucPN"
      },
      "outputs": [],
      "source": [
        "# Función de fuerza bruta para calcular ruta con menor costo que pasa por todos los nodos\n",
        "def brute_force_tsp(G):\n",
        "    nodes = list(G.nodes)\n",
        "    all_routes = permutations(nodes)\n",
        "    min_cost = float('inf')\n",
        "    best_route = None\n",
        "    for route in all_routes:\n",
        "        try:\n",
        "            cost = sum(G[route[i]][route[i+1]]['weight'] for i in range(len(route) - 1))\n",
        "            if cost < min_cost:\n",
        "                min_cost = cost\n",
        "                best_route = route\n",
        "        except KeyError: # Ignorar rutas que no sean posibles debido a la falta de aristas\n",
        "            continue\n",
        "    return best_route, min_cost"
      ]
    },
    {
      "cell_type": "code",
      "execution_count": null,
      "metadata": {
        "colab": {
          "base_uri": "https://localhost:8080/"
        },
        "id": "1g9Q_bFA0jAW",
        "outputId": "71b3edce-d5c8-4d19-9d6a-19d06a23946c"
      },
      "outputs": [],
      "source": [
        "list(permutations(graphs[1].nodes()))"
      ]
    },
    {
      "cell_type": "code",
      "execution_count": null,
      "metadata": {
        "id": "BaTkwlYYu34d"
      },
      "outputs": [],
      "source": [
        "# Función para calcular tiempo de ejecución\n",
        "def calculate_execution_times(G):\n",
        "    start_time = time.time()\n",
        "    route, cost = brute_force_tsp(G)\n",
        "    excecution_time = time.time() - start_time\n",
        "\n",
        "    return route, cost, excecution_time"
      ]
    },
    {
      "cell_type": "code",
      "execution_count": null,
      "metadata": {
        "colab": {
          "base_uri": "https://localhost:8080/",
          "height": 616
        },
        "id": "i7ju8ofavnhH",
        "outputId": "f6918434-e027-4190-9f77-51d7ff9a9c8e"
      },
      "outputs": [],
      "source": [
        "routes = []\n",
        "costs = []\n",
        "times = []\n",
        "for G in graphs:\n",
        "    n = G.number_of_nodes()\n",
        "    route, cost, excecution_time = calculate_execution_times(G)\n",
        "    routes.append(route)\n",
        "    costs.append(cost)\n",
        "    times.append(excecution_time)\n",
        "    print(f\"Número de nodos: {n}\")\n",
        "\n",
        "# Graficar los tiempos de ejecución\n",
        "plt.figure(figsize=(8, 6))\n",
        "plt.plot(nodes_list, times, marker='o')\n",
        "plt.xlabel('Numero de nodos')\n",
        "plt.ylabel('Tiempo de ejecucion (seconds)')\n",
        "plt.title('Tiempo de ejecucion TSP fuerza bruta')\n",
        "plt.grid(True)\n",
        "plt.show()"
      ]
    },
    {
      "cell_type": "code",
      "execution_count": null,
      "metadata": {
        "colab": {
          "base_uri": "https://localhost:8080/"
        },
        "id": "fyN0oc2a0i5O",
        "outputId": "d9dd4f2c-0a82-429c-c377-3868f9914971"
      },
      "outputs": [],
      "source": [
        "# Mostrar los costos de ambas soluciones\n",
        "for i, n in enumerate(nodes_list):\n",
        "    print(f\"Número de nodos: {n}\")\n",
        "    print(f\"Costo de la ruta con fuerza bruta: {costs[i]}\")\n",
        "    print(\"-\" * 40)\n"
      ]
    },
    {
      "cell_type": "code",
      "execution_count": null,
      "metadata": {
        "id": "McALuX6D2-6l"
      },
      "outputs": [],
      "source": [
        "def plot_multiple_graphs_with_routes(graphs, routes, titles, figsize=(15, 5)):\n",
        "    fig, axs = plt.subplots(1, len(graphs), figsize=figsize)  # Crear subplots para varios grafos\n",
        "    for i, (G, title) in enumerate(zip(graphs, titles)):\n",
        "        ax = axs[i] if len(graphs) > 1 else axs  # Obtener el subplot correspondiente\n",
        "        pos = nx.spring_layout(G)  # Layout para graficar el grafo\n",
        "\n",
        "        # Dibujar el grafo\n",
        "        nx.draw(G, pos, with_labels=True, node_color='lightblue', node_size=500, font_size=10, font_weight='bold', ax=ax)\n",
        "\n",
        "        # Dibujar la ruta de fuerza bruta en rojo\n",
        "        edges_brute_force = [(routes[i][j], routes[i][j+1]) for j in range(len(routes[i]) - 1)]\n",
        "        nx.draw_networkx_edges(G, pos, edgelist=edges_brute_force, edge_color='r', width=2, ax=ax, label=\"Brute Force Route\")\n",
        "\n",
        "        ax.set_title(title)\n",
        "        ax.legend()\n",
        "\n",
        "    plt.tight_layout()\n",
        "    plt.show()"
      ]
    },
    {
      "cell_type": "code",
      "execution_count": null,
      "metadata": {
        "colab": {
          "base_uri": "https://localhost:8080/",
          "height": 507
        },
        "id": "ogPSd14eDQGw",
        "outputId": "876ed9ac-f111-4363-9f47-622e57506e33"
      },
      "outputs": [],
      "source": [
        "titles = [\"Grafo con 4 nodos\", \"Grafo con 7 nodos\", \"Grafo con 10 nodos\"]\n",
        "plot_multiple_graphs_with_routes(graphs, routes, titles)"
      ]
    },
    {
      "cell_type": "markdown",
      "metadata": {
        "id": "EZ2RsRBmE6Qq"
      },
      "source": [
        "# Usando redes reales"
      ]
    },
    {
      "cell_type": "code",
      "execution_count": null,
      "metadata": {
        "id": "UOkAtVIaK8By"
      },
      "outputs": [],
      "source": [
        "# Descargar la red vial de Macul (Santiago, Chile)\n",
        "place_name = \"Macul, Santiago, Chile\"\n",
        "G = ox.graph_from_place(place_name, network_type=\"drive\")\n",
        "\n",
        "# Convertir la red vial a un grafo no dirigido (por si tiene direcciones)\n",
        "G_undirected = G.to_undirected()"
      ]
    },
    {
      "cell_type": "code",
      "execution_count": null,
      "metadata": {
        "colab": {
          "base_uri": "https://localhost:8080/"
        },
        "id": "fUCW-kAED7X1",
        "outputId": "868944db-c93e-4fe9-baa5-df7d1c7127bb"
      },
      "outputs": [],
      "source": [
        "# 1. Calcular la centralidad de grado\n",
        "degree_centrality = nx.degree_centrality(G_undirected)\n",
        "\n",
        "# 2. Calcular la centralidad de cercanía\n",
        "closeness_centrality = nx.closeness_centrality(G_undirected)\n",
        "\n",
        "# 3. Calcular la centralidad de intermediación\n",
        "betweenness_centrality = nx.betweenness_centrality(G_undirected, normalized=True)\n",
        "\n",
        "# Mostrar algunas métricas de ejemplo para los primeros 5 nodos\n",
        "for i, node in enumerate(G_undirected.nodes):\n",
        "    if i == 5:  # Solo mostramos los primeros 5 nodos\n",
        "        break\n",
        "    print(f\"Nodo: {node}\")\n",
        "    print(f\"  Centralidad de Grado: {degree_centrality[node]:.4f}\")\n",
        "    print(f\"  Centralidad de Cercanía: {closeness_centrality[node]:.4f}\")\n",
        "    print(f\"  Centralidad de Intermediación: {betweenness_centrality[node]:.4f}\")\n",
        "    print()"
      ]
    },
    {
      "cell_type": "code",
      "execution_count": null,
      "metadata": {
        "id": "cDYkGx3-D_Bm"
      },
      "outputs": [],
      "source": [
        "# Añadir las métricas de centralidad como atributos a los nodos para su visualización\n",
        "nx.set_node_attributes(G_undirected, degree_centrality, \"degree_centrality\")\n",
        "nx.set_node_attributes(G_undirected, closeness_centrality, \"closeness_centrality\")\n",
        "nx.set_node_attributes(G_undirected, betweenness_centrality, \"betweenness_centrality\")"
      ]
    },
    {
      "cell_type": "code",
      "execution_count": null,
      "metadata": {
        "id": "IYNQDKvSF4es"
      },
      "outputs": [],
      "source": [
        "def plot_graph_with_centrality(G, centrality_attr, cmap, title):\n",
        "    # Obtener los valores de centralidad\n",
        "    centrality_values = nx.get_node_attributes(G, centrality_attr)\n",
        "    norm = plt.Normalize(vmin=min(centrality_values.values()), vmax=max(centrality_values.values()))  # Normalizar los valores\n",
        "\n",
        "    # Obtener los colores para cada nodo según la centralidad\n",
        "    nc = ox.plot.get_node_colors_by_attr(G, centrality_attr, cmap=cmap)\n",
        "\n",
        "    # Graficar el grafo y capturar fig y ax\n",
        "    fig, ax = ox.plot_graph(\n",
        "        G,\n",
        "        node_color=nc,\n",
        "        node_size=20,\n",
        "        edge_linewidth=0.5,\n",
        "        bgcolor=\"white\",\n",
        "        show=False,\n",
        "        close=False\n",
        "    )\n",
        "\n",
        "    # Agregar la barra de color\n",
        "    sm = plt.cm.ScalarMappable(cmap=cmap, norm=norm)\n",
        "    sm.set_array([])\n",
        "    cbar = plt.colorbar(sm, ax=ax)\n",
        "    cbar.set_label(centrality_attr.replace('_', ' ').title(), rotation=270, labelpad=20)  # Etiqueta para la barra de colores\n",
        "\n",
        "    # Agregar el título\n",
        "    ax.set_title(title, fontsize=16)\n",
        "\n",
        "    plt.show()\n"
      ]
    },
    {
      "cell_type": "code",
      "execution_count": null,
      "metadata": {
        "colab": {
          "base_uri": "https://localhost:8080/",
          "height": 653
        },
        "id": "UYjyGs1tF7gg",
        "outputId": "33d81002-18ca-43ce-81d5-6c73f6824c14"
      },
      "outputs": [],
      "source": [
        "plot_graph_with_centrality(G_undirected, \"degree_centrality\", cmap=\"plasma\", title=\"Grafo con Centralidad de Grado\")"
      ]
    },
    {
      "cell_type": "code",
      "execution_count": null,
      "metadata": {
        "colab": {
          "base_uri": "https://localhost:8080/",
          "height": 653
        },
        "id": "Ss2q1AVxF7i9",
        "outputId": "faecc2ec-4c44-4a1b-f216-2673800041a8"
      },
      "outputs": [],
      "source": [
        "plot_graph_with_centrality(G_undirected, \"closeness_centrality\", cmap=\"viridis\", title=\"Grafo con Centralidad de Cercanía\")"
      ]
    },
    {
      "cell_type": "code",
      "execution_count": null,
      "metadata": {
        "colab": {
          "base_uri": "https://localhost:8080/",
          "height": 661
        },
        "id": "17AwDvrxF7m-",
        "outputId": "c59fabc5-6943-4419-8f47-884ee2bef610"
      },
      "outputs": [],
      "source": [
        "plot_graph_with_centrality(G_undirected, \"betweenness_centrality\", cmap=\"inferno\", title=\"Grafo con Centralidad de Intermediación\")"
      ]
    }
  ],
  "metadata": {
    "colab": {
      "provenance": []
    },
    "kernelspec": {
      "display_name": "Python 3",
      "name": "python3"
    },
    "language_info": {
      "name": "python"
    }
  },
  "nbformat": 4,
  "nbformat_minor": 0
}
