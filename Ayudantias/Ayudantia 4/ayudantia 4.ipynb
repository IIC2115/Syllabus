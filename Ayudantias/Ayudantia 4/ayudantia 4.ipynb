{
 "cells": [
  {
   "cell_type": "markdown",
   "id": "0668a9dd",
   "metadata": {},
   "source": [
    "# Ayudantía 4: Laboratorio 2 Parte 1\n",
    "\n",
    "4 septiembre 2025\n",
    "\n",
    "diego.herrerag00@uc.cl"
   ]
  },
  {
   "cell_type": "markdown",
   "id": "46c12ea9",
   "metadata": {},
   "source": [
    "Descripción del problema\n",
    "En este laboratorio utilizará un conjunto de datos que recopila información sobre hoteles internacionales,\n",
    "usuarios que realizaron reservas y rese˜nas que describen su experiencia durante la estadía. Estos datos están\n",
    "divididos en tres archivos:\n",
    "• hotels.csv: cada fila describe un hotel, incluyendo atributos como ubicaci´on geográfica, categoría, y\n",
    "puntajes de referencia o “base” en distintas dimensiones (ej. limpieza, comodidad, ubicación, etc.).\n",
    "• users.csv: cada fila corresponde a un usuario de la plataforma, con información demogr´afica y de\n",
    "contexto relevante para caracterizar su comportamiento de rese˜na.\n",
    "• reviews.csv: cada fila representa una rese˜na realizada por un usuario sobre un hotel en una fecha\n",
    "determinada.\n",
    "En base a los campos recién descritos y utilizando las librerías presentadas en clases, deberá responder una\n",
    "serie de preguntas relacionadas con el an´alisis de datos tabulares en Python."
   ]
  },
  {
   "cell_type": "code",
   "execution_count": 50,
   "id": "0b855bfe",
   "metadata": {},
   "outputs": [],
   "source": [
    "# Primero que todo, abrimos los archivos\n",
    "\n",
    "import pandas as pd\n",
    "import seaborn as sns\n",
    "import matplotlib.pyplot as plt\n",
    "\n",
    "df_hoteles = pd.read_csv(\"hotels.csv\")\n",
    "df_usuarios = pd.read_csv(\"users.csv\")\n",
    "df_reviews = pd.read_csv(\"reviews.csv\")"
   ]
  },
  {
   "cell_type": "code",
   "execution_count": 51,
   "id": "ba561217",
   "metadata": {},
   "outputs": [
    {
     "data": {
      "application/vnd.microsoft.datawrangler.viewer.v0+json": {
       "columns": [
        {
         "name": "index",
         "rawType": "int64",
         "type": "integer"
        },
        {
         "name": "hotel_id",
         "rawType": "int64",
         "type": "integer"
        },
        {
         "name": "hotel_name",
         "rawType": "object",
         "type": "string"
        },
        {
         "name": "city",
         "rawType": "object",
         "type": "string"
        },
        {
         "name": "country",
         "rawType": "object",
         "type": "unknown"
        },
        {
         "name": "star_rating",
         "rawType": "int64",
         "type": "integer"
        },
        {
         "name": "lat",
         "rawType": "float64",
         "type": "float"
        },
        {
         "name": "lon",
         "rawType": "float64",
         "type": "float"
        },
        {
         "name": "cleanliness_base",
         "rawType": "float64",
         "type": "float"
        },
        {
         "name": "comfort_base",
         "rawType": "float64",
         "type": "float"
        },
        {
         "name": "facilities_base",
         "rawType": "float64",
         "type": "float"
        },
        {
         "name": "location_base",
         "rawType": "float64",
         "type": "float"
        },
        {
         "name": "staff_base",
         "rawType": "float64",
         "type": "float"
        },
        {
         "name": "value_for_money_base",
         "rawType": "float64",
         "type": "float"
        }
       ],
       "ref": "1ef144b7-77cd-46d6-9a3f-84752e026225",
       "rows": [
        [
         "0",
         "1",
         "The Azure Tower",
         "New York",
         null,
         "5",
         "40.758",
         "-73.9855",
         "9.1",
         "8.8",
         "8.9",
         "9.5",
         "8.6",
         "8.0"
        ],
        [
         "1",
         "2",
         "The Royal Compass",
         "London",
         "United Kingdom",
         "5",
         "51.5072",
         "-0.1276",
         "9.0",
         "9.2",
         "8.8",
         "9.4",
         "9.0",
         "7.9"
        ],
        [
         "2",
         "3",
         "L'Étoile Palace",
         "Paris",
         "France",
         "9",
         "100.0",
         "2.3522",
         "8.8",
         "9.4",
         "8.7",
         "9.6",
         "13.0",
         "8.1"
        ],
        [
         "3",
         "4",
         "Kyo-to Grand",
         "Tokyo",
         "Japan",
         "5",
         "35.6895",
         "139.6917",
         "9.6",
         "9.0",
         "9.3",
         "8.5",
         "9.5",
         "8.2"
        ],
        [
         "4",
         "5",
         "The Golden Oasis",
         "Dubai",
         "United Arab Emirates",
         "5",
         "25.2769",
         "55.2962",
         "9.3",
         "9.5",
         "9.6",
         "8.9",
         "9.4",
         "8.5"
        ],
        [
         "5",
         "6",
         "Marina Bay Zenith",
         "Singapore",
         "Singapore",
         "5",
         "1.29027",
         "103.851959",
         "9.2",
         "9.1",
         "9.4",
         "9.7",
         "9.1",
         "8.3"
        ],
        [
         "6",
         "7",
         "Sydney Harbour Grand",
         "Sydney",
         "Australia",
         "5",
         "-33.8651",
         "151.2099",
         "8.9",
         "-2.0",
         "8.5",
         "9.8",
         "8.9",
         "8.4"
        ]
       ],
       "shape": {
        "columns": 13,
        "rows": 7
       }
      },
      "text/html": [
       "<div>\n",
       "<style scoped>\n",
       "    .dataframe tbody tr th:only-of-type {\n",
       "        vertical-align: middle;\n",
       "    }\n",
       "\n",
       "    .dataframe tbody tr th {\n",
       "        vertical-align: top;\n",
       "    }\n",
       "\n",
       "    .dataframe thead th {\n",
       "        text-align: right;\n",
       "    }\n",
       "</style>\n",
       "<table border=\"1\" class=\"dataframe\">\n",
       "  <thead>\n",
       "    <tr style=\"text-align: right;\">\n",
       "      <th></th>\n",
       "      <th>hotel_id</th>\n",
       "      <th>hotel_name</th>\n",
       "      <th>city</th>\n",
       "      <th>country</th>\n",
       "      <th>star_rating</th>\n",
       "      <th>lat</th>\n",
       "      <th>lon</th>\n",
       "      <th>cleanliness_base</th>\n",
       "      <th>comfort_base</th>\n",
       "      <th>facilities_base</th>\n",
       "      <th>location_base</th>\n",
       "      <th>staff_base</th>\n",
       "      <th>value_for_money_base</th>\n",
       "    </tr>\n",
       "  </thead>\n",
       "  <tbody>\n",
       "    <tr>\n",
       "      <th>0</th>\n",
       "      <td>1</td>\n",
       "      <td>The Azure Tower</td>\n",
       "      <td>New York</td>\n",
       "      <td>NaN</td>\n",
       "      <td>5</td>\n",
       "      <td>40.75800</td>\n",
       "      <td>-73.985500</td>\n",
       "      <td>9.1</td>\n",
       "      <td>8.8</td>\n",
       "      <td>8.9</td>\n",
       "      <td>9.5</td>\n",
       "      <td>8.6</td>\n",
       "      <td>8.0</td>\n",
       "    </tr>\n",
       "    <tr>\n",
       "      <th>1</th>\n",
       "      <td>2</td>\n",
       "      <td>The Royal Compass</td>\n",
       "      <td>London</td>\n",
       "      <td>United Kingdom</td>\n",
       "      <td>5</td>\n",
       "      <td>51.50720</td>\n",
       "      <td>-0.127600</td>\n",
       "      <td>9.0</td>\n",
       "      <td>9.2</td>\n",
       "      <td>8.8</td>\n",
       "      <td>9.4</td>\n",
       "      <td>9.0</td>\n",
       "      <td>7.9</td>\n",
       "    </tr>\n",
       "    <tr>\n",
       "      <th>2</th>\n",
       "      <td>3</td>\n",
       "      <td>L'Étoile Palace</td>\n",
       "      <td>Paris</td>\n",
       "      <td>France</td>\n",
       "      <td>9</td>\n",
       "      <td>100.00000</td>\n",
       "      <td>2.352200</td>\n",
       "      <td>8.8</td>\n",
       "      <td>9.4</td>\n",
       "      <td>8.7</td>\n",
       "      <td>9.6</td>\n",
       "      <td>13.0</td>\n",
       "      <td>8.1</td>\n",
       "    </tr>\n",
       "    <tr>\n",
       "      <th>3</th>\n",
       "      <td>4</td>\n",
       "      <td>Kyo-to Grand</td>\n",
       "      <td>Tokyo</td>\n",
       "      <td>Japan</td>\n",
       "      <td>5</td>\n",
       "      <td>35.68950</td>\n",
       "      <td>139.691700</td>\n",
       "      <td>9.6</td>\n",
       "      <td>9.0</td>\n",
       "      <td>9.3</td>\n",
       "      <td>8.5</td>\n",
       "      <td>9.5</td>\n",
       "      <td>8.2</td>\n",
       "    </tr>\n",
       "    <tr>\n",
       "      <th>4</th>\n",
       "      <td>5</td>\n",
       "      <td>The Golden Oasis</td>\n",
       "      <td>Dubai</td>\n",
       "      <td>United Arab Emirates</td>\n",
       "      <td>5</td>\n",
       "      <td>25.27690</td>\n",
       "      <td>55.296200</td>\n",
       "      <td>9.3</td>\n",
       "      <td>9.5</td>\n",
       "      <td>9.6</td>\n",
       "      <td>8.9</td>\n",
       "      <td>9.4</td>\n",
       "      <td>8.5</td>\n",
       "    </tr>\n",
       "    <tr>\n",
       "      <th>5</th>\n",
       "      <td>6</td>\n",
       "      <td>Marina Bay Zenith</td>\n",
       "      <td>Singapore</td>\n",
       "      <td>Singapore</td>\n",
       "      <td>5</td>\n",
       "      <td>1.29027</td>\n",
       "      <td>103.851959</td>\n",
       "      <td>9.2</td>\n",
       "      <td>9.1</td>\n",
       "      <td>9.4</td>\n",
       "      <td>9.7</td>\n",
       "      <td>9.1</td>\n",
       "      <td>8.3</td>\n",
       "    </tr>\n",
       "    <tr>\n",
       "      <th>6</th>\n",
       "      <td>7</td>\n",
       "      <td>Sydney Harbour Grand</td>\n",
       "      <td>Sydney</td>\n",
       "      <td>Australia</td>\n",
       "      <td>5</td>\n",
       "      <td>-33.86510</td>\n",
       "      <td>151.209900</td>\n",
       "      <td>8.9</td>\n",
       "      <td>-2.0</td>\n",
       "      <td>8.5</td>\n",
       "      <td>9.8</td>\n",
       "      <td>8.9</td>\n",
       "      <td>8.4</td>\n",
       "    </tr>\n",
       "  </tbody>\n",
       "</table>\n",
       "</div>"
      ],
      "text/plain": [
       "   hotel_id            hotel_name       city               country  \\\n",
       "0         1       The Azure Tower   New York                   NaN   \n",
       "1         2     The Royal Compass     London        United Kingdom   \n",
       "2         3       L'Étoile Palace      Paris                France   \n",
       "3         4          Kyo-to Grand      Tokyo                 Japan   \n",
       "4         5      The Golden Oasis      Dubai  United Arab Emirates   \n",
       "5         6     Marina Bay Zenith  Singapore             Singapore   \n",
       "6         7  Sydney Harbour Grand     Sydney             Australia   \n",
       "\n",
       "   star_rating        lat         lon  cleanliness_base  comfort_base  \\\n",
       "0            5   40.75800  -73.985500               9.1           8.8   \n",
       "1            5   51.50720   -0.127600               9.0           9.2   \n",
       "2            9  100.00000    2.352200               8.8           9.4   \n",
       "3            5   35.68950  139.691700               9.6           9.0   \n",
       "4            5   25.27690   55.296200               9.3           9.5   \n",
       "5            5    1.29027  103.851959               9.2           9.1   \n",
       "6            5  -33.86510  151.209900               8.9          -2.0   \n",
       "\n",
       "   facilities_base  location_base  staff_base  value_for_money_base  \n",
       "0              8.9            9.5         8.6                   8.0  \n",
       "1              8.8            9.4         9.0                   7.9  \n",
       "2              8.7            9.6        13.0                   8.1  \n",
       "3              9.3            8.5         9.5                   8.2  \n",
       "4              9.6            8.9         9.4                   8.5  \n",
       "5              9.4            9.7         9.1                   8.3  \n",
       "6              8.5            9.8         8.9                   8.4  "
      ]
     },
     "execution_count": 51,
     "metadata": {},
     "output_type": "execute_result"
    }
   ],
   "source": [
    "df_hoteles.head(7)"
   ]
  },
  {
   "cell_type": "code",
   "execution_count": 52,
   "id": "bf7dbb5a",
   "metadata": {},
   "outputs": [
    {
     "data": {
      "application/vnd.microsoft.datawrangler.viewer.v0+json": {
       "columns": [
        {
         "name": "index",
         "rawType": "int64",
         "type": "integer"
        },
        {
         "name": "user_id",
         "rawType": "int64",
         "type": "integer"
        },
        {
         "name": "user_gender",
         "rawType": "object",
         "type": "string"
        },
        {
         "name": "country",
         "rawType": "object",
         "type": "string"
        },
        {
         "name": "age_group",
         "rawType": "object",
         "type": "string"
        },
        {
         "name": "traveller_type",
         "rawType": "object",
         "type": "string"
        },
        {
         "name": "join_date",
         "rawType": "object",
         "type": "string"
        }
       ],
       "ref": "f0d6b8c4-4860-45ce-8b67-618f076c5e15",
       "rows": [
        [
         "0",
         "1",
         "Female",
         "United Kingdom",
         "35-44",
         "Solo",
         "2024-09-29"
        ],
        [
         "1",
         "2",
         "Male",
         "United Kingdom",
         "25-34",
         "Solo",
         "2023-11-29"
        ],
        [
         "2",
         "3",
         "Female",
         "Mexico",
         "25-34",
         "Family",
         "2022-04-03"
        ],
        [
         "3",
         "4",
         "Male",
         "India",
         "35-44",
         "Family",
         "2023-12-02"
        ],
        [
         "4",
         "5",
         "Other",
         "Japan",
         "25-34",
         "Solo",
         "2021-12-18"
        ],
        [
         "5",
         "6",
         "Male",
         "Brazil",
         "25-34",
         "Couple",
         "2025-06-27"
        ],
        [
         "6",
         "7",
         "Male",
         "United Kingdom",
         "25-34",
         "Business",
         "2022-07-13"
        ]
       ],
       "shape": {
        "columns": 6,
        "rows": 7
       }
      },
      "text/html": [
       "<div>\n",
       "<style scoped>\n",
       "    .dataframe tbody tr th:only-of-type {\n",
       "        vertical-align: middle;\n",
       "    }\n",
       "\n",
       "    .dataframe tbody tr th {\n",
       "        vertical-align: top;\n",
       "    }\n",
       "\n",
       "    .dataframe thead th {\n",
       "        text-align: right;\n",
       "    }\n",
       "</style>\n",
       "<table border=\"1\" class=\"dataframe\">\n",
       "  <thead>\n",
       "    <tr style=\"text-align: right;\">\n",
       "      <th></th>\n",
       "      <th>user_id</th>\n",
       "      <th>user_gender</th>\n",
       "      <th>country</th>\n",
       "      <th>age_group</th>\n",
       "      <th>traveller_type</th>\n",
       "      <th>join_date</th>\n",
       "    </tr>\n",
       "  </thead>\n",
       "  <tbody>\n",
       "    <tr>\n",
       "      <th>0</th>\n",
       "      <td>1</td>\n",
       "      <td>Female</td>\n",
       "      <td>United Kingdom</td>\n",
       "      <td>35-44</td>\n",
       "      <td>Solo</td>\n",
       "      <td>2024-09-29</td>\n",
       "    </tr>\n",
       "    <tr>\n",
       "      <th>1</th>\n",
       "      <td>2</td>\n",
       "      <td>Male</td>\n",
       "      <td>United Kingdom</td>\n",
       "      <td>25-34</td>\n",
       "      <td>Solo</td>\n",
       "      <td>2023-11-29</td>\n",
       "    </tr>\n",
       "    <tr>\n",
       "      <th>2</th>\n",
       "      <td>3</td>\n",
       "      <td>Female</td>\n",
       "      <td>Mexico</td>\n",
       "      <td>25-34</td>\n",
       "      <td>Family</td>\n",
       "      <td>2022-04-03</td>\n",
       "    </tr>\n",
       "    <tr>\n",
       "      <th>3</th>\n",
       "      <td>4</td>\n",
       "      <td>Male</td>\n",
       "      <td>India</td>\n",
       "      <td>35-44</td>\n",
       "      <td>Family</td>\n",
       "      <td>2023-12-02</td>\n",
       "    </tr>\n",
       "    <tr>\n",
       "      <th>4</th>\n",
       "      <td>5</td>\n",
       "      <td>Other</td>\n",
       "      <td>Japan</td>\n",
       "      <td>25-34</td>\n",
       "      <td>Solo</td>\n",
       "      <td>2021-12-18</td>\n",
       "    </tr>\n",
       "    <tr>\n",
       "      <th>5</th>\n",
       "      <td>6</td>\n",
       "      <td>Male</td>\n",
       "      <td>Brazil</td>\n",
       "      <td>25-34</td>\n",
       "      <td>Couple</td>\n",
       "      <td>2025-06-27</td>\n",
       "    </tr>\n",
       "    <tr>\n",
       "      <th>6</th>\n",
       "      <td>7</td>\n",
       "      <td>Male</td>\n",
       "      <td>United Kingdom</td>\n",
       "      <td>25-34</td>\n",
       "      <td>Business</td>\n",
       "      <td>2022-07-13</td>\n",
       "    </tr>\n",
       "  </tbody>\n",
       "</table>\n",
       "</div>"
      ],
      "text/plain": [
       "   user_id user_gender         country age_group traveller_type   join_date\n",
       "0        1      Female  United Kingdom     35-44           Solo  2024-09-29\n",
       "1        2        Male  United Kingdom     25-34           Solo  2023-11-29\n",
       "2        3      Female          Mexico     25-34         Family  2022-04-03\n",
       "3        4        Male           India     35-44         Family  2023-12-02\n",
       "4        5       Other           Japan     25-34           Solo  2021-12-18\n",
       "5        6        Male          Brazil     25-34         Couple  2025-06-27\n",
       "6        7        Male  United Kingdom     25-34       Business  2022-07-13"
      ]
     },
     "execution_count": 52,
     "metadata": {},
     "output_type": "execute_result"
    }
   ],
   "source": [
    "df_usuarios.head(7)"
   ]
  },
  {
   "cell_type": "code",
   "execution_count": 53,
   "id": "0dba4d89",
   "metadata": {},
   "outputs": [
    {
     "data": {
      "application/vnd.microsoft.datawrangler.viewer.v0+json": {
       "columns": [
        {
         "name": "index",
         "rawType": "int64",
         "type": "integer"
        },
        {
         "name": "review_id",
         "rawType": "int64",
         "type": "integer"
        },
        {
         "name": "user_id",
         "rawType": "int64",
         "type": "integer"
        },
        {
         "name": "hotel_id",
         "rawType": "int64",
         "type": "integer"
        },
        {
         "name": "review_date",
         "rawType": "object",
         "type": "string"
        },
        {
         "name": "score_overall",
         "rawType": "float64",
         "type": "float"
        },
        {
         "name": "score_cleanliness",
         "rawType": "float64",
         "type": "float"
        },
        {
         "name": "score_comfort",
         "rawType": "float64",
         "type": "float"
        },
        {
         "name": "score_facilities",
         "rawType": "float64",
         "type": "float"
        },
        {
         "name": "score_location",
         "rawType": "float64",
         "type": "float"
        },
        {
         "name": "score_staff",
         "rawType": "float64",
         "type": "float"
        },
        {
         "name": "score_value_for_money",
         "rawType": "float64",
         "type": "float"
        },
        {
         "name": "review_text",
         "rawType": "object",
         "type": "string"
        }
       ],
       "ref": "e3fe1ad3-e6d9-4229-b368-a3322cf5ae1b",
       "rows": [
        [
         "0",
         "1",
         "1600",
         "1",
         "2022-10-07",
         "8.7",
         "14.0",
         "8.7",
         "8.5",
         "9.0",
         "8.8",
         null,
         "Practice reduce young our because machine. Recent forget phone fast stuff adult."
        ],
        [
         "1",
         "2",
         "432",
         "4",
         "2020-03-24",
         "9.1",
         "10.0",
         "9.1",
         "9.0",
         "8.6",
         "9.4",
         "8.6",
         "Test cover traditional black. Process tell Mr book skill say age. Goal term office benefit. Brother message four though suddenly food surface."
        ],
        [
         "2",
         "3",
         "186",
         "18",
         "2023-12-18",
         "8.8",
         "9.7",
         "8.8",
         "-3.0",
         "8.7",
         "8.1",
         "8.6",
         "Friend million student social study yeah. Growth its rest represent sell."
        ],
        [
         "3",
         "4",
         "1403",
         "19",
         "2022-06-22",
         "8.9",
         "9.0",
         "8.8",
         "8.5",
         "9.6",
         "9.1",
         "8.3",
         "Huge girl already remain truth behind card. Appear way any ready head it. Against his deep building partner."
        ],
        [
         "4",
         "5",
         "1723",
         "17",
         "2022-07-02",
         "9.1",
         "8.9",
         "9.5",
         "9.3",
         "8.3",
         "9.4",
         "8.9",
         "Cover feeling call community serve television still.\nSome majority weight protect window administration. Approach threat media analysis."
        ],
        [
         "5",
         "6",
         "800",
         "7",
         "2025-08-10",
         "8.7",
         "8.2",
         "8.7",
         "8.1",
         "9.5",
         "9.0",
         "8.8",
         "Truth forget computer current bad billion lead. Happy may west.\nVote democratic food garden star focus. Value ok miss."
        ],
        [
         "6",
         "7",
         "830",
         "23",
         "2022-06-05",
         "8.9",
         "8.1",
         "9.0",
         "8.6",
         "9.6",
         "9.2",
         "8.2",
         "School hour matter. Anyone discover local he team tree call.\nShe role student. His section despite range unit impact suddenly want."
        ]
       ],
       "shape": {
        "columns": 12,
        "rows": 7
       }
      },
      "text/html": [
       "<div>\n",
       "<style scoped>\n",
       "    .dataframe tbody tr th:only-of-type {\n",
       "        vertical-align: middle;\n",
       "    }\n",
       "\n",
       "    .dataframe tbody tr th {\n",
       "        vertical-align: top;\n",
       "    }\n",
       "\n",
       "    .dataframe thead th {\n",
       "        text-align: right;\n",
       "    }\n",
       "</style>\n",
       "<table border=\"1\" class=\"dataframe\">\n",
       "  <thead>\n",
       "    <tr style=\"text-align: right;\">\n",
       "      <th></th>\n",
       "      <th>review_id</th>\n",
       "      <th>user_id</th>\n",
       "      <th>hotel_id</th>\n",
       "      <th>review_date</th>\n",
       "      <th>score_overall</th>\n",
       "      <th>score_cleanliness</th>\n",
       "      <th>score_comfort</th>\n",
       "      <th>score_facilities</th>\n",
       "      <th>score_location</th>\n",
       "      <th>score_staff</th>\n",
       "      <th>score_value_for_money</th>\n",
       "      <th>review_text</th>\n",
       "    </tr>\n",
       "  </thead>\n",
       "  <tbody>\n",
       "    <tr>\n",
       "      <th>0</th>\n",
       "      <td>1</td>\n",
       "      <td>1600</td>\n",
       "      <td>1</td>\n",
       "      <td>2022-10-07</td>\n",
       "      <td>8.7</td>\n",
       "      <td>14.0</td>\n",
       "      <td>8.7</td>\n",
       "      <td>8.5</td>\n",
       "      <td>9.0</td>\n",
       "      <td>8.8</td>\n",
       "      <td>NaN</td>\n",
       "      <td>Practice reduce young our because machine. Rec...</td>\n",
       "    </tr>\n",
       "    <tr>\n",
       "      <th>1</th>\n",
       "      <td>2</td>\n",
       "      <td>432</td>\n",
       "      <td>4</td>\n",
       "      <td>2020-03-24</td>\n",
       "      <td>9.1</td>\n",
       "      <td>10.0</td>\n",
       "      <td>9.1</td>\n",
       "      <td>9.0</td>\n",
       "      <td>8.6</td>\n",
       "      <td>9.4</td>\n",
       "      <td>8.6</td>\n",
       "      <td>Test cover traditional black. Process tell Mr ...</td>\n",
       "    </tr>\n",
       "    <tr>\n",
       "      <th>2</th>\n",
       "      <td>3</td>\n",
       "      <td>186</td>\n",
       "      <td>18</td>\n",
       "      <td>2023-12-18</td>\n",
       "      <td>8.8</td>\n",
       "      <td>9.7</td>\n",
       "      <td>8.8</td>\n",
       "      <td>-3.0</td>\n",
       "      <td>8.7</td>\n",
       "      <td>8.1</td>\n",
       "      <td>8.6</td>\n",
       "      <td>Friend million student social study yeah. Grow...</td>\n",
       "    </tr>\n",
       "    <tr>\n",
       "      <th>3</th>\n",
       "      <td>4</td>\n",
       "      <td>1403</td>\n",
       "      <td>19</td>\n",
       "      <td>2022-06-22</td>\n",
       "      <td>8.9</td>\n",
       "      <td>9.0</td>\n",
       "      <td>8.8</td>\n",
       "      <td>8.5</td>\n",
       "      <td>9.6</td>\n",
       "      <td>9.1</td>\n",
       "      <td>8.3</td>\n",
       "      <td>Huge girl already remain truth behind card. Ap...</td>\n",
       "    </tr>\n",
       "    <tr>\n",
       "      <th>4</th>\n",
       "      <td>5</td>\n",
       "      <td>1723</td>\n",
       "      <td>17</td>\n",
       "      <td>2022-07-02</td>\n",
       "      <td>9.1</td>\n",
       "      <td>8.9</td>\n",
       "      <td>9.5</td>\n",
       "      <td>9.3</td>\n",
       "      <td>8.3</td>\n",
       "      <td>9.4</td>\n",
       "      <td>8.9</td>\n",
       "      <td>Cover feeling call community serve television ...</td>\n",
       "    </tr>\n",
       "    <tr>\n",
       "      <th>5</th>\n",
       "      <td>6</td>\n",
       "      <td>800</td>\n",
       "      <td>7</td>\n",
       "      <td>2025-08-10</td>\n",
       "      <td>8.7</td>\n",
       "      <td>8.2</td>\n",
       "      <td>8.7</td>\n",
       "      <td>8.1</td>\n",
       "      <td>9.5</td>\n",
       "      <td>9.0</td>\n",
       "      <td>8.8</td>\n",
       "      <td>Truth forget computer current bad billion lead...</td>\n",
       "    </tr>\n",
       "    <tr>\n",
       "      <th>6</th>\n",
       "      <td>7</td>\n",
       "      <td>830</td>\n",
       "      <td>23</td>\n",
       "      <td>2022-06-05</td>\n",
       "      <td>8.9</td>\n",
       "      <td>8.1</td>\n",
       "      <td>9.0</td>\n",
       "      <td>8.6</td>\n",
       "      <td>9.6</td>\n",
       "      <td>9.2</td>\n",
       "      <td>8.2</td>\n",
       "      <td>School hour matter. Anyone discover local he t...</td>\n",
       "    </tr>\n",
       "  </tbody>\n",
       "</table>\n",
       "</div>"
      ],
      "text/plain": [
       "   review_id  user_id  hotel_id review_date  score_overall  score_cleanliness  \\\n",
       "0          1     1600         1  2022-10-07            8.7               14.0   \n",
       "1          2      432         4  2020-03-24            9.1               10.0   \n",
       "2          3      186        18  2023-12-18            8.8                9.7   \n",
       "3          4     1403        19  2022-06-22            8.9                9.0   \n",
       "4          5     1723        17  2022-07-02            9.1                8.9   \n",
       "5          6      800         7  2025-08-10            8.7                8.2   \n",
       "6          7      830        23  2022-06-05            8.9                8.1   \n",
       "\n",
       "   score_comfort  score_facilities  score_location  score_staff  \\\n",
       "0            8.7               8.5             9.0          8.8   \n",
       "1            9.1               9.0             8.6          9.4   \n",
       "2            8.8              -3.0             8.7          8.1   \n",
       "3            8.8               8.5             9.6          9.1   \n",
       "4            9.5               9.3             8.3          9.4   \n",
       "5            8.7               8.1             9.5          9.0   \n",
       "6            9.0               8.6             9.6          9.2   \n",
       "\n",
       "   score_value_for_money                                        review_text  \n",
       "0                    NaN  Practice reduce young our because machine. Rec...  \n",
       "1                    8.6  Test cover traditional black. Process tell Mr ...  \n",
       "2                    8.6  Friend million student social study yeah. Grow...  \n",
       "3                    8.3  Huge girl already remain truth behind card. Ap...  \n",
       "4                    8.9  Cover feeling call community serve television ...  \n",
       "5                    8.8  Truth forget computer current bad billion lead...  \n",
       "6                    8.2  School hour matter. Anyone discover local he t...  "
      ]
     },
     "execution_count": 53,
     "metadata": {},
     "output_type": "execute_result"
    }
   ],
   "source": [
    "df_reviews.head(7)"
   ]
  },
  {
   "cell_type": "code",
   "execution_count": 54,
   "id": "2e8ef462",
   "metadata": {},
   "outputs": [
    {
     "data": {
      "application/vnd.microsoft.datawrangler.viewer.v0+json": {
       "columns": [
        {
         "name": "index",
         "rawType": "object",
         "type": "string"
        },
        {
         "name": "0",
         "rawType": "int64",
         "type": "integer"
        }
       ],
       "ref": "0357a178-3ecd-483a-8d63-8bc9d1526e71",
       "rows": [
        [
         "hotel_id",
         "0"
        ],
        [
         "hotel_name",
         "0"
        ],
        [
         "city",
         "1"
        ],
        [
         "country",
         "1"
        ],
        [
         "star_rating",
         "0"
        ],
        [
         "lat",
         "1"
        ],
        [
         "lon",
         "1"
        ],
        [
         "cleanliness_base",
         "1"
        ],
        [
         "comfort_base",
         "1"
        ],
        [
         "facilities_base",
         "1"
        ],
        [
         "location_base",
         "1"
        ],
        [
         "staff_base",
         "0"
        ],
        [
         "value_for_money_base",
         "1"
        ]
       ],
       "shape": {
        "columns": 1,
        "rows": 13
       }
      },
      "text/plain": [
       "hotel_id                0\n",
       "hotel_name              0\n",
       "city                    1\n",
       "country                 1\n",
       "star_rating             0\n",
       "lat                     1\n",
       "lon                     1\n",
       "cleanliness_base        1\n",
       "comfort_base            1\n",
       "facilities_base         1\n",
       "location_base           1\n",
       "staff_base              0\n",
       "value_for_money_base    1\n",
       "dtype: int64"
      ]
     },
     "execution_count": 54,
     "metadata": {},
     "output_type": "execute_result"
    }
   ],
   "source": [
    "# A simple vista se ven valores nulos, antes de limpiarlos procedemos a confirmar su existencia\n",
    "df_hoteles.isnull().sum()"
   ]
  },
  {
   "cell_type": "code",
   "execution_count": 55,
   "id": "e6b68c07",
   "metadata": {},
   "outputs": [
    {
     "data": {
      "application/vnd.microsoft.datawrangler.viewer.v0+json": {
       "columns": [
        {
         "name": "index",
         "rawType": "object",
         "type": "string"
        },
        {
         "name": "0",
         "rawType": "int64",
         "type": "integer"
        }
       ],
       "ref": "616ac277-77b5-4349-9c48-b06d07cd31e1",
       "rows": [
        [
         "user_id",
         "0"
        ],
        [
         "user_gender",
         "0"
        ],
        [
         "country",
         "100"
        ],
        [
         "age_group",
         "0"
        ],
        [
         "traveller_type",
         "99"
        ],
        [
         "join_date",
         "97"
        ]
       ],
       "shape": {
        "columns": 1,
        "rows": 6
       }
      },
      "text/plain": [
       "user_id             0\n",
       "user_gender         0\n",
       "country           100\n",
       "age_group           0\n",
       "traveller_type     99\n",
       "join_date          97\n",
       "dtype: int64"
      ]
     },
     "execution_count": 55,
     "metadata": {},
     "output_type": "execute_result"
    }
   ],
   "source": [
    "# A simple vista se ven valores nulos, antes de limpiarlos procedemos a confirmar su existencia\n",
    "df_usuarios.isnull().sum()"
   ]
  },
  {
   "cell_type": "code",
   "execution_count": 56,
   "id": "d610a063",
   "metadata": {},
   "outputs": [
    {
     "data": {
      "application/vnd.microsoft.datawrangler.viewer.v0+json": {
       "columns": [
        {
         "name": "index",
         "rawType": "object",
         "type": "string"
        },
        {
         "name": "0",
         "rawType": "int64",
         "type": "integer"
        }
       ],
       "ref": "c73b3bd7-e6b6-4cba-9e1f-6ffeda94b27c",
       "rows": [
        [
         "review_id",
         "0"
        ],
        [
         "user_id",
         "0"
        ],
        [
         "hotel_id",
         "0"
        ],
        [
         "review_date",
         "1216"
        ],
        [
         "score_overall",
         "2422"
        ],
        [
         "score_cleanliness",
         "2422"
        ],
        [
         "score_comfort",
         "2422"
        ],
        [
         "score_facilities",
         "2427"
        ],
        [
         "score_location",
         "2435"
        ],
        [
         "score_staff",
         "2416"
        ],
        [
         "score_value_for_money",
         "2427"
        ],
        [
         "review_text",
         "824"
        ]
       ],
       "shape": {
        "columns": 1,
        "rows": 12
       }
      },
      "text/plain": [
       "review_id                   0\n",
       "user_id                     0\n",
       "hotel_id                    0\n",
       "review_date              1216\n",
       "score_overall            2422\n",
       "score_cleanliness        2422\n",
       "score_comfort            2422\n",
       "score_facilities         2427\n",
       "score_location           2435\n",
       "score_staff              2416\n",
       "score_value_for_money    2427\n",
       "review_text               824\n",
       "dtype: int64"
      ]
     },
     "execution_count": 56,
     "metadata": {},
     "output_type": "execute_result"
    }
   ],
   "source": [
    "# A simple vista se ven valores nulos, antes de limpiarlos procedemos a confirmar su existencia\n",
    "df_reviews.isnull().sum()"
   ]
  },
  {
   "cell_type": "code",
   "execution_count": 57,
   "id": "7e85d049",
   "metadata": {},
   "outputs": [
    {
     "data": {
      "text/plain": [
       "600000"
      ]
     },
     "execution_count": 57,
     "metadata": {},
     "output_type": "execute_result"
    }
   ],
   "source": [
    "#Podeos notar que el data frame de las reviews tiene muchisimos valores nulos, sin embargo esto podría deberse por poseer \n",
    "# muchisimos datos. Para ver cuantos datos posee, usamos \".size\":\n",
    "\n",
    "df_reviews.size"
   ]
  },
  {
   "cell_type": "markdown",
   "id": "f1f70407",
   "metadata": {},
   "source": [
    "Dado que todos tienen muchos datos, no es necesario \"preocuparnos\". Procedemos a la limpieza:"
   ]
  },
  {
   "cell_type": "code",
   "execution_count": 58,
   "id": "c3a1162d",
   "metadata": {},
   "outputs": [],
   "source": [
    "df_hoteles = df_hoteles.dropna()\n",
    "df_usuarios = df_usuarios.dropna()\n",
    "df_reviews = df_reviews.dropna()  "
   ]
  },
  {
   "cell_type": "code",
   "execution_count": 59,
   "id": "148f85ea",
   "metadata": {},
   "outputs": [
    {
     "data": {
      "application/vnd.microsoft.datawrangler.viewer.v0+json": {
       "columns": [
        {
         "name": "index",
         "rawType": "object",
         "type": "string"
        },
        {
         "name": "0",
         "rawType": "int64",
         "type": "integer"
        }
       ],
       "ref": "580b1bec-ecf5-4161-80c3-a6de4eb7e658",
       "rows": [
        [
         "hotel_id",
         "0"
        ],
        [
         "hotel_name",
         "0"
        ],
        [
         "city",
         "0"
        ],
        [
         "country",
         "0"
        ],
        [
         "star_rating",
         "0"
        ],
        [
         "lat",
         "0"
        ],
        [
         "lon",
         "0"
        ],
        [
         "cleanliness_base",
         "0"
        ],
        [
         "comfort_base",
         "0"
        ],
        [
         "facilities_base",
         "0"
        ],
        [
         "location_base",
         "0"
        ],
        [
         "staff_base",
         "0"
        ],
        [
         "value_for_money_base",
         "0"
        ]
       ],
       "shape": {
        "columns": 1,
        "rows": 13
       }
      },
      "text/plain": [
       "hotel_id                0\n",
       "hotel_name              0\n",
       "city                    0\n",
       "country                 0\n",
       "star_rating             0\n",
       "lat                     0\n",
       "lon                     0\n",
       "cleanliness_base        0\n",
       "comfort_base            0\n",
       "facilities_base         0\n",
       "location_base           0\n",
       "staff_base              0\n",
       "value_for_money_base    0\n",
       "dtype: int64"
      ]
     },
     "execution_count": 59,
     "metadata": {},
     "output_type": "execute_result"
    }
   ],
   "source": [
    "df_hoteles.isnull().sum()"
   ]
  },
  {
   "cell_type": "code",
   "execution_count": 60,
   "id": "f2732763",
   "metadata": {},
   "outputs": [
    {
     "data": {
      "application/vnd.microsoft.datawrangler.viewer.v0+json": {
       "columns": [
        {
         "name": "index",
         "rawType": "object",
         "type": "string"
        },
        {
         "name": "0",
         "rawType": "int64",
         "type": "integer"
        }
       ],
       "ref": "b3b54b14-ee5c-4725-bac8-2f49a45e200f",
       "rows": [
        [
         "user_id",
         "0"
        ],
        [
         "user_gender",
         "0"
        ],
        [
         "country",
         "0"
        ],
        [
         "age_group",
         "0"
        ],
        [
         "traveller_type",
         "0"
        ],
        [
         "join_date",
         "0"
        ]
       ],
       "shape": {
        "columns": 1,
        "rows": 6
       }
      },
      "text/plain": [
       "user_id           0\n",
       "user_gender       0\n",
       "country           0\n",
       "age_group         0\n",
       "traveller_type    0\n",
       "join_date         0\n",
       "dtype: int64"
      ]
     },
     "execution_count": 60,
     "metadata": {},
     "output_type": "execute_result"
    }
   ],
   "source": [
    "df_usuarios.isnull().sum()"
   ]
  },
  {
   "cell_type": "code",
   "execution_count": 61,
   "id": "16b7b993",
   "metadata": {},
   "outputs": [
    {
     "data": {
      "application/vnd.microsoft.datawrangler.viewer.v0+json": {
       "columns": [
        {
         "name": "index",
         "rawType": "object",
         "type": "string"
        },
        {
         "name": "0",
         "rawType": "int64",
         "type": "integer"
        }
       ],
       "ref": "86607cd8-1534-4b51-8704-16c847c8ac0a",
       "rows": [
        [
         "review_id",
         "0"
        ],
        [
         "user_id",
         "0"
        ],
        [
         "hotel_id",
         "0"
        ],
        [
         "review_date",
         "0"
        ],
        [
         "score_overall",
         "0"
        ],
        [
         "score_cleanliness",
         "0"
        ],
        [
         "score_comfort",
         "0"
        ],
        [
         "score_facilities",
         "0"
        ],
        [
         "score_location",
         "0"
        ],
        [
         "score_staff",
         "0"
        ],
        [
         "score_value_for_money",
         "0"
        ],
        [
         "review_text",
         "0"
        ]
       ],
       "shape": {
        "columns": 1,
        "rows": 12
       }
      },
      "text/plain": [
       "review_id                0\n",
       "user_id                  0\n",
       "hotel_id                 0\n",
       "review_date              0\n",
       "score_overall            0\n",
       "score_cleanliness        0\n",
       "score_comfort            0\n",
       "score_facilities         0\n",
       "score_location           0\n",
       "score_staff              0\n",
       "score_value_for_money    0\n",
       "review_text              0\n",
       "dtype: int64"
      ]
     },
     "execution_count": 61,
     "metadata": {},
     "output_type": "execute_result"
    }
   ],
   "source": [
    "df_reviews.isnull().sum()"
   ]
  },
  {
   "cell_type": "markdown",
   "id": "74b41296",
   "metadata": {},
   "source": [
    "### a) Analice y describa la relación entre el puntaje global entregado por los usuarios y los sub-puntajes de las distintas dimensiones de la reseña, es decir, cómo se calcula. Evalúe en qué medida ambos son consistentes y comente posibles discrepancias."
   ]
  },
  {
   "cell_type": "code",
   "execution_count": 62,
   "id": "1c96ff0e",
   "metadata": {},
   "outputs": [
    {
     "data": {
      "text/plain": [
       "Index(['review_id', 'user_id', 'hotel_id', 'review_date', 'score_overall',\n",
       "       'score_cleanliness', 'score_comfort', 'score_facilities',\n",
       "       'score_location', 'score_staff', 'score_value_for_money',\n",
       "       'review_text'],\n",
       "      dtype='object')"
      ]
     },
     "execution_count": 62,
     "metadata": {},
     "output_type": "execute_result"
    }
   ],
   "source": [
    "# Veamos nuevamente las columnas para verificar cuales son las de \"score\" correspondientes a los calculos\n",
    "df_reviews.columns"
   ]
  },
  {
   "cell_type": "code",
   "execution_count": 63,
   "id": "0f4420a1",
   "metadata": {},
   "outputs": [],
   "source": [
    "def calculo(fila):\n",
    "    puntaje = (fila[\"score_cleanliness\"] + fila[\"score_comfort\"] + fila[\"score_facilities\"] + fila[\"score_location\"] + fila[\"score_staff\"] + fila[\"score_value_for_money\"]) / 5\n",
    "    puntaje = float(puntaje)\n",
    "    return list(range(int(puntaje)-1,int(puntaje)+2))"
   ]
  },
  {
   "cell_type": "code",
   "execution_count": 64,
   "id": "42401b21",
   "metadata": {},
   "outputs": [
    {
     "data": {
      "application/vnd.microsoft.datawrangler.viewer.v0+json": {
       "columns": [
        {
         "name": "index",
         "rawType": "int64",
         "type": "integer"
        },
        {
         "name": "0",
         "rawType": "object",
         "type": "unknown"
        }
       ],
       "ref": "dffd963b-996c-482c-b43f-dfd40fe5d5aa",
       "rows": [
        [
         "1",
         "[9, 10, 11]"
        ],
        [
         "2",
         "[7, 8, 9]"
        ],
        [
         "3",
         "[9, 10, 11]"
        ],
        [
         "4",
         "[9, 10, 11]"
        ],
        [
         "5",
         "[9, 10, 11]"
        ],
        [
         "6",
         "[9, 10, 11]"
        ],
        [
         "7",
         "[9, 10, 11]"
        ],
        [
         "9",
         "[7, 8, 9]"
        ],
        [
         "10",
         "[9, 10, 11]"
        ],
        [
         "11",
         "[9, 10, 11]"
        ],
        [
         "12",
         "[9, 10, 11]"
        ],
        [
         "13",
         "[9, 10, 11]"
        ],
        [
         "14",
         "[9, 10, 11]"
        ],
        [
         "16",
         "[9, 10, 11]"
        ],
        [
         "17",
         "[9, 10, 11]"
        ],
        [
         "21",
         "[9, 10, 11]"
        ],
        [
         "23",
         "[9, 10, 11]"
        ],
        [
         "25",
         "[7, 8, 9]"
        ],
        [
         "26",
         "[9, 10, 11]"
        ],
        [
         "28",
         "[9, 10, 11]"
        ],
        [
         "29",
         "[7, 8, 9]"
        ],
        [
         "31",
         "[9, 10, 11]"
        ],
        [
         "32",
         "[10, 11, 12]"
        ],
        [
         "33",
         "[9, 10, 11]"
        ],
        [
         "36",
         "[9, 10, 11]"
        ],
        [
         "37",
         "[9, 10, 11]"
        ],
        [
         "38",
         "[9, 10, 11]"
        ],
        [
         "39",
         "[9, 10, 11]"
        ],
        [
         "41",
         "[9, 10, 11]"
        ],
        [
         "42",
         "[10, 11, 12]"
        ],
        [
         "43",
         "[9, 10, 11]"
        ],
        [
         "45",
         "[10, 11, 12]"
        ],
        [
         "49",
         "[10, 11, 12]"
        ],
        [
         "52",
         "[7, 8, 9]"
        ],
        [
         "54",
         "[9, 10, 11]"
        ],
        [
         "55",
         "[9, 10, 11]"
        ],
        [
         "56",
         "[9, 10, 11]"
        ],
        [
         "57",
         "[9, 10, 11]"
        ],
        [
         "58",
         "[9, 10, 11]"
        ],
        [
         "59",
         "[9, 10, 11]"
        ],
        [
         "61",
         "[10, 11, 12]"
        ],
        [
         "63",
         "[10, 11, 12]"
        ],
        [
         "65",
         "[9, 10, 11]"
        ],
        [
         "67",
         "[9, 10, 11]"
        ],
        [
         "68",
         "[9, 10, 11]"
        ],
        [
         "69",
         "[9, 10, 11]"
        ],
        [
         "70",
         "[9, 10, 11]"
        ],
        [
         "71",
         "[9, 10, 11]"
        ],
        [
         "72",
         "[10, 11, 12]"
        ],
        [
         "73",
         "[9, 10, 11]"
        ]
       ],
       "shape": {
        "columns": 1,
        "rows": 33924
       }
      },
      "text/plain": [
       "1         [9, 10, 11]\n",
       "2           [7, 8, 9]\n",
       "3         [9, 10, 11]\n",
       "4         [9, 10, 11]\n",
       "5         [9, 10, 11]\n",
       "             ...     \n",
       "49993       [7, 8, 9]\n",
       "49994     [9, 10, 11]\n",
       "49995      [8, 9, 10]\n",
       "49996     [9, 10, 11]\n",
       "49999    [10, 11, 12]\n",
       "Length: 33924, dtype: object"
      ]
     },
     "execution_count": 64,
     "metadata": {},
     "output_type": "execute_result"
    }
   ],
   "source": [
    "df_reviews.apply(calculo, axis=1)"
   ]
  },
  {
   "cell_type": "markdown",
   "id": "9e2f832c",
   "metadata": {},
   "source": [
    "Para ver como están calculado el overall score a partir de los demás tipos de score una forma rápida seía suponer que el overall corresponde al promedio ponderado de los demás score. Verifiquemos si es cierto. "
   ]
  },
  {
   "cell_type": "code",
   "execution_count": 65,
   "id": "1a7e6c23",
   "metadata": {},
   "outputs": [],
   "source": [
    "# Supongamos que el score_overall es el puntaje ponderado\n",
    "def calculo_puntaje(fila, rango):\n",
    "    puntaje = (fila[\"score_cleanliness\"] + fila[\"score_comfort\"] + fila[\"score_facilities\"] + fila[\"score_location\"] + fila[\"score_staff\"] + fila[\"score_value_for_money\"]) / 5\n",
    "    if abs(fila[\"score_overall\"] - puntaje) <= rango:\n",
    "        return True\n",
    "    else:\n",
    "        return False"
   ]
  },
  {
   "cell_type": "code",
   "execution_count": 66,
   "id": "1890eb27",
   "metadata": {},
   "outputs": [
    {
     "name": "stdout",
     "output_type": "stream",
     "text": [
      "True: 450\n",
      "False: 33474\n"
     ]
    }
   ],
   "source": [
    "contador_true = 0\n",
    "contador_false = 0\n",
    "rango = 0.5 \n",
    "for _, fila in df_reviews.iterrows():\n",
    "    if calculo_puntaje(fila, rango):\n",
    "        contador_true += 1\n",
    "    else:\n",
    "        contador_false += 1\n",
    "print(f\"True: {contador_true}\")\n",
    "print(f\"False: {contador_false}\")"
   ]
  },
  {
   "cell_type": "markdown",
   "id": "6bac8de1",
   "metadata": {},
   "source": [
    "Claramente el puntaje no es el promedio ponderado. Probemos entonces con el Promedio Aritmetico."
   ]
  },
  {
   "cell_type": "code",
   "execution_count": 67,
   "id": "f551361b",
   "metadata": {},
   "outputs": [],
   "source": [
    "# Supongamos que el score_overall es el puntaje ponderado\n",
    "def calculo_puntaje(fila, rango):\n",
    "    puntaje = (fila[\"score_cleanliness\"]* 0.2 + fila[\"score_comfort\"]* 0.1 + fila[\"score_facilities\"]*0.15 + fila[\"score_location\"]*0.2 + fila[\"score_staff\"]*0.2 + fila[\"score_value_for_money\"]*0.15) / 5\n",
    "    if abs(fila[\"score_overall\"] - puntaje) <= rango:\n",
    "        return True\n",
    "    else:\n",
    "        return False"
   ]
  },
  {
   "cell_type": "code",
   "execution_count": 68,
   "id": "fb96543e",
   "metadata": {},
   "outputs": [
    {
     "name": "stdout",
     "output_type": "stream",
     "text": [
      "True: 0\n",
      "False: 33924\n"
     ]
    }
   ],
   "source": [
    "contador_true = 0\n",
    "contador_false = 0\n",
    "rango = 0.5 \n",
    "for _, fila in df_reviews.iterrows():\n",
    "    if calculo_puntaje(fila, rango):\n",
    "        contador_true += 1\n",
    "    else:\n",
    "        contador_false += 1\n",
    "print(f\"True: {contador_true}\")\n",
    "print(f\"False: {contador_false}\")"
   ]
  },
  {
   "cell_type": "markdown",
   "id": "b667e2f0",
   "metadata": {},
   "source": [
    "Tuvimos ahora un peor escenario. Probemos entonces con Promedio geometrico. "
   ]
  },
  {
   "cell_type": "code",
   "execution_count": 69,
   "id": "854dd6b5",
   "metadata": {},
   "outputs": [],
   "source": [
    "def calculo_puntaje(fila, rango):\n",
    "    scores = [\n",
    "        fila[\"score_cleanliness\"],\n",
    "        fila[\"score_comfort\"],\n",
    "        fila[\"score_facilities\"],\n",
    "        fila[\"score_location\"],\n",
    "        fila[\"score_staff\"],\n",
    "        fila[\"score_value_for_money\"]\n",
    "    ]\n",
    "    producto = 1\n",
    "    n = len(scores)\n",
    "    for s in scores:\n",
    "        producto *= s\n",
    "    puntaje_geo = producto ** (1/n)\n",
    "    if abs(fila[\"score_overall\"] - puntaje_geo) <= rango:\n",
    "        return True\n",
    "    else:\n",
    "        return False"
   ]
  },
  {
   "cell_type": "code",
   "execution_count": 70,
   "id": "6f7f49bf",
   "metadata": {},
   "outputs": [
    {
     "name": "stdout",
     "output_type": "stream",
     "text": [
      "True: 27341\n",
      "False: 6583\n"
     ]
    }
   ],
   "source": [
    "contador_true = 0\n",
    "contador_false = 0\n",
    "rango = 0.5\n",
    "for _, fila in df_reviews.iterrows():\n",
    "    if calculo_puntaje(fila, rango):\n",
    "        contador_true += 1\n",
    "    else:\n",
    "        contador_false += 1\n",
    "print(f\"True: {contador_true}\")\n",
    "print(f\"False: {contador_false}\")"
   ]
  },
  {
   "cell_type": "markdown",
   "id": "bc07e17c",
   "metadata": {},
   "source": [
    "Hay un escenario muchisimo mejor."
   ]
  },
  {
   "cell_type": "markdown",
   "id": "0e64d469",
   "metadata": {},
   "source": [
    "### ¿Son consistentes?"
   ]
  },
  {
   "cell_type": "markdown",
   "id": "f1820d35",
   "metadata": {},
   "source": [
    "Analizemoslo más directo con las correlación de cada uno y el overall score. "
   ]
  },
  {
   "cell_type": "code",
   "execution_count": 71,
   "id": "dfebcb26",
   "metadata": {},
   "outputs": [
    {
     "data": {
      "text/plain": [
       "Index(['review_id', 'user_id', 'hotel_id', 'review_date', 'score_overall',\n",
       "       'score_cleanliness', 'score_comfort', 'score_facilities',\n",
       "       'score_location', 'score_staff', 'score_value_for_money',\n",
       "       'review_text'],\n",
       "      dtype='object')"
      ]
     },
     "execution_count": 71,
     "metadata": {},
     "output_type": "execute_result"
    }
   ],
   "source": [
    "#Para ver más directo las columnas\n",
    "df_reviews.columns"
   ]
  },
  {
   "cell_type": "code",
   "execution_count": 72,
   "id": "19f7b74b",
   "metadata": {},
   "outputs": [
    {
     "data": {
      "text/plain": [
       "{'score_cleanliness': 0.017320404136259196,\n",
       " 'score_comfort': 0.017667584911058135,\n",
       " 'score_facilities': 0.020953018099153276,\n",
       " 'score_location': 0.004167190488576599,\n",
       " 'score_staff': 0.006415780582333479,\n",
       " 'score_value_for_money': 0.013233624426439536}"
      ]
     },
     "execution_count": 72,
     "metadata": {},
     "output_type": "execute_result"
    }
   ],
   "source": [
    "# Calculemos la correlación de cada sub-puntaje con score_overall\n",
    "columnas = ['score_cleanliness', 'score_comfort', 'score_facilities', 'score_location', 'score_staff', 'score_value_for_money']\n",
    "correlaciones = {}\n",
    "for columna in columnas:\n",
    "    correlaciones[columna] = df_reviews['score_overall'].corr(df_reviews[columna])\n",
    "correlaciones"
   ]
  },
  {
   "cell_type": "code",
   "execution_count": 73,
   "id": "5927d711",
   "metadata": {},
   "outputs": [
    {
     "data": {
      "image/png": "[encoded data removed]",
      "text/plain": [
       "<Figure size 800x600 with 2 Axes>"
      ]
     },
     "metadata": {},
     "output_type": "display_data"
    }
   ],
   "source": [
    "matriz_corr = df_reviews[columnas].corr()\n",
    "\n",
    "plt.figure(figsize=(8,6))\n",
    "sns.heatmap(matriz_corr, annot=True, cmap=\"coolwarm\", vmin=-1, vmax=1, fmt=\".2f\")\n",
    "plt.title(\"Matriz de Correlaciones\")\n",
    "plt.show()"
   ]
  },
  {
   "cell_type": "markdown",
   "id": "66144bc2",
   "metadata": {},
   "source": [
    "### Comente estos resultados"
   ]
  },
  {
   "cell_type": "markdown",
   "id": "fc182027",
   "metadata": {},
   "source": [
    "### b) Compare el desempeño observado de los hoteles con los puntajes de referencia que estos poseen en cada dimensión. Genere un índice que capture la diferencia entre ambas mediciones y determine qué hoteles aparecen sistemáticamente mejor o peor evaluados que su base."
   ]
  },
  {
   "cell_type": "code",
   "execution_count": 74,
   "id": "12c70ce4",
   "metadata": {},
   "outputs": [
    {
     "data": {
      "text/plain": [
       "Index(['hotel_id', 'hotel_name', 'city', 'country', 'star_rating', 'lat',\n",
       "       'lon', 'cleanliness_base', 'comfort_base', 'facilities_base',\n",
       "       'location_base', 'staff_base', 'value_for_money_base'],\n",
       "      dtype='object')"
      ]
     },
     "execution_count": 74,
     "metadata": {},
     "output_type": "execute_result"
    }
   ],
   "source": [
    "df_hoteles.columns"
   ]
  },
  {
   "cell_type": "code",
   "execution_count": 75,
   "id": "d004f49d",
   "metadata": {},
   "outputs": [
    {
     "data": {
      "text/plain": [
       "Index(['review_id', 'user_id', 'hotel_id', 'review_date', 'score_overall',\n",
       "       'score_cleanliness', 'score_comfort', 'score_facilities',\n",
       "       'score_location', 'score_staff', 'score_value_for_money',\n",
       "       'review_text'],\n",
       "      dtype='object')"
      ]
     },
     "execution_count": 75,
     "metadata": {},
     "output_type": "execute_result"
    }
   ],
   "source": [
    "df_reviews.columns"
   ]
  },
  {
   "cell_type": "code",
   "execution_count": 76,
   "id": "8aedaa08",
   "metadata": {},
   "outputs": [
    {
     "data": {
      "text/plain": [
       "234"
      ]
     },
     "execution_count": 76,
     "metadata": {},
     "output_type": "execute_result"
    }
   ],
   "source": [
    "df_hoteles.size"
   ]
  },
  {
   "cell_type": "code",
   "execution_count": 77,
   "id": "2e902c8c",
   "metadata": {},
   "outputs": [
    {
     "data": {
      "text/plain": [
       "407088"
      ]
     },
     "execution_count": 77,
     "metadata": {},
     "output_type": "execute_result"
    }
   ],
   "source": [
    "df_reviews.size"
   ]
  },
  {
   "cell_type": "code",
   "execution_count": 78,
   "id": "585ab25d",
   "metadata": {},
   "outputs": [],
   "source": [
    "df_hoteles_reviews = pd.merge(df_hoteles, df_reviews, left_on='hotel_id', right_on='hotel_id')"
   ]
  },
  {
   "cell_type": "code",
   "execution_count": 79,
   "id": "f9eecad6",
   "metadata": {},
   "outputs": [
    {
     "data": {
      "application/vnd.microsoft.datawrangler.viewer.v0+json": {
       "columns": [
        {
         "name": "index",
         "rawType": "int64",
         "type": "integer"
        },
        {
         "name": "hotel_id",
         "rawType": "int64",
         "type": "integer"
        },
        {
         "name": "hotel_name",
         "rawType": "object",
         "type": "string"
        },
        {
         "name": "city",
         "rawType": "object",
         "type": "string"
        },
        {
         "name": "country",
         "rawType": "object",
         "type": "string"
        },
        {
         "name": "star_rating",
         "rawType": "int64",
         "type": "integer"
        },
        {
         "name": "lat",
         "rawType": "float64",
         "type": "float"
        },
        {
         "name": "lon",
         "rawType": "float64",
         "type": "float"
        },
        {
         "name": "cleanliness_base",
         "rawType": "float64",
         "type": "float"
        },
        {
         "name": "comfort_base",
         "rawType": "float64",
         "type": "float"
        },
        {
         "name": "facilities_base",
         "rawType": "float64",
         "type": "float"
        },
        {
         "name": "location_base",
         "rawType": "float64",
         "type": "float"
        },
        {
         "name": "staff_base",
         "rawType": "float64",
         "type": "float"
        },
        {
         "name": "value_for_money_base",
         "rawType": "float64",
         "type": "float"
        },
        {
         "name": "review_id",
         "rawType": "int64",
         "type": "integer"
        },
        {
         "name": "user_id",
         "rawType": "int64",
         "type": "integer"
        },
        {
         "name": "review_date",
         "rawType": "object",
         "type": "string"
        },
        {
         "name": "score_overall",
         "rawType": "float64",
         "type": "float"
        },
        {
         "name": "score_cleanliness",
         "rawType": "float64",
         "type": "float"
        },
        {
         "name": "score_comfort",
         "rawType": "float64",
         "type": "float"
        },
        {
         "name": "score_facilities",
         "rawType": "float64",
         "type": "float"
        },
        {
         "name": "score_location",
         "rawType": "float64",
         "type": "float"
        },
        {
         "name": "score_staff",
         "rawType": "float64",
         "type": "float"
        },
        {
         "name": "score_value_for_money",
         "rawType": "float64",
         "type": "float"
        },
        {
         "name": "review_text",
         "rawType": "object",
         "type": "string"
        }
       ],
       "ref": "b2e5d9be-051b-4e6c-9dca-60975322caf5",
       "rows": [
        [
         "0",
         "2",
         "The Royal Compass",
         "London",
         "United Kingdom",
         "5",
         "51.5072",
         "-0.1276",
         "9.0",
         "9.2",
         "8.8",
         "9.4",
         "9.0",
         "7.9",
         "22",
         "1722",
         "2024-10-27",
         "9.1",
         "9.3",
         "9.4",
         "9.6",
         "8.9",
         "8.9",
         "8.2",
         "Notice bit put ability open. Crime relate any quite. Represent big area near current poor."
        ],
        [
         "1",
         "2",
         "The Royal Compass",
         "London",
         "United Kingdom",
         "5",
         "51.5072",
         "-0.1276",
         "9.0",
         "9.2",
         "8.8",
         "9.4",
         "9.0",
         "7.9",
         "114",
         "1840",
         "2022-04-14",
         "8.9",
         "8.9",
         "9.5",
         "8.7",
         "8.6",
         "9.5",
         "8.4",
         "South already list away blue free analysis popular. Walk tax government available Mr always little year. Citizen both fact recognize."
        ],
        [
         "2",
         "2",
         "The Royal Compass",
         "London",
         "United Kingdom",
         "5",
         "51.5072",
         "-0.1276",
         "9.0",
         "9.2",
         "8.8",
         "9.4",
         "9.0",
         "7.9",
         "115",
         "984",
         "2020-07-28",
         "9.1",
         "8.9",
         "9.2",
         "9.6",
         "9.2",
         "9.1",
         "8.4",
         "Leg painting information than green small ground leave. Physical century push draw exist. Today more society store teacher well deep."
        ],
        [
         "3",
         "2",
         "The Royal Compass",
         "London",
         "United Kingdom",
         "5",
         "51.5072",
         "-0.1276",
         "9.0",
         "9.2",
         "8.8",
         "9.4",
         "9.0",
         "7.9",
         "131",
         "1041",
         "2023-05-12",
         "9.1",
         "9.4",
         "9.5",
         "9.2",
         "8.5",
         "9.4",
         "8.2",
         "Before decision environmental word capital Democrat surface. Current organization let political class process."
        ],
        [
         "4",
         "2",
         "The Royal Compass",
         "London",
         "United Kingdom",
         "5",
         "51.5072",
         "-0.1276",
         "9.0",
         "9.2",
         "8.8",
         "9.4",
         "9.0",
         "7.9",
         "141",
         "1163",
         "2025-11-13",
         "8.9",
         "-3.0",
         "9.5",
         "8.4",
         "-3.0",
         "8.2",
         "7.6",
         "Yeah on play operation notice form much hundred. Argue early happy ok watch choose.\nIf task television. Cut party glass if. Decide offer return unit."
        ]
       ],
       "shape": {
        "columns": 24,
        "rows": 5
       }
      },
      "text/html": [
       "<div>\n",
       "<style scoped>\n",
       "    .dataframe tbody tr th:only-of-type {\n",
       "        vertical-align: middle;\n",
       "    }\n",
       "\n",
       "    .dataframe tbody tr th {\n",
       "        vertical-align: top;\n",
       "    }\n",
       "\n",
       "    .dataframe thead th {\n",
       "        text-align: right;\n",
       "    }\n",
       "</style>\n",
       "<table border=\"1\" class=\"dataframe\">\n",
       "  <thead>\n",
       "    <tr style=\"text-align: right;\">\n",
       "      <th></th>\n",
       "      <th>hotel_id</th>\n",
       "      <th>hotel_name</th>\n",
       "      <th>city</th>\n",
       "      <th>country</th>\n",
       "      <th>star_rating</th>\n",
       "      <th>lat</th>\n",
       "      <th>lon</th>\n",
       "      <th>cleanliness_base</th>\n",
       "      <th>comfort_base</th>\n",
       "      <th>facilities_base</th>\n",
       "      <th>...</th>\n",
       "      <th>user_id</th>\n",
       "      <th>review_date</th>\n",
       "      <th>score_overall</th>\n",
       "      <th>score_cleanliness</th>\n",
       "      <th>score_comfort</th>\n",
       "      <th>score_facilities</th>\n",
       "      <th>score_location</th>\n",
       "      <th>score_staff</th>\n",
       "      <th>score_value_for_money</th>\n",
       "      <th>review_text</th>\n",
       "    </tr>\n",
       "  </thead>\n",
       "  <tbody>\n",
       "    <tr>\n",
       "      <th>0</th>\n",
       "      <td>2</td>\n",
       "      <td>The Royal Compass</td>\n",
       "      <td>London</td>\n",
       "      <td>United Kingdom</td>\n",
       "      <td>5</td>\n",
       "      <td>51.5072</td>\n",
       "      <td>-0.1276</td>\n",
       "      <td>9.0</td>\n",
       "      <td>9.2</td>\n",
       "      <td>8.8</td>\n",
       "      <td>...</td>\n",
       "      <td>1722</td>\n",
       "      <td>2024-10-27</td>\n",
       "      <td>9.1</td>\n",
       "      <td>9.3</td>\n",
       "      <td>9.4</td>\n",
       "      <td>9.6</td>\n",
       "      <td>8.9</td>\n",
       "      <td>8.9</td>\n",
       "      <td>8.2</td>\n",
       "      <td>Notice bit put ability open. Crime relate any ...</td>\n",
       "    </tr>\n",
       "    <tr>\n",
       "      <th>1</th>\n",
       "      <td>2</td>\n",
       "      <td>The Royal Compass</td>\n",
       "      <td>London</td>\n",
       "      <td>United Kingdom</td>\n",
       "      <td>5</td>\n",
       "      <td>51.5072</td>\n",
       "      <td>-0.1276</td>\n",
       "      <td>9.0</td>\n",
       "      <td>9.2</td>\n",
       "      <td>8.8</td>\n",
       "      <td>...</td>\n",
       "      <td>1840</td>\n",
       "      <td>2022-04-14</td>\n",
       "      <td>8.9</td>\n",
       "      <td>8.9</td>\n",
       "      <td>9.5</td>\n",
       "      <td>8.7</td>\n",
       "      <td>8.6</td>\n",
       "      <td>9.5</td>\n",
       "      <td>8.4</td>\n",
       "      <td>South already list away blue free analysis pop...</td>\n",
       "    </tr>\n",
       "    <tr>\n",
       "      <th>2</th>\n",
       "      <td>2</td>\n",
       "      <td>The Royal Compass</td>\n",
       "      <td>London</td>\n",
       "      <td>United Kingdom</td>\n",
       "      <td>5</td>\n",
       "      <td>51.5072</td>\n",
       "      <td>-0.1276</td>\n",
       "      <td>9.0</td>\n",
       "      <td>9.2</td>\n",
       "      <td>8.8</td>\n",
       "      <td>...</td>\n",
       "      <td>984</td>\n",
       "      <td>2020-07-28</td>\n",
       "      <td>9.1</td>\n",
       "      <td>8.9</td>\n",
       "      <td>9.2</td>\n",
       "      <td>9.6</td>\n",
       "      <td>9.2</td>\n",
       "      <td>9.1</td>\n",
       "      <td>8.4</td>\n",
       "      <td>Leg painting information than green small grou...</td>\n",
       "    </tr>\n",
       "    <tr>\n",
       "      <th>3</th>\n",
       "      <td>2</td>\n",
       "      <td>The Royal Compass</td>\n",
       "      <td>London</td>\n",
       "      <td>United Kingdom</td>\n",
       "      <td>5</td>\n",
       "      <td>51.5072</td>\n",
       "      <td>-0.1276</td>\n",
       "      <td>9.0</td>\n",
       "      <td>9.2</td>\n",
       "      <td>8.8</td>\n",
       "      <td>...</td>\n",
       "      <td>1041</td>\n",
       "      <td>2023-05-12</td>\n",
       "      <td>9.1</td>\n",
       "      <td>9.4</td>\n",
       "      <td>9.5</td>\n",
       "      <td>9.2</td>\n",
       "      <td>8.5</td>\n",
       "      <td>9.4</td>\n",
       "      <td>8.2</td>\n",
       "      <td>Before decision environmental word capital Dem...</td>\n",
       "    </tr>\n",
       "    <tr>\n",
       "      <th>4</th>\n",
       "      <td>2</td>\n",
       "      <td>The Royal Compass</td>\n",
       "      <td>London</td>\n",
       "      <td>United Kingdom</td>\n",
       "      <td>5</td>\n",
       "      <td>51.5072</td>\n",
       "      <td>-0.1276</td>\n",
       "      <td>9.0</td>\n",
       "      <td>9.2</td>\n",
       "      <td>8.8</td>\n",
       "      <td>...</td>\n",
       "      <td>1163</td>\n",
       "      <td>2025-11-13</td>\n",
       "      <td>8.9</td>\n",
       "      <td>-3.0</td>\n",
       "      <td>9.5</td>\n",
       "      <td>8.4</td>\n",
       "      <td>-3.0</td>\n",
       "      <td>8.2</td>\n",
       "      <td>7.6</td>\n",
       "      <td>Yeah on play operation notice form much hundre...</td>\n",
       "    </tr>\n",
       "  </tbody>\n",
       "</table>\n",
       "<p>5 rows × 24 columns</p>\n",
       "</div>"
      ],
      "text/plain": [
       "   hotel_id         hotel_name    city         country  star_rating      lat  \\\n",
       "0         2  The Royal Compass  London  United Kingdom            5  51.5072   \n",
       "1         2  The Royal Compass  London  United Kingdom            5  51.5072   \n",
       "2         2  The Royal Compass  London  United Kingdom            5  51.5072   \n",
       "3         2  The Royal Compass  London  United Kingdom            5  51.5072   \n",
       "4         2  The Royal Compass  London  United Kingdom            5  51.5072   \n",
       "\n",
       "      lon  cleanliness_base  comfort_base  facilities_base  ...  user_id  \\\n",
       "0 -0.1276               9.0           9.2              8.8  ...     1722   \n",
       "1 -0.1276               9.0           9.2              8.8  ...     1840   \n",
       "2 -0.1276               9.0           9.2              8.8  ...      984   \n",
       "3 -0.1276               9.0           9.2              8.8  ...     1041   \n",
       "4 -0.1276               9.0           9.2              8.8  ...     1163   \n",
       "\n",
       "   review_date  score_overall  score_cleanliness  score_comfort  \\\n",
       "0   2024-10-27            9.1                9.3            9.4   \n",
       "1   2022-04-14            8.9                8.9            9.5   \n",
       "2   2020-07-28            9.1                8.9            9.2   \n",
       "3   2023-05-12            9.1                9.4            9.5   \n",
       "4   2025-11-13            8.9               -3.0            9.5   \n",
       "\n",
       "  score_facilities  score_location  score_staff  score_value_for_money  \\\n",
       "0              9.6             8.9          8.9                    8.2   \n",
       "1              8.7             8.6          9.5                    8.4   \n",
       "2              9.6             9.2          9.1                    8.4   \n",
       "3              9.2             8.5          9.4                    8.2   \n",
       "4              8.4            -3.0          8.2                    7.6   \n",
       "\n",
       "                                         review_text  \n",
       "0  Notice bit put ability open. Crime relate any ...  \n",
       "1  South already list away blue free analysis pop...  \n",
       "2  Leg painting information than green small grou...  \n",
       "3  Before decision environmental word capital Dem...  \n",
       "4  Yeah on play operation notice form much hundre...  \n",
       "\n",
       "[5 rows x 24 columns]"
      ]
     },
     "execution_count": 79,
     "metadata": {},
     "output_type": "execute_result"
    }
   ],
   "source": [
    "df_hoteles_reviews.head()"
   ]
  },
  {
   "cell_type": "code",
   "execution_count": 80,
   "id": "db0ee10f",
   "metadata": {},
   "outputs": [
    {
     "data": {
      "text/plain": [
       "Index(['hotel_id', 'hotel_name', 'city', 'country', 'star_rating', 'lat',\n",
       "       'lon', 'cleanliness_base', 'comfort_base', 'facilities_base',\n",
       "       'location_base', 'staff_base', 'value_for_money_base', 'review_id',\n",
       "       'user_id', 'review_date', 'score_overall', 'score_cleanliness',\n",
       "       'score_comfort', 'score_facilities', 'score_location', 'score_staff',\n",
       "       'score_value_for_money', 'review_text'],\n",
       "      dtype='object')"
      ]
     },
     "execution_count": 80,
     "metadata": {},
     "output_type": "execute_result"
    }
   ],
   "source": [
    "df_hoteles_reviews.columns"
   ]
  },
  {
   "cell_type": "code",
   "execution_count": 81,
   "id": "c2a35e8f",
   "metadata": {},
   "outputs": [],
   "source": [
    "df_agrupado = df_hoteles_reviews.groupby(['hotel_id','cleanliness_base','comfort_base','facilities_base','location_base','staff_base','value_for_money_base'])[['score_cleanliness', 'score_comfort', 'score_facilities', 'score_location', 'score_staff', 'score_value_for_money', 'score_overall']].mean().reset_index()"
   ]
  },
  {
   "cell_type": "code",
   "execution_count": 82,
   "id": "5a57b3f2",
   "metadata": {},
   "outputs": [
    {
     "data": {
      "application/vnd.microsoft.datawrangler.viewer.v0+json": {
       "columns": [
        {
         "name": "index",
         "rawType": "int64",
         "type": "integer"
        },
        {
         "name": "hotel_id",
         "rawType": "int64",
         "type": "integer"
        },
        {
         "name": "cleanliness_base",
         "rawType": "float64",
         "type": "float"
        },
        {
         "name": "comfort_base",
         "rawType": "float64",
         "type": "float"
        },
        {
         "name": "facilities_base",
         "rawType": "float64",
         "type": "float"
        },
        {
         "name": "location_base",
         "rawType": "float64",
         "type": "float"
        },
        {
         "name": "staff_base",
         "rawType": "float64",
         "type": "float"
        },
        {
         "name": "value_for_money_base",
         "rawType": "float64",
         "type": "float"
        },
        {
         "name": "score_cleanliness",
         "rawType": "float64",
         "type": "float"
        },
        {
         "name": "score_comfort",
         "rawType": "float64",
         "type": "float"
        },
        {
         "name": "score_facilities",
         "rawType": "float64",
         "type": "float"
        },
        {
         "name": "score_location",
         "rawType": "float64",
         "type": "float"
        },
        {
         "name": "score_staff",
         "rawType": "float64",
         "type": "float"
        },
        {
         "name": "score_value_for_money",
         "rawType": "float64",
         "type": "float"
        },
        {
         "name": "score_overall",
         "rawType": "float64",
         "type": "float"
        }
       ],
       "ref": "90d6262a-60eb-48c9-b59b-8639d7b98710",
       "rows": [
        [
         "0",
         "2",
         "9.0",
         "9.2",
         "8.8",
         "9.4",
         "9.0",
         "7.9",
         "8.854163483575249",
         "9.066768525592055",
         "8.54881588999236",
         "9.088770053475937",
         "8.797708174178762",
         "7.91772345301757",
         "8.689686783804431"
        ],
        [
         "1",
         "3",
         "8.8",
         "9.4",
         "8.7",
         "9.6",
         "13.0",
         "8.1",
         "8.70185873605948",
         "9.168401486988847",
         "8.596654275092936",
         "9.219776951672863",
         "9.115985130111524",
         "8.050334572490707",
         "8.837546468401486"
        ],
        [
         "2",
         "4",
         "9.6",
         "9.0",
         "9.3",
         "8.5",
         "9.5",
         "8.2",
         "9.310147058823528",
         "8.895367647058825",
         "8.886470588235294",
         "8.564411764705882",
         "9.135",
         "8.180367647058823",
         "8.819117647058823"
        ],
        [
         "3",
         "5",
         "9.3",
         "9.5",
         "9.6",
         "8.9",
         "9.4",
         "8.5",
         "9.101694915254237",
         "9.179071481208549",
         "9.088651436993366",
         "8.821812822402359",
         "9.123949889462049",
         "8.335372144436256",
         "9.090714812085483"
        ],
        [
         "4",
         "6",
         "9.2",
         "9.1",
         "9.4",
         "9.7",
         "9.1",
         "8.3",
         "8.93849493487699",
         "8.960202604920406",
         "8.950506512301013",
         "9.337337192474674",
         "8.945151953690305",
         "8.327858176555717",
         "9.004775687409552"
        ]
       ],
       "shape": {
        "columns": 14,
        "rows": 5
       }
      },
      "text/html": [
       "<div>\n",
       "<style scoped>\n",
       "    .dataframe tbody tr th:only-of-type {\n",
       "        vertical-align: middle;\n",
       "    }\n",
       "\n",
       "    .dataframe tbody tr th {\n",
       "        vertical-align: top;\n",
       "    }\n",
       "\n",
       "    .dataframe thead th {\n",
       "        text-align: right;\n",
       "    }\n",
       "</style>\n",
       "<table border=\"1\" class=\"dataframe\">\n",
       "  <thead>\n",
       "    <tr style=\"text-align: right;\">\n",
       "      <th></th>\n",
       "      <th>hotel_id</th>\n",
       "      <th>cleanliness_base</th>\n",
       "      <th>comfort_base</th>\n",
       "      <th>facilities_base</th>\n",
       "      <th>location_base</th>\n",
       "      <th>staff_base</th>\n",
       "      <th>value_for_money_base</th>\n",
       "      <th>score_cleanliness</th>\n",
       "      <th>score_comfort</th>\n",
       "      <th>score_facilities</th>\n",
       "      <th>score_location</th>\n",
       "      <th>score_staff</th>\n",
       "      <th>score_value_for_money</th>\n",
       "      <th>score_overall</th>\n",
       "    </tr>\n",
       "  </thead>\n",
       "  <tbody>\n",
       "    <tr>\n",
       "      <th>0</th>\n",
       "      <td>2</td>\n",
       "      <td>9.0</td>\n",
       "      <td>9.2</td>\n",
       "      <td>8.8</td>\n",
       "      <td>9.4</td>\n",
       "      <td>9.0</td>\n",
       "      <td>7.9</td>\n",
       "      <td>8.854163</td>\n",
       "      <td>9.066769</td>\n",
       "      <td>8.548816</td>\n",
       "      <td>9.088770</td>\n",
       "      <td>8.797708</td>\n",
       "      <td>7.917723</td>\n",
       "      <td>8.689687</td>\n",
       "    </tr>\n",
       "    <tr>\n",
       "      <th>1</th>\n",
       "      <td>3</td>\n",
       "      <td>8.8</td>\n",
       "      <td>9.4</td>\n",
       "      <td>8.7</td>\n",
       "      <td>9.6</td>\n",
       "      <td>13.0</td>\n",
       "      <td>8.1</td>\n",
       "      <td>8.701859</td>\n",
       "      <td>9.168401</td>\n",
       "      <td>8.596654</td>\n",
       "      <td>9.219777</td>\n",
       "      <td>9.115985</td>\n",
       "      <td>8.050335</td>\n",
       "      <td>8.837546</td>\n",
       "    </tr>\n",
       "    <tr>\n",
       "      <th>2</th>\n",
       "      <td>4</td>\n",
       "      <td>9.6</td>\n",
       "      <td>9.0</td>\n",
       "      <td>9.3</td>\n",
       "      <td>8.5</td>\n",
       "      <td>9.5</td>\n",
       "      <td>8.2</td>\n",
       "      <td>9.310147</td>\n",
       "      <td>8.895368</td>\n",
       "      <td>8.886471</td>\n",
       "      <td>8.564412</td>\n",
       "      <td>9.135000</td>\n",
       "      <td>8.180368</td>\n",
       "      <td>8.819118</td>\n",
       "    </tr>\n",
       "    <tr>\n",
       "      <th>3</th>\n",
       "      <td>5</td>\n",
       "      <td>9.3</td>\n",
       "      <td>9.5</td>\n",
       "      <td>9.6</td>\n",
       "      <td>8.9</td>\n",
       "      <td>9.4</td>\n",
       "      <td>8.5</td>\n",
       "      <td>9.101695</td>\n",
       "      <td>9.179071</td>\n",
       "      <td>9.088651</td>\n",
       "      <td>8.821813</td>\n",
       "      <td>9.123950</td>\n",
       "      <td>8.335372</td>\n",
       "      <td>9.090715</td>\n",
       "    </tr>\n",
       "    <tr>\n",
       "      <th>4</th>\n",
       "      <td>6</td>\n",
       "      <td>9.2</td>\n",
       "      <td>9.1</td>\n",
       "      <td>9.4</td>\n",
       "      <td>9.7</td>\n",
       "      <td>9.1</td>\n",
       "      <td>8.3</td>\n",
       "      <td>8.938495</td>\n",
       "      <td>8.960203</td>\n",
       "      <td>8.950507</td>\n",
       "      <td>9.337337</td>\n",
       "      <td>8.945152</td>\n",
       "      <td>8.327858</td>\n",
       "      <td>9.004776</td>\n",
       "    </tr>\n",
       "  </tbody>\n",
       "</table>\n",
       "</div>"
      ],
      "text/plain": [
       "   hotel_id  cleanliness_base  comfort_base  facilities_base  location_base  \\\n",
       "0         2               9.0           9.2              8.8            9.4   \n",
       "1         3               8.8           9.4              8.7            9.6   \n",
       "2         4               9.6           9.0              9.3            8.5   \n",
       "3         5               9.3           9.5              9.6            8.9   \n",
       "4         6               9.2           9.1              9.4            9.7   \n",
       "\n",
       "   staff_base  value_for_money_base  score_cleanliness  score_comfort  \\\n",
       "0         9.0                   7.9           8.854163       9.066769   \n",
       "1        13.0                   8.1           8.701859       9.168401   \n",
       "2         9.5                   8.2           9.310147       8.895368   \n",
       "3         9.4                   8.5           9.101695       9.179071   \n",
       "4         9.1                   8.3           8.938495       8.960203   \n",
       "\n",
       "   score_facilities  score_location  score_staff  score_value_for_money  \\\n",
       "0          8.548816        9.088770     8.797708               7.917723   \n",
       "1          8.596654        9.219777     9.115985               8.050335   \n",
       "2          8.886471        8.564412     9.135000               8.180368   \n",
       "3          9.088651        8.821813     9.123950               8.335372   \n",
       "4          8.950507        9.337337     8.945152               8.327858   \n",
       "\n",
       "   score_overall  \n",
       "0       8.689687  \n",
       "1       8.837546  \n",
       "2       8.819118  \n",
       "3       9.090715  \n",
       "4       9.004776  "
      ]
     },
     "execution_count": 82,
     "metadata": {},
     "output_type": "execute_result"
    }
   ],
   "source": [
    "df_agrupado.head()"
   ]
  },
  {
   "cell_type": "code",
   "execution_count": 83,
   "id": "ca7e43c4",
   "metadata": {},
   "outputs": [
    {
     "name": "stdout",
     "output_type": "stream",
     "text": [
      "Dimensión: cleanliness_base\n",
      "    hotel_id  diferencia\n",
      "0        2.0   -0.145837\n",
      "1        3.0   -0.098141\n",
      "2        4.0   -0.289853\n",
      "3        5.0   -0.198305\n",
      "4        6.0   -0.261505\n",
      "5        7.0   -0.058072\n",
      "6        9.0   -0.279420\n",
      "7       10.0   -0.215379\n",
      "8       12.0   -4.339722\n",
      "9       14.0   -0.239970\n",
      "10      15.0   -0.159151\n",
      "11      16.0   -0.233887\n",
      "12      18.0    0.018630\n",
      "13      19.0   -0.151675\n",
      "14      21.0   -0.108817\n",
      "15      23.0   -0.093101\n",
      "16      24.0   -0.040229\n",
      "17      25.0   -0.167127\n",
      "************************************************************\n",
      "Dimensión: comfort_base\n",
      "    hotel_id  diferencia\n",
      "0        2.0   -0.133231\n",
      "1        3.0   -0.231599\n",
      "2        4.0   -0.104632\n",
      "3        5.0   -0.320929\n",
      "4        6.0   -0.139797\n",
      "5        7.0   10.906963\n",
      "6        9.0   -0.129058\n",
      "7       10.0   -0.232594\n",
      "8       12.0   -0.065179\n",
      "9       14.0   -0.076533\n",
      "10      15.0   -0.084633\n",
      "11      16.0   -0.242486\n",
      "12      18.0   -0.097466\n",
      "13      19.0   -0.072559\n",
      "14      21.0   -0.191879\n",
      "15      23.0   -0.122365\n",
      "16      24.0    0.040802\n",
      "17      25.0   -0.144268\n",
      "************************************************************\n",
      "Dimensión: facilities_base\n",
      "    hotel_id  diferencia\n",
      "0        2.0   -0.251184\n",
      "1        3.0   -0.103346\n",
      "2        4.0   -0.413529\n",
      "3        5.0   -0.511349\n",
      "4        6.0   -0.449493\n",
      "5        7.0   -0.185616\n",
      "6        9.0   -0.308261\n",
      "7       10.0   -0.406197\n",
      "8       12.0   -0.122604\n",
      "9       14.0   -0.291597\n",
      "10      15.0   -0.274672\n",
      "11      16.0   -0.311488\n",
      "12      18.0   10.428219\n",
      "13      19.0   -0.336636\n",
      "14      21.0   -0.202398\n",
      "15      23.0   -0.198029\n",
      "16      24.0   -0.134001\n",
      "17      25.0   -0.295994\n",
      "************************************************************\n",
      "Dimensión: location_base\n",
      "    hotel_id  diferencia\n",
      "0        2.0   -0.311230\n",
      "1        3.0   -0.380223\n",
      "2        4.0    0.064412\n",
      "3        5.0   -0.078187\n",
      "4        6.0   -0.362663\n",
      "5        7.0   -0.439021\n",
      "6        9.0   -0.200072\n",
      "7       10.0   -0.127085\n",
      "8       12.0   -0.121653\n",
      "9       14.0   -0.507721\n",
      "10      15.0   -0.291737\n",
      "11      16.0   -0.103324\n",
      "12      18.0   11.016096\n",
      "13      19.0   -0.297577\n",
      "14      21.0   -0.330008\n",
      "15      23.0   -0.134572\n",
      "16      24.0   -0.130422\n",
      "17      25.0   -0.118992\n",
      "************************************************************\n",
      "Dimensión: staff_base\n",
      "    hotel_id  diferencia\n",
      "0        2.0   -0.202292\n",
      "1        3.0   -3.884015\n",
      "2        4.0   -0.365000\n",
      "3        5.0   -0.276050\n",
      "4        6.0   -0.154848\n",
      "5        7.0   -0.162816\n",
      "6        9.0   -0.132029\n",
      "7       10.0   -0.240245\n",
      "8       12.0   -0.049671\n",
      "9       14.0   -0.181681\n",
      "10      15.0   -0.248803\n",
      "11      16.0   -0.209393\n",
      "12      18.0   -0.044932\n",
      "13      19.0   -0.132787\n",
      "14      21.0   -0.171616\n",
      "15      23.0   -0.098029\n",
      "16      24.0   -0.051897\n",
      "17      25.0   -0.229144\n",
      "************************************************************\n",
      "Dimensión: value_for_money_base\n",
      "    hotel_id  diferencia\n",
      "0        2.0    0.017723\n",
      "1        3.0   -0.049665\n",
      "2        4.0   -0.019632\n",
      "3        5.0   -0.164628\n",
      "4        6.0    0.027858\n",
      "5        7.0   -0.128768\n",
      "6        9.0   -0.270797\n",
      "7       10.0   -0.329457\n",
      "8       12.0   -0.176006\n",
      "9       14.0   -0.262377\n",
      "10      15.0   -0.131969\n",
      "11      16.0   -0.199350\n",
      "12      18.0   10.269726\n",
      "13      19.0   -0.323877\n",
      "14      21.0   -0.204640\n",
      "15      23.0   -0.254208\n",
      "16      24.0   -0.118039\n",
      "17      25.0   -0.228177\n",
      "************************************************************\n"
     ]
    }
   ],
   "source": [
    "# Calcula la diferencia entre el puntaje base y el promedio de las reviews por hotel y dimensión\n",
    "columnas_hoteles = ['cleanliness_base', 'comfort_base', 'facilities_base','location_base', 'staff_base', 'value_for_money_base']\n",
    "columnas_reviews = ['score_cleanliness', 'score_comfort', 'score_facilities', 'score_location', 'score_staff', 'score_value_for_money']\n",
    "\n",
    "# Creamos un DataFrame con el hotel_id y las diferencias\n",
    "\n",
    "for i in range(len(columnas_hoteles)):\n",
    "    columna_base = columnas_hoteles[i]\n",
    "    columna_review = columnas_reviews[i]\n",
    "    diferencias = []\n",
    "    for indice, fila in df_agrupado.iterrows():\n",
    "        \n",
    "        hotel_id = fila['hotel_id']\n",
    "        diferencia = fila[columna_review] - fila[columna_base]\n",
    "        diferencias.append({'hotel_id': hotel_id, 'diferencia': diferencia})\n",
    "    \n",
    "        df_diferencias = pd.DataFrame(diferencias)\n",
    "    print(f\"Dimensión: {columna_base}\")\n",
    "    print(df_diferencias)\n",
    "    print(\"*\"*60)\n",
    "\n"
   ]
  },
  {
   "cell_type": "markdown",
   "id": "865f9b6c",
   "metadata": {},
   "source": [
    "Podemos notar que hay diferencias negativas y otras que son positivas, para cada hotel y para cada dimensión, esto quiere decir que, los hoteles con un puntaje base en una especifica dimensión tienden a recibir menores puntajes en las reviews de los usuarios para esa misma dimensión en caso de que la diferencia sea negativa. Y al reves, si se tiene una diferencia positiva, quiere decir que los puntaje base de una dimensión que tienen los hoteles tienden a recibir mejores puntajes que dicha base en esa misma dimensión por parte de los usuarios en las reviews\n",
    "\n",
    "Por lo tanto, es posible afirmar que la mayoría de los hoteles reciben puntajes peores por parte de los usuarios con respecto a sus puntajes bases que cada uno de ellos tienen."
   ]
  },
  {
   "cell_type": "markdown",
   "id": "7e478784",
   "metadata": {},
   "source": [
    "### c) Evalúe si existen diferencias notorias en la forma en que reseñan los usuarios según la fecha en que se unieron a la plataforma, comentando patrones que considere relevantes."
   ]
  },
  {
   "cell_type": "markdown",
   "id": "1ca4a16d",
   "metadata": {},
   "source": [
    "Primero convertimos las columnas de fecha \"join_date\" y \"review_date\" de los dataframes df_usuarios y df_reviews desde texto a formato datetime. Luego unimos usuarios con reseñas para, a partir de esa unión, calcular la antigüedad del usuario al momento de la reseña y analizar si existen diferencias en las evaluaciones según esa antigüedad."
   ]
  },
  {
   "cell_type": "code",
   "execution_count": 84,
   "id": "232cc09b",
   "metadata": {},
   "outputs": [],
   "source": [
    "# Copiamos los dataframes para no alterar los originales\n",
    "usuarios = df_usuarios.copy()\n",
    "reseñas = df_reviews.copy()\n",
    "\n",
    "# Convertimos las columnas de fechas a tipo datetime\n",
    "usuarios['fecha_union'] = pd.to_datetime(usuarios['join_date'])\n",
    "reseñas['fecha_reseña'] = pd.to_datetime(reseñas['review_date'])\n",
    "\n",
    "# Creamos la unión de los dataframes de usuarios y reseñas\n",
    "df_usuarios_reseñas = reseñas.merge(\n",
    "    usuarios[['user_id','fecha_union','age_group','traveller_type','country']],\n",
    "    on='user_id',\n",
    "    how='left'\n",
    ")\n",
    "\n",
    "# Antigüedad al reseñar (en días y meses) y grupos de ingreso\n",
    "df_usuarios_reseñas['antiguedad_dias'] = (df_usuarios_reseñas['fecha_reseña'] - df_usuarios_reseñas['fecha_union']).dt.days\n",
    "df_usuarios_reseñas['antiguedad_meses'] = (df_usuarios_reseñas['antiguedad_dias'] / 30.44).round(1)\n",
    "\n",
    "# Clasificamos la antigüedad en rangos\n",
    "def asignar_rango_antiguedad(meses):\n",
    "    if meses <= 0:\n",
    "        return 'Menos de 0'  # Antigüedad menor a 0 meses o sin fecha coherente.\n",
    "    elif meses <= 3:\n",
    "        return '0-3'        # Antigüedad entre 0 y 3 meses\n",
    "    elif meses <= 6:\n",
    "        return '3-6'        # Antigüedad entre 3 y 6 meses\n",
    "    elif meses <= 12:\n",
    "        return '6-12'       # Antigüedad entre 6 y 12 meses\n",
    "    elif meses <= 24:\n",
    "        return '12-24'      # Antigüedad entre 12 y 24 meses\n",
    "    else:\n",
    "        return 'Más de 24'  # Antigüedad mayor a 24 meses\n",
    "\n",
    "df_usuarios_reseñas['rango_antiguedad'] = df_usuarios_reseñas['antiguedad_meses'].apply(asignar_rango_antiguedad)\n",
    "\n",
    "# Creamos una columna con el año de ingreso de cada usuario\n",
    "df_usuarios_reseñas['año_union'] = df_usuarios_reseñas['fecha_union'].dt.year\n"
   ]
  },
  {
   "cell_type": "code",
   "execution_count": 85,
   "id": "b5ee6e54",
   "metadata": {},
   "outputs": [
    {
     "data": {
      "text/plain": [
       "Index(['review_id', 'user_id', 'hotel_id', 'review_date', 'score_overall',\n",
       "       'score_cleanliness', 'score_comfort', 'score_facilities',\n",
       "       'score_location', 'score_staff', 'score_value_for_money',\n",
       "       'review_text'],\n",
       "      dtype='object')"
      ]
     },
     "execution_count": 85,
     "metadata": {},
     "output_type": "execute_result"
    }
   ],
   "source": [
    "df_reviews.columns # Vemos nuevamente las columnas del data frame de las reseñas para luego copiarlas. "
   ]
  },
  {
   "cell_type": "markdown",
   "id": "d0307653",
   "metadata": {},
   "source": [
    "Calculamos, para cada reseña, el promedio de las sub-dimensiones (score_cleanliness, score_comfort, score_facilities, score_location, score_staff, score_value_for_money) y luego creamos una métrica de diferencia entre la calificación general (score_overall) y ese promedio. Esta diferencia indica si el puntaje general fue más alto o más bajo que el promedio de las sub-dimensiones (positivo = más alto; negativo = más bajo)."
   ]
  },
  {
   "cell_type": "code",
   "execution_count": 86,
   "id": "4e568d15",
   "metadata": {},
   "outputs": [
    {
     "data": {
      "application/vnd.microsoft.datawrangler.viewer.v0+json": {
       "columns": [
        {
         "name": "index",
         "rawType": "int64",
         "type": "integer"
        },
        {
         "name": "review_id",
         "rawType": "int64",
         "type": "integer"
        },
        {
         "name": "user_id",
         "rawType": "int64",
         "type": "integer"
        },
        {
         "name": "hotel_id",
         "rawType": "int64",
         "type": "integer"
        },
        {
         "name": "review_date",
         "rawType": "object",
         "type": "string"
        },
        {
         "name": "score_overall",
         "rawType": "float64",
         "type": "float"
        },
        {
         "name": "score_cleanliness",
         "rawType": "float64",
         "type": "float"
        },
        {
         "name": "score_comfort",
         "rawType": "float64",
         "type": "float"
        },
        {
         "name": "score_facilities",
         "rawType": "float64",
         "type": "float"
        },
        {
         "name": "score_location",
         "rawType": "float64",
         "type": "float"
        },
        {
         "name": "score_staff",
         "rawType": "float64",
         "type": "float"
        },
        {
         "name": "score_value_for_money",
         "rawType": "float64",
         "type": "float"
        },
        {
         "name": "review_text",
         "rawType": "object",
         "type": "string"
        },
        {
         "name": "fecha_reseña",
         "rawType": "datetime64[ns]",
         "type": "datetime"
        },
        {
         "name": "fecha_union",
         "rawType": "datetime64[ns]",
         "type": "datetime"
        },
        {
         "name": "age_group",
         "rawType": "object",
         "type": "unknown"
        },
        {
         "name": "traveller_type",
         "rawType": "object",
         "type": "unknown"
        },
        {
         "name": "country",
         "rawType": "object",
         "type": "unknown"
        },
        {
         "name": "antiguedad_dias",
         "rawType": "float64",
         "type": "float"
        },
        {
         "name": "antiguedad_meses",
         "rawType": "float64",
         "type": "float"
        },
        {
         "name": "rango_antiguedad",
         "rawType": "object",
         "type": "string"
        },
        {
         "name": "año_union",
         "rawType": "float64",
         "type": "float"
        },
        {
         "name": "promedio_puntajes",
         "rawType": "float64",
         "type": "float"
        },
        {
         "name": "diferencia_score_overall_vs_promedio",
         "rawType": "float64",
         "type": "float"
        }
       ],
       "ref": "40418bf9-7728-4e3c-941d-552f0e094bf1",
       "rows": [
        [
         "0",
         "2",
         "432",
         "4",
         "2020-03-24",
         "9.1",
         "10.0",
         "9.1",
         "9.0",
         "8.6",
         "9.4",
         "8.6",
         "Test cover traditional black. Process tell Mr book skill say age. Goal term office benefit. Brother message four though suddenly food surface.",
         "2020-03-24 00:00:00",
         "2025-04-01 00:00:00",
         "35-44",
         "Couple",
         "United Kingdom",
         "-1834.0",
         "-60.2",
         "Menos de 0",
         "2025.0",
         "9.116666666666667",
         "-0.016666666666667496"
        ],
        [
         "1",
         "3",
         "186",
         "18",
         "2023-12-18",
         "8.8",
         "9.7",
         "8.8",
         "-3.0",
         "8.7",
         "8.1",
         "8.6",
         "Friend million student social study yeah. Growth its rest represent sell.",
         "2023-12-18 00:00:00",
         null,
         null,
         null,
         null,
         null,
         null,
         "Más de 24",
         null,
         "6.816666666666666",
         "1.9833333333333343"
        ],
        [
         "2",
         "4",
         "1403",
         "19",
         "2022-06-22",
         "8.9",
         "9.0",
         "8.8",
         "8.5",
         "9.6",
         "9.1",
         "8.3",
         "Huge girl already remain truth behind card. Appear way any ready head it. Against his deep building partner.",
         "2022-06-22 00:00:00",
         null,
         null,
         null,
         null,
         null,
         null,
         "Más de 24",
         null,
         "8.883333333333333",
         "0.016666666666667496"
        ],
        [
         "3",
         "5",
         "1723",
         "17",
         "2022-07-02",
         "9.1",
         "8.9",
         "9.5",
         "9.3",
         "8.3",
         "9.4",
         "8.9",
         "Cover feeling call community serve television still.\nSome majority weight protect window administration. Approach threat media analysis.",
         "2022-07-02 00:00:00",
         "2023-02-28 00:00:00",
         "45-54",
         "Family",
         "Australia",
         "-241.0",
         "-7.9",
         "Menos de 0",
         "2023.0",
         "9.049999999999999",
         "0.05000000000000071"
        ],
        [
         "4",
         "6",
         "800",
         "7",
         "2025-08-10",
         "8.7",
         "8.2",
         "8.7",
         "8.1",
         "9.5",
         "9.0",
         "8.8",
         "Truth forget computer current bad billion lead. Happy may west.\nVote democratic food garden star focus. Value ok miss.",
         "2025-08-10 00:00:00",
         "2024-09-19 00:00:00",
         "25-34",
         "Solo",
         "United States",
         "325.0",
         "10.7",
         "6-12",
         "2024.0",
         "8.716666666666667",
         "-0.016666666666667496"
        ]
       ],
       "shape": {
        "columns": 23,
        "rows": 5
       }
      },
      "text/html": [
       "<div>\n",
       "<style scoped>\n",
       "    .dataframe tbody tr th:only-of-type {\n",
       "        vertical-align: middle;\n",
       "    }\n",
       "\n",
       "    .dataframe tbody tr th {\n",
       "        vertical-align: top;\n",
       "    }\n",
       "\n",
       "    .dataframe thead th {\n",
       "        text-align: right;\n",
       "    }\n",
       "</style>\n",
       "<table border=\"1\" class=\"dataframe\">\n",
       "  <thead>\n",
       "    <tr style=\"text-align: right;\">\n",
       "      <th></th>\n",
       "      <th>review_id</th>\n",
       "      <th>user_id</th>\n",
       "      <th>hotel_id</th>\n",
       "      <th>review_date</th>\n",
       "      <th>score_overall</th>\n",
       "      <th>score_cleanliness</th>\n",
       "      <th>score_comfort</th>\n",
       "      <th>score_facilities</th>\n",
       "      <th>score_location</th>\n",
       "      <th>score_staff</th>\n",
       "      <th>...</th>\n",
       "      <th>fecha_union</th>\n",
       "      <th>age_group</th>\n",
       "      <th>traveller_type</th>\n",
       "      <th>country</th>\n",
       "      <th>antiguedad_dias</th>\n",
       "      <th>antiguedad_meses</th>\n",
       "      <th>rango_antiguedad</th>\n",
       "      <th>año_union</th>\n",
       "      <th>promedio_puntajes</th>\n",
       "      <th>diferencia_score_overall_vs_promedio</th>\n",
       "    </tr>\n",
       "  </thead>\n",
       "  <tbody>\n",
       "    <tr>\n",
       "      <th>0</th>\n",
       "      <td>2</td>\n",
       "      <td>432</td>\n",
       "      <td>4</td>\n",
       "      <td>2020-03-24</td>\n",
       "      <td>9.1</td>\n",
       "      <td>10.0</td>\n",
       "      <td>9.1</td>\n",
       "      <td>9.0</td>\n",
       "      <td>8.6</td>\n",
       "      <td>9.4</td>\n",
       "      <td>...</td>\n",
       "      <td>2025-04-01</td>\n",
       "      <td>35-44</td>\n",
       "      <td>Couple</td>\n",
       "      <td>United Kingdom</td>\n",
       "      <td>-1834.0</td>\n",
       "      <td>-60.2</td>\n",
       "      <td>Menos de 0</td>\n",
       "      <td>2025.0</td>\n",
       "      <td>9.116667</td>\n",
       "      <td>-0.016667</td>\n",
       "    </tr>\n",
       "    <tr>\n",
       "      <th>1</th>\n",
       "      <td>3</td>\n",
       "      <td>186</td>\n",
       "      <td>18</td>\n",
       "      <td>2023-12-18</td>\n",
       "      <td>8.8</td>\n",
       "      <td>9.7</td>\n",
       "      <td>8.8</td>\n",
       "      <td>-3.0</td>\n",
       "      <td>8.7</td>\n",
       "      <td>8.1</td>\n",
       "      <td>...</td>\n",
       "      <td>NaT</td>\n",
       "      <td>NaN</td>\n",
       "      <td>NaN</td>\n",
       "      <td>NaN</td>\n",
       "      <td>NaN</td>\n",
       "      <td>NaN</td>\n",
       "      <td>Más de 24</td>\n",
       "      <td>NaN</td>\n",
       "      <td>6.816667</td>\n",
       "      <td>1.983333</td>\n",
       "    </tr>\n",
       "    <tr>\n",
       "      <th>2</th>\n",
       "      <td>4</td>\n",
       "      <td>1403</td>\n",
       "      <td>19</td>\n",
       "      <td>2022-06-22</td>\n",
       "      <td>8.9</td>\n",
       "      <td>9.0</td>\n",
       "      <td>8.8</td>\n",
       "      <td>8.5</td>\n",
       "      <td>9.6</td>\n",
       "      <td>9.1</td>\n",
       "      <td>...</td>\n",
       "      <td>NaT</td>\n",
       "      <td>NaN</td>\n",
       "      <td>NaN</td>\n",
       "      <td>NaN</td>\n",
       "      <td>NaN</td>\n",
       "      <td>NaN</td>\n",
       "      <td>Más de 24</td>\n",
       "      <td>NaN</td>\n",
       "      <td>8.883333</td>\n",
       "      <td>0.016667</td>\n",
       "    </tr>\n",
       "    <tr>\n",
       "      <th>3</th>\n",
       "      <td>5</td>\n",
       "      <td>1723</td>\n",
       "      <td>17</td>\n",
       "      <td>2022-07-02</td>\n",
       "      <td>9.1</td>\n",
       "      <td>8.9</td>\n",
       "      <td>9.5</td>\n",
       "      <td>9.3</td>\n",
       "      <td>8.3</td>\n",
       "      <td>9.4</td>\n",
       "      <td>...</td>\n",
       "      <td>2023-02-28</td>\n",
       "      <td>45-54</td>\n",
       "      <td>Family</td>\n",
       "      <td>Australia</td>\n",
       "      <td>-241.0</td>\n",
       "      <td>-7.9</td>\n",
       "      <td>Menos de 0</td>\n",
       "      <td>2023.0</td>\n",
       "      <td>9.050000</td>\n",
       "      <td>0.050000</td>\n",
       "    </tr>\n",
       "    <tr>\n",
       "      <th>4</th>\n",
       "      <td>6</td>\n",
       "      <td>800</td>\n",
       "      <td>7</td>\n",
       "      <td>2025-08-10</td>\n",
       "      <td>8.7</td>\n",
       "      <td>8.2</td>\n",
       "      <td>8.7</td>\n",
       "      <td>8.1</td>\n",
       "      <td>9.5</td>\n",
       "      <td>9.0</td>\n",
       "      <td>...</td>\n",
       "      <td>2024-09-19</td>\n",
       "      <td>25-34</td>\n",
       "      <td>Solo</td>\n",
       "      <td>United States</td>\n",
       "      <td>325.0</td>\n",
       "      <td>10.7</td>\n",
       "      <td>6-12</td>\n",
       "      <td>2024.0</td>\n",
       "      <td>8.716667</td>\n",
       "      <td>-0.016667</td>\n",
       "    </tr>\n",
       "  </tbody>\n",
       "</table>\n",
       "<p>5 rows × 23 columns</p>\n",
       "</div>"
      ],
      "text/plain": [
       "   review_id  user_id  hotel_id review_date  score_overall  score_cleanliness  \\\n",
       "0          2      432         4  2020-03-24            9.1               10.0   \n",
       "1          3      186        18  2023-12-18            8.8                9.7   \n",
       "2          4     1403        19  2022-06-22            8.9                9.0   \n",
       "3          5     1723        17  2022-07-02            9.1                8.9   \n",
       "4          6      800         7  2025-08-10            8.7                8.2   \n",
       "\n",
       "   score_comfort  score_facilities  score_location  score_staff  ...  \\\n",
       "0            9.1               9.0             8.6          9.4  ...   \n",
       "1            8.8              -3.0             8.7          8.1  ...   \n",
       "2            8.8               8.5             9.6          9.1  ...   \n",
       "3            9.5               9.3             8.3          9.4  ...   \n",
       "4            8.7               8.1             9.5          9.0  ...   \n",
       "\n",
       "   fecha_union age_group traveller_type         country antiguedad_dias  \\\n",
       "0   2025-04-01     35-44         Couple  United Kingdom         -1834.0   \n",
       "1          NaT       NaN            NaN             NaN             NaN   \n",
       "2          NaT       NaN            NaN             NaN             NaN   \n",
       "3   2023-02-28     45-54         Family       Australia          -241.0   \n",
       "4   2024-09-19     25-34           Solo   United States           325.0   \n",
       "\n",
       "  antiguedad_meses rango_antiguedad  año_union  promedio_puntajes  \\\n",
       "0            -60.2       Menos de 0     2025.0           9.116667   \n",
       "1              NaN        Más de 24        NaN           6.816667   \n",
       "2              NaN        Más de 24        NaN           8.883333   \n",
       "3             -7.9       Menos de 0     2023.0           9.050000   \n",
       "4             10.7             6-12     2024.0           8.716667   \n",
       "\n",
       "  diferencia_score_overall_vs_promedio  \n",
       "0                            -0.016667  \n",
       "1                             1.983333  \n",
       "2                             0.016667  \n",
       "3                             0.050000  \n",
       "4                            -0.016667  \n",
       "\n",
       "[5 rows x 23 columns]"
      ]
     },
     "execution_count": 86,
     "metadata": {},
     "output_type": "execute_result"
    }
   ],
   "source": [
    "columnas_puntajes = ['score_cleanliness','score_comfort','score_facilities',\n",
    "                     'score_location','score_staff','score_value_for_money']\n",
    "\n",
    "# Calculamos el promedio de los puntajes de las dimensiones\n",
    "df_usuarios_reseñas['promedio_puntajes'] = df_usuarios_reseñas[columnas_puntajes].mean(axis=1)\n",
    "\n",
    "#Generamos una columna con la diferencia entre score_overall y el promedio de los puntajes\n",
    "df_usuarios_reseñas['diferencia_score_overall_vs_promedio'] = df_usuarios_reseñas['score_overall'] - df_usuarios_reseñas['promedio_puntajes']\n",
    "\n",
    "df_usuarios_reseñas.head()"
   ]
  },
  {
   "cell_type": "markdown",
   "id": "81200e5f",
   "metadata": {},
   "source": [
    "Generamos dos tablas de resumen: una por año de ingreso (año_union) y otra por rango de antigüedad (rango_antiguedad). En cada grupo calculamos, para score_overall, promedio_puntajes y diferencia_score_overall_vs_promedio, el número de reseñas (count), el promedio (mean) y la desviación estándar (std), redondeado a 2 decimales. Esto permite comparar el nivel y la variabilidad de las calificaciones según el año en que se unieron y según su antigüedad al reseñar.\n",
    "(Nota: en el código, etadisticas_por_antiguedad parece tener un typo; podría ser estadisticas_por_antiguedad.)"
   ]
  },
  {
   "cell_type": "code",
   "execution_count": 87,
   "id": "51642ea1",
   "metadata": {},
   "outputs": [],
   "source": [
    "# Resumen por año de ingreso y por rango de antigüedad\n",
    "estadisticas_por_año = (\n",
    "    df_usuarios_reseñas.groupby('año_union')[['score_overall','promedio_puntajes','diferencia_score_overall_vs_promedio']]\n",
    "      .agg(['count','mean','std'])\n",
    "      .round(2)\n",
    ")\n",
    "\n",
    "estadisticas_por_antiguedad = (  \n",
    "    df_usuarios_reseñas.groupby('rango_antiguedad')[['score_overall','promedio_puntajes','diferencia_score_overall_vs_promedio']]\n",
    "      .agg(['count','mean','std'])\n",
    "      .round(2)\n",
    ")\n",
    "\n"
   ]
  },
  {
   "cell_type": "code",
   "execution_count": 88,
   "id": "faa84049",
   "metadata": {},
   "outputs": [
    {
     "data": {
      "application/vnd.microsoft.datawrangler.viewer.v0+json": {
       "columns": [
        {
         "name": "año_union",
         "rawType": "float64",
         "type": "float"
        },
        {
         "name": "('score_overall', 'count')",
         "rawType": "int64",
         "type": "integer"
        },
        {
         "name": "('score_overall', 'mean')",
         "rawType": "float64",
         "type": "float"
        },
        {
         "name": "('score_overall', 'std')",
         "rawType": "float64",
         "type": "float"
        },
        {
         "name": "('promedio_puntajes', 'count')",
         "rawType": "int64",
         "type": "integer"
        },
        {
         "name": "('promedio_puntajes', 'mean')",
         "rawType": "float64",
         "type": "float"
        },
        {
         "name": "('promedio_puntajes', 'std')",
         "rawType": "float64",
         "type": "float"
        },
        {
         "name": "('diferencia_score_overall_vs_promedio', 'count')",
         "rawType": "int64",
         "type": "integer"
        },
        {
         "name": "('diferencia_score_overall_vs_promedio', 'mean')",
         "rawType": "float64",
         "type": "float"
        },
        {
         "name": "('diferencia_score_overall_vs_promedio', 'std')",
         "rawType": "float64",
         "type": "float"
        }
       ],
       "ref": "aa88511f-52a2-4a5e-bfc0-744211e134cd",
       "rows": [
        [
         "1900.0",
         "401",
         "8.95",
         "1.24",
         "401",
         "8.77",
         "0.77",
         "401",
         "0.17",
         "1.46"
        ],
        [
         "2020.0",
         "1951",
         "8.86",
         "1.55",
         "1951",
         "8.78",
         "0.73",
         "1951",
         "0.08",
         "1.66"
        ],
        [
         "2021.0",
         "5178",
         "8.87",
         "1.47",
         "5178",
         "8.81",
         "0.67",
         "5178",
         "0.06",
         "1.6"
        ],
        [
         "2022.0",
         "5262",
         "8.85",
         "1.64",
         "5262",
         "8.78",
         "0.71",
         "5262",
         "0.08",
         "1.78"
        ],
        [
         "2023.0",
         "6548",
         "8.88",
         "1.51",
         "6548",
         "8.78",
         "0.69",
         "6548",
         "0.1",
         "1.65"
        ],
        [
         "2024.0",
         "6021",
         "8.83",
         "1.64",
         "6021",
         "8.8",
         "0.68",
         "6021",
         "0.03",
         "1.75"
        ],
        [
         "2025.0",
         "3321",
         "8.82",
         "1.73",
         "3321",
         "8.82",
         "0.64",
         "3321",
         "0.0",
         "1.83"
        ],
        [
         "2100.0",
         "495",
         "8.76",
         "1.82",
         "495",
         "8.74",
         "0.69",
         "495",
         "0.02",
         "1.91"
        ]
       ],
       "shape": {
        "columns": 9,
        "rows": 8
       }
      },
      "text/html": [
       "<div>\n",
       "<style scoped>\n",
       "    .dataframe tbody tr th:only-of-type {\n",
       "        vertical-align: middle;\n",
       "    }\n",
       "\n",
       "    .dataframe tbody tr th {\n",
       "        vertical-align: top;\n",
       "    }\n",
       "\n",
       "    .dataframe thead tr th {\n",
       "        text-align: left;\n",
       "    }\n",
       "\n",
       "    .dataframe thead tr:last-of-type th {\n",
       "        text-align: right;\n",
       "    }\n",
       "</style>\n",
       "<table border=\"1\" class=\"dataframe\">\n",
       "  <thead>\n",
       "    <tr>\n",
       "      <th></th>\n",
       "      <th colspan=\"3\" halign=\"left\">score_overall</th>\n",
       "      <th colspan=\"3\" halign=\"left\">promedio_puntajes</th>\n",
       "      <th colspan=\"3\" halign=\"left\">diferencia_score_overall_vs_promedio</th>\n",
       "    </tr>\n",
       "    <tr>\n",
       "      <th></th>\n",
       "      <th>count</th>\n",
       "      <th>mean</th>\n",
       "      <th>std</th>\n",
       "      <th>count</th>\n",
       "      <th>mean</th>\n",
       "      <th>std</th>\n",
       "      <th>count</th>\n",
       "      <th>mean</th>\n",
       "      <th>std</th>\n",
       "    </tr>\n",
       "    <tr>\n",
       "      <th>año_union</th>\n",
       "      <th></th>\n",
       "      <th></th>\n",
       "      <th></th>\n",
       "      <th></th>\n",
       "      <th></th>\n",
       "      <th></th>\n",
       "      <th></th>\n",
       "      <th></th>\n",
       "      <th></th>\n",
       "    </tr>\n",
       "  </thead>\n",
       "  <tbody>\n",
       "    <tr>\n",
       "      <th>1900.0</th>\n",
       "      <td>401</td>\n",
       "      <td>8.95</td>\n",
       "      <td>1.24</td>\n",
       "      <td>401</td>\n",
       "      <td>8.77</td>\n",
       "      <td>0.77</td>\n",
       "      <td>401</td>\n",
       "      <td>0.17</td>\n",
       "      <td>1.46</td>\n",
       "    </tr>\n",
       "    <tr>\n",
       "      <th>2020.0</th>\n",
       "      <td>1951</td>\n",
       "      <td>8.86</td>\n",
       "      <td>1.55</td>\n",
       "      <td>1951</td>\n",
       "      <td>8.78</td>\n",
       "      <td>0.73</td>\n",
       "      <td>1951</td>\n",
       "      <td>0.08</td>\n",
       "      <td>1.66</td>\n",
       "    </tr>\n",
       "    <tr>\n",
       "      <th>2021.0</th>\n",
       "      <td>5178</td>\n",
       "      <td>8.87</td>\n",
       "      <td>1.47</td>\n",
       "      <td>5178</td>\n",
       "      <td>8.81</td>\n",
       "      <td>0.67</td>\n",
       "      <td>5178</td>\n",
       "      <td>0.06</td>\n",
       "      <td>1.60</td>\n",
       "    </tr>\n",
       "    <tr>\n",
       "      <th>2022.0</th>\n",
       "      <td>5262</td>\n",
       "      <td>8.85</td>\n",
       "      <td>1.64</td>\n",
       "      <td>5262</td>\n",
       "      <td>8.78</td>\n",
       "      <td>0.71</td>\n",
       "      <td>5262</td>\n",
       "      <td>0.08</td>\n",
       "      <td>1.78</td>\n",
       "    </tr>\n",
       "    <tr>\n",
       "      <th>2023.0</th>\n",
       "      <td>6548</td>\n",
       "      <td>8.88</td>\n",
       "      <td>1.51</td>\n",
       "      <td>6548</td>\n",
       "      <td>8.78</td>\n",
       "      <td>0.69</td>\n",
       "      <td>6548</td>\n",
       "      <td>0.10</td>\n",
       "      <td>1.65</td>\n",
       "    </tr>\n",
       "    <tr>\n",
       "      <th>2024.0</th>\n",
       "      <td>6021</td>\n",
       "      <td>8.83</td>\n",
       "      <td>1.64</td>\n",
       "      <td>6021</td>\n",
       "      <td>8.80</td>\n",
       "      <td>0.68</td>\n",
       "      <td>6021</td>\n",
       "      <td>0.03</td>\n",
       "      <td>1.75</td>\n",
       "    </tr>\n",
       "    <tr>\n",
       "      <th>2025.0</th>\n",
       "      <td>3321</td>\n",
       "      <td>8.82</td>\n",
       "      <td>1.73</td>\n",
       "      <td>3321</td>\n",
       "      <td>8.82</td>\n",
       "      <td>0.64</td>\n",
       "      <td>3321</td>\n",
       "      <td>0.00</td>\n",
       "      <td>1.83</td>\n",
       "    </tr>\n",
       "    <tr>\n",
       "      <th>2100.0</th>\n",
       "      <td>495</td>\n",
       "      <td>8.76</td>\n",
       "      <td>1.82</td>\n",
       "      <td>495</td>\n",
       "      <td>8.74</td>\n",
       "      <td>0.69</td>\n",
       "      <td>495</td>\n",
       "      <td>0.02</td>\n",
       "      <td>1.91</td>\n",
       "    </tr>\n",
       "  </tbody>\n",
       "</table>\n",
       "</div>"
      ],
      "text/plain": [
       "          score_overall             promedio_puntajes              \\\n",
       "                  count  mean   std             count  mean   std   \n",
       "año_union                                                           \n",
       "1900.0              401  8.95  1.24               401  8.77  0.77   \n",
       "2020.0             1951  8.86  1.55              1951  8.78  0.73   \n",
       "2021.0             5178  8.87  1.47              5178  8.81  0.67   \n",
       "2022.0             5262  8.85  1.64              5262  8.78  0.71   \n",
       "2023.0             6548  8.88  1.51              6548  8.78  0.69   \n",
       "2024.0             6021  8.83  1.64              6021  8.80  0.68   \n",
       "2025.0             3321  8.82  1.73              3321  8.82  0.64   \n",
       "2100.0              495  8.76  1.82               495  8.74  0.69   \n",
       "\n",
       "          diferencia_score_overall_vs_promedio              \n",
       "                                         count  mean   std  \n",
       "año_union                                                   \n",
       "1900.0                                     401  0.17  1.46  \n",
       "2020.0                                    1951  0.08  1.66  \n",
       "2021.0                                    5178  0.06  1.60  \n",
       "2022.0                                    5262  0.08  1.78  \n",
       "2023.0                                    6548  0.10  1.65  \n",
       "2024.0                                    6021  0.03  1.75  \n",
       "2025.0                                    3321  0.00  1.83  \n",
       "2100.0                                     495  0.02  1.91  "
      ]
     },
     "execution_count": 88,
     "metadata": {},
     "output_type": "execute_result"
    }
   ],
   "source": [
    "estadisticas_por_año"
   ]
  },
  {
   "cell_type": "code",
   "execution_count": 89,
   "id": "33764fa6",
   "metadata": {},
   "outputs": [
    {
     "data": {
      "application/vnd.microsoft.datawrangler.viewer.v0+json": {
       "columns": [
        {
         "name": "rango_antiguedad",
         "rawType": "object",
         "type": "string"
        },
        {
         "name": "('score_overall', 'count')",
         "rawType": "int64",
         "type": "integer"
        },
        {
         "name": "('score_overall', 'mean')",
         "rawType": "float64",
         "type": "float"
        },
        {
         "name": "('score_overall', 'std')",
         "rawType": "float64",
         "type": "float"
        },
        {
         "name": "('promedio_puntajes', 'count')",
         "rawType": "int64",
         "type": "integer"
        },
        {
         "name": "('promedio_puntajes', 'mean')",
         "rawType": "float64",
         "type": "float"
        },
        {
         "name": "('promedio_puntajes', 'std')",
         "rawType": "float64",
         "type": "float"
        },
        {
         "name": "('diferencia_score_overall_vs_promedio', 'count')",
         "rawType": "int64",
         "type": "integer"
        },
        {
         "name": "('diferencia_score_overall_vs_promedio', 'mean')",
         "rawType": "float64",
         "type": "float"
        },
        {
         "name": "('diferencia_score_overall_vs_promedio', 'std')",
         "rawType": "float64",
         "type": "float"
        }
       ],
       "ref": "1c69012e-dcfd-49fc-b395-728e65869ec2",
       "rows": [
        [
         "0-3",
         "1087",
         "8.82",
         "1.54",
         "1087",
         "8.79",
         "0.72",
         "1087",
         "0.03",
         "1.66"
        ],
        [
         "12-24",
         "3592",
         "8.92",
         "1.5",
         "3592",
         "8.79",
         "0.68",
         "3592",
         "0.13",
         "1.64"
        ],
        [
         "3-6",
         "1103",
         "8.84",
         "1.63",
         "1103",
         "8.8",
         "0.66",
         "1103",
         "0.04",
         "1.75"
        ],
        [
         "6-12",
         "2098",
         "8.86",
         "1.62",
         "2098",
         "8.79",
         "0.67",
         "2098",
         "0.08",
         "1.72"
        ],
        [
         "Menos de 0",
         "15636",
         "8.84",
         "1.61",
         "15636",
         "8.8",
         "0.68",
         "15636",
         "0.04",
         "1.73"
        ],
        [
         "Más de 24",
         "10408",
         "8.84",
         "1.62",
         "10408",
         "8.79",
         "0.7",
         "10408",
         "0.06",
         "1.74"
        ]
       ],
       "shape": {
        "columns": 9,
        "rows": 6
       }
      },
      "text/html": [
       "<div>\n",
       "<style scoped>\n",
       "    .dataframe tbody tr th:only-of-type {\n",
       "        vertical-align: middle;\n",
       "    }\n",
       "\n",
       "    .dataframe tbody tr th {\n",
       "        vertical-align: top;\n",
       "    }\n",
       "\n",
       "    .dataframe thead tr th {\n",
       "        text-align: left;\n",
       "    }\n",
       "\n",
       "    .dataframe thead tr:last-of-type th {\n",
       "        text-align: right;\n",
       "    }\n",
       "</style>\n",
       "<table border=\"1\" class=\"dataframe\">\n",
       "  <thead>\n",
       "    <tr>\n",
       "      <th></th>\n",
       "      <th colspan=\"3\" halign=\"left\">score_overall</th>\n",
       "      <th colspan=\"3\" halign=\"left\">promedio_puntajes</th>\n",
       "      <th colspan=\"3\" halign=\"left\">diferencia_score_overall_vs_promedio</th>\n",
       "    </tr>\n",
       "    <tr>\n",
       "      <th></th>\n",
       "      <th>count</th>\n",
       "      <th>mean</th>\n",
       "      <th>std</th>\n",
       "      <th>count</th>\n",
       "      <th>mean</th>\n",
       "      <th>std</th>\n",
       "      <th>count</th>\n",
       "      <th>mean</th>\n",
       "      <th>std</th>\n",
       "    </tr>\n",
       "    <tr>\n",
       "      <th>rango_antiguedad</th>\n",
       "      <th></th>\n",
       "      <th></th>\n",
       "      <th></th>\n",
       "      <th></th>\n",
       "      <th></th>\n",
       "      <th></th>\n",
       "      <th></th>\n",
       "      <th></th>\n",
       "      <th></th>\n",
       "    </tr>\n",
       "  </thead>\n",
       "  <tbody>\n",
       "    <tr>\n",
       "      <th>0-3</th>\n",
       "      <td>1087</td>\n",
       "      <td>8.82</td>\n",
       "      <td>1.54</td>\n",
       "      <td>1087</td>\n",
       "      <td>8.79</td>\n",
       "      <td>0.72</td>\n",
       "      <td>1087</td>\n",
       "      <td>0.03</td>\n",
       "      <td>1.66</td>\n",
       "    </tr>\n",
       "    <tr>\n",
       "      <th>12-24</th>\n",
       "      <td>3592</td>\n",
       "      <td>8.92</td>\n",
       "      <td>1.50</td>\n",
       "      <td>3592</td>\n",
       "      <td>8.79</td>\n",
       "      <td>0.68</td>\n",
       "      <td>3592</td>\n",
       "      <td>0.13</td>\n",
       "      <td>1.64</td>\n",
       "    </tr>\n",
       "    <tr>\n",
       "      <th>3-6</th>\n",
       "      <td>1103</td>\n",
       "      <td>8.84</td>\n",
       "      <td>1.63</td>\n",
       "      <td>1103</td>\n",
       "      <td>8.80</td>\n",
       "      <td>0.66</td>\n",
       "      <td>1103</td>\n",
       "      <td>0.04</td>\n",
       "      <td>1.75</td>\n",
       "    </tr>\n",
       "    <tr>\n",
       "      <th>6-12</th>\n",
       "      <td>2098</td>\n",
       "      <td>8.86</td>\n",
       "      <td>1.62</td>\n",
       "      <td>2098</td>\n",
       "      <td>8.79</td>\n",
       "      <td>0.67</td>\n",
       "      <td>2098</td>\n",
       "      <td>0.08</td>\n",
       "      <td>1.72</td>\n",
       "    </tr>\n",
       "    <tr>\n",
       "      <th>Menos de 0</th>\n",
       "      <td>15636</td>\n",
       "      <td>8.84</td>\n",
       "      <td>1.61</td>\n",
       "      <td>15636</td>\n",
       "      <td>8.80</td>\n",
       "      <td>0.68</td>\n",
       "      <td>15636</td>\n",
       "      <td>0.04</td>\n",
       "      <td>1.73</td>\n",
       "    </tr>\n",
       "    <tr>\n",
       "      <th>Más de 24</th>\n",
       "      <td>10408</td>\n",
       "      <td>8.84</td>\n",
       "      <td>1.62</td>\n",
       "      <td>10408</td>\n",
       "      <td>8.79</td>\n",
       "      <td>0.70</td>\n",
       "      <td>10408</td>\n",
       "      <td>0.06</td>\n",
       "      <td>1.74</td>\n",
       "    </tr>\n",
       "  </tbody>\n",
       "</table>\n",
       "</div>"
      ],
      "text/plain": [
       "                 score_overall             promedio_puntajes              \\\n",
       "                         count  mean   std             count  mean   std   \n",
       "rango_antiguedad                                                           \n",
       "0-3                       1087  8.82  1.54              1087  8.79  0.72   \n",
       "12-24                     3592  8.92  1.50              3592  8.79  0.68   \n",
       "3-6                       1103  8.84  1.63              1103  8.80  0.66   \n",
       "6-12                      2098  8.86  1.62              2098  8.79  0.67   \n",
       "Menos de 0               15636  8.84  1.61             15636  8.80  0.68   \n",
       "Más de 24                10408  8.84  1.62             10408  8.79  0.70   \n",
       "\n",
       "                 diferencia_score_overall_vs_promedio              \n",
       "                                                count  mean   std  \n",
       "rango_antiguedad                                                   \n",
       "0-3                                              1087  0.03  1.66  \n",
       "12-24                                            3592  0.13  1.64  \n",
       "3-6                                              1103  0.04  1.75  \n",
       "6-12                                             2098  0.08  1.72  \n",
       "Menos de 0                                      15636  0.04  1.73  \n",
       "Más de 24                                       10408  0.06  1.74  "
      ]
     },
     "execution_count": 89,
     "metadata": {},
     "output_type": "execute_result"
    }
   ],
   "source": [
    "etadisticas_por_antiguedad"
   ]
  },
  {
   "cell_type": "markdown",
   "id": "f8c87a66",
   "metadata": {},
   "source": [
    "#### Ahora, usaremos gráficos para identificar patrones, especificamente, el promedio de score_overall por año de unión permite observar tendencias en el tiempo y notar si quienes se unieron en ciertos años tienden a evaluar más alto o más bajo. Otro es el promedio de score_overall por rango de antigüedad muestra si la experiencia acumulada del usuario al momento de reseñar influye en su calificación. Y por ultimo, graficamos la brecha promedio entre score_overall y el promedio de los puntajes, calculada por rangos de antigüedad. Estas visualizaciones facilitan comparar grupos, detectar posibles sesgos y así fortalecer el análisis. "
   ]
  },
  {
   "cell_type": "code",
   "execution_count": 90,
   "id": "9c2a3e20",
   "metadata": {},
   "outputs": [
    {
     "data": {
      "image/png": "[encoded data removed]",
      "text/plain": [
       "<Figure size 640x480 with 1 Axes>"
      ]
     },
     "metadata": {},
     "output_type": "display_data"
    }
   ],
   "source": [
    "promedio_por_año = (df_usuarios_reseñas.groupby('año_union')['score_overall'].mean().sort_index())\n",
    "\n",
    "plt.figure()\n",
    "promedio_por_año.plot(kind='bar')\n",
    "plt.title('Promedio de score_overall por año de unión')\n",
    "plt.xlabel('Año de unión')\n",
    "plt.ylabel('Promedio score_overall')\n",
    "plt.xticks(rotation=0) # Esto sirve para que las etiquetas del eje x no se vean rotadas verticalmente, sino que se mantengan horizontales.\n",
    "plt.show()\n",
    "\n",
    "\n"
   ]
  },
  {
   "cell_type": "code",
   "execution_count": 91,
   "id": "4964e41c",
   "metadata": {},
   "outputs": [
    {
     "data": {
      "image/png": "[encoded data removed]",
      "text/plain": [
       "<Figure size 640x480 with 1 Axes>"
      ]
     },
     "metadata": {},
     "output_type": "display_data"
    }
   ],
   "source": [
    "# Graficaremos ahora el el promedio de score_overall por rango de antigüedad\n",
    "promedio_por_rango = (df_usuarios_reseñas.groupby('rango_antiguedad')['score_overall'].mean())\n",
    "\n",
    "plt.figure()\n",
    "promedio_por_rango.plot(kind='bar')\n",
    "plt.title('Promedio de score_overall por rango de antigüedad')\n",
    "plt.xlabel('Rango de antigüedad')\n",
    "plt.ylabel('Promedio score_overall')\n",
    "plt.xticks(rotation=0) # Esto sirve para que las etiquetas del eje x no se vean rotadas verticalmente, sino que se mantengan horizontales.\n",
    "plt.show()"
   ]
  },
  {
   "cell_type": "code",
   "execution_count": 92,
   "id": "a4a60e1e",
   "metadata": {},
   "outputs": [
    {
     "data": {
      "image/png": "[encoded data removed]",
      "text/plain": [
       "<Figure size 640x480 with 1 Axes>"
      ]
     },
     "metadata": {},
     "output_type": "display_data"
    }
   ],
   "source": [
    "# Graficaremos ahora la diferencia del score_overall y los promedio de los puntajos, por rango de antigüedad\n",
    "diferencia_por_rango = (df_usuarios_reseñas.groupby('rango_antiguedad')['diferencia_score_overall_vs_promedio'].mean())\n",
    "\n",
    "plt.figure()\n",
    "diferencia_por_rango.plot(kind='bar')\n",
    "plt.title('Diferencia de \"overall_scores\" y promedio puntajes')\n",
    "plt.xlabel('Rango de antigüedad')\n",
    "plt.ylabel('Brecha promedio')\n",
    "plt.xticks(rotation=0) # Esto sirve para que las etiquetas del eje x no se vean rotadas verticalmente, sino que se mantengan horizontales.\n",
    "plt.show()"
   ]
  }
 ],
 "metadata": {
  "kernelspec": {
   "display_name": "Python 3",
   "language": "python",
   "name": "python3"
  },
  "language_info": {
   "codemirror_mode": {
    "name": "ipython",
    "version": 3
   },
   "file_extension": ".py",
   "mimetype": "text/x-python",
   "name": "python",
   "nbconvert_exporter": "python",
   "pygments_lexer": "ipython3",
   "version": "3.10.10"
  }
 },
 "nbformat": 4,
 "nbformat_minor": 5
}
