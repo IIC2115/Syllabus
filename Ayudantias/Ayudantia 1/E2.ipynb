{
 "cells": [
  {
   "cell_type": "markdown",
   "metadata": {
    "id": "nEawxSVBtRf_"
   },
   "source": [
    "# Ejercicio Formativo 2 Capítulo 1\n",
    "diego.herrerag00@uc.cl"
   ]
  },
  {
   "cell_type": "code",
   "execution_count": 19,
   "metadata": {
    "id": "QMmJifOGtRgF"
   },
   "outputs": [],
   "source": [
    "import json"
   ]
  },
  {
   "cell_type": "code",
   "execution_count": 20,
   "metadata": {
    "id": "3nL83tWStRgG"
   },
   "outputs": [],
   "source": [
    "with open(\"movies.json\", encoding=\"utf8\") as movies_file:\n",
    "    peliculas = json.load(movies_file)"
   ]
  },
  {
   "cell_type": "markdown",
   "metadata": {
    "id": "JE0sGPG1tRgH"
   },
   "source": [
    "## Analizando movies y su contenido"
   ]
  },
  {
   "cell_type": "code",
   "execution_count": 21,
   "metadata": {
    "colab": {
     "base_uri": "https://localhost:8080/"
    },
    "id": "Sj57ZVaOtRgI",
    "outputId": "edcfb303-467f-468a-effb-6cf3bb5344eb"
   },
   "outputs": [
    {
     "name": "stdout",
     "output_type": "stream",
     "text": [
      "El tipo de movies es <class 'list'>\n",
      "Peliculas tiene 28795 elementos\n"
     ]
    }
   ],
   "source": [
    "print(f\"El tipo de movies es {type(peliculas)}\")\n",
    "print(f\"Peliculas tiene {len(peliculas)} elementos\")"
   ]
  },
  {
   "cell_type": "code",
   "execution_count": 22,
   "metadata": {
    "colab": {
     "base_uri": "https://localhost:8080/"
    },
    "id": "C9MxVY-ytRgK",
    "outputId": "8cc051e4-1d19-4cc6-f6cb-43da644eb125"
   },
   "outputs": [
    {
     "name": "stdout",
     "output_type": "stream",
     "text": [
      "El primer elemento de peliculas es {'title': 'After Dark in Central Park', 'year': 1900, 'cast': [], 'genres': []}\n",
      "El primer elemento es del tipo <class 'dict'>\n"
     ]
    }
   ],
   "source": [
    "print(f\"El primer elemento de peliculas es {peliculas[0]}\")\n",
    "print(f\"El primer elemento es del tipo {type(peliculas[0])}\")"
   ]
  },
  {
   "cell_type": "markdown",
   "metadata": {
    "id": "7LXiCyHxtRgL"
   },
   "source": [
    "Entonces movies es una lista de diccionarios, donde cada diccionario representa una película. Cada película tiene un título, un año de lanzamiento, una lista de actores (cast) y una lista de géneros (genres)."
   ]
  },
  {
   "cell_type": "markdown",
   "metadata": {
    "id": "qPjthYUxtRgL"
   },
   "source": [
    "Entonces, para acceder a la información de una película, primero accedemos a la lista de películas y luego al índice de la película que queremos ver. Por ejemplo, para acceder al título de la primera película, usamos `peliculas[0]['title']` y se haría lo mismo para acceder a los otros datos"
   ]
  },
  {
   "cell_type": "markdown",
   "metadata": {
    "id": "i-exIDx2tRgL"
   },
   "source": [
    "# Misión 1: Modelación de entidades"
   ]
  },
  {
   "cell_type": "code",
   "execution_count": 23,
   "metadata": {
    "id": "vwitgfGytRgM"
   },
   "outputs": [],
   "source": [
    "class Actor:\n",
    "    def __init__(self, nombre_completo, inicio_carrera):\n",
    "        self.nombre_completo = nombre_completo\n",
    "        self.n_peliculas = 0\n",
    "        self.inicio_carrera = inicio_carrera\n",
    "        self.fin_carrera = inicio_carrera\n",
    "\n",
    "    def actualizar_historial(self, año):\n",
    "        if self.inicio_carrera > año:\n",
    "            self.inicio_carrera = año\n",
    "        if self.fin_carrera < año:\n",
    "            self.fin_carrera = año\n",
    "\n",
    "    def años_historial(self):\n",
    "        return self.fin_carrera - self.inicio_carrera\n",
    "\n",
    "    def __repr__(self):\n",
    "        return f\"{self.nombre_completo}\"\n",
    "\n",
    "class Genero:\n",
    "    def __init__(self, nombre):\n",
    "        self.nombre = nombre\n",
    "        self.n_peliculas = 0\n",
    "\n",
    "    def __repr__(self):\n",
    "        return f\"{self.nombre}\"\n",
    "\n",
    "class Pelicula:\n",
    "    def __init__(self, titulo, año, reparto, generos):\n",
    "        self.titulo = titulo\n",
    "        self.año = año\n",
    "        self.reparto = reparto\n",
    "        self.generos = generos\n",
    "        self.add_info() #Notar que es posible que en un metodo se llame a otro metodo de la misma clase, \n",
    "                        #para el cual, se puede lograr usando self y con ello, como lo muestra este metodo en especifico\n",
    "                        #es posible se actualizar la información, en este caso, del numero de peliculas de los actores\n",
    "                        #que esta almacenado en self.reparto, atributo que viene siendo una lista de objetos de\n",
    "                        #la clase \"Genero\"\n",
    "\n",
    "    def add_info(self):\n",
    "        for actor in self.reparto:\n",
    "            actor.n_peliculas += 1\n",
    "        for genero in self.generos:\n",
    "            genero.n_peliculas += 1\n",
    "\n",
    "    def __repr__(self):\n",
    "        return f\"{self.titulo} ({self.año}) - {self.reparto} - {self.generos}\""
   ]
  },
  {
   "cell_type": "markdown",
   "metadata": {
    "id": "8l7N8mTutRgN"
   },
   "source": [
    "## Misión 2: Cargando datos a objetos"
   ]
  },
  {
   "cell_type": "markdown",
   "metadata": {
    "id": "0REdROs8tRgN"
   },
   "source": [
    "Se decidió que tanto para los actores, los géneros y las películas se utilizarían diccionarios para guardar los objetos de cada tipo."
   ]
  },
  {
   "cell_type": "code",
   "execution_count": 24,
   "metadata": {
    "id": "eRRIYK_-tRgO"
   },
   "outputs": [],
   "source": [
    "dict_actores = {}\n",
    "dict_generos = {}\n",
    "dict_peliculas = {}"
   ]
  },
  {
   "cell_type": "markdown",
   "metadata": {
    "id": "IVCCgJ19tRgO"
   },
   "source": [
    "Se recorre la lista de películas y se crea un objeto de las clases correspondientes para cada actor, género y película. Luego se agrega cada uno de ellos a su respectivo diccionario."
   ]
  },
  {
   "cell_type": "code",
   "execution_count": 25,
   "metadata": {
    "colab": {
     "base_uri": "https://localhost:8080/"
    },
    "id": "pAxjkYxQtRgP",
    "outputId": "2be9018f-ce34-4f1d-f1db-d72759b5b1a8"
   },
   "outputs": [
    {
     "name": "stdout",
     "output_type": "stream",
     "text": [
      "********************************************************************************\n",
      "Película duplicada: The Prince and Betty - (1919) - (William Desmond, Mary Thurman) - [Comedy]\n",
      "En el diccionario ya está: The Prince and Betty (1919) - (William Desmond, Mary Thurman) - [Comedy]\n",
      "********************************************************************************\n",
      "********************************************************************************\n",
      "Película duplicada: The Virtuous Thief - (1919) - (Enid Bennett, Niles Welch) - [Drama]\n",
      "En el diccionario ya está: The Virtuous Thief (1919) - (Enid Bennett, Niles Welch) - [Drama]\n",
      "********************************************************************************\n",
      "********************************************************************************\n",
      "Película duplicada: The Wise Kid - (1922) - (Gladys Walton, David Butler) - [Comedy]\n",
      "En el diccionario ya está: The Wise Kid (1922) - (Gladys Walton, David Butler) - [Comedy]\n",
      "********************************************************************************\n",
      "********************************************************************************\n",
      "Película duplicada: The White Sister - (1923) - (Lillian Gish, Ronald Colman) - [Drama]\n",
      "En el diccionario ya está: The White Sister (1923) - (Lillian Gish, Ronald Colman) - [Drama]\n",
      "********************************************************************************\n",
      "********************************************************************************\n",
      "Película duplicada: Wild Bill Hickok Rides - (1942) - (Constance Bennett, Bruce Cabot) - [Western]\n",
      "En el diccionario ya está: Wild Bill Hickok Rides (1942) - (Constance Bennett, Bruce Cabot) - [Western]\n",
      "********************************************************************************\n",
      "********************************************************************************\n",
      "Película duplicada: The Rough, Tough West - (1952) - (Charles Starrett, Carolina Cotton) - [Western]\n",
      "En el diccionario ya está: The Rough, Tough West (1952) - (Charles Starrett, Carolina Cotton) - [Western]\n",
      "********************************************************************************\n"
     ]
    }
   ],
   "source": [
    "for pelicula in peliculas:\n",
    "    cast = []\n",
    "    generos = []\n",
    "    for actor in pelicula[\"cast\"]:\n",
    "        if actor not in dict_actores:\n",
    "            dict_actores[actor] = Actor(actor, pelicula[\"year\"])\n",
    "        else:\n",
    "            dict_actores[actor].actualizar_historial(pelicula[\"year\"])\n",
    "        cast.append(dict_actores[actor])\n",
    "    for genero in pelicula[\"genres\"]:\n",
    "        if genero not in dict_generos:\n",
    "            dict_generos[genero] = Genero(genero)\n",
    "        generos.append(dict_generos[genero])\n",
    "    if (pelicula[\"title\"], pelicula[\"year\"],tuple(cast)) not in dict_peliculas:\n",
    "        dict_peliculas[(pelicula[\"title\"], pelicula[\"year\"], tuple(cast))] = Pelicula(pelicula[\"title\"], pelicula[\"year\"], tuple(cast), generos)\n",
    "    else:\n",
    "        print(\"*\"*80)\n",
    "        print(f\"Película duplicada: {pelicula['title']} - ({pelicula['year']}) - {tuple(cast)} - {generos}\")\n",
    "        pelicula_found = dict_peliculas[(pelicula[\"title\"], pelicula[\"year\"], tuple(cast))]\n",
    "        print(f\"En el diccionario ya está: {pelicula_found}\")\n",
    "        print(\"*\"*80)\n"
   ]
  },
  {
   "cell_type": "markdown",
   "metadata": {
    "id": "18BYOucatRgP"
   },
   "source": [
    "Para almacenar los objetos de las películas se utiliza un diccionario, donde la llave es una tupla que contiene el título de la película, el año de lanzamiento y una tupla con los nombres de los actores. Dicho esto se encontraron películas con el mismo título, año de lanzamiento y actores, para evitar tener dos objetos de la misma película se decidió utilizar un `if` para verificar si la película ya estaba en el diccionario de películas."
   ]
  },
  {
   "cell_type": "code",
   "execution_count": 26,
   "metadata": {
    "id": "OuSE4qCdtRgP",
    "outputId": "fa3c7d87-d0a7-4a0f-dc9a-99920af88038"
   },
   "outputs": [
    {
     "name": "stdout",
     "output_type": "stream",
     "text": [
      "dict_peliculas tiene 28789 elementos\n"
     ]
    }
   ],
   "source": [
    "print(f\"dict_peliculas tiene {len(dict_peliculas)} elementos\")"
   ]
  },
  {
   "cell_type": "markdown",
   "metadata": {
    "id": "Nl-B-TZwtRgQ"
   },
   "source": [
    "Se puede observar que el diccionario tiene almacenados 28789 elementos, lo cual es el número de películas que se encuentran en `peliculas`, del archivo json, sin contar las 6 repeticiones. Por ende la creación de objetos de las películas se realizó de manera correcta."
   ]
  },
  {
   "cell_type": "markdown",
   "metadata": {
    "id": "e7_86bsYtRgQ"
   },
   "source": [
    "# Misión 3: Consultas sobre los datos"
   ]
  },
  {
   "cell_type": "markdown",
   "metadata": {
    "id": "DcsdMgWktRgQ"
   },
   "source": [
    "### Encuentre los 5 géneros más populares"
   ]
  },
  {
   "cell_type": "code",
   "execution_count": 27,
   "metadata": {
    "id": "x8T-yeHhtRgQ"
   },
   "outputs": [],
   "source": [
    "def generos_populares(dict_generos):\n",
    "    lista_generos = list(dict_generos.values())\n",
    "    for i in range(len(lista_generos)):\n",
    "        for j in range(i + 1, len(lista_generos)):\n",
    "            if lista_generos[j].n_peliculas > lista_generos[i].n_peliculas:\n",
    "                lista_generos[i], lista_generos[j] = lista_generos[j], lista_generos[i]\n",
    "                \n",
    "    generos_mas_populares = lista_generos[:5]\n",
    "    print(\"Los 5 géneros más populares son:\")\n",
    "    for genero in generos_mas_populares:\n",
    "        print(f\"{genero.nombre} hay {genero.n_peliculas} películas de este género\")"
   ]
  },
  {
   "cell_type": "code",
   "execution_count": 28,
   "metadata": {
    "colab": {
     "base_uri": "https://localhost:8080/"
    },
    "id": "8BGGpBORtRgR",
    "outputId": "9c955d2e-2e03-448b-f643-157798c73d76"
   },
   "outputs": [
    {
     "name": "stdout",
     "output_type": "stream",
     "text": [
      "Los 5 géneros más populares son:\n",
      "Drama hay 8742 películas de este género\n",
      "Comedy hay 7361 películas de este género\n",
      "Western hay 3011 películas de este género\n",
      "Crime hay 1499 películas de este género\n",
      "Horror hay 1166 películas de este género\n"
     ]
    }
   ],
   "source": [
    "generos_populares(dict_generos)"
   ]
  },
  {
   "cell_type": "markdown",
   "metadata": {
    "id": "eZowvdZMtRgR"
   },
   "source": [
    "### Encuentre los 3 años con más películas estrenadas."
   ]
  },
  {
   "cell_type": "code",
   "execution_count": 29,
   "metadata": {},
   "outputs": [],
   "source": [
    "def peliculas_mas_premiadas(dict_peliculas):\n",
    "    dict_premios = {}\n",
    "    for movie in dict_peliculas.values():\n",
    "        if movie.año not in dict_premios:\n",
    "            dict_premios[movie.año] = 0\n",
    "        dict_premios[movie.año] += 1\n",
    "\n",
    "    lista_años = list(dict_premios.items())\n",
    "\n",
    "    for i in range(len(lista_años) - 1):\n",
    "        for j in range(i + 1, len(lista_años)):\n",
    "            if lista_años[j][1] > lista_años[i][1]:\n",
    "                lista_años[i], lista_años[j] = lista_años[j], lista_años[i]\n",
    "\n",
    "    lista_años = lista_años[:3]\n",
    "    \n",
    "    print(\"Los 3 años con más películas estrenadas son:\")\n",
    "    for data in lista_años:\n",
    "        print(f\"El año {data[0]} con {data[1]} películas producidas\")\n"
   ]
  },
  {
   "cell_type": "code",
   "execution_count": 30,
   "metadata": {
    "id": "vBvPSqAztRgR",
    "outputId": "70ff7fe5-e207-49d1-f2c9-c7f0567b4e08"
   },
   "outputs": [
    {
     "name": "stdout",
     "output_type": "stream",
     "text": [
      "Los 3 años con más películas estrenadas son:\n",
      "El año 1919 con 632 películas producidas\n",
      "El año 1925 con 572 películas producidas\n",
      "El año 1936 con 504 películas producidas\n"
     ]
    }
   ],
   "source": [
    "peliculas_mas_premiadas(dict_peliculas)"
   ]
  },
  {
   "cell_type": "markdown",
   "metadata": {
    "id": "iKp-GpU-tRgS"
   },
   "source": [
    "### Encuentre a los 5 actores con la trayectoria más larga, es decir, mayor cantidad de años actuando"
   ]
  },
  {
   "cell_type": "code",
   "execution_count": 31,
   "metadata": {},
   "outputs": [],
   "source": [
    "def trayectorias_mas_largas(dict_actores):\n",
    "    lista_actores = list(dict_actores.values())\n",
    "    for i in range(len(lista_actores)):\n",
    "        for j in range(i + 1, len(lista_actores)):\n",
    "            if lista_actores[j].años_historial() > lista_actores[i].años_historial():\n",
    "                lista_actores[i], lista_actores[j] = lista_actores[j], lista_actores[i]\n",
    "    lista_actores = lista_actores[:5]\n",
    "    print(\"Los 5 actores con trayectoria más larga son:\")\n",
    "    for actor in lista_actores:\n",
    "        print(f\"{actor.nombre_completo} con {actor.años_historial()} años de trayectoria\")"
   ]
  },
  {
   "cell_type": "code",
   "execution_count": 32,
   "metadata": {
    "id": "ZyMrv7K3tRgS",
    "outputId": "9df5b0e9-e2ab-477d-e9a7-12bdaab4163f"
   },
   "outputs": [
    {
     "name": "stdout",
     "output_type": "stream",
     "text": [
      "Los 5 actores con trayectoria más larga son:\n",
      ". con 101 años de trayectoria\n",
      "and con 98 años de trayectoria\n",
      "Harrison Ford con 98 años de trayectoria\n",
      "Gloria Stuart con 80 años de trayectoria\n",
      "Lillian Gish con 75 años de trayectoria\n"
     ]
    }
   ],
   "source": [
    "trayectorias_mas_largas(dict_actores)"
   ]
  },
  {
   "cell_type": "markdown",
   "metadata": {
    "id": "vHPvZNSatRgS"
   },
   "source": [
    "### Encuentre el reparto de una película (2 o más actores) que se haya repetido completo en otras la mayor cantidad de veces."
   ]
  },
  {
   "cell_type": "code",
   "execution_count": 33,
   "metadata": {
    "id": "aN8PO2vitRgS"
   },
   "outputs": [],
   "source": [
    "def cast_mas_repetidos(dict_peliculas):\n",
    "    dict_cast = {}\n",
    "    for pelicula in dict_peliculas.values():\n",
    "        if len(pelicula.reparto) >= 2:\n",
    "            if pelicula.reparto not in dict_cast:\n",
    "                dict_cast[pelicula.reparto] = 0\n",
    "            dict_cast[pelicula.reparto] += 1\n",
    "        else:\n",
    "            continue    \n",
    "    \n",
    "    max_repeticiones = -1\n",
    "    max_cast = None\n",
    "    for cast, repeticiones in dict_cast.items():\n",
    "        if repeticiones > max_repeticiones:\n",
    "            max_repeticiones = repeticiones\n",
    "            max_cast = cast\n",
    "    print(f\"El reparto de una película que más se ha repetido es {max_cast} con {max_repeticiones} repeticiones\")"
   ]
  },
  {
   "cell_type": "code",
   "execution_count": 34,
   "metadata": {
    "id": "uYGJPUeitRgT",
    "outputId": "6a72ca7c-87b0-4624-d77c-71dc8c63491c"
   },
   "outputs": [
    {
     "name": "stdout",
     "output_type": "stream",
     "text": [
      "El reparto de una película que más se ha repetido es (Harold Lloyd, Bebe Daniels) con 44 repeticiones\n"
     ]
    }
   ],
   "source": [
    "cast_mas_repetidos(dict_peliculas)"
   ]
  },
  {
   "cell_type": "markdown",
   "metadata": {},
   "source": [
    "# Test Case"
   ]
  },
  {
   "cell_type": "markdown",
   "metadata": {},
   "source": [
    "### Test de Clases"
   ]
  },
  {
   "cell_type": "code",
   "execution_count": 35,
   "metadata": {},
   "outputs": [
    {
     "name": "stderr",
     "output_type": "stream",
     "text": [
      "test_actor_historial (__main__.TestE2Clases.test_actor_historial) ... ok\n",
      "test_genero_repr (__main__.TestE2Clases.test_genero_repr) ... ok\n",
      "test_pelicula_agregar_info (__main__.TestE2Clases.test_pelicula_agregar_info) ... ok\n",
      "test_cast_mas_repetidos (__main__.TestFuncionesE2.test_cast_mas_repetidos) ... ok\n",
      "test_generos_populares (__main__.TestFuncionesE2.test_generos_populares) ... ok\n",
      "test_peliculas_mas_premiadas (__main__.TestFuncionesE2.test_peliculas_mas_premiadas) ... ok\n",
      "test_trayectorias_mas_largas (__main__.TestFuncionesE2.test_trayectorias_mas_largas) ... ok\n",
      "\n",
      "----------------------------------------------------------------------\n",
      "Ran 7 tests in 0.009s\n",
      "\n",
      "OK\n"
     ]
    },
    {
     "name": "stdout",
     "output_type": "stream",
     "text": [
      "El reparto de una película que más se ha repetido es (Actor Uno, Actor Dos) con 1 repeticiones\n",
      "Los 5 géneros más populares son:\n",
      "Comedia hay 2 películas de este género\n",
      "Acción hay 1 películas de este género\n",
      "Los 3 años con más películas estrenadas son:\n",
      "El año 2010 con 1 películas producidas\n",
      "El año 2012 con 1 películas producidas\n",
      "Los 5 actores con trayectoria más larga son:\n",
      "Actor Uno con 0 años de trayectoria\n",
      "Actor Dos con 0 años de trayectoria\n"
     ]
    }
   ],
   "source": [
    "import unittest #Librería que nos sirve para hacer los test case\n",
    "\n",
    "class TestE2Clases(unittest.TestCase): #Debe heredar de la clase TestCase de la libreria de unittest.\n",
    "    def test_actor_historial(self):\n",
    "        actor = Actor(\"Tom Hanks\", 1990)\n",
    "        actor.actualizar_historial(1985)\n",
    "        actor.actualizar_historial(2000)\n",
    "        self.assertEqual(actor.inicio_carrera, 1985) #assertEqual(a, b) verifica que a == b. En caso de que se cumpla, nos avisa con un \"ok\"\n",
    "                                                     #En caso de que no se cumpla, nos avisa con un \"FAIL\"\n",
    "        self.assertEqual(actor.fin_carrera, 2000)\n",
    "        self.assertEqual(actor.años_historial(), 15)\n",
    "\n",
    "    def test_genero_repr(self):\n",
    "        genero = Genero(\"Drama\")\n",
    "        self.assertEqual(repr(genero), \"Drama\")\n",
    "        genero.n_peliculas += 1\n",
    "        self.assertEqual(genero.n_peliculas, 1)\n",
    "\n",
    "    def test_pelicula_agregar_info(self):\n",
    "        actor1 = Actor(\"Actor Uno\", 2000)\n",
    "        actor2 = Actor(\"Actor Dos\", 2005)\n",
    "        genero1 = Genero(\"Comedia\")\n",
    "        genero2 = Genero(\"Acción\")\n",
    "        pelicula = Pelicula(\"Mi Película\", 2010, (actor1, actor2), [genero1, genero2])\n",
    "        self.assertEqual(actor1.n_peliculas, 1)\n",
    "        self.assertEqual(actor2.n_peliculas, 1)\n",
    "        self.assertEqual(genero1.n_peliculas, 1)\n",
    "        self.assertEqual(genero2.n_peliculas, 1)\n",
    "        self.assertIn(\"Mi Película\", repr(pelicula))\n",
    "\n",
    "\n",
    "if __name__ == \"__main__\":\n",
    "    unittest.main(argv=['first-arg-is-ignored'], exit=False, verbosity=2) # Lo que va en parentesis es útil para cuando se tengan test en Jupyter notebooks\n",
    "                                                                          # o en archivos de extensión .ipynb, para evitar problemas con el kernel.\n",
    "\n"
   ]
  },
  {
   "cell_type": "markdown",
   "metadata": {},
   "source": [
    "### Test de Funciones"
   ]
  },
  {
   "cell_type": "code",
   "execution_count": 36,
   "metadata": {},
   "outputs": [
    {
     "name": "stderr",
     "output_type": "stream",
     "text": [
      "test_actor_historial (__main__.TestE2Clases.test_actor_historial) ... ok\n",
      "test_genero_repr (__main__.TestE2Clases.test_genero_repr) ... ok\n",
      "test_pelicula_agregar_info (__main__.TestE2Clases.test_pelicula_agregar_info) ... ok\n",
      "test_cast_mas_repetidos (__main__.TestFuncionesE2.test_cast_mas_repetidos) ... ok\n",
      "test_generos_populares (__main__.TestFuncionesE2.test_generos_populares) ... ok\n",
      "test_peliculas_mas_premiadas (__main__.TestFuncionesE2.test_peliculas_mas_premiadas) ... ok\n",
      "test_trayectorias_mas_largas (__main__.TestFuncionesE2.test_trayectorias_mas_largas) ... ok\n",
      "\n",
      "----------------------------------------------------------------------\n",
      "Ran 7 tests in 0.003s\n",
      "\n",
      "OK\n"
     ]
    },
    {
     "name": "stdout",
     "output_type": "stream",
     "text": [
      "El reparto de una película que más se ha repetido es (Actor Uno, Actor Dos) con 1 repeticiones\n",
      "Los 5 géneros más populares son:\n",
      "Comedia hay 2 películas de este género\n",
      "Acción hay 1 películas de este género\n",
      "Los 3 años con más películas estrenadas son:\n",
      "El año 2010 con 1 películas producidas\n",
      "El año 2012 con 1 películas producidas\n",
      "Los 5 actores con trayectoria más larga son:\n",
      "Actor Uno con 0 años de trayectoria\n",
      "Actor Dos con 0 años de trayectoria\n"
     ]
    }
   ],
   "source": [
    "class TestFuncionesE2(unittest.TestCase):\n",
    "    def setUp(self):\n",
    "        # Esto es de prueba, creamos los actores y géneros para luego probarlos.\n",
    "        self.actor1 = Actor(\"Actor Uno\", 2000)\n",
    "        self.actor2 = Actor(\"Actor Dos\", 2005)\n",
    "        self.genero1 = Genero(\"Comedia\")\n",
    "        self.genero2 = Genero(\"Acción\")\n",
    "        self.pelicula1 = Pelicula(\"Mi Película\", 2010, (self.actor1, self.actor2), [self.genero1, self.genero2])\n",
    "        self.pelicula2 = Pelicula(\"Otra Película\", 2012, (self.actor1,), [self.genero1])\n",
    "        self.dict_actores = {self.actor1.nombre_completo: self.actor1, self.actor2.nombre_completo: self.actor2}\n",
    "        self.dict_generos = {self.genero1.nombre: self.genero1, self.genero2.nombre: self.genero2}\n",
    "        self.dict_peliculas = {\n",
    "            (\"Mi Película\", 2010, (self.actor1, self.actor2)): self.pelicula1,\n",
    "            (\"Otra Película\", 2012, (self.actor1,)): self.pelicula2\n",
    "        }\n",
    "\n",
    "    def test_generos_populares(self):\n",
    "        # Solo verificamos que la función no arroje error\n",
    "        generos_populares(self.dict_generos)\n",
    "\n",
    "    def test_peliculas_mas_premiadas(self):\n",
    "        peliculas_mas_premiadas(self.dict_peliculas)\n",
    "\n",
    "    def test_trayectorias_mas_largas(self):\n",
    "        trayectorias_mas_largas(self.dict_actores)\n",
    "\n",
    "    def test_cast_mas_repetidos(self):\n",
    "        cast_mas_repetidos(self.dict_peliculas)\n",
    "\n",
    "if __name__ == \"__main__\":\n",
    "    unittest.main(argv=['first-arg-is-ignored'], exit=False, verbosity=2)"
   ]
  }
 ],
 "metadata": {
  "colab": {
   "provenance": []
  },
  "kernelspec": {
   "display_name": "Python 3",
   "language": "python",
   "name": "python3"
  },
  "language_info": {
   "codemirror_mode": {
    "name": "ipython",
    "version": 3
   },
   "file_extension": ".py",
   "mimetype": "text/x-python",
   "name": "python",
   "nbconvert_exporter": "python",
   "pygments_lexer": "ipython3",
   "version": "3.12.4"
  }
 },
 "nbformat": 4,
 "nbformat_minor": 0
}
