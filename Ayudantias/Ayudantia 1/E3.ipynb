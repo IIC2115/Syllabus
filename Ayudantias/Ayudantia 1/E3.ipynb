{
 "cells": [
  {
   "cell_type": "markdown",
   "id": "f07c75cc",
   "metadata": {},
   "source": [
    "# Ejercicio 3 Capitulo 1\n",
    "diego.herrerag00@uc.cl"
   ]
  },
  {
   "cell_type": "markdown",
   "id": "b59c845a",
   "metadata": {},
   "source": [
    "# Primera Parte"
   ]
  },
  {
   "cell_type": "markdown",
   "id": "887f7d17",
   "metadata": {},
   "source": [
    "## Clases"
   ]
  },
  {
   "cell_type": "code",
   "execution_count": 1,
   "id": "5bf1983e",
   "metadata": {},
   "outputs": [],
   "source": [
    "class Estacion:\n",
    "    def __init__(self, nombre, ubicacion):\n",
    "        self.nombre = nombre\n",
    "        self.ubicacion = ubicacion\n",
    "\n",
    "    def mostrar_info(self):\n",
    "        print(f\"Estación: {self.nombre}\")\n",
    "        print(f\"Ubicación: {self.ubicacion}\")\n",
    "\n",
    "class Pasajero:\n",
    "    def __init__(self, nombre, edad):\n",
    "        self.nombre = nombre\n",
    "        self.edad = edad\n",
    "\n",
    "    def mostrar_info(self):\n",
    "        print(f\"Pasajero: {self.nombre}\")\n",
    "        print(f\"Edad: {self.edad}\")"
   ]
  },
  {
   "cell_type": "code",
   "execution_count": 2,
   "id": "cbb04fb7",
   "metadata": {},
   "outputs": [
    {
     "name": "stdout",
     "output_type": "stream",
     "text": [
      "Archivo 'red_viajes.json' generado correctamente y consistente.\n"
     ]
    }
   ],
   "source": [
    "def generar_red_json(estaciones, pasajeros, inicio, fin, nombre_archivo):\n",
    "    import json, random\n",
    "    from datetime import timedelta\n",
    "\n",
    "    viajes = []\n",
    "    for pasajero in pasajeros:\n",
    "        hora_actual = inicio\n",
    "        while hora_actual < fin:\n",
    "            origen, destino = random.sample(estaciones, 2)\n",
    "            duracion = timedelta(minutes=random.randint(10, 30)) # Aquí con Timedelta se crea un intervalo de tiempo con la duración que entrege el random. \n",
    "            hora_fin = hora_actual + duracion\n",
    "            if hora_fin > fin:\n",
    "                break\n",
    "            viaje = {\n",
    "                \"pasajero\": pasajero.nombre,\n",
    "                \"edad\": pasajero.edad,\n",
    "                \"origen\": origen.nombre,\n",
    "                \"destino\": destino.nombre,\n",
    "                \"inicio\": hora_actual.strftime(\"%Y-%m-%d %H:%M\"),\n",
    "                \"fin\": hora_fin.strftime(\"%Y-%m-%d %H:%M\")\n",
    "            }\n",
    "            viajes.append(viaje)\n",
    "            hora_actual = hora_fin + timedelta(minutes=random.randint(5, 20))\n",
    "\n",
    "    datos = {\n",
    "        \"estaciones\": [{\"nombre\": e.nombre, \"ubicacion\": e.ubicacion} for e in estaciones],\n",
    "        \"pasajeros\": [{\"nombre\": p.nombre, \"edad\": p.edad} for p in pasajeros],\n",
    "        \"viajes\": viajes,\n",
    "        \"intervalo\": {\n",
    "            \"inicio\": inicio.strftime(\"%Y-%m-%d %H:%M\"), #Cada símbolo con % es un código de formato: Y es para año con 4 dígitos, m es para mes con 2 dígitos, \n",
    "                                                         #d es para día con 2 dígitos, H es para hora con 2 dígitos, M es para minutos con 2 dígitos.\n",
    "            \"fin\": fin.strftime(\"%Y-%m-%d %H:%M\") #strftime transforma un texto a un valor \"date\". \n",
    "        }\n",
    "    }\n",
    "\n",
    "    with open(nombre_archivo, \"w\", encoding=\"utf-8\") as f:\n",
    "        json.dump(datos, f, ensure_ascii=False, indent=4) #Se le escribe False porque en caso contrario, todos los caracteres que no sean ASCII se guardan como secuencias \\uXXXX.\n",
    "                                                          #Se le da intend=4 para que sea el archivo más legible, con 4 sangrias por nivel, cada nivel es una profundidad del diccionario\n",
    "                                                          \n",
    "    print(f\"Archivo '{nombre_archivo}' generado correctamente y consistente.\")\n",
    "\n",
    "# Ejemplo de uso\n",
    "from datetime import datetime # Modulo para representar el momento exacto en el tiempo: \n",
    "                              # datetime(year, month, day, hour, minute) = <day> de <month> de <year> a las <hour>:<minute>. Los parametros se entregan como int. \n",
    "                              \n",
    "estaciones = [Estacion(\"Central\", \"Santiago Centro\"), Estacion(\"Universidad de Chile\", \"Santiago Centro\"), Estacion(\"Los Héroes\", \"Santiago Centro\")]\n",
    "pasajeros = [Pasajero(\"Ana\", 25), Pasajero(\"Luis\", 30), Pasajero(\"Sofía\", 22)]\n",
    "inicio = datetime(2025, 8, 13, 8, 0) #Aqui ponemos como parametro el año, mes, día, hora y minuto de inicio, el restante, como segundos, microsegundos..quedan en cero por defecto\n",
    "fin = datetime(2025, 8, 13, 10, 0) # Lo mismo de antes pero para el fin. \n",
    "generar_red_json(estaciones, pasajeros, inicio, fin,\"red_viajes.json\")"
   ]
  },
  {
   "cell_type": "markdown",
   "id": "e166358f",
   "metadata": {},
   "source": [
    "# Segunda parte"
   ]
  },
  {
   "cell_type": "code",
   "execution_count": 3,
   "id": "4852b055",
   "metadata": {},
   "outputs": [
    {
     "name": "stdout",
     "output_type": "stream",
     "text": [
      "Simulación iniciada: 2025-08-13 08:00:00 a 2025-08-13 10:00:00\n",
      "Simulación finalizada. Archivo 'simulacion.json' generado.\n"
     ]
    }
   ],
   "source": [
    "import json\n",
    "import random\n",
    "from datetime import datetime\n",
    "\n",
    "def simulador_red(estaciones, pasajeros, inicio, fin, usar_json=False, archivo_json=None, archivo_salida=\"simulacion.json\"):\n",
    "    if usar_json and archivo_json:\n",
    "        with open(archivo_json, \"r\", encoding=\"utf-8\") as f:\n",
    "            datos = json.load(f)\n",
    "    \n",
    "        \n",
    "        estaciones = []\n",
    "        for e in datos['estaciones']:\n",
    "            estaciones.append(Estacion(e['nombre'], e['ubicacion']))\n",
    "\n",
    "        pasajeros = []\n",
    "        for p in datos['pasajeros']:\n",
    "            pasajeros.append(Pasajero(p['nombre'], p['edad']))\n",
    "\n",
    "        inicio = datetime.strptime(datos['intervalo']['inicio'], \"%Y-%m-%d %H:%M\")\n",
    "        fin = datetime.strptime(datos['intervalo']['fin'], \"%Y-%m-%d %H:%M\")\n",
    "\n",
    "    print(f\"Simulación iniciada: {inicio} a {fin}\")\n",
    "    eventos = []\n",
    "    \n",
    "    minutos_inicio = inicio.hour * 60 + inicio.minute\n",
    "    minutos_fin = fin.hour * 60 + fin.minute\n",
    "    fecha = inicio.strftime(\"%Y-%m-%d\")\n",
    "    for pasajero in pasajeros:\n",
    "        minutos_actual = minutos_inicio\n",
    "        while minutos_actual < minutos_fin:\n",
    "            origen, destino = random.sample(estaciones, 2)\n",
    "            duracion = random.randint(10, 30) # Aquí se define la duración del viaje en minutos que entrega el random.\n",
    "            minutos_fin_viaje = minutos_actual + duracion\n",
    "            if minutos_fin_viaje > minutos_fin:\n",
    "                break\n",
    "            hora_inicio = f\"{fecha} {minutos_actual//60:02d}:{minutos_actual%60:02d}\"\n",
    "            hora_fin = f\"{fecha} {minutos_fin_viaje//60:02d}:{minutos_fin_viaje%60:02d}\"\n",
    "            evento = {\n",
    "                \"pasajero\": pasajero.nombre,\n",
    "                \"origen\": origen.nombre,\n",
    "                \"destino\": destino.nombre,\n",
    "                \"inicio\": hora_inicio,\n",
    "                \"fin\": hora_fin\n",
    "            }\n",
    "            eventos.append(evento)\n",
    "            minutos_actual = minutos_fin_viaje + random.randint(5, 20)\n",
    "\n",
    "    resultado = {\n",
    "        \"estaciones\": [{\"nombre\": e.nombre, \"ubicacion\": e.ubicacion} for e in estaciones],\n",
    "        \"pasajeros\": [{\"nombre\": p.nombre, \"edad\": p.edad} for p in pasajeros],\n",
    "        \"eventos\": eventos,\n",
    "        \"intervalo\": {\n",
    "            \"inicio\": inicio.strftime(\"%Y-%m-%d %H:%M\"), #Cada símbolo con % es un código de formato: Y es para año con 4 dígitos, m es para mes con 2 dígitos, \n",
    "                                                         #d es para día con 2 dígitos, H es para hora con 2 dígitos, M es para minutos con 2 dígitos.\n",
    "            \"fin\": fin.strftime(\"%Y-%m-%d %H:%M\") #strftime transforma un texto a un valor \"date\".\n",
    "        }\n",
    "    }\n",
    "\n",
    "    with open(archivo_salida, \"w\", encoding=\"utf-8\") as f:\n",
    "        json.dump(resultado, f, ensure_ascii=False, indent=4) #Se le escribe False porque en caso contrario, todos los caracteres que no sean ASCII se guardan como secuencias \\uXXXX.\n",
    "                                                              #Se le da intend=4 para que sea el archivo más legible, con 4 sangrias por nivel, cada nivel es una profundidad del diccionario\n",
    "                                                          \n",
    "    print(f\"Simulación finalizada. Archivo '{archivo_salida}' generado.\")\n",
    "\n",
    "\n",
    "# Ejemplo de uso\n",
    "estaciones = [Estacion(\"Central\", \"Santiago Centro\"), Estacion(\"Universidad de Chile\", \"Santiago Centro\"), Estacion(\"Los Héroes\", \"Santiago Centro\")]\n",
    "pasajeros = [Pasajero(\"Ana\", 25), Pasajero(\"Luis\", 30), Pasajero(\"Sofía\", 22)]\n",
    "inicio = datetime(2025, 8, 13, 8, 0) #Aqui ponemos como parametro el año, mes, día, hora y minuto de inicio, el restante, como segundos, microsegundos..quedan en cero por defecto\n",
    "fin = datetime(2025, 8, 13, 10, 0) # Lo mismo de antes pero para el fin. \n",
    "simulador_red(estaciones, pasajeros, inicio, fin)\n"
   ]
  },
  {
   "cell_type": "markdown",
   "id": "b3fa1477",
   "metadata": {},
   "source": [
    "# Tercera Parte"
   ]
  },
  {
   "cell_type": "code",
   "execution_count": 4,
   "id": "393602d0",
   "metadata": {},
   "outputs": [
    {
     "name": "stdout",
     "output_type": "stream",
     "text": [
      "Estación con mayor tránsito: Central (8 pasajeros)\n",
      "Viaje más largo: Ana de Los Héroes a Universidad de Chile (30.0 minutos)\n",
      "Pasajero con más viajes: Ana (4 viajes)\n"
     ]
    }
   ],
   "source": [
    "import json\n",
    "from datetime import datetime\n",
    "\n",
    "def consultas_simulacion(archivo_simulacion):\n",
    "    with open(archivo_simulacion, \"r\", encoding=\"utf-8\") as f:\n",
    "        datos = json.load(f)\n",
    "    \n",
    "    if \"eventos\" in datos:\n",
    "        eventos = datos[\"eventos\"]\n",
    "    else:\n",
    "        eventos = datos[\"viajes\"]\n",
    "\n",
    "\n",
    "    # Estaciones con mayor tránsito de pasajeros\n",
    "    transito = {} #Creamos un diccionario \"transito\" para contar cuántas veces aparece cada estación como origen o destino.\n",
    "    for evento in eventos:\n",
    "        transito[evento[\"origen\"]] = transito.get(evento[\"origen\"], 0) + 1 #Esto es clave, dict.get(clave, 0) devuelve el valor actual si existe, \n",
    "                                                                            # y en caso de que no exista, devuelve 0. \n",
    "        transito[evento[\"destino\"]] = transito.get(evento[\"destino\"], 0) + 1\n",
    "    estacion_mas_transito = max(transito, key=transito.get)\n",
    "    cantidad = transito[estacion_mas_transito]\n",
    "    print(f\"Estación con mayor tránsito: {estacion_mas_transito} ({cantidad} pasajeros)\")\n",
    "\n",
    "    # Viaje de mayor duración\n",
    "    max_duracion = 0\n",
    "    viaje_largo = None\n",
    "    for evento in eventos:\n",
    "        inicio = datetime.strptime(evento[\"inicio\"], \"%Y-%m-%d %H:%M\") #Cada símbolo con % es un código de formato: Y es para año con 4 dígitos, m es para mes con 2 dígitos, \n",
    "                                                                       #d es para día con 2 dígitos, H es para hora con 2 dígitos, M es para minutos con 2 dígitos.\n",
    "        fin = datetime.strptime(evento[\"fin\"], \"%Y-%m-%d %H:%M\") #strftime transforma un texto a un valor \"date\".\n",
    "        \n",
    "        duracion = (fin - inicio).total_seconds() / 60 #total_seconds convierte una diferencia timedelta a segundos en float\n",
    "        if duracion > max_duracion:\n",
    "            max_duracion = duracion\n",
    "            viaje_largo = evento\n",
    "    print(f\"Viaje más largo: {viaje_largo['pasajero']} de {viaje_largo['origen']} a {viaje_largo['destino']} ({max_duracion:.1f} minutos)\")\n",
    "\n",
    "    # Aquí vemos los pasajeros con mas viajes\n",
    "    viajes_por_pasajero = {}\n",
    "    for evento in eventos:\n",
    "        nombre = evento[\"pasajero\"]\n",
    "        viajes_por_pasajero[nombre] = viajes_por_pasajero.get(nombre, 0) + 1\n",
    "    pasajero_top = max(viajes_por_pasajero, key=viajes_por_pasajero.get)\n",
    "    viajes_top = viajes_por_pasajero[pasajero_top]\n",
    "    print(f\"Pasajero con más viajes: {pasajero_top} ({viajes_top} viajes)\")\n",
    "\n",
    "\n",
    "consultas_simulacion(\"simulacion.json\")\n"
   ]
  },
  {
   "cell_type": "markdown",
   "id": "13cb62b0",
   "metadata": {},
   "source": [
    "## Test Case"
   ]
  },
  {
   "cell_type": "markdown",
   "id": "df4bf25e",
   "metadata": {},
   "source": [
    "### Test de Clases"
   ]
  },
  {
   "cell_type": "code",
   "execution_count": 5,
   "id": "c8e7590d",
   "metadata": {},
   "outputs": [
    {
     "name": "stderr",
     "output_type": "stream",
     "text": [
      "test_estacion_atributos (__main__.TestE3Clases.test_estacion_atributos) ... ok\n",
      "test_mostrar_info_estacion (__main__.TestE3Clases.test_mostrar_info_estacion) ... ok\n",
      "test_mostrar_info_pasajero (__main__.TestE3Clases.test_mostrar_info_pasajero) ... ok\n",
      "test_pasajero_atributos (__main__.TestE3Clases.test_pasajero_atributos) ... ok\n",
      "\n",
      "----------------------------------------------------------------------\n",
      "Ran 4 tests in 0.001s\n",
      "\n",
      "OK\n"
     ]
    },
    {
     "name": "stdout",
     "output_type": "stream",
     "text": [
      "Estación: Universidad de Chile\n",
      "Ubicación: Santiago Centro\n",
      "Pasajero: Luis\n",
      "Edad: 30\n",
      "Pasajero: Luis\n",
      "Edad: 30\n"
     ]
    }
   ],
   "source": [
    "import unittest\n",
    "\n",
    "\n",
    "class TestE3Clases(unittest.TestCase): #Debe heredar de la clase TestCase de la libreria de unittest. \n",
    "    def test_estacion_atributos(self):\n",
    "        est = Estacion(\"Central\", \"Santiago Centro\")\n",
    "        self.assertEqual(est.nombre, \"Central\") #assertEqual(a, b) verifica que a == b. En caso de que se cumpla, nos avisa con un \"ok\"\n",
    "                                                #En caso de que no se cumpla, nos avisa con un \"FAIL\"\n",
    "        self.assertEqual(est.ubicacion, \"Santiago Centro\")\n",
    "\n",
    "    def test_pasajero_atributos(self):\n",
    "        pas = Pasajero(\"Ana\", 25)\n",
    "        self.assertEqual(pas.nombre, \"Ana\")\n",
    "        self.assertEqual(pas.edad, 25)\n",
    "\n",
    "    def test_mostrar_info_estacion(self):\n",
    "        est = Estacion(\"Universidad de Chile\", \"Santiago Centro\")\n",
    "        # Para verificar que el método no tenga errores\n",
    "        est.mostrar_info()\n",
    "\n",
    "    def test_mostrar_info_pasajero(self):\n",
    "        pas = Pasajero(\"Luis\", 30)\n",
    "        # Para verificar que el método no tenga errores\n",
    "        pas.mostrar_info()\n",
    "\n",
    "        # Para verificar que el método no tenga errores\n",
    "        pas.mostrar_info()\n",
    "\n",
    "if __name__ == \"__main__\":\n",
    "    unittest.main(argv=['first-arg-is-ignored'], exit=False, verbosity=2)"
   ]
  },
  {
   "cell_type": "code",
   "execution_count": 6,
   "id": "cf5f33d0",
   "metadata": {},
   "outputs": [
    {
     "name": "stderr",
     "output_type": "stream",
     "text": [
      "test_estacion_atributos (__main__.TestE3Clases.test_estacion_atributos) ... ok\n",
      "test_mostrar_info_estacion (__main__.TestE3Clases.test_mostrar_info_estacion) ... ok\n",
      "test_mostrar_info_pasajero (__main__.TestE3Clases.test_mostrar_info_pasajero) ... ok\n",
      "test_pasajero_atributos (__main__.TestE3Clases.test_pasajero_atributos) ... ok\n",
      "test_consultas_simulacion_funciona (__main__.TestE3Funciones.test_consultas_simulacion_funciona) ... ok\n",
      "test_generar_red_json_crea_archivo (__main__.TestE3Funciones.test_generar_red_json_crea_archivo) ... ok\n",
      "test_simulador_red_simple_crea_archivo (__main__.TestE3Funciones.test_simulador_red_simple_crea_archivo) ... ok\n",
      "\n",
      "----------------------------------------------------------------------\n",
      "Ran 7 tests in 0.005s\n",
      "\n",
      "OK\n"
     ]
    },
    {
     "name": "stdout",
     "output_type": "stream",
     "text": [
      "Estación: Universidad de Chile\n",
      "Ubicación: Santiago Centro\n",
      "Pasajero: Luis\n",
      "Edad: 30\n",
      "Pasajero: Luis\n",
      "Edad: 30\n",
      "Archivo 'test_simulacion.json' generado correctamente y consistente.\n",
      "Estación con mayor tránsito: Central (5 pasajeros)\n",
      "Viaje más largo: Luis de Universidad de Chile a Central (23.0 minutos)\n",
      "Pasajero con más viajes: Ana (3 viajes)\n",
      "Archivo 'test_red_viajes.json' generado correctamente y consistente.\n",
      "Simulación iniciada: 2025-08-13 08:00:00 a 2025-08-13 09:00:00\n",
      "Simulación finalizada. Archivo 'test_simulacion_simple.json' generado.\n"
     ]
    }
   ],
   "source": [
    "from datetime import datetime\n",
    "\n",
    "class TestE3Funciones(unittest.TestCase):\n",
    "    def setUp(self):\n",
    "        self.estaciones = [Estacion(\"Central\", \"Santiago Centro\"), Estacion(\"Universidad de Chile\", \"Santiago Centro\")]\n",
    "        self.pasajeros = [Pasajero(\"Ana\", 25), Pasajero(\"Luis\", 30)]\n",
    "        self.inicio = datetime(2025, 8, 13, 8, 0)\n",
    "        self.fin = datetime(2025, 8, 13, 9, 0)\n",
    "\n",
    "    def test_generar_red_json_crea_archivo(self):\n",
    "        import os\n",
    "        nombre_archivo = \"test_red_viajes.json\"\n",
    "        generar_red_json(self.estaciones, self.pasajeros, self.inicio, self.fin, nombre_archivo)\n",
    "        self.assertTrue(os.path.exists(nombre_archivo)) #Esto verifica que una expresión sea verdadera\n",
    "        os.remove(nombre_archivo) #Se elimina el archivo\n",
    "\n",
    "    def test_simulador_red_simple_crea_archivo(self):\n",
    "        import os\n",
    "        nombre_archivo = \"test_simulacion_simple.json\"\n",
    "        simulador_red(self.estaciones, self.pasajeros, self.inicio, self.fin, archivo_salida=nombre_archivo)\n",
    "        self.assertTrue(os.path.exists(nombre_archivo))\n",
    "        os.remove(nombre_archivo)\n",
    "\n",
    "    def test_consultas_simulacion_funciona(self):\n",
    "        nombre_archivo = \"test_simulacion.json\"\n",
    "        generar_red_json(self.estaciones, self.pasajeros, self.inicio, self.fin, nombre_archivo)\n",
    "        # Solo verificamos que la función no arroje error\n",
    "        consultas_simulacion(nombre_archivo)\n",
    "        import os\n",
    "        os.remove(nombre_archivo)\n",
    "\n",
    "if __name__ == \"__main__\":\n",
    "    unittest.main(argv=['first-arg-is-ignored'], exit=False, verbosity=2)"
   ]
  }
 ],
 "metadata": {
  "kernelspec": {
   "display_name": "Python 3",
   "language": "python",
   "name": "python3"
  },
  "language_info": {
   "codemirror_mode": {
    "name": "ipython",
    "version": 3
   },
   "file_extension": ".py",
   "mimetype": "text/x-python",
   "name": "python",
   "nbconvert_exporter": "python",
   "pygments_lexer": "ipython3",
   "version": "3.12.4"
  }
 },
 "nbformat": 4,
 "nbformat_minor": 5
}
