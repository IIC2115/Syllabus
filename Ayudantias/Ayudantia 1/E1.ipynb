{
 "cells": [
  {
   "cell_type": "markdown",
   "id": "28ae0bda",
   "metadata": {
    "id": "28ae0bda"
   },
   "source": [
    "# Ejercicio Formativo 1 Capítulo 1\n",
    "### Diego Nicolás Herrera González"
   ]
  },
  {
   "cell_type": "markdown",
   "id": "1a6cc617",
   "metadata": {
    "id": "1a6cc617"
   },
   "source": [
    "## Tema escogido: Transporte"
   ]
  },
  {
   "cell_type": "code",
   "execution_count": 21,
   "id": "e57762a6",
   "metadata": {
    "id": "e57762a6"
   },
   "outputs": [],
   "source": [
    "from abc import ABC, abstractmethod\n",
    "\n",
    "class Vehiculo(ABC):\n",
    "    @abstractmethod\n",
    "    def __init__(self,nombre, motor):\n",
    "      self.nombre = nombre\n",
    "      self.motor = motor\n",
    "        \n",
    "\n",
    "\n",
    "    def sonido_arranque(self):\n",
    "        pass\n",
    "\n",
    "\n",
    "class VehiculoTerrestre(Vehiculo):\n",
    "\n",
    "  @abstractmethod\n",
    "  def __init__(self, nombre,rubro, motor):\n",
    "    super().__init__(nombre,motor)\n",
    "    self.rubro = rubro\n",
    "    \n",
    "\n",
    "class VehiculoAereo(Vehiculo):\n",
    "\n",
    "  @abstractmethod\n",
    "  def __init__(self, nombre, rubro, motor):\n",
    "    super().__init__(nombre,motor)\n",
    "    self.rubro = rubro\n",
    "\n",
    "\n",
    "\n",
    "class Auto(VehiculoTerrestre):\n",
    "    def __init__(self, nombre, marca, modelo, motor, rubro):\n",
    "        super().__init__(nombre, rubro, motor)\n",
    "        self.modelo = modelo\n",
    "        self.marca = marca\n",
    "\n",
    "\n",
    "    def sonido_arranque(self):\n",
    "        return \"Vroom Vroom\"\n",
    "\n",
    "\n",
    "class Moto(VehiculoTerrestre):\n",
    "    def __init__(self, nombre, marca,rubro, motor):\n",
    "        super().__init__(nombre, rubro, motor)\n",
    "        self.marca = marca\n",
    "\n",
    "    def sonido_arranque(self):\n",
    "        return \"Brum Brum\" \n",
    "\n",
    "\n",
    "class Avion(VehiculoAereo):\n",
    "  def __init__(self, nombre, aerolinea, capacidad, rubro, motor):\n",
    "      super().__init__(nombre, rubro, motor)\n",
    "      self.aerolinea = aerolinea\n",
    "      self.capacidad = capacidad\n",
    "\n",
    "  def sonido_arranque(self): #Aquí en el video está como \"sonido_despegue\", fue un error de tipeo, la idea es que sea\n",
    "                             #el mismo metodo \"sonido_arranque\" para que noten la diferencia con los vehiculos terrestres. \n",
    "    if self.rubro.lower() != \"militar\":\n",
    "      return \"Fiiiuuumm\"\n",
    "\n",
    "    else:\n",
    "      return \"Piiiitara\"\n",
    "\n",
    "\n",
    "\n",
    "class Motor:\n",
    "  def __init__(self, nombre):\n",
    "    self.nombre = nombre\n",
    "\n",
    "\n",
    "  def __str__(self):\n",
    "    return f\"Tipo de motor: {self.nombre}. \\nFabricado para entregar soluciones a las maquinarias de transporte.\"\n",
    "\n"
   ]
  },
  {
   "cell_type": "markdown",
   "id": "baedbf2e",
   "metadata": {},
   "source": []
  },
  {
   "cell_type": "markdown",
   "id": "6d432b76",
   "metadata": {},
   "source": [
    "# Diagrama de clases"
   ]
  },
  {
   "cell_type": "markdown",
   "id": "29cee779",
   "metadata": {},
   "source": [
    "![](figs/Diagrama_de_Clases.png)"
   ]
  },
  {
   "cell_type": "code",
   "execution_count": 22,
   "id": "INyDAxhlnIXa",
   "metadata": {
    "colab": {
     "base_uri": "https://localhost:8080/",
     "height": 180
    },
    "id": "INyDAxhlnIXa",
    "outputId": "d48c7c9b-1ec9-46d7-970d-c5c1128128b5"
   },
   "outputs": [
    {
     "name": "stdout",
     "output_type": "stream",
     "text": [
      "Error: Can't instantiate abstract class Vehiculo without an implementation for abstract method '__init__'\n"
     ]
    }
   ],
   "source": [
    "#Prueba de Clase Abstracta\n",
    "\n",
    "#Este codigo sirve para probar la instanciación de una clase abstracta, entregará un error\n",
    "# Al usar try y except, hacemos una logica parecida a un if, pero para evitar errores, vale decir:\n",
    "# try: Si esto funciona, ejecutalo. \n",
    "# except: Si lo anterior entregaba un error, muestrame el error (eso es puntual para este caso porque estamos printeando el error)\n",
    "try: \n",
    "    vehiculo = Vehiculo(\"Auto\", \"Combustion\")\n",
    "except TypeError as error:\n",
    "    print(f\"Error: {error}\")\n"
   ]
  },
  {
   "cell_type": "code",
   "execution_count": 23,
   "id": "-9YeC4RQnMOW",
   "metadata": {
    "id": "-9YeC4RQnMOW"
   },
   "outputs": [],
   "source": [
    "#Instancias\n",
    "\n",
    "motor_combustion = Motor(\"Combustión\")\n",
    "\n",
    "motor_electrico = Motor(\"Electrico\")\n",
    "\n",
    "moto_2r = Moto(\"2 Ruedas\",\"BMW\",\"Privado\",motor_combustion)\n",
    "\n",
    "Tesla = Auto(\"Moderno\",\"Tesla\",\"Tesla Model Y\",motor_electrico,\"Privado\")\n",
    "\n",
    "patrulla = Auto(\"Policial\", \"Chevrolet\",\"Dodge Charger Interceptor\",motor_combustion,\"Oficial\")\n",
    "\n",
    "avion = Avion(\"Avión común\",\"LATAM\",150,\"Comercial\",motor_combustion)\n",
    "\n",
    "caza = Avion(\"Avión de guerra\",\"F-16\",1,\"Militar\",motor_combustion)\n"
   ]
  },
  {
   "cell_type": "code",
   "execution_count": 24,
   "id": "zkFfuJNwt0ae",
   "metadata": {
    "colab": {
     "base_uri": "https://localhost:8080/"
    },
    "id": "zkFfuJNwt0ae",
    "outputId": "be9ea2db-a5e0-4c80-cff3-3d6e7704bfda"
   },
   "outputs": [
    {
     "name": "stdout",
     "output_type": "stream",
     "text": [
      "Tipo de motor: Combustión. \n",
      "Fabricado para entregar soluciones a las maquinarias de transporte.\n"
     ]
    }
   ],
   "source": [
    "print(motor_combustion) #En caso de no tener implementado el metodo __str()__ \n",
    "                        #se mostrará la representación por defecto del objeto, para este objeto en especifico,\n",
    "                        #imprimiría <__main__.Motor object at 0x7f8c8c0b3d90>"
   ]
  },
  {
   "cell_type": "code",
   "execution_count": null,
   "id": "XjyGXoUDuv7Y",
   "metadata": {
    "colab": {
     "base_uri": "https://localhost:8080/"
    },
    "id": "XjyGXoUDuv7Y",
    "outputId": "80bb034b-ed78-4bea-f020-8bfbcb31d050"
   },
   "outputs": [
    {
     "name": "stdout",
     "output_type": "stream",
     "text": [
      "Tipo de motor: Electrico. \n",
      "Fabricado para entregar soluciones a las maquinarias de transporte.\n"
     ]
    }
   ],
   "source": [
    "print(motor_electrico) #Ocurriría lo mismo que el objeto anterio de motor_combustión. "
   ]
  },
  {
   "cell_type": "code",
   "execution_count": 26,
   "id": "409szSzauEwj",
   "metadata": {
    "colab": {
     "base_uri": "https://localhost:8080/",
     "height": 35
    },
    "id": "409szSzauEwj",
    "outputId": "c46ee350-9531-4cc2-854c-0eea6e9e671b"
   },
   "outputs": [
    {
     "data": {
      "text/plain": [
       "'Vroom Vroom'"
      ]
     },
     "execution_count": 26,
     "metadata": {},
     "output_type": "execute_result"
    }
   ],
   "source": [
    "Tesla.sonido_arranque()"
   ]
  },
  {
   "cell_type": "code",
   "execution_count": 27,
   "id": "9GYL3y8euZxb",
   "metadata": {
    "colab": {
     "base_uri": "https://localhost:8080/",
     "height": 35
    },
    "id": "9GYL3y8euZxb",
    "outputId": "0dc4ee1f-5da9-4b7b-ec08-bb3984aa9a91"
   },
   "outputs": [
    {
     "data": {
      "text/plain": [
       "'Brum Brum'"
      ]
     },
     "execution_count": 27,
     "metadata": {},
     "output_type": "execute_result"
    }
   ],
   "source": [
    "moto_2r.sonido_arranque()"
   ]
  },
  {
   "cell_type": "code",
   "execution_count": 28,
   "id": "IR_fcHWpumok",
   "metadata": {
    "colab": {
     "base_uri": "https://localhost:8080/",
     "height": 35
    },
    "id": "IR_fcHWpumok",
    "outputId": "cab61ea5-42f1-4137-d53a-26ba6191daaa"
   },
   "outputs": [
    {
     "data": {
      "text/plain": [
       "'Vroom Vroom'"
      ]
     },
     "execution_count": 28,
     "metadata": {},
     "output_type": "execute_result"
    }
   ],
   "source": [
    "patrulla.sonido_arranque()"
   ]
  },
  {
   "cell_type": "code",
   "execution_count": 29,
   "id": "CorTmX00uqYq",
   "metadata": {
    "colab": {
     "base_uri": "https://localhost:8080/",
     "height": 35
    },
    "id": "CorTmX00uqYq",
    "outputId": "70fdc46f-5075-45fc-b827-a7fe19293fb9"
   },
   "outputs": [
    {
     "data": {
      "text/plain": [
       "'Fiiiuuumm'"
      ]
     },
     "execution_count": 29,
     "metadata": {},
     "output_type": "execute_result"
    }
   ],
   "source": [
    "avion.sonido_arranque()"
   ]
  },
  {
   "cell_type": "code",
   "execution_count": 30,
   "id": "N62R22HdvTIN",
   "metadata": {
    "colab": {
     "base_uri": "https://localhost:8080/",
     "height": 35
    },
    "id": "N62R22HdvTIN",
    "outputId": "b2b2a505-46c4-453c-e0ae-e72828675a90"
   },
   "outputs": [
    {
     "data": {
      "text/plain": [
       "'Piiiitara'"
      ]
     },
     "execution_count": 30,
     "metadata": {},
     "output_type": "execute_result"
    }
   ],
   "source": [
    "caza.sonido_arranque()"
   ]
  },
  {
   "cell_type": "markdown",
   "id": "5oiqiCh8u5wz",
   "metadata": {
    "id": "5oiqiCh8u5wz"
   },
   "source": [
    "## Almacenamiento de objetos"
   ]
  },
  {
   "cell_type": "code",
   "execution_count": 31,
   "id": "Mk9TwYa0u9ca",
   "metadata": {
    "id": "Mk9TwYa0u9ca"
   },
   "outputs": [],
   "source": [
    "vehiculos_aereos_objetos = [avion,caza]\n",
    "vehiculos_terrestres_privados_objetos = [Tesla,moto_2r]\n",
    "vehiculos_terrestres_publicos_objetos = [patrulla]\n",
    "\n",
    "\n",
    "vehiculos_aereos = [avion.aerolinea,caza.aerolinea]\n",
    "vehiculos_terrestres_privados = [Tesla.marca,moto_2r.nombre]\n",
    "vehiculos_terrestres_publicos = [patrulla.marca]\n",
    "\n",
    "especificaciones_vehiculos_privados = {}\n",
    "\n",
    "i = 1\n",
    "\n",
    "for vehiculo in vehiculos_terrestres_privados_objetos:\n",
    "  especificacion_puntual = {}\n",
    "  especificacion_puntual[\"Marca\"] = vehiculo.marca\n",
    "  try:\n",
    "    especificacion_puntual[\"Modelo o Nombre\"] = vehiculo.modelo\n",
    "  except:\n",
    "    especificacion_puntual[\"Modelo o Nombre\"] = vehiculo.nombre\n",
    "\n",
    "  especificaciones_vehiculos_privados[f\"Vehiculo_{i}\"] = especificacion_puntual\n",
    "\n",
    "  i += 1\n"
   ]
  },
  {
   "cell_type": "code",
   "execution_count": 32,
   "id": "PJMn6JS90-9c",
   "metadata": {
    "colab": {
     "base_uri": "https://localhost:8080/"
    },
    "id": "PJMn6JS90-9c",
    "outputId": "4dce8f1e-fa57-4017-b634-274f78195c34"
   },
   "outputs": [
    {
     "name": "stdout",
     "output_type": "stream",
     "text": [
      "[<__main__.Avion object at 0x107a915e0>, <__main__.Avion object at 0x107a913d0>]\n"
     ]
    }
   ],
   "source": [
    "print(vehiculos_aereos_objetos)"
   ]
  },
  {
   "cell_type": "code",
   "execution_count": 33,
   "id": "92tJBnJ21Buf",
   "metadata": {
    "colab": {
     "base_uri": "https://localhost:8080/"
    },
    "id": "92tJBnJ21Buf",
    "outputId": "3614e916-3416-4e56-d612-bdde1f1a82b1"
   },
   "outputs": [
    {
     "name": "stdout",
     "output_type": "stream",
     "text": [
      "[<__main__.Auto object at 0x107a91730>, <__main__.Moto object at 0x107a917c0>]\n"
     ]
    }
   ],
   "source": [
    "print(vehiculos_terrestres_privados_objetos)"
   ]
  },
  {
   "cell_type": "code",
   "execution_count": 34,
   "id": "mSDBPtVG1DGQ",
   "metadata": {
    "colab": {
     "base_uri": "https://localhost:8080/"
    },
    "id": "mSDBPtVG1DGQ",
    "outputId": "0e2122fb-6c34-4198-f07a-462b9c4fb478"
   },
   "outputs": [
    {
     "name": "stdout",
     "output_type": "stream",
     "text": [
      "[<__main__.Auto object at 0x107a91370>]\n"
     ]
    }
   ],
   "source": [
    "print(vehiculos_terrestres_publicos_objetos)"
   ]
  },
  {
   "cell_type": "code",
   "execution_count": 35,
   "id": "FPjQumEIzCwk",
   "metadata": {
    "colab": {
     "base_uri": "https://localhost:8080/"
    },
    "id": "FPjQumEIzCwk",
    "outputId": "1bb4fd22-073d-435c-97a3-2de9b5b73937"
   },
   "outputs": [
    {
     "name": "stdout",
     "output_type": "stream",
     "text": [
      "['LATAM', 'F-16']\n"
     ]
    }
   ],
   "source": [
    "print(vehiculos_aereos)"
   ]
  },
  {
   "cell_type": "code",
   "execution_count": 36,
   "id": "zy9qiGDEzIZR",
   "metadata": {
    "colab": {
     "base_uri": "https://localhost:8080/"
    },
    "id": "zy9qiGDEzIZR",
    "outputId": "fc42d74c-ce03-47f5-afdd-f5dd1be439c2"
   },
   "outputs": [
    {
     "name": "stdout",
     "output_type": "stream",
     "text": [
      "['Tesla', '2 Ruedas']\n"
     ]
    }
   ],
   "source": [
    "print(vehiculos_terrestres_privados)"
   ]
  },
  {
   "cell_type": "code",
   "execution_count": 37,
   "id": "QtQjHJv6zI0w",
   "metadata": {
    "colab": {
     "base_uri": "https://localhost:8080/"
    },
    "id": "QtQjHJv6zI0w",
    "outputId": "2905605d-073c-4c01-8098-5cec2efdf1b7"
   },
   "outputs": [
    {
     "name": "stdout",
     "output_type": "stream",
     "text": [
      "['Chevrolet']\n"
     ]
    }
   ],
   "source": [
    "print(vehiculos_terrestres_publicos)"
   ]
  },
  {
   "cell_type": "code",
   "execution_count": 38,
   "id": "tQ4kXHzwzKcm",
   "metadata": {
    "colab": {
     "base_uri": "https://localhost:8080/"
    },
    "id": "tQ4kXHzwzKcm",
    "outputId": "bfef6461-cb2f-44a9-a4b1-240fc8ca7da8"
   },
   "outputs": [
    {
     "data": {
      "text/plain": [
       "{'Vehiculo_1': {'Marca': 'Tesla', 'Modelo o Nombre': 'Tesla Model Y'},\n",
       " 'Vehiculo_2': {'Marca': 'BMW', 'Modelo o Nombre': '2 Ruedas'}}"
      ]
     },
     "execution_count": 38,
     "metadata": {},
     "output_type": "execute_result"
    }
   ],
   "source": [
    "especificaciones_vehiculos_privados"
   ]
  },
  {
   "cell_type": "markdown",
   "id": "oR3GFFq41PZK",
   "metadata": {
    "id": "oR3GFFq41PZK"
   },
   "source": [
    "# Pregunta: si tuviera qué buscar un objeto con un nombre específico en estas estructuras, ¿en cuál de las dos sería más rápido encontralo y por qué? Agregue a continuación de la celda de texto, una celda con código que justifique la respuesta entregada."
   ]
  },
  {
   "cell_type": "markdown",
   "id": "bBR12jF03hgA",
   "metadata": {
    "id": "bBR12jF03hgA"
   },
   "source": [
    "### Respuesta: Diccionario"
   ]
  },
  {
   "cell_type": "code",
   "execution_count": 39,
   "id": "x4sMeZ931b40",
   "metadata": {
    "colab": {
     "base_uri": "https://localhost:8080/"
    },
    "id": "x4sMeZ931b40",
    "outputId": "293db1dd-64c5-4d23-96e3-fe7c57a84606"
   },
   "outputs": [
    {
     "name": "stdout",
     "output_type": "stream",
     "text": [
      "Tesla Model Y\n"
     ]
    }
   ],
   "source": [
    "modelo_tesla = \"\"\n",
    "\n",
    "\n",
    "for vehiculo in especificaciones_vehiculos_privados.values():\n",
    "  if vehiculo.get(\"Marca\") == \"Tesla\":\n",
    "    modelo_tesla = vehiculo.get(\"Modelo o Nombre\")\n",
    "\n",
    "print(modelo_tesla)"
   ]
  },
  {
   "cell_type": "markdown",
   "id": "51b6ba7b",
   "metadata": {},
   "source": [
    "# Test case"
   ]
  },
  {
   "cell_type": "code",
   "execution_count": 40,
   "id": "3b1e78cc",
   "metadata": {},
   "outputs": [
    {
     "name": "stderr",
     "output_type": "stream",
     "text": [
      "test_auto_sonido_arranque (__main__.TestVehiculos.test_auto_sonido_arranque) ... ok\n",
      "test_avion_sonido_arranque (__main__.TestVehiculos.test_avion_sonido_arranque) ... ok\n",
      "test_moto_sonido_arranque (__main__.TestVehiculos.test_moto_sonido_arranque) ... ok\n",
      "test_motor_str (__main__.TestVehiculos.test_motor_str) ... ok\n",
      "test_vehiculo_abstract_instantiation (__main__.TestVehiculos.test_vehiculo_abstract_instantiation) ... ok\n",
      "\n",
      "----------------------------------------------------------------------\n",
      "Ran 5 tests in 0.005s\n",
      "\n",
      "OK\n"
     ]
    }
   ],
   "source": [
    "import unittest \n",
    "\n",
    "class TestVehiculos(unittest.TestCase): #Debe heredar de la clase TestCase de la libreria de unittest. \n",
    "    def test_auto_sonido_arranque(self):\n",
    "        motor = Motor(\"Gasolina\")\n",
    "        auto = Auto(\"MiAuto\", \"Toyota\", \"Corolla\", motor, \"particular\")\n",
    "        self.assertEqual(auto.sonido_arranque(), \"Vroom Vroom\") #assertEqual(a, b) verifica que a == b. En caso de que se cumpla, nos avisa con un \"ok\"\n",
    "                                                                #En caso de que no se cumpla, nos avisa con un \"FAIL\"\n",
    "        self.assertEqual(auto.marca, \"Toyota\")\n",
    "        self.assertEqual(auto.modelo, \"Corolla\")\n",
    "        self.assertEqual(auto.motor.nombre, \"Gasolina\")  # motor ahora usa .nombre\n",
    "        self.assertEqual(auto.rubro, \"particular\")\n",
    "        self.assertEqual(auto.nombre, \"MiAuto\")\n",
    "\n",
    "    def test_moto_sonido_arranque(self):\n",
    "        motor = Motor(\"2T\")\n",
    "        moto = Moto(\"MiMoto\", \"Yamaha\", \"particular\", motor)\n",
    "        self.assertEqual(moto.sonido_arranque(), \"Brum Brum\")\n",
    "        self.assertEqual(moto.marca, \"Yamaha\")\n",
    "        self.assertEqual(moto.nombre, \"MiMoto\")   # ahora \"nombre\" representa el tipo/nombre que quieras dar\n",
    "        self.assertEqual(moto.rubro, \"particular\")\n",
    "        self.assertEqual(moto.motor.nombre, \"2T\")\n",
    "\n",
    "    def test_avion_sonido_arranque(self):\n",
    "        motor = Motor(\"Jet\")\n",
    "        avion = Avion(\"AvionComercial\", \"LATAM\", 180, \"comercial\", motor)\n",
    "        self.assertEqual(avion.sonido_arranque(), \"Fiiiuuumm\")\n",
    "        self.assertEqual(avion.aerolinea, \"LATAM\")\n",
    "        self.assertEqual(avion.capacidad, 180)\n",
    "        self.assertEqual(avion.rubro, \"comercial\")\n",
    "        self.assertEqual(avion.motor.nombre, \"Jet\")\n",
    "\n",
    "        avion_militar = Avion(\"AvionMilitar\", \"Fuerza Aérea\", 2, \"militar\", motor)\n",
    "        self.assertEqual(avion_militar.sonido_arranque(), \"Piiiitara\")\n",
    "        self.assertEqual(avion_militar.aerolinea, \"Fuerza Aérea\")\n",
    "        self.assertEqual(avion_militar.capacidad, 2)\n",
    "\n",
    "    def test_motor_str(self):\n",
    "        motor = Motor(\"Eléctrico\")\n",
    "        self.assertIn(\"Tipo de motor: Eléctrico\", str(motor))\n",
    "\n",
    "    def test_vehiculo_abstract_instantiation(self):\n",
    "        motor = Motor(\"Gasolina\")\n",
    "        with self.assertRaises(TypeError): #Este metodo sirve para comprobar que un error ocurre en un código. \n",
    "                                            #En caso de que no exista, nos avisa con un \"ok\"\n",
    "                                            #En caso de que exista, nos avisa con un \"FAIL\"\n",
    "            Vehiculo(\"Abstracto\", motor)\n",
    "        with self.assertRaises(TypeError): \n",
    "            VehiculoTerrestre(\"Nombre\", \"particular\", motor)\n",
    "        with self.assertRaises(TypeError):\n",
    "            VehiculoAereo(\"Nombre\", \"comercial\", motor)\n",
    "\n",
    "if __name__ == \"__main__\":\n",
    "    unittest.main(argv=['first-arg-is-ignored'], exit=False, verbosity=2)\n"
   ]
  }
 ],
 "metadata": {
  "colab": {
   "provenance": []
  },
  "kernelspec": {
   "display_name": "Python 3",
   "language": "python",
   "name": "python3"
  },
  "language_info": {
   "codemirror_mode": {
    "name": "ipython",
    "version": 3
   },
   "file_extension": ".py",
   "mimetype": "text/x-python",
   "name": "python",
   "nbconvert_exporter": "python",
   "pygments_lexer": "ipython3",
   "version": "3.12.4"
  }
 },
 "nbformat": 4,
 "nbformat_minor": 5
}
