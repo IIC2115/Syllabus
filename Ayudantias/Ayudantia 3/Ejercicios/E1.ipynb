{
 "cells": [
  {
   "cell_type": "markdown",
   "id": "45d66301",
   "metadata": {},
   "source": [
    "# Ejercicio Formativo 1 Capítulo 2\n",
    "\n",
    "Diego nicolás Herrera González\n",
    "\n",
    "diego.herrerag00@uc.cl"
   ]
  },
  {
   "cell_type": "markdown",
   "id": "cf6456e7",
   "metadata": {},
   "source": [
    "# Carga de datos "
   ]
  },
  {
   "cell_type": "code",
   "execution_count": 3,
   "id": "63d0c51c",
   "metadata": {},
   "outputs": [
    {
     "data": {
      "text/html": [
       "<div>\n",
       "<style scoped>\n",
       "    .dataframe tbody tr th:only-of-type {\n",
       "        vertical-align: middle;\n",
       "    }\n",
       "\n",
       "    .dataframe tbody tr th {\n",
       "        vertical-align: top;\n",
       "    }\n",
       "\n",
       "    .dataframe thead th {\n",
       "        text-align: right;\n",
       "    }\n",
       "</style>\n",
       "<table border=\"1\" class=\"dataframe\">\n",
       "  <thead>\n",
       "    <tr style=\"text-align: right;\">\n",
       "      <th></th>\n",
       "      <th>X</th>\n",
       "      <th>Y</th>\n",
       "      <th>Set</th>\n",
       "    </tr>\n",
       "  </thead>\n",
       "  <tbody>\n",
       "    <tr>\n",
       "      <th>0</th>\n",
       "      <td>8</td>\n",
       "      <td>6.58</td>\n",
       "      <td>A</td>\n",
       "    </tr>\n",
       "    <tr>\n",
       "      <th>1</th>\n",
       "      <td>8</td>\n",
       "      <td>5.76</td>\n",
       "      <td>A</td>\n",
       "    </tr>\n",
       "    <tr>\n",
       "      <th>2</th>\n",
       "      <td>8</td>\n",
       "      <td>7.71</td>\n",
       "      <td>A</td>\n",
       "    </tr>\n",
       "    <tr>\n",
       "      <th>3</th>\n",
       "      <td>8</td>\n",
       "      <td>8.84</td>\n",
       "      <td>A</td>\n",
       "    </tr>\n",
       "    <tr>\n",
       "      <th>4</th>\n",
       "      <td>8</td>\n",
       "      <td>8.47</td>\n",
       "      <td>A</td>\n",
       "    </tr>\n",
       "    <tr>\n",
       "      <th>5</th>\n",
       "      <td>8</td>\n",
       "      <td>7.04</td>\n",
       "      <td>A</td>\n",
       "    </tr>\n",
       "    <tr>\n",
       "      <th>6</th>\n",
       "      <td>8</td>\n",
       "      <td>5.25</td>\n",
       "      <td>A</td>\n",
       "    </tr>\n",
       "    <tr>\n",
       "      <th>7</th>\n",
       "      <td>19</td>\n",
       "      <td>12.50</td>\n",
       "      <td>A</td>\n",
       "    </tr>\n",
       "    <tr>\n",
       "      <th>8</th>\n",
       "      <td>8</td>\n",
       "      <td>5.56</td>\n",
       "      <td>A</td>\n",
       "    </tr>\n",
       "    <tr>\n",
       "      <th>9</th>\n",
       "      <td>8</td>\n",
       "      <td>7.91</td>\n",
       "      <td>A</td>\n",
       "    </tr>\n",
       "    <tr>\n",
       "      <th>10</th>\n",
       "      <td>8</td>\n",
       "      <td>6.89</td>\n",
       "      <td>A</td>\n",
       "    </tr>\n",
       "    <tr>\n",
       "      <th>11</th>\n",
       "      <td>10</td>\n",
       "      <td>9.14</td>\n",
       "      <td>B</td>\n",
       "    </tr>\n",
       "    <tr>\n",
       "      <th>12</th>\n",
       "      <td>8</td>\n",
       "      <td>8.14</td>\n",
       "      <td>B</td>\n",
       "    </tr>\n",
       "    <tr>\n",
       "      <th>13</th>\n",
       "      <td>13</td>\n",
       "      <td>8.74</td>\n",
       "      <td>B</td>\n",
       "    </tr>\n",
       "    <tr>\n",
       "      <th>14</th>\n",
       "      <td>9</td>\n",
       "      <td>8.77</td>\n",
       "      <td>B</td>\n",
       "    </tr>\n",
       "    <tr>\n",
       "      <th>15</th>\n",
       "      <td>11</td>\n",
       "      <td>9.26</td>\n",
       "      <td>B</td>\n",
       "    </tr>\n",
       "    <tr>\n",
       "      <th>16</th>\n",
       "      <td>14</td>\n",
       "      <td>8.10</td>\n",
       "      <td>B</td>\n",
       "    </tr>\n",
       "    <tr>\n",
       "      <th>17</th>\n",
       "      <td>6</td>\n",
       "      <td>6.13</td>\n",
       "      <td>B</td>\n",
       "    </tr>\n",
       "    <tr>\n",
       "      <th>18</th>\n",
       "      <td>4</td>\n",
       "      <td>3.10</td>\n",
       "      <td>B</td>\n",
       "    </tr>\n",
       "    <tr>\n",
       "      <th>19</th>\n",
       "      <td>12</td>\n",
       "      <td>9.13</td>\n",
       "      <td>B</td>\n",
       "    </tr>\n",
       "    <tr>\n",
       "      <th>20</th>\n",
       "      <td>7</td>\n",
       "      <td>7.26</td>\n",
       "      <td>B</td>\n",
       "    </tr>\n",
       "    <tr>\n",
       "      <th>21</th>\n",
       "      <td>5</td>\n",
       "      <td>4.74</td>\n",
       "      <td>B</td>\n",
       "    </tr>\n",
       "    <tr>\n",
       "      <th>22</th>\n",
       "      <td>10</td>\n",
       "      <td>7.46</td>\n",
       "      <td>C</td>\n",
       "    </tr>\n",
       "    <tr>\n",
       "      <th>23</th>\n",
       "      <td>8</td>\n",
       "      <td>6.77</td>\n",
       "      <td>C</td>\n",
       "    </tr>\n",
       "    <tr>\n",
       "      <th>24</th>\n",
       "      <td>13</td>\n",
       "      <td>12.74</td>\n",
       "      <td>C</td>\n",
       "    </tr>\n",
       "    <tr>\n",
       "      <th>25</th>\n",
       "      <td>9</td>\n",
       "      <td>7.11</td>\n",
       "      <td>C</td>\n",
       "    </tr>\n",
       "    <tr>\n",
       "      <th>26</th>\n",
       "      <td>11</td>\n",
       "      <td>7.81</td>\n",
       "      <td>C</td>\n",
       "    </tr>\n",
       "    <tr>\n",
       "      <th>27</th>\n",
       "      <td>14</td>\n",
       "      <td>8.84</td>\n",
       "      <td>C</td>\n",
       "    </tr>\n",
       "    <tr>\n",
       "      <th>28</th>\n",
       "      <td>6</td>\n",
       "      <td>6.08</td>\n",
       "      <td>C</td>\n",
       "    </tr>\n",
       "    <tr>\n",
       "      <th>29</th>\n",
       "      <td>4</td>\n",
       "      <td>5.39</td>\n",
       "      <td>C</td>\n",
       "    </tr>\n",
       "    <tr>\n",
       "      <th>30</th>\n",
       "      <td>12</td>\n",
       "      <td>8.15</td>\n",
       "      <td>C</td>\n",
       "    </tr>\n",
       "    <tr>\n",
       "      <th>31</th>\n",
       "      <td>7</td>\n",
       "      <td>6.42</td>\n",
       "      <td>C</td>\n",
       "    </tr>\n",
       "    <tr>\n",
       "      <th>32</th>\n",
       "      <td>5</td>\n",
       "      <td>5.73</td>\n",
       "      <td>C</td>\n",
       "    </tr>\n",
       "    <tr>\n",
       "      <th>33</th>\n",
       "      <td>10</td>\n",
       "      <td>8.04</td>\n",
       "      <td>D</td>\n",
       "    </tr>\n",
       "    <tr>\n",
       "      <th>34</th>\n",
       "      <td>8</td>\n",
       "      <td>6.95</td>\n",
       "      <td>D</td>\n",
       "    </tr>\n",
       "    <tr>\n",
       "      <th>35</th>\n",
       "      <td>13</td>\n",
       "      <td>7.58</td>\n",
       "      <td>D</td>\n",
       "    </tr>\n",
       "    <tr>\n",
       "      <th>36</th>\n",
       "      <td>9</td>\n",
       "      <td>8.81</td>\n",
       "      <td>D</td>\n",
       "    </tr>\n",
       "    <tr>\n",
       "      <th>37</th>\n",
       "      <td>11</td>\n",
       "      <td>8.33</td>\n",
       "      <td>D</td>\n",
       "    </tr>\n",
       "    <tr>\n",
       "      <th>38</th>\n",
       "      <td>14</td>\n",
       "      <td>9.96</td>\n",
       "      <td>D</td>\n",
       "    </tr>\n",
       "    <tr>\n",
       "      <th>39</th>\n",
       "      <td>6</td>\n",
       "      <td>7.24</td>\n",
       "      <td>D</td>\n",
       "    </tr>\n",
       "    <tr>\n",
       "      <th>40</th>\n",
       "      <td>4</td>\n",
       "      <td>4.26</td>\n",
       "      <td>D</td>\n",
       "    </tr>\n",
       "    <tr>\n",
       "      <th>41</th>\n",
       "      <td>12</td>\n",
       "      <td>10.84</td>\n",
       "      <td>D</td>\n",
       "    </tr>\n",
       "    <tr>\n",
       "      <th>42</th>\n",
       "      <td>7</td>\n",
       "      <td>4.82</td>\n",
       "      <td>D</td>\n",
       "    </tr>\n",
       "    <tr>\n",
       "      <th>43</th>\n",
       "      <td>5</td>\n",
       "      <td>5.68</td>\n",
       "      <td>D</td>\n",
       "    </tr>\n",
       "  </tbody>\n",
       "</table>\n",
       "</div>"
      ],
      "text/plain": [
       "     X      Y Set\n",
       "0    8   6.58   A\n",
       "1    8   5.76   A\n",
       "2    8   7.71   A\n",
       "3    8   8.84   A\n",
       "4    8   8.47   A\n",
       "5    8   7.04   A\n",
       "6    8   5.25   A\n",
       "7   19  12.50   A\n",
       "8    8   5.56   A\n",
       "9    8   7.91   A\n",
       "10   8   6.89   A\n",
       "11  10   9.14   B\n",
       "12   8   8.14   B\n",
       "13  13   8.74   B\n",
       "14   9   8.77   B\n",
       "15  11   9.26   B\n",
       "16  14   8.10   B\n",
       "17   6   6.13   B\n",
       "18   4   3.10   B\n",
       "19  12   9.13   B\n",
       "20   7   7.26   B\n",
       "21   5   4.74   B\n",
       "22  10   7.46   C\n",
       "23   8   6.77   C\n",
       "24  13  12.74   C\n",
       "25   9   7.11   C\n",
       "26  11   7.81   C\n",
       "27  14   8.84   C\n",
       "28   6   6.08   C\n",
       "29   4   5.39   C\n",
       "30  12   8.15   C\n",
       "31   7   6.42   C\n",
       "32   5   5.73   C\n",
       "33  10   8.04   D\n",
       "34   8   6.95   D\n",
       "35  13   7.58   D\n",
       "36   9   8.81   D\n",
       "37  11   8.33   D\n",
       "38  14   9.96   D\n",
       "39   6   7.24   D\n",
       "40   4   4.26   D\n",
       "41  12  10.84   D\n",
       "42   7   4.82   D\n",
       "43   5   5.68   D"
      ]
     },
     "execution_count": 3,
     "metadata": {},
     "output_type": "execute_result"
    }
   ],
   "source": [
    "import pandas as pd\n",
    "\n",
    "df = pd.read_csv(\"E1_data.csv\")\n",
    "\n",
    "df"
   ]
  },
  {
   "cell_type": "code",
   "execution_count": 4,
   "id": "1dcbb11d",
   "metadata": {},
   "outputs": [
    {
     "data": {
      "text/plain": [
       "X      0\n",
       "Y      0\n",
       "Set    0\n",
       "dtype: int64"
      ]
     },
     "execution_count": 4,
     "metadata": {},
     "output_type": "execute_result"
    }
   ],
   "source": [
    "# Primero, vemos si existen valores nulos en el DataFrame.\n",
    "df.isnull().sum()"
   ]
  },
  {
   "cell_type": "markdown",
   "id": "21996f40",
   "metadata": {},
   "source": [
    "Dado que no existen valores nulos, los datos están limpios, por lo tanto, seguimos."
   ]
  },
  {
   "cell_type": "markdown",
   "id": "5a574c84",
   "metadata": {},
   "source": [
    "# Cálculo de Metrícas"
   ]
  },
  {
   "cell_type": "markdown",
   "id": "9ba51737",
   "metadata": {},
   "source": [
    "Una de las primeras metricas interesantes es ver los estadisticos de los valores numericos, que en este caso, serían de la columna X e Y."
   ]
  },
  {
   "cell_type": "code",
   "execution_count": 5,
   "id": "5bdd82dd",
   "metadata": {},
   "outputs": [
    {
     "data": {
      "text/html": [
       "<div>\n",
       "<style scoped>\n",
       "    .dataframe tbody tr th:only-of-type {\n",
       "        vertical-align: middle;\n",
       "    }\n",
       "\n",
       "    .dataframe tbody tr th {\n",
       "        vertical-align: top;\n",
       "    }\n",
       "\n",
       "    .dataframe thead th {\n",
       "        text-align: right;\n",
       "    }\n",
       "</style>\n",
       "<table border=\"1\" class=\"dataframe\">\n",
       "  <thead>\n",
       "    <tr style=\"text-align: right;\">\n",
       "      <th></th>\n",
       "      <th>X</th>\n",
       "      <th>Y</th>\n",
       "    </tr>\n",
       "  </thead>\n",
       "  <tbody>\n",
       "    <tr>\n",
       "      <th>count</th>\n",
       "      <td>44.000000</td>\n",
       "      <td>44.000000</td>\n",
       "    </tr>\n",
       "    <tr>\n",
       "      <th>mean</th>\n",
       "      <td>9.000000</td>\n",
       "      <td>7.500682</td>\n",
       "    </tr>\n",
       "    <tr>\n",
       "      <th>std</th>\n",
       "      <td>3.198837</td>\n",
       "      <td>1.958925</td>\n",
       "    </tr>\n",
       "    <tr>\n",
       "      <th>min</th>\n",
       "      <td>4.000000</td>\n",
       "      <td>3.100000</td>\n",
       "    </tr>\n",
       "    <tr>\n",
       "      <th>25%</th>\n",
       "      <td>7.000000</td>\n",
       "      <td>6.117500</td>\n",
       "    </tr>\n",
       "    <tr>\n",
       "      <th>50%</th>\n",
       "      <td>8.000000</td>\n",
       "      <td>7.520000</td>\n",
       "    </tr>\n",
       "    <tr>\n",
       "      <th>75%</th>\n",
       "      <td>11.000000</td>\n",
       "      <td>8.747500</td>\n",
       "    </tr>\n",
       "    <tr>\n",
       "      <th>max</th>\n",
       "      <td>19.000000</td>\n",
       "      <td>12.740000</td>\n",
       "    </tr>\n",
       "  </tbody>\n",
       "</table>\n",
       "</div>"
      ],
      "text/plain": [
       "               X          Y\n",
       "count  44.000000  44.000000\n",
       "mean    9.000000   7.500682\n",
       "std     3.198837   1.958925\n",
       "min     4.000000   3.100000\n",
       "25%     7.000000   6.117500\n",
       "50%     8.000000   7.520000\n",
       "75%    11.000000   8.747500\n",
       "max    19.000000  12.740000"
      ]
     },
     "execution_count": 5,
     "metadata": {},
     "output_type": "execute_result"
    }
   ],
   "source": [
    "df.describe()"
   ]
  },
  {
   "cell_type": "markdown",
   "id": "4749f808",
   "metadata": {},
   "source": [
    "Ahora bien, lo veremos para cada uno de los valores de la columna `Set`, como nos dice el enunciado. Primero, veremos que valores tiene la columna Set. "
   ]
  },
  {
   "cell_type": "code",
   "execution_count": 6,
   "id": "1ef152ed",
   "metadata": {},
   "outputs": [
    {
     "data": {
      "text/plain": [
       "Set\n",
       "A    11\n",
       "B    11\n",
       "C    11\n",
       "D    11\n",
       "Name: count, dtype: int64"
      ]
     },
     "execution_count": 6,
     "metadata": {},
     "output_type": "execute_result"
    }
   ],
   "source": [
    "df[\"Set\"].value_counts()"
   ]
  },
  {
   "cell_type": "markdown",
   "id": "5a91e618",
   "metadata": {},
   "source": [
    "Como podemos ver, solo tiene valores A,B,C,D, cada una 11 veces. "
   ]
  },
  {
   "cell_type": "markdown",
   "id": "6fa1c86c",
   "metadata": {},
   "source": [
    "Lo siguiente a realizar, es ver los estadisticos que entregan los datos de las Columnas 'X' e 'Y' para cada valor que tiene la columna 'Set': A, B, C, D. \n",
    "\n",
    "Para ello, es necesario utilizar el metodo correspondiente para cada estadistico, y para que este ordenado según los distintos valores de la columna ´Set´, usaremos el metodo `groupby()`. "
   ]
  },
  {
   "cell_type": "code",
   "execution_count": 7,
   "id": "fb3e664a",
   "metadata": {},
   "outputs": [
    {
     "name": "stdout",
     "output_type": "stream",
     "text": [
      "       X         Y\n",
      "Set               \n",
      "A    9.0  7.500909\n",
      "B    9.0  7.500909\n",
      "C    9.0  7.500000\n",
      "D    9.0  7.500909\n"
     ]
    }
   ],
   "source": [
    "# Promedio\n",
    "\n",
    "print(df.groupby('Set')[['X', 'Y']].mean())"
   ]
  },
  {
   "cell_type": "code",
   "execution_count": 8,
   "id": "f38aeae7",
   "metadata": {},
   "outputs": [
    {
     "name": "stdout",
     "output_type": "stream",
     "text": [
      "            X         Y\n",
      "Set                    \n",
      "A    3.316625  2.030579\n",
      "B    3.316625  2.031657\n",
      "C    3.316625  2.030424\n",
      "D    3.316625  2.031568\n"
     ]
    }
   ],
   "source": [
    "#Desviación Estandar\n",
    "\n",
    "print(df.groupby('Set')[['X', 'Y']].std())"
   ]
  },
  {
   "cell_type": "code",
   "execution_count": 9,
   "id": "cecb3b16",
   "metadata": {},
   "outputs": [
    {
     "name": "stdout",
     "output_type": "stream",
     "text": [
      "      X      Y\n",
      "Set           \n",
      "A    19  12.50\n",
      "B    14   9.26\n",
      "C    14  12.74\n",
      "D    14  10.84\n"
     ]
    }
   ],
   "source": [
    "#Valor máximo\n",
    "print(df.groupby('Set')[['X','Y']].max())"
   ]
  },
  {
   "cell_type": "code",
   "execution_count": 10,
   "id": "6b99e46a",
   "metadata": {},
   "outputs": [
    {
     "name": "stdout",
     "output_type": "stream",
     "text": [
      "     X     Y\n",
      "Set         \n",
      "A    8  5.25\n",
      "B    4  3.10\n",
      "C    4  5.39\n",
      "D    4  4.26\n"
     ]
    }
   ],
   "source": [
    "# Valor minimo\n",
    "print(df.groupby('Set')[['X','Y']].min())"
   ]
  },
  {
   "cell_type": "code",
   "execution_count": 11,
   "id": "2f0ea1c7",
   "metadata": {},
   "outputs": [
    {
     "name": "stdout",
     "output_type": "stream",
     "text": [
      "              X         Y\n",
      "Set                      \n",
      "A   X  1.000000  0.816521\n",
      "    Y  0.816521  1.000000\n",
      "B   X  1.000000  0.816237\n",
      "    Y  0.816237  1.000000\n",
      "C   X  1.000000  0.816287\n",
      "    Y  0.816287  1.000000\n",
      "D   X  1.000000  0.816421\n",
      "    Y  0.816421  1.000000\n"
     ]
    }
   ],
   "source": [
    "# Correlación entre los varoles de X e Y, para ver, como su nombre lo indica, que tan correlacionados están\n",
    "print(df.groupby('Set')[['X', 'Y']].corr())"
   ]
  },
  {
   "cell_type": "markdown",
   "id": "049e3ddb",
   "metadata": {},
   "source": [
    "¿Como hacerlo todo esto de forma más sencilla? -> Creando otro data frame, pero agrupado."
   ]
  },
  {
   "cell_type": "code",
   "execution_count": 12,
   "id": "cf9452ad",
   "metadata": {},
   "outputs": [
    {
     "data": {
      "text/plain": [
       "<pandas.core.groupby.generic.DataFrameGroupBy object at 0x13518e120>"
      ]
     },
     "execution_count": 12,
     "metadata": {},
     "output_type": "execute_result"
    }
   ],
   "source": [
    "df_agrupado = df.groupby('Set')\n",
    "df_agrupado"
   ]
  },
  {
   "cell_type": "code",
   "execution_count": 13,
   "id": "9e1ceaf5",
   "metadata": {},
   "outputs": [
    {
     "data": {
      "text/html": [
       "<div>\n",
       "<style scoped>\n",
       "    .dataframe tbody tr th:only-of-type {\n",
       "        vertical-align: middle;\n",
       "    }\n",
       "\n",
       "    .dataframe tbody tr th {\n",
       "        vertical-align: top;\n",
       "    }\n",
       "\n",
       "    .dataframe thead tr th {\n",
       "        text-align: left;\n",
       "    }\n",
       "\n",
       "    .dataframe thead tr:last-of-type th {\n",
       "        text-align: right;\n",
       "    }\n",
       "</style>\n",
       "<table border=\"1\" class=\"dataframe\">\n",
       "  <thead>\n",
       "    <tr>\n",
       "      <th></th>\n",
       "      <th colspan=\"8\" halign=\"left\">X</th>\n",
       "      <th colspan=\"8\" halign=\"left\">Y</th>\n",
       "    </tr>\n",
       "    <tr>\n",
       "      <th></th>\n",
       "      <th>count</th>\n",
       "      <th>mean</th>\n",
       "      <th>std</th>\n",
       "      <th>min</th>\n",
       "      <th>25%</th>\n",
       "      <th>50%</th>\n",
       "      <th>75%</th>\n",
       "      <th>max</th>\n",
       "      <th>count</th>\n",
       "      <th>mean</th>\n",
       "      <th>std</th>\n",
       "      <th>min</th>\n",
       "      <th>25%</th>\n",
       "      <th>50%</th>\n",
       "      <th>75%</th>\n",
       "      <th>max</th>\n",
       "    </tr>\n",
       "    <tr>\n",
       "      <th>Set</th>\n",
       "      <th></th>\n",
       "      <th></th>\n",
       "      <th></th>\n",
       "      <th></th>\n",
       "      <th></th>\n",
       "      <th></th>\n",
       "      <th></th>\n",
       "      <th></th>\n",
       "      <th></th>\n",
       "      <th></th>\n",
       "      <th></th>\n",
       "      <th></th>\n",
       "      <th></th>\n",
       "      <th></th>\n",
       "      <th></th>\n",
       "      <th></th>\n",
       "    </tr>\n",
       "  </thead>\n",
       "  <tbody>\n",
       "    <tr>\n",
       "      <th>A</th>\n",
       "      <td>11.0</td>\n",
       "      <td>9.0</td>\n",
       "      <td>3.316625</td>\n",
       "      <td>8.0</td>\n",
       "      <td>8.0</td>\n",
       "      <td>8.0</td>\n",
       "      <td>8.0</td>\n",
       "      <td>19.0</td>\n",
       "      <td>11.0</td>\n",
       "      <td>7.500909</td>\n",
       "      <td>2.030579</td>\n",
       "      <td>5.25</td>\n",
       "      <td>6.170</td>\n",
       "      <td>7.04</td>\n",
       "      <td>8.19</td>\n",
       "      <td>12.50</td>\n",
       "    </tr>\n",
       "    <tr>\n",
       "      <th>B</th>\n",
       "      <td>11.0</td>\n",
       "      <td>9.0</td>\n",
       "      <td>3.316625</td>\n",
       "      <td>4.0</td>\n",
       "      <td>6.5</td>\n",
       "      <td>9.0</td>\n",
       "      <td>11.5</td>\n",
       "      <td>14.0</td>\n",
       "      <td>11.0</td>\n",
       "      <td>7.500909</td>\n",
       "      <td>2.031657</td>\n",
       "      <td>3.10</td>\n",
       "      <td>6.695</td>\n",
       "      <td>8.14</td>\n",
       "      <td>8.95</td>\n",
       "      <td>9.26</td>\n",
       "    </tr>\n",
       "    <tr>\n",
       "      <th>C</th>\n",
       "      <td>11.0</td>\n",
       "      <td>9.0</td>\n",
       "      <td>3.316625</td>\n",
       "      <td>4.0</td>\n",
       "      <td>6.5</td>\n",
       "      <td>9.0</td>\n",
       "      <td>11.5</td>\n",
       "      <td>14.0</td>\n",
       "      <td>11.0</td>\n",
       "      <td>7.500000</td>\n",
       "      <td>2.030424</td>\n",
       "      <td>5.39</td>\n",
       "      <td>6.250</td>\n",
       "      <td>7.11</td>\n",
       "      <td>7.98</td>\n",
       "      <td>12.74</td>\n",
       "    </tr>\n",
       "    <tr>\n",
       "      <th>D</th>\n",
       "      <td>11.0</td>\n",
       "      <td>9.0</td>\n",
       "      <td>3.316625</td>\n",
       "      <td>4.0</td>\n",
       "      <td>6.5</td>\n",
       "      <td>9.0</td>\n",
       "      <td>11.5</td>\n",
       "      <td>14.0</td>\n",
       "      <td>11.0</td>\n",
       "      <td>7.500909</td>\n",
       "      <td>2.031568</td>\n",
       "      <td>4.26</td>\n",
       "      <td>6.315</td>\n",
       "      <td>7.58</td>\n",
       "      <td>8.57</td>\n",
       "      <td>10.84</td>\n",
       "    </tr>\n",
       "  </tbody>\n",
       "</table>\n",
       "</div>"
      ],
      "text/plain": [
       "        X                                               Y                      \\\n",
       "    count mean       std  min  25%  50%   75%   max count      mean       std   \n",
       "Set                                                                             \n",
       "A    11.0  9.0  3.316625  8.0  8.0  8.0   8.0  19.0  11.0  7.500909  2.030579   \n",
       "B    11.0  9.0  3.316625  4.0  6.5  9.0  11.5  14.0  11.0  7.500909  2.031657   \n",
       "C    11.0  9.0  3.316625  4.0  6.5  9.0  11.5  14.0  11.0  7.500000  2.030424   \n",
       "D    11.0  9.0  3.316625  4.0  6.5  9.0  11.5  14.0  11.0  7.500909  2.031568   \n",
       "\n",
       "                                     \n",
       "      min    25%   50%   75%    max  \n",
       "Set                                  \n",
       "A    5.25  6.170  7.04  8.19  12.50  \n",
       "B    3.10  6.695  8.14  8.95   9.26  \n",
       "C    5.39  6.250  7.11  7.98  12.74  \n",
       "D    4.26  6.315  7.58  8.57  10.84  "
      ]
     },
     "execution_count": 13,
     "metadata": {},
     "output_type": "execute_result"
    }
   ],
   "source": [
    "df_agrupado.describe()"
   ]
  },
  {
   "cell_type": "code",
   "execution_count": 14,
   "id": "864f29d3",
   "metadata": {},
   "outputs": [
    {
     "data": {
      "text/plain": [
       "<pandas.core.groupby.generic.DataFrameGroupBy object at 0x13518e120>"
      ]
     },
     "execution_count": 14,
     "metadata": {},
     "output_type": "execute_result"
    }
   ],
   "source": [
    "df_agrupado"
   ]
  },
  {
   "cell_type": "code",
   "execution_count": 18,
   "id": "72bfb862",
   "metadata": {},
   "outputs": [
    {
     "name": "stdout",
     "output_type": "stream",
     "text": [
      "Name: A\n",
      "Group: 0      8\n",
      "1      8\n",
      "2      8\n",
      "3      8\n",
      "4      8\n",
      "5      8\n",
      "6      8\n",
      "7     19\n",
      "8      8\n",
      "9      8\n",
      "10     8\n",
      "Name: X, dtype: int64\n",
      "Group: 0      6.58\n",
      "1      5.76\n",
      "2      7.71\n",
      "3      8.84\n",
      "4      8.47\n",
      "5      7.04\n",
      "6      5.25\n",
      "7     12.50\n",
      "8      5.56\n",
      "9      7.91\n",
      "10     6.89\n",
      "Name: Y, dtype: float64\n",
      "Name: B\n",
      "Group: 11    10\n",
      "12     8\n",
      "13    13\n",
      "14     9\n",
      "15    11\n",
      "16    14\n",
      "17     6\n",
      "18     4\n",
      "19    12\n",
      "20     7\n",
      "21     5\n",
      "Name: X, dtype: int64\n",
      "Group: 11    9.14\n",
      "12    8.14\n",
      "13    8.74\n",
      "14    8.77\n",
      "15    9.26\n",
      "16    8.10\n",
      "17    6.13\n",
      "18    3.10\n",
      "19    9.13\n",
      "20    7.26\n",
      "21    4.74\n",
      "Name: Y, dtype: float64\n",
      "Name: C\n",
      "Group: 22    10\n",
      "23     8\n",
      "24    13\n",
      "25     9\n",
      "26    11\n",
      "27    14\n",
      "28     6\n",
      "29     4\n",
      "30    12\n",
      "31     7\n",
      "32     5\n",
      "Name: X, dtype: int64\n",
      "Group: 22     7.46\n",
      "23     6.77\n",
      "24    12.74\n",
      "25     7.11\n",
      "26     7.81\n",
      "27     8.84\n",
      "28     6.08\n",
      "29     5.39\n",
      "30     8.15\n",
      "31     6.42\n",
      "32     5.73\n",
      "Name: Y, dtype: float64\n",
      "Name: D\n",
      "Group: 33    10\n",
      "34     8\n",
      "35    13\n",
      "36     9\n",
      "37    11\n",
      "38    14\n",
      "39     6\n",
      "40     4\n",
      "41    12\n",
      "42     7\n",
      "43     5\n",
      "Name: X, dtype: int64\n",
      "Group: 33     8.04\n",
      "34     6.95\n",
      "35     7.58\n",
      "36     8.81\n",
      "37     8.33\n",
      "38     9.96\n",
      "39     7.24\n",
      "40     4.26\n",
      "41    10.84\n",
      "42     4.82\n",
      "43     5.68\n",
      "Name: Y, dtype: float64\n"
     ]
    }
   ],
   "source": [
    "for name, group in df_agrupado:\n",
    "    print(f\"Name: {name}\")\n",
    "    print(f\"Group: {group['X']}\")\n",
    "    print(f\"Group: {group['Y']}\")"
   ]
  },
  {
   "cell_type": "markdown",
   "id": "1adeceaa",
   "metadata": {},
   "source": [
    "### Kurtosis: La kurtosis mide el grado de concentración de los datos en las colas de una distribución de datos."
   ]
  },
  {
   "cell_type": "code",
   "execution_count": null,
   "id": "f4c05856",
   "metadata": {},
   "outputs": [
    {
     "name": "stdout",
     "output_type": "stream",
     "text": [
      "La curtosis de A para X es: 11.0\n",
      "La curtosis de A para Y es: 3.151314922962853\n",
      "La curtosis de B para X es: -1.2000000000000002\n",
      "La curtosis de B para Y es: 0.8461232328218724\n",
      "La curtosis de C para X es: -1.2000000000000002\n",
      "La curtosis de C para Y es: 4.384088613065109\n",
      "La curtosis de D para X es: -1.2000000000000002\n",
      "La curtosis de D para Y es: -0.534897734372739\n"
     ]
    }
   ],
   "source": [
    "for name, group in df.groupby('Set'): #name es el valor del grupo. Por ejemplo, A seria un grupo. \n",
    "                                      #Por otro lado, group es el subconjunto del data frame correspondiente a ese valor.\n",
    "    print(f\"La curtosis de {name} para X es: {group['X'].kurtosis()}\")\n",
    "    print(f\"La curtosis de {name} para Y es: {group['Y'].kurtosis()}\")"
   ]
  },
  {
   "cell_type": "markdown",
   "id": "28f7bbf2",
   "metadata": {},
   "source": [
    "# Comentar los resultados."
   ]
  },
  {
   "cell_type": "markdown",
   "id": "b104a8e8",
   "metadata": {},
   "source": [
    "# Visualizar conjuntos"
   ]
  },
  {
   "cell_type": "code",
   "execution_count": null,
   "id": "2f51516f",
   "metadata": {},
   "outputs": [
    {
     "data": {
      "image/png": "[encoded data removed]",
      "text/plain": [
       "<Figure size 640x480 with 1 Axes>"
      ]
     },
     "metadata": {},
     "output_type": "display_data"
    },
    {
     "data": {
      "image/png": "[encoded data removed]",
      "text/plain": [
       "<Figure size 640x480 with 1 Axes>"
      ]
     },
     "metadata": {},
     "output_type": "display_data"
    },
    {
     "data": {
      "image/png": "[encoded data removed]",
      "text/plain": [
       "<Figure size 640x480 with 1 Axes>"
      ]
     },
     "metadata": {},
     "output_type": "display_data"
    },
    {
     "data": {
      "image/png": "[encoded data removed]",
      "text/plain": [
       "<Figure size 640x480 with 1 Axes>"
      ]
     },
     "metadata": {},
     "output_type": "display_data"
    }
   ],
   "source": [
    "for name, group in df.groupby('Set'):\n",
    "    group.plot.scatter(x='X', y='Y', title=f\"Gráfico para grupo {name}\")"
   ]
  },
  {
   "cell_type": "markdown",
   "id": "176101f8",
   "metadata": {},
   "source": [
    "# Análisis con datos eliminados e imputados\n",
    "Repita los pasos anteriores, esta vez descartando aleatoriamente el 10% de los datos de cada conjunto e imputando sus valores utilizando la media de cada coordenada. Comente sobre las diferencias en los resultados."
   ]
  },
  {
   "cell_type": "code",
   "execution_count": null,
   "id": "314799f9",
   "metadata": {},
   "outputs": [],
   "source": [
    "import numpy as np #Es necesario importar la librería random \n",
    "\n",
    "def redefinir_df(df):\n",
    "    # Primero, cremos una lista vacía con los nuevos datos. \n",
    "    datos_nuevo_df = []\n",
    "    # Luego, iteramos sobre cada grupo en el DataFrame.\n",
    "    for nombre, grupo in df.groupby('Set'):\n",
    "        print(f\"Los indices de las filas del grupo {nombre} son: {grupo.index}\")\n",
    "        # Posteriormente, determinamos cuántas filas eliminar.\n",
    "        num_filas_eliminar = int(len(grupo) * 0.1)\n",
    "        # Para continuar, elegimos aleatoriamente las filas a eliminar.\n",
    "        filas_eliminar = np.random.choice(grupo.index, num_filas_eliminar)\n",
    "        # Ahora, lo que debemos hacer es eliminar las filas seleccionadas.\n",
    "        grupo = grupo.drop(filas_eliminar)\n",
    "        print(f\"Se eliminaron {num_filas_eliminar} filas de {nombre}\")\n",
    "        print(f\"Las filas eliminadas fueron: {filas_eliminar}\")\n",
    "        # Paso 6\n",
    "        x_media = grupo['X'].mean()\n",
    "        y_media = grupo['Y'].mean()\n",
    "        # Ahora, generamos nuevas filas con los promedios.\n",
    "        nuevas_filas = pd.DataFrame({\n",
    "            \"Set\": [nombre] * num_filas_eliminar,\n",
    "            \"X\": [x_media] * num_filas_eliminar,\n",
    "            \"Y\": [y_media] * num_filas_eliminar\n",
    "        })\n",
    "        # Ahora, concatenamos el grupo original con las nuevas filas.\n",
    "        grupo = pd.concat([grupo, nuevas_filas])\n",
    "        # Para finalizar, añadimos el grupo modificado a la lista de nuevos datos.\n",
    "        datos_nuevo_df.append(grupo)\n",
    "    # Finalmente, decimos que se retorne el DataFrame concatenado.\n",
    "    return pd.concat(datos_nuevo_df)\n"
   ]
  },
  {
   "cell_type": "markdown",
   "id": "13517145",
   "metadata": {},
   "source": [
    "## Estadísticos después de la imputación"
   ]
  },
  {
   "cell_type": "code",
   "execution_count": null,
   "id": "fa89d9ea",
   "metadata": {},
   "outputs": [
    {
     "name": "stdout",
     "output_type": "stream",
     "text": [
      "Los indices de las filas del grupo A son: Index([0, 1, 2, 3, 4, 5, 6, 7, 8, 9, 10], dtype='int64')\n",
      "Se eliminaron 1 filas de A\n",
      "Las filas eliminadas fueron: [2]\n",
      "Los indices de las filas del grupo B son: Index([11, 12, 13, 14, 15, 16, 17, 18, 19, 20, 21], dtype='int64')\n",
      "Se eliminaron 1 filas de B\n",
      "Las filas eliminadas fueron: [21]\n",
      "Los indices de las filas del grupo C son: Index([22, 23, 24, 25, 26, 27, 28, 29, 30, 31, 32], dtype='int64')\n",
      "Se eliminaron 1 filas de C\n",
      "Las filas eliminadas fueron: [26]\n",
      "Los indices de las filas del grupo D son: Index([33, 34, 35, 36, 37, 38, 39, 40, 41, 42, 43], dtype='int64')\n",
      "Se eliminaron 1 filas de D\n",
      "Las filas eliminadas fueron: [42]\n"
     ]
    }
   ],
   "source": [
    "df_imputado = redefinir_df(df)\n"
   ]
  },
  {
   "cell_type": "code",
   "execution_count": null,
   "id": "02112991",
   "metadata": {},
   "outputs": [
    {
     "data": {
      "text/html": [
       "<div>\n",
       "<style scoped>\n",
       "    .dataframe tbody tr th:only-of-type {\n",
       "        vertical-align: middle;\n",
       "    }\n",
       "\n",
       "    .dataframe tbody tr th {\n",
       "        vertical-align: top;\n",
       "    }\n",
       "\n",
       "    .dataframe thead tr th {\n",
       "        text-align: left;\n",
       "    }\n",
       "\n",
       "    .dataframe thead tr:last-of-type th {\n",
       "        text-align: right;\n",
       "    }\n",
       "</style>\n",
       "<table border=\"1\" class=\"dataframe\">\n",
       "  <thead>\n",
       "    <tr>\n",
       "      <th></th>\n",
       "      <th colspan=\"8\" halign=\"left\">X</th>\n",
       "      <th colspan=\"8\" halign=\"left\">Y</th>\n",
       "    </tr>\n",
       "    <tr>\n",
       "      <th></th>\n",
       "      <th>count</th>\n",
       "      <th>mean</th>\n",
       "      <th>std</th>\n",
       "      <th>min</th>\n",
       "      <th>25%</th>\n",
       "      <th>50%</th>\n",
       "      <th>75%</th>\n",
       "      <th>max</th>\n",
       "      <th>count</th>\n",
       "      <th>mean</th>\n",
       "      <th>std</th>\n",
       "      <th>min</th>\n",
       "      <th>25%</th>\n",
       "      <th>50%</th>\n",
       "      <th>75%</th>\n",
       "      <th>max</th>\n",
       "    </tr>\n",
       "    <tr>\n",
       "      <th>Set</th>\n",
       "      <th></th>\n",
       "      <th></th>\n",
       "      <th></th>\n",
       "      <th></th>\n",
       "      <th></th>\n",
       "      <th></th>\n",
       "      <th></th>\n",
       "      <th></th>\n",
       "      <th></th>\n",
       "      <th></th>\n",
       "      <th></th>\n",
       "      <th></th>\n",
       "      <th></th>\n",
       "      <th></th>\n",
       "      <th></th>\n",
       "      <th></th>\n",
       "    </tr>\n",
       "  </thead>\n",
       "  <tbody>\n",
       "    <tr>\n",
       "      <th>A</th>\n",
       "      <td>11.0</td>\n",
       "      <td>9.1</td>\n",
       "      <td>3.300000</td>\n",
       "      <td>8.0</td>\n",
       "      <td>8.0</td>\n",
       "      <td>8.0</td>\n",
       "      <td>8.0</td>\n",
       "      <td>19.0</td>\n",
       "      <td>11.0</td>\n",
       "      <td>7.480</td>\n",
       "      <td>2.029394</td>\n",
       "      <td>5.25</td>\n",
       "      <td>6.1700</td>\n",
       "      <td>7.040</td>\n",
       "      <td>8.1900</td>\n",
       "      <td>12.50</td>\n",
       "    </tr>\n",
       "    <tr>\n",
       "      <th>B</th>\n",
       "      <td>11.0</td>\n",
       "      <td>9.4</td>\n",
       "      <td>3.039737</td>\n",
       "      <td>4.0</td>\n",
       "      <td>7.5</td>\n",
       "      <td>9.4</td>\n",
       "      <td>11.5</td>\n",
       "      <td>14.0</td>\n",
       "      <td>11.0</td>\n",
       "      <td>7.777</td>\n",
       "      <td>1.813599</td>\n",
       "      <td>3.10</td>\n",
       "      <td>7.5185</td>\n",
       "      <td>8.140</td>\n",
       "      <td>8.9500</td>\n",
       "      <td>9.26</td>\n",
       "    </tr>\n",
       "    <tr>\n",
       "      <th>C</th>\n",
       "      <td>11.0</td>\n",
       "      <td>8.8</td>\n",
       "      <td>3.249615</td>\n",
       "      <td>4.0</td>\n",
       "      <td>6.5</td>\n",
       "      <td>8.8</td>\n",
       "      <td>11.0</td>\n",
       "      <td>14.0</td>\n",
       "      <td>11.0</td>\n",
       "      <td>7.469</td>\n",
       "      <td>2.027819</td>\n",
       "      <td>5.39</td>\n",
       "      <td>6.2500</td>\n",
       "      <td>7.110</td>\n",
       "      <td>7.8095</td>\n",
       "      <td>12.74</td>\n",
       "    </tr>\n",
       "    <tr>\n",
       "      <th>D</th>\n",
       "      <td>11.0</td>\n",
       "      <td>9.2</td>\n",
       "      <td>3.249615</td>\n",
       "      <td>4.0</td>\n",
       "      <td>7.0</td>\n",
       "      <td>9.2</td>\n",
       "      <td>11.5</td>\n",
       "      <td>14.0</td>\n",
       "      <td>11.0</td>\n",
       "      <td>7.769</td>\n",
       "      <td>1.826655</td>\n",
       "      <td>4.26</td>\n",
       "      <td>7.0950</td>\n",
       "      <td>7.769</td>\n",
       "      <td>8.5700</td>\n",
       "      <td>10.84</td>\n",
       "    </tr>\n",
       "  </tbody>\n",
       "</table>\n",
       "</div>"
      ],
      "text/plain": [
       "        X                                               Y                   \\\n",
       "    count mean       std  min  25%  50%   75%   max count   mean       std   \n",
       "Set                                                                          \n",
       "A    11.0  9.1  3.300000  8.0  8.0  8.0   8.0  19.0  11.0  7.480  2.029394   \n",
       "B    11.0  9.4  3.039737  4.0  7.5  9.4  11.5  14.0  11.0  7.777  1.813599   \n",
       "C    11.0  8.8  3.249615  4.0  6.5  8.8  11.0  14.0  11.0  7.469  2.027819   \n",
       "D    11.0  9.2  3.249615  4.0  7.0  9.2  11.5  14.0  11.0  7.769  1.826655   \n",
       "\n",
       "                                         \n",
       "      min     25%    50%     75%    max  \n",
       "Set                                      \n",
       "A    5.25  6.1700  7.040  8.1900  12.50  \n",
       "B    3.10  7.5185  8.140  8.9500   9.26  \n",
       "C    5.39  6.2500  7.110  7.8095  12.74  \n",
       "D    4.26  7.0950  7.769  8.5700  10.84  "
      ]
     },
     "execution_count": 96,
     "metadata": {},
     "output_type": "execute_result"
    }
   ],
   "source": [
    "df_imputado.groupby('Set').describe()"
   ]
  },
  {
   "cell_type": "code",
   "execution_count": null,
   "id": "500e50c7",
   "metadata": {},
   "outputs": [
    {
     "name": "stdout",
     "output_type": "stream",
     "text": [
      "La curtosis de A para X es: 10.703703703703706\n",
      "La curtosis de A para Y es: 3.262866889922681\n",
      "La curtosis de B para X es: -0.5396825396825391\n",
      "La curtosis de B para Y es: 4.296614088453249\n",
      "La curtosis de C para X es: -0.9427083333333335\n",
      "La curtosis de C para Y es: 4.601389946310229\n",
      "La curtosis de D para X es: -0.942708333333333\n",
      "La curtosis de D para Y es: 0.5174322987287958\n"
     ]
    }
   ],
   "source": [
    "for name, group in df_imputado.groupby('Set'):\n",
    "    print(f'La curtosis de {name} para X es: {group[\"X\"].kurtosis()}')\n",
    "    print(f'La curtosis de {name} para Y es: {group[\"Y\"].kurtosis()}')"
   ]
  },
  {
   "cell_type": "markdown",
   "id": "1191b52e",
   "metadata": {},
   "source": [
    "## Gráficos de dispersión tras imputación"
   ]
  },
  {
   "cell_type": "code",
   "execution_count": null,
   "id": "9552027c",
   "metadata": {},
   "outputs": [
    {
     "data": {
      "image/png": "[encoded data removed]",
      "text/plain": [
       "<Figure size 640x480 with 1 Axes>"
      ]
     },
     "metadata": {},
     "output_type": "display_data"
    },
    {
     "data": {
      "image/png": "[encoded data removed]",
      "text/plain": [
       "<Figure size 640x480 with 1 Axes>"
      ]
     },
     "metadata": {},
     "output_type": "display_data"
    },
    {
     "data": {
      "image/png": "[encoded data removed]",
      "text/plain": [
       "<Figure size 640x480 with 1 Axes>"
      ]
     },
     "metadata": {},
     "output_type": "display_data"
    },
    {
     "data": {
      "image/png": "[encoded data removed]",
      "text/plain": [
       "<Figure size 640x480 with 1 Axes>"
      ]
     },
     "metadata": {},
     "output_type": "display_data"
    }
   ],
   "source": [
    "for name, group in df_imputado.groupby('Set'):\n",
    "    group.plot.scatter(x='X', y='Y', title=f\"Gráfico para grupo {name}\")"
   ]
  },
  {
   "cell_type": "markdown",
   "id": "c7cd003f",
   "metadata": {},
   "source": [
    "## Comentario sobre las diferencias\n",
    "Al eliminar e imputar datos, los estadísticos pueden cambiar ligeramente, especialmente la desviación estándar y la curtosis, que son sensibles a la presencia de valores extremos. Los gráficos de dispersión pueden mostrar menos variabilidad en los puntos imputados, ya que se reemplazan por la media. Esto puede afectar la interpretación de la correlación y la forma de la distribución."
   ]
  }
 ],
 "metadata": {
  "kernelspec": {
   "display_name": "Python 3",
   "language": "python",
   "name": "python3"
  },
  "language_info": {
   "codemirror_mode": {
    "name": "ipython",
    "version": 3
   },
   "file_extension": ".py",
   "mimetype": "text/x-python",
   "name": "python",
   "nbconvert_exporter": "python",
   "pygments_lexer": "ipython3",
   "version": "3.12.4"
  }
 },
 "nbformat": 4,
 "nbformat_minor": 5
}
