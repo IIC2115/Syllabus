{
 "cells": [
  {
   "cell_type": "markdown",
   "id": "bf70065c",
   "metadata": {},
   "source": [
    "# Introducción a la Ciencia de Datos y Pandas\n",
    "\n",
    "La **ciencia de datos** es una disciplina que combina estadística, matemáticas, programación y conocimiento del dominio para extraer información útil de grandes volúmenes de datos. Su objetivo principal es analizar, interpretar y visualizar datos para tomar decisiones informadas y resolver problemas complejos en diversas áreas como negocios, salud, ingeniería y ciencias sociales.\n",
    "\n",
    "En la ciencia de datos, se utilizan diferentes herramientas y lenguajes de programación para manipular y analizar datos. Una de las librerías más populares en Python para trabajar con datos tabulares es **Pandas**. Esta librería permite:\n",
    "\n",
    "- Leer y escribir datos en diferentes formatos (CSV, Excel, SQL, etc.)\n",
    "- Limpiar, transformar y organizar datos\n",
    "- Realizar análisis estadísticos y operaciones matemáticas\n",
    "- Visualizar datos de manera sencilla\n",
    "\n",
    "**Pandas** es fundamental para cualquier persona que quiera **iniciarse en la ciencia de datos con Python**, ya que facilita el manejo eficiente de grandes conjuntos de datos y acelera el proceso de análisis."
   ]
  },
  {
   "cell_type": "markdown",
   "id": "bb9eb902",
   "metadata": {},
   "source": [
    "## Relación entre Pandas y Numpy\n",
    "\n",
    "Por otro lado, la librería **NumPy** es fundamental en Python para el manejo de arreglos y operaciones matemáticas de alto rendimiento. Pandas está construido sobre NumPy y utiliza sus estructuras de datos (principalmente los arreglos llamados `ndarray`) para almacenar y procesar información de manera eficiente.\n",
    "\n",
    "Gracias a NumPy, Pandas puede realizar operaciones rápidas y vectorizadas sobre grandes volúmenes de datos, facilitando así, el análisis y la manipulación avanzada de datos."
   ]
  },
  {
   "cell_type": "markdown",
   "id": "211e50d2",
   "metadata": {},
   "source": [
    "# Dataframe\n",
    "\n",
    "Un data frame es una estructura de datos de bidimensionales,que pueden contener datos de diferentes tipos, por lo tanto, son heterogéneas. Esta estructura de datos es la más usada para realizar análisis de datos.\n",
    "\n",
    "Podemos entender a los data frames como una versión similar al de una matriz, donde, cada elemento del data frame sería una fila, y cada elemento de dicha fila, del cual cada uno tiene su propio tipo de dato, sería una columna. \n",
    "\n",
    "Para crear un data frame, es posible usar arreglos de la librería numpy, junto con la función `pandas.DataFrame`"
   ]
  },
  {
   "cell_type": "code",
   "execution_count": 447,
   "id": "10a456f3",
   "metadata": {},
   "outputs": [
    {
     "name": "stdout",
     "output_type": "stream",
     "text": [
      "[4 5 6]\n",
      "8\n",
      "<class 'numpy.ndarray'>\n"
     ]
    }
   ],
   "source": [
    "import numpy as np\n",
    "import pandas as pd\n",
    "\n",
    "# Ejemplo de un arreglo de numpy\n",
    "arreglo = np.array([[1, 2, 3], [4, 5, 6], [7, 8, 9]]) #Este codigo es un ejemplo de como se crea un arreglo de numpy\n",
    "\n",
    "print(arreglo[1]) #La forma de acceder a sus elementos es igual que en una lista\n",
    "\n",
    "print(arreglo[2][1])\n",
    "\n",
    "print(type(arreglo))"
   ]
  },
  {
   "cell_type": "code",
   "execution_count": 448,
   "id": "0bc797a5",
   "metadata": {},
   "outputs": [
    {
     "name": "stdout",
     "output_type": "stream",
     "text": [
      "   A  B  C\n",
      "0  1  2  3\n",
      "1  4  5  6\n",
      "2  7  8  9\n"
     ]
    }
   ],
   "source": [
    "# Para crear un data frame usando los arreglos como el contenido de este, es necesario asignarles las columnas.\n",
    "df = pd.DataFrame(arreglo, columns=['A', 'B', 'C']) \n",
    "print(df)"
   ]
  },
  {
   "cell_type": "markdown",
   "id": "0aeaf91f",
   "metadata": {},
   "source": [
    "Sin embargo, a pesar de lo útil que puede ser numpy, lo que más se usa son las lecturas de los archivos **csv**."
   ]
  },
  {
   "cell_type": "code",
   "execution_count": 449,
   "id": "439b3c3f",
   "metadata": {},
   "outputs": [
    {
     "name": "stdout",
     "output_type": "stream",
     "text": [
      "   Nombre  Edad FechaNacimiento Activo  Salario\n",
      "0     Ana  28.0      1997-05-12   True  3200.50\n",
      "1    Luis  35.0      1990-11-23  False  4100.00\n",
      "2   Sofía  22.0      2003-02-17   True  2700.75\n",
      "3  Carlos  40.0      1985-08-30   True  5200.00\n",
      "4   María  31.0      1994-03-05  False  3800.20\n"
     ]
    }
   ],
   "source": [
    "# Importación de la librería\n",
    "import pandas as pd\n",
    "\n",
    "# Abrir un archivo CSV y crear un DataFrame\n",
    "df = pd.read_csv('data.csv')\n",
    "\n",
    "# Mostrar las primeras filas del DataFrame\n",
    "print(df.head())"
   ]
  },
  {
   "cell_type": "code",
   "execution_count": 450,
   "id": "904b7a6d",
   "metadata": {},
   "outputs": [
    {
     "name": "stdout",
     "output_type": "stream",
     "text": [
      "0           Ana\n",
      "1          Luis\n",
      "2         Sofía\n",
      "3        Carlos\n",
      "4         María\n",
      "5         Pedro\n",
      "6         Lucía\n",
      "7        Javier\n",
      "8         Marta\n",
      "9        Andrés\n",
      "10    Valentina\n",
      "11        Diego\n",
      "12        Tomás\n",
      "13        Elena\n",
      "14        Mateo\n",
      "15       Isabel\n",
      "16      Ricardo\n",
      "Name: Nombre, dtype: object\n",
      "       Nombre  Edad\n",
      "0         Ana  28.0\n",
      "1        Luis  35.0\n",
      "2       Sofía  22.0\n",
      "3      Carlos  40.0\n",
      "4       María  31.0\n",
      "5       Pedro  29.0\n",
      "6       Lucía  27.0\n",
      "7      Javier  33.0\n",
      "8       Marta   NaN\n",
      "9      Andrés  30.0\n",
      "10  Valentina  25.0\n",
      "11      Diego   NaN\n",
      "12      Tomás  45.0\n",
      "13      Elena  26.0\n",
      "14      Mateo  38.0\n",
      "15     Isabel  24.0\n",
      "16    Ricardo  50.0\n"
     ]
    }
   ],
   "source": [
    "# Es posible también revisar una sola columna del data frame, o bien, más de una:\n",
    "\n",
    "print(df['Nombre']) # Una sola columna\n",
    "\n",
    "print(df[['Nombre', 'Edad']]) # Más de una columna"
   ]
  },
  {
   "cell_type": "code",
   "execution_count": 451,
   "id": "d4c1a40e",
   "metadata": {},
   "outputs": [
    {
     "name": "stdout",
     "output_type": "stream",
     "text": [
      "Nombre             17\n",
      "Edad               15\n",
      "FechaNacimiento    15\n",
      "Activo             16\n",
      "Salario            16\n",
      "dtype: int64\n"
     ]
    }
   ],
   "source": [
    "# Si queremos saber cuantos valores hay en cada columna, podemos usar la función count(). El numero que nos da en cada uno es importante. \n",
    "print(df.count())"
   ]
  },
  {
   "cell_type": "code",
   "execution_count": 452,
   "id": "15659230",
   "metadata": {},
   "outputs": [
    {
     "data": {
      "text/plain": [
       "Activo\n",
       "True     10\n",
       "False     6\n",
       "Name: count, dtype: int64"
      ]
     },
     "execution_count": 452,
     "metadata": {},
     "output_type": "execute_result"
    }
   ],
   "source": [
    "# Si queremos saber cuantos valores hay en una columna, podemos usar la función value_counts()\n",
    "df[\"Activo\"].value_counts() #Para este caso por ejemplo, saber cuantos personas son activas y cuantas no"
   ]
  },
  {
   "cell_type": "code",
   "execution_count": 453,
   "id": "2300f744",
   "metadata": {},
   "outputs": [
    {
     "data": {
      "text/html": [
       "<div>\n",
       "<style scoped>\n",
       "    .dataframe tbody tr th:only-of-type {\n",
       "        vertical-align: middle;\n",
       "    }\n",
       "\n",
       "    .dataframe tbody tr th {\n",
       "        vertical-align: top;\n",
       "    }\n",
       "\n",
       "    .dataframe thead th {\n",
       "        text-align: right;\n",
       "    }\n",
       "</style>\n",
       "<table border=\"1\" class=\"dataframe\">\n",
       "  <thead>\n",
       "    <tr style=\"text-align: right;\">\n",
       "      <th></th>\n",
       "      <th>Edad</th>\n",
       "      <th>Salario</th>\n",
       "    </tr>\n",
       "  </thead>\n",
       "  <tbody>\n",
       "    <tr>\n",
       "      <th>count</th>\n",
       "      <td>15.000000</td>\n",
       "      <td>16.000000</td>\n",
       "    </tr>\n",
       "    <tr>\n",
       "      <th>mean</th>\n",
       "      <td>32.200000</td>\n",
       "      <td>6431.346875</td>\n",
       "    </tr>\n",
       "    <tr>\n",
       "      <th>std</th>\n",
       "      <td>8.046295</td>\n",
       "      <td>7311.948207</td>\n",
       "    </tr>\n",
       "    <tr>\n",
       "      <th>min</th>\n",
       "      <td>22.000000</td>\n",
       "      <td>450.000000</td>\n",
       "    </tr>\n",
       "    <tr>\n",
       "      <th>25%</th>\n",
       "      <td>26.500000</td>\n",
       "      <td>3062.525000</td>\n",
       "    </tr>\n",
       "    <tr>\n",
       "      <th>50%</th>\n",
       "      <td>30.000000</td>\n",
       "      <td>3700.100000</td>\n",
       "    </tr>\n",
       "    <tr>\n",
       "      <th>75%</th>\n",
       "      <td>36.500000</td>\n",
       "      <td>4375.000000</td>\n",
       "    </tr>\n",
       "    <tr>\n",
       "      <th>max</th>\n",
       "      <td>50.000000</td>\n",
       "      <td>25000.000000</td>\n",
       "    </tr>\n",
       "  </tbody>\n",
       "</table>\n",
       "</div>"
      ],
      "text/plain": [
       "            Edad       Salario\n",
       "count  15.000000     16.000000\n",
       "mean   32.200000   6431.346875\n",
       "std     8.046295   7311.948207\n",
       "min    22.000000    450.000000\n",
       "25%    26.500000   3062.525000\n",
       "50%    30.000000   3700.100000\n",
       "75%    36.500000   4375.000000\n",
       "max    50.000000  25000.000000"
      ]
     },
     "execution_count": 453,
     "metadata": {},
     "output_type": "execute_result"
    }
   ],
   "source": [
    "# Usando la función describe() es posible obtener un resumen estadístico de las columnas numéricas, como las que tienen datos del tipo int o float.\n",
    "df.describe()"
   ]
  },
  {
   "cell_type": "markdown",
   "id": "5c6d5aa4",
   "metadata": {},
   "source": [
    "# Limpieza de datos: Valores Nulos\n",
    "\n",
    "Es muy común que los data set de los csv, o cualquier otro  archivo de lectura de datos que trabajemos tengan valore nulos por alguna razón, como algún error en la adquisición de los datos, u otro, es por eso que es importante limpiar estos data set para trabajar solo con los datos acordes a los que deberían ser, sin valores nulos, y para eso, los eliminamos."
   ]
  },
  {
   "cell_type": "code",
   "execution_count": 454,
   "id": "92c75570",
   "metadata": {},
   "outputs": [
    {
     "data": {
      "text/html": [
       "<div>\n",
       "<style scoped>\n",
       "    .dataframe tbody tr th:only-of-type {\n",
       "        vertical-align: middle;\n",
       "    }\n",
       "\n",
       "    .dataframe tbody tr th {\n",
       "        vertical-align: top;\n",
       "    }\n",
       "\n",
       "    .dataframe thead th {\n",
       "        text-align: right;\n",
       "    }\n",
       "</style>\n",
       "<table border=\"1\" class=\"dataframe\">\n",
       "  <thead>\n",
       "    <tr style=\"text-align: right;\">\n",
       "      <th></th>\n",
       "      <th>Nombre</th>\n",
       "      <th>Edad</th>\n",
       "      <th>FechaNacimiento</th>\n",
       "      <th>Activo</th>\n",
       "      <th>Salario</th>\n",
       "    </tr>\n",
       "  </thead>\n",
       "  <tbody>\n",
       "    <tr>\n",
       "      <th>0</th>\n",
       "      <td>Ana</td>\n",
       "      <td>28.0</td>\n",
       "      <td>1997-05-12</td>\n",
       "      <td>True</td>\n",
       "      <td>3200.50</td>\n",
       "    </tr>\n",
       "    <tr>\n",
       "      <th>1</th>\n",
       "      <td>Luis</td>\n",
       "      <td>35.0</td>\n",
       "      <td>1990-11-23</td>\n",
       "      <td>False</td>\n",
       "      <td>4100.00</td>\n",
       "    </tr>\n",
       "    <tr>\n",
       "      <th>2</th>\n",
       "      <td>Sofía</td>\n",
       "      <td>22.0</td>\n",
       "      <td>2003-02-17</td>\n",
       "      <td>True</td>\n",
       "      <td>2700.75</td>\n",
       "    </tr>\n",
       "    <tr>\n",
       "      <th>3</th>\n",
       "      <td>Carlos</td>\n",
       "      <td>40.0</td>\n",
       "      <td>1985-08-30</td>\n",
       "      <td>True</td>\n",
       "      <td>5200.00</td>\n",
       "    </tr>\n",
       "    <tr>\n",
       "      <th>4</th>\n",
       "      <td>María</td>\n",
       "      <td>31.0</td>\n",
       "      <td>1994-03-05</td>\n",
       "      <td>False</td>\n",
       "      <td>3800.20</td>\n",
       "    </tr>\n",
       "    <tr>\n",
       "      <th>5</th>\n",
       "      <td>Pedro</td>\n",
       "      <td>29.0</td>\n",
       "      <td>1996-07-19</td>\n",
       "      <td>True</td>\n",
       "      <td>3300.00</td>\n",
       "    </tr>\n",
       "    <tr>\n",
       "      <th>6</th>\n",
       "      <td>Lucía</td>\n",
       "      <td>27.0</td>\n",
       "      <td>1998-12-01</td>\n",
       "      <td>False</td>\n",
       "      <td>2950.10</td>\n",
       "    </tr>\n",
       "    <tr>\n",
       "      <th>7</th>\n",
       "      <td>Javier</td>\n",
       "      <td>33.0</td>\n",
       "      <td>1992-04-25</td>\n",
       "      <td>True</td>\n",
       "      <td>4000.00</td>\n",
       "    </tr>\n",
       "    <tr>\n",
       "      <th>8</th>\n",
       "      <td>Marta</td>\n",
       "      <td>NaN</td>\n",
       "      <td>1999-06-15</td>\n",
       "      <td>True</td>\n",
       "      <td>3100.00</td>\n",
       "    </tr>\n",
       "    <tr>\n",
       "      <th>9</th>\n",
       "      <td>Andrés</td>\n",
       "      <td>30.0</td>\n",
       "      <td>NaN</td>\n",
       "      <td>False</td>\n",
       "      <td>3900.00</td>\n",
       "    </tr>\n",
       "    <tr>\n",
       "      <th>10</th>\n",
       "      <td>Valentina</td>\n",
       "      <td>25.0</td>\n",
       "      <td>2000-10-10</td>\n",
       "      <td>NaN</td>\n",
       "      <td>NaN</td>\n",
       "    </tr>\n",
       "    <tr>\n",
       "      <th>11</th>\n",
       "      <td>Diego</td>\n",
       "      <td>NaN</td>\n",
       "      <td>NaN</td>\n",
       "      <td>True</td>\n",
       "      <td>3600.00</td>\n",
       "    </tr>\n",
       "    <tr>\n",
       "      <th>12</th>\n",
       "      <td>Tomás</td>\n",
       "      <td>45.0</td>\n",
       "      <td>1980-09-14</td>\n",
       "      <td>True</td>\n",
       "      <td>20000.00</td>\n",
       "    </tr>\n",
       "    <tr>\n",
       "      <th>13</th>\n",
       "      <td>Elena</td>\n",
       "      <td>26.0</td>\n",
       "      <td>1999-01-30</td>\n",
       "      <td>False</td>\n",
       "      <td>450.00</td>\n",
       "    </tr>\n",
       "    <tr>\n",
       "      <th>14</th>\n",
       "      <td>Mateo</td>\n",
       "      <td>38.0</td>\n",
       "      <td>1987-07-22</td>\n",
       "      <td>True</td>\n",
       "      <td>17000.00</td>\n",
       "    </tr>\n",
       "    <tr>\n",
       "      <th>15</th>\n",
       "      <td>Isabel</td>\n",
       "      <td>24.0</td>\n",
       "      <td>2001-05-09</td>\n",
       "      <td>True</td>\n",
       "      <td>600.00</td>\n",
       "    </tr>\n",
       "    <tr>\n",
       "      <th>16</th>\n",
       "      <td>Ricardo</td>\n",
       "      <td>50.0</td>\n",
       "      <td>1975-03-18</td>\n",
       "      <td>False</td>\n",
       "      <td>25000.00</td>\n",
       "    </tr>\n",
       "  </tbody>\n",
       "</table>\n",
       "</div>"
      ],
      "text/plain": [
       "       Nombre  Edad FechaNacimiento Activo   Salario\n",
       "0         Ana  28.0      1997-05-12   True   3200.50\n",
       "1        Luis  35.0      1990-11-23  False   4100.00\n",
       "2       Sofía  22.0      2003-02-17   True   2700.75\n",
       "3      Carlos  40.0      1985-08-30   True   5200.00\n",
       "4       María  31.0      1994-03-05  False   3800.20\n",
       "5       Pedro  29.0      1996-07-19   True   3300.00\n",
       "6       Lucía  27.0      1998-12-01  False   2950.10\n",
       "7      Javier  33.0      1992-04-25   True   4000.00\n",
       "8       Marta   NaN      1999-06-15   True   3100.00\n",
       "9      Andrés  30.0             NaN  False   3900.00\n",
       "10  Valentina  25.0      2000-10-10    NaN       NaN\n",
       "11      Diego   NaN             NaN   True   3600.00\n",
       "12      Tomás  45.0      1980-09-14   True  20000.00\n",
       "13      Elena  26.0      1999-01-30  False    450.00\n",
       "14      Mateo  38.0      1987-07-22   True  17000.00\n",
       "15     Isabel  24.0      2001-05-09   True    600.00\n",
       "16    Ricardo  50.0      1975-03-18  False  25000.00"
      ]
     },
     "execution_count": 454,
     "metadata": {},
     "output_type": "execute_result"
    }
   ],
   "source": [
    "#Volviendo a revisar el df pero ahora completamente, es posible darnos cuenta de la presencia de valores nulos\n",
    "\n",
    "df"
   ]
  },
  {
   "cell_type": "code",
   "execution_count": 455,
   "id": "491af3d6",
   "metadata": {},
   "outputs": [
    {
     "data": {
      "text/html": [
       "<div>\n",
       "<style scoped>\n",
       "    .dataframe tbody tr th:only-of-type {\n",
       "        vertical-align: middle;\n",
       "    }\n",
       "\n",
       "    .dataframe tbody tr th {\n",
       "        vertical-align: top;\n",
       "    }\n",
       "\n",
       "    .dataframe thead th {\n",
       "        text-align: right;\n",
       "    }\n",
       "</style>\n",
       "<table border=\"1\" class=\"dataframe\">\n",
       "  <thead>\n",
       "    <tr style=\"text-align: right;\">\n",
       "      <th></th>\n",
       "      <th>Nombre</th>\n",
       "      <th>Edad</th>\n",
       "      <th>FechaNacimiento</th>\n",
       "      <th>Activo</th>\n",
       "      <th>Salario</th>\n",
       "    </tr>\n",
       "  </thead>\n",
       "  <tbody>\n",
       "    <tr>\n",
       "      <th>0</th>\n",
       "      <td>False</td>\n",
       "      <td>False</td>\n",
       "      <td>False</td>\n",
       "      <td>False</td>\n",
       "      <td>False</td>\n",
       "    </tr>\n",
       "    <tr>\n",
       "      <th>1</th>\n",
       "      <td>False</td>\n",
       "      <td>False</td>\n",
       "      <td>False</td>\n",
       "      <td>False</td>\n",
       "      <td>False</td>\n",
       "    </tr>\n",
       "    <tr>\n",
       "      <th>2</th>\n",
       "      <td>False</td>\n",
       "      <td>False</td>\n",
       "      <td>False</td>\n",
       "      <td>False</td>\n",
       "      <td>False</td>\n",
       "    </tr>\n",
       "    <tr>\n",
       "      <th>3</th>\n",
       "      <td>False</td>\n",
       "      <td>False</td>\n",
       "      <td>False</td>\n",
       "      <td>False</td>\n",
       "      <td>False</td>\n",
       "    </tr>\n",
       "    <tr>\n",
       "      <th>4</th>\n",
       "      <td>False</td>\n",
       "      <td>False</td>\n",
       "      <td>False</td>\n",
       "      <td>False</td>\n",
       "      <td>False</td>\n",
       "    </tr>\n",
       "    <tr>\n",
       "      <th>5</th>\n",
       "      <td>False</td>\n",
       "      <td>False</td>\n",
       "      <td>False</td>\n",
       "      <td>False</td>\n",
       "      <td>False</td>\n",
       "    </tr>\n",
       "    <tr>\n",
       "      <th>6</th>\n",
       "      <td>False</td>\n",
       "      <td>False</td>\n",
       "      <td>False</td>\n",
       "      <td>False</td>\n",
       "      <td>False</td>\n",
       "    </tr>\n",
       "    <tr>\n",
       "      <th>7</th>\n",
       "      <td>False</td>\n",
       "      <td>False</td>\n",
       "      <td>False</td>\n",
       "      <td>False</td>\n",
       "      <td>False</td>\n",
       "    </tr>\n",
       "    <tr>\n",
       "      <th>8</th>\n",
       "      <td>False</td>\n",
       "      <td>True</td>\n",
       "      <td>False</td>\n",
       "      <td>False</td>\n",
       "      <td>False</td>\n",
       "    </tr>\n",
       "    <tr>\n",
       "      <th>9</th>\n",
       "      <td>False</td>\n",
       "      <td>False</td>\n",
       "      <td>True</td>\n",
       "      <td>False</td>\n",
       "      <td>False</td>\n",
       "    </tr>\n",
       "    <tr>\n",
       "      <th>10</th>\n",
       "      <td>False</td>\n",
       "      <td>False</td>\n",
       "      <td>False</td>\n",
       "      <td>True</td>\n",
       "      <td>True</td>\n",
       "    </tr>\n",
       "    <tr>\n",
       "      <th>11</th>\n",
       "      <td>False</td>\n",
       "      <td>True</td>\n",
       "      <td>True</td>\n",
       "      <td>False</td>\n",
       "      <td>False</td>\n",
       "    </tr>\n",
       "    <tr>\n",
       "      <th>12</th>\n",
       "      <td>False</td>\n",
       "      <td>False</td>\n",
       "      <td>False</td>\n",
       "      <td>False</td>\n",
       "      <td>False</td>\n",
       "    </tr>\n",
       "    <tr>\n",
       "      <th>13</th>\n",
       "      <td>False</td>\n",
       "      <td>False</td>\n",
       "      <td>False</td>\n",
       "      <td>False</td>\n",
       "      <td>False</td>\n",
       "    </tr>\n",
       "    <tr>\n",
       "      <th>14</th>\n",
       "      <td>False</td>\n",
       "      <td>False</td>\n",
       "      <td>False</td>\n",
       "      <td>False</td>\n",
       "      <td>False</td>\n",
       "    </tr>\n",
       "    <tr>\n",
       "      <th>15</th>\n",
       "      <td>False</td>\n",
       "      <td>False</td>\n",
       "      <td>False</td>\n",
       "      <td>False</td>\n",
       "      <td>False</td>\n",
       "    </tr>\n",
       "    <tr>\n",
       "      <th>16</th>\n",
       "      <td>False</td>\n",
       "      <td>False</td>\n",
       "      <td>False</td>\n",
       "      <td>False</td>\n",
       "      <td>False</td>\n",
       "    </tr>\n",
       "  </tbody>\n",
       "</table>\n",
       "</div>"
      ],
      "text/plain": [
       "    Nombre   Edad  FechaNacimiento  Activo  Salario\n",
       "0    False  False            False   False    False\n",
       "1    False  False            False   False    False\n",
       "2    False  False            False   False    False\n",
       "3    False  False            False   False    False\n",
       "4    False  False            False   False    False\n",
       "5    False  False            False   False    False\n",
       "6    False  False            False   False    False\n",
       "7    False  False            False   False    False\n",
       "8    False   True            False   False    False\n",
       "9    False  False             True   False    False\n",
       "10   False  False            False    True     True\n",
       "11   False   True             True   False    False\n",
       "12   False  False            False   False    False\n",
       "13   False  False            False   False    False\n",
       "14   False  False            False   False    False\n",
       "15   False  False            False   False    False\n",
       "16   False  False            False   False    False"
      ]
     },
     "execution_count": 455,
     "metadata": {},
     "output_type": "execute_result"
    }
   ],
   "source": [
    "#O bien, podríamos utilizar la función isnull() para identificar los valores nulos en el DataFrame. Si algun dato es True, significa que dicho dato es un valor nulo. \n",
    "\n",
    "df.isnull()"
   ]
  },
  {
   "cell_type": "code",
   "execution_count": 456,
   "id": "50637a0c",
   "metadata": {},
   "outputs": [
    {
     "data": {
      "text/plain": [
       "Nombre             0\n",
       "Edad               2\n",
       "FechaNacimiento    2\n",
       "Activo             1\n",
       "Salario            1\n",
       "dtype: int64"
      ]
     },
     "execution_count": 456,
     "metadata": {},
     "output_type": "execute_result"
    }
   ],
   "source": [
    "# Siendo aun más especificos, o bien para irnos a la segura, a dicha función le podemos agregar el metodo sum() para que nos diga exactamente\n",
    "# cuantos valores nulos tiene cada columna\n",
    "df.isnull().sum()"
   ]
  },
  {
   "cell_type": "code",
   "execution_count": 457,
   "id": "1ed6cc2b",
   "metadata": {},
   "outputs": [
    {
     "data": {
      "text/html": [
       "<div>\n",
       "<style scoped>\n",
       "    .dataframe tbody tr th:only-of-type {\n",
       "        vertical-align: middle;\n",
       "    }\n",
       "\n",
       "    .dataframe tbody tr th {\n",
       "        vertical-align: top;\n",
       "    }\n",
       "\n",
       "    .dataframe thead th {\n",
       "        text-align: right;\n",
       "    }\n",
       "</style>\n",
       "<table border=\"1\" class=\"dataframe\">\n",
       "  <thead>\n",
       "    <tr style=\"text-align: right;\">\n",
       "      <th></th>\n",
       "      <th>Nombre</th>\n",
       "      <th>Edad</th>\n",
       "      <th>FechaNacimiento</th>\n",
       "      <th>Activo</th>\n",
       "      <th>Salario</th>\n",
       "    </tr>\n",
       "  </thead>\n",
       "  <tbody>\n",
       "    <tr>\n",
       "      <th>0</th>\n",
       "      <td>Ana</td>\n",
       "      <td>28.0</td>\n",
       "      <td>1997-05-12</td>\n",
       "      <td>True</td>\n",
       "      <td>3200.50</td>\n",
       "    </tr>\n",
       "    <tr>\n",
       "      <th>1</th>\n",
       "      <td>Luis</td>\n",
       "      <td>35.0</td>\n",
       "      <td>1990-11-23</td>\n",
       "      <td>False</td>\n",
       "      <td>4100.00</td>\n",
       "    </tr>\n",
       "    <tr>\n",
       "      <th>2</th>\n",
       "      <td>Sofía</td>\n",
       "      <td>22.0</td>\n",
       "      <td>2003-02-17</td>\n",
       "      <td>True</td>\n",
       "      <td>2700.75</td>\n",
       "    </tr>\n",
       "    <tr>\n",
       "      <th>3</th>\n",
       "      <td>Carlos</td>\n",
       "      <td>40.0</td>\n",
       "      <td>1985-08-30</td>\n",
       "      <td>True</td>\n",
       "      <td>5200.00</td>\n",
       "    </tr>\n",
       "    <tr>\n",
       "      <th>4</th>\n",
       "      <td>María</td>\n",
       "      <td>31.0</td>\n",
       "      <td>1994-03-05</td>\n",
       "      <td>False</td>\n",
       "      <td>3800.20</td>\n",
       "    </tr>\n",
       "    <tr>\n",
       "      <th>5</th>\n",
       "      <td>Pedro</td>\n",
       "      <td>29.0</td>\n",
       "      <td>1996-07-19</td>\n",
       "      <td>True</td>\n",
       "      <td>3300.00</td>\n",
       "    </tr>\n",
       "    <tr>\n",
       "      <th>6</th>\n",
       "      <td>Lucía</td>\n",
       "      <td>27.0</td>\n",
       "      <td>1998-12-01</td>\n",
       "      <td>False</td>\n",
       "      <td>2950.10</td>\n",
       "    </tr>\n",
       "    <tr>\n",
       "      <th>7</th>\n",
       "      <td>Javier</td>\n",
       "      <td>33.0</td>\n",
       "      <td>1992-04-25</td>\n",
       "      <td>True</td>\n",
       "      <td>4000.00</td>\n",
       "    </tr>\n",
       "    <tr>\n",
       "      <th>12</th>\n",
       "      <td>Tomás</td>\n",
       "      <td>45.0</td>\n",
       "      <td>1980-09-14</td>\n",
       "      <td>True</td>\n",
       "      <td>20000.00</td>\n",
       "    </tr>\n",
       "    <tr>\n",
       "      <th>13</th>\n",
       "      <td>Elena</td>\n",
       "      <td>26.0</td>\n",
       "      <td>1999-01-30</td>\n",
       "      <td>False</td>\n",
       "      <td>450.00</td>\n",
       "    </tr>\n",
       "    <tr>\n",
       "      <th>14</th>\n",
       "      <td>Mateo</td>\n",
       "      <td>38.0</td>\n",
       "      <td>1987-07-22</td>\n",
       "      <td>True</td>\n",
       "      <td>17000.00</td>\n",
       "    </tr>\n",
       "    <tr>\n",
       "      <th>15</th>\n",
       "      <td>Isabel</td>\n",
       "      <td>24.0</td>\n",
       "      <td>2001-05-09</td>\n",
       "      <td>True</td>\n",
       "      <td>600.00</td>\n",
       "    </tr>\n",
       "    <tr>\n",
       "      <th>16</th>\n",
       "      <td>Ricardo</td>\n",
       "      <td>50.0</td>\n",
       "      <td>1975-03-18</td>\n",
       "      <td>False</td>\n",
       "      <td>25000.00</td>\n",
       "    </tr>\n",
       "  </tbody>\n",
       "</table>\n",
       "</div>"
      ],
      "text/plain": [
       "     Nombre  Edad FechaNacimiento Activo   Salario\n",
       "0       Ana  28.0      1997-05-12   True   3200.50\n",
       "1      Luis  35.0      1990-11-23  False   4100.00\n",
       "2     Sofía  22.0      2003-02-17   True   2700.75\n",
       "3    Carlos  40.0      1985-08-30   True   5200.00\n",
       "4     María  31.0      1994-03-05  False   3800.20\n",
       "5     Pedro  29.0      1996-07-19   True   3300.00\n",
       "6     Lucía  27.0      1998-12-01  False   2950.10\n",
       "7    Javier  33.0      1992-04-25   True   4000.00\n",
       "12    Tomás  45.0      1980-09-14   True  20000.00\n",
       "13    Elena  26.0      1999-01-30  False    450.00\n",
       "14    Mateo  38.0      1987-07-22   True  17000.00\n",
       "15   Isabel  24.0      2001-05-09   True    600.00\n",
       "16  Ricardo  50.0      1975-03-18  False  25000.00"
      ]
     },
     "execution_count": 457,
     "metadata": {},
     "output_type": "execute_result"
    }
   ],
   "source": [
    "# para eliminar los valores nulos de un data frame\n",
    "df_limpio = df.dropna() #Esto no significa que a \"df\" le eliminamos valores nulos, solo obtenemos una copia temporal, \"df\" seguirá siendo el mismo \"df\". \n",
    "df_limpio #Al almacenar esa copia en otra variable, creamos un nuevo DataFrame que no contiene valores nulos."
   ]
  },
  {
   "cell_type": "code",
   "execution_count": 458,
   "id": "c1f11ba9",
   "metadata": {},
   "outputs": [
    {
     "data": {
      "text/plain": [
       "Nombre             0\n",
       "Edad               0\n",
       "FechaNacimiento    0\n",
       "Activo             0\n",
       "Salario            0\n",
       "dtype: int64"
      ]
     },
     "execution_count": 458,
     "metadata": {},
     "output_type": "execute_result"
    }
   ],
   "source": [
    "# Revisemos\n",
    "df_limpio.isnull().sum()\n"
   ]
  },
  {
   "cell_type": "code",
   "execution_count": 459,
   "id": "a15d7cc2",
   "metadata": {},
   "outputs": [
    {
     "data": {
      "text/plain": [
       "Nombre             13\n",
       "Edad               13\n",
       "FechaNacimiento    13\n",
       "Activo             13\n",
       "Salario            13\n",
       "dtype: int64"
      ]
     },
     "execution_count": 459,
     "metadata": {},
     "output_type": "execute_result"
    }
   ],
   "source": [
    "df_limpio.count()"
   ]
  },
  {
   "cell_type": "markdown",
   "id": "8e51314a",
   "metadata": {},
   "source": [
    "# Agrupación de datos con groupby\n",
    "\n",
    "El método `groupby` de pandas permite agrupar los datos de un DataFrame según los valores de una o más columnas. Esto es útil para realizar operaciones de agregación, como sumas, promedios, conteos, etc., sobre cada grupo de datos. Por ejemplo, se puede agrupar por una columna de categorías y calcular el promedio de otra columna para cada grupo. Es una herramienta fundamental para el análisis exploratorio y la segmentación de datos.\n",
    "\n",
    "Lo que hace groupby básicamente es agrupar los datos según los valores de una columna especifica, tal que crea distintos dataframe con todos los datos donde se tiene el valor de un elemento de dicha columna, luego otro dataframe con todos los datos donde se tiene el valor de otro elemento de dicha columna, y así sucesivamente. \n",
    "\n",
    "Por ejemplo, si una columna `columna` tiene valores `A`, `B` y `C`, lo que hace `df.groupby('columna')` es crear subconjuntos donde se tiene un dataframe con todas las filas donde 'columna' = A, y otro donde 'columna' = B, y otro donde 'columna' = C. Lo veremos a continuación"
   ]
  },
  {
   "cell_type": "code",
   "execution_count": 460,
   "id": "be4a3559",
   "metadata": {},
   "outputs": [],
   "source": [
    "# Del data frame anterior, consideraremos el limpio\n",
    "\n",
    "df = df_limpio"
   ]
  },
  {
   "cell_type": "code",
   "execution_count": 461,
   "id": "4114f60b",
   "metadata": {},
   "outputs": [
    {
     "data": {
      "text/html": [
       "<div>\n",
       "<style scoped>\n",
       "    .dataframe tbody tr th:only-of-type {\n",
       "        vertical-align: middle;\n",
       "    }\n",
       "\n",
       "    .dataframe tbody tr th {\n",
       "        vertical-align: top;\n",
       "    }\n",
       "\n",
       "    .dataframe thead tr th {\n",
       "        text-align: left;\n",
       "    }\n",
       "\n",
       "    .dataframe thead tr:last-of-type th {\n",
       "        text-align: right;\n",
       "    }\n",
       "</style>\n",
       "<table border=\"1\" class=\"dataframe\">\n",
       "  <thead>\n",
       "    <tr>\n",
       "      <th></th>\n",
       "      <th colspan=\"8\" halign=\"left\">Salario</th>\n",
       "    </tr>\n",
       "    <tr>\n",
       "      <th></th>\n",
       "      <th>count</th>\n",
       "      <th>mean</th>\n",
       "      <th>std</th>\n",
       "      <th>min</th>\n",
       "      <th>25%</th>\n",
       "      <th>50%</th>\n",
       "      <th>75%</th>\n",
       "      <th>max</th>\n",
       "    </tr>\n",
       "    <tr>\n",
       "      <th>Activo</th>\n",
       "      <th></th>\n",
       "      <th></th>\n",
       "      <th></th>\n",
       "      <th></th>\n",
       "      <th></th>\n",
       "      <th></th>\n",
       "      <th></th>\n",
       "      <th></th>\n",
       "    </tr>\n",
       "  </thead>\n",
       "  <tbody>\n",
       "    <tr>\n",
       "      <th>False</th>\n",
       "      <td>5.0</td>\n",
       "      <td>7260.06000</td>\n",
       "      <td>10020.164096</td>\n",
       "      <td>450.0</td>\n",
       "      <td>2950.1000</td>\n",
       "      <td>3800.2</td>\n",
       "      <td>4100.0</td>\n",
       "      <td>25000.0</td>\n",
       "    </tr>\n",
       "    <tr>\n",
       "      <th>True</th>\n",
       "      <td>8.0</td>\n",
       "      <td>7000.15625</td>\n",
       "      <td>7258.588515</td>\n",
       "      <td>600.0</td>\n",
       "      <td>3075.5625</td>\n",
       "      <td>3650.0</td>\n",
       "      <td>8150.0</td>\n",
       "      <td>20000.0</td>\n",
       "    </tr>\n",
       "  </tbody>\n",
       "</table>\n",
       "</div>"
      ],
      "text/plain": [
       "       Salario                                                              \\\n",
       "         count        mean           std    min        25%     50%     75%   \n",
       "Activo                                                                       \n",
       "False      5.0  7260.06000  10020.164096  450.0  2950.1000  3800.2  4100.0   \n",
       "True       8.0  7000.15625   7258.588515  600.0  3075.5625  3650.0  8150.0   \n",
       "\n",
       "                 \n",
       "            max  \n",
       "Activo           \n",
       "False   25000.0  \n",
       "True    20000.0  "
      ]
     },
     "execution_count": 461,
     "metadata": {},
     "output_type": "execute_result"
    }
   ],
   "source": [
    "df.groupby('Activo')[['Salario']].describe() # Agrupando por la columna Activo, y considerando la columna Salario. A esto, hay que agregarle un metodo, al haber \n",
    "                                                    # tantos datos para cada valor de 'Activo', hace que sea necesario resumir la información de alguna forma estadisticamente, \n",
    "                                                    # por ejemplo, con la suma total de sus valores, sus promedios, etc."
   ]
  },
  {
   "cell_type": "code",
   "execution_count": 462,
   "id": "01031166",
   "metadata": {},
   "outputs": [
    {
     "data": {
      "text/html": [
       "<div>\n",
       "<style scoped>\n",
       "    .dataframe tbody tr th:only-of-type {\n",
       "        vertical-align: middle;\n",
       "    }\n",
       "\n",
       "    .dataframe tbody tr th {\n",
       "        vertical-align: top;\n",
       "    }\n",
       "\n",
       "    .dataframe thead th {\n",
       "        text-align: right;\n",
       "    }\n",
       "</style>\n",
       "<table border=\"1\" class=\"dataframe\">\n",
       "  <thead>\n",
       "    <tr style=\"text-align: right;\">\n",
       "      <th></th>\n",
       "      <th>Nombre</th>\n",
       "      <th>Edad</th>\n",
       "      <th>FechaNacimiento</th>\n",
       "      <th>Activo</th>\n",
       "      <th>Salario</th>\n",
       "    </tr>\n",
       "  </thead>\n",
       "  <tbody>\n",
       "    <tr>\n",
       "      <th>0</th>\n",
       "      <td>Ana</td>\n",
       "      <td>28.0</td>\n",
       "      <td>1997-05-12</td>\n",
       "      <td>True</td>\n",
       "      <td>3200.50</td>\n",
       "    </tr>\n",
       "    <tr>\n",
       "      <th>1</th>\n",
       "      <td>Luis</td>\n",
       "      <td>35.0</td>\n",
       "      <td>1990-11-23</td>\n",
       "      <td>False</td>\n",
       "      <td>4100.00</td>\n",
       "    </tr>\n",
       "    <tr>\n",
       "      <th>2</th>\n",
       "      <td>Sofía</td>\n",
       "      <td>22.0</td>\n",
       "      <td>2003-02-17</td>\n",
       "      <td>True</td>\n",
       "      <td>2700.75</td>\n",
       "    </tr>\n",
       "    <tr>\n",
       "      <th>3</th>\n",
       "      <td>Carlos</td>\n",
       "      <td>40.0</td>\n",
       "      <td>1985-08-30</td>\n",
       "      <td>True</td>\n",
       "      <td>5200.00</td>\n",
       "    </tr>\n",
       "    <tr>\n",
       "      <th>4</th>\n",
       "      <td>María</td>\n",
       "      <td>31.0</td>\n",
       "      <td>1994-03-05</td>\n",
       "      <td>False</td>\n",
       "      <td>3800.20</td>\n",
       "    </tr>\n",
       "    <tr>\n",
       "      <th>5</th>\n",
       "      <td>Pedro</td>\n",
       "      <td>29.0</td>\n",
       "      <td>1996-07-19</td>\n",
       "      <td>True</td>\n",
       "      <td>3300.00</td>\n",
       "    </tr>\n",
       "    <tr>\n",
       "      <th>6</th>\n",
       "      <td>Lucía</td>\n",
       "      <td>27.0</td>\n",
       "      <td>1998-12-01</td>\n",
       "      <td>False</td>\n",
       "      <td>2950.10</td>\n",
       "    </tr>\n",
       "    <tr>\n",
       "      <th>7</th>\n",
       "      <td>Javier</td>\n",
       "      <td>33.0</td>\n",
       "      <td>1992-04-25</td>\n",
       "      <td>True</td>\n",
       "      <td>4000.00</td>\n",
       "    </tr>\n",
       "    <tr>\n",
       "      <th>12</th>\n",
       "      <td>Tomás</td>\n",
       "      <td>45.0</td>\n",
       "      <td>1980-09-14</td>\n",
       "      <td>True</td>\n",
       "      <td>20000.00</td>\n",
       "    </tr>\n",
       "    <tr>\n",
       "      <th>13</th>\n",
       "      <td>Elena</td>\n",
       "      <td>26.0</td>\n",
       "      <td>1999-01-30</td>\n",
       "      <td>False</td>\n",
       "      <td>450.00</td>\n",
       "    </tr>\n",
       "    <tr>\n",
       "      <th>14</th>\n",
       "      <td>Mateo</td>\n",
       "      <td>38.0</td>\n",
       "      <td>1987-07-22</td>\n",
       "      <td>True</td>\n",
       "      <td>17000.00</td>\n",
       "    </tr>\n",
       "    <tr>\n",
       "      <th>15</th>\n",
       "      <td>Isabel</td>\n",
       "      <td>24.0</td>\n",
       "      <td>2001-05-09</td>\n",
       "      <td>True</td>\n",
       "      <td>600.00</td>\n",
       "    </tr>\n",
       "    <tr>\n",
       "      <th>16</th>\n",
       "      <td>Ricardo</td>\n",
       "      <td>50.0</td>\n",
       "      <td>1975-03-18</td>\n",
       "      <td>False</td>\n",
       "      <td>25000.00</td>\n",
       "    </tr>\n",
       "  </tbody>\n",
       "</table>\n",
       "</div>"
      ],
      "text/plain": [
       "     Nombre  Edad FechaNacimiento Activo   Salario\n",
       "0       Ana  28.0      1997-05-12   True   3200.50\n",
       "1      Luis  35.0      1990-11-23  False   4100.00\n",
       "2     Sofía  22.0      2003-02-17   True   2700.75\n",
       "3    Carlos  40.0      1985-08-30   True   5200.00\n",
       "4     María  31.0      1994-03-05  False   3800.20\n",
       "5     Pedro  29.0      1996-07-19   True   3300.00\n",
       "6     Lucía  27.0      1998-12-01  False   2950.10\n",
       "7    Javier  33.0      1992-04-25   True   4000.00\n",
       "12    Tomás  45.0      1980-09-14   True  20000.00\n",
       "13    Elena  26.0      1999-01-30  False    450.00\n",
       "14    Mateo  38.0      1987-07-22   True  17000.00\n",
       "15   Isabel  24.0      2001-05-09   True    600.00\n",
       "16  Ricardo  50.0      1975-03-18  False  25000.00"
      ]
     },
     "execution_count": 462,
     "metadata": {},
     "output_type": "execute_result"
    }
   ],
   "source": [
    "df "
   ]
  },
  {
   "cell_type": "code",
   "execution_count": 463,
   "id": "0271e655",
   "metadata": {},
   "outputs": [
    {
     "name": "stdout",
     "output_type": "stream",
     "text": [
      "Grupo de False \n",
      "      Nombre  Edad FechaNacimiento Activo  Salario\n",
      "1      Luis  35.0      1990-11-23  False   4100.0\n",
      "4     María  31.0      1994-03-05  False   3800.2\n",
      "6     Lucía  27.0      1998-12-01  False   2950.1\n",
      "13    Elena  26.0      1999-01-30  False    450.0\n",
      "16  Ricardo  50.0      1975-03-18  False  25000.0 \n",
      " <class 'pandas.core.frame.DataFrame'> \n",
      " ****************************** \n",
      "\n",
      "Grupo de True \n",
      "     Nombre  Edad FechaNacimiento Activo   Salario\n",
      "0      Ana  28.0      1997-05-12   True   3200.50\n",
      "2    Sofía  22.0      2003-02-17   True   2700.75\n",
      "3   Carlos  40.0      1985-08-30   True   5200.00\n",
      "5    Pedro  29.0      1996-07-19   True   3300.00\n",
      "7   Javier  33.0      1992-04-25   True   4000.00\n",
      "12   Tomás  45.0      1980-09-14   True  20000.00\n",
      "14   Mateo  38.0      1987-07-22   True  17000.00\n",
      "15  Isabel  24.0      2001-05-09   True    600.00 \n",
      " <class 'pandas.core.frame.DataFrame'> \n",
      " ****************************** \n",
      "\n"
     ]
    }
   ],
   "source": [
    "for name, group in df.groupby('Activo'):\n",
    "    print(f\"Grupo de {name} \\n {group} \\n {type(group)} \\n {\"*\"*30} \\n\")"
   ]
  },
  {
   "cell_type": "code",
   "execution_count": 464,
   "id": "b18293e6",
   "metadata": {},
   "outputs": [
    {
     "name": "stdout",
     "output_type": "stream",
     "text": [
      "Grupo de False \n",
      "     Salario\n",
      "1    4100.0\n",
      "4    3800.2\n",
      "6    2950.1\n",
      "13    450.0\n",
      "16  25000.0 \n",
      " <class 'pandas.core.frame.DataFrame'> \n",
      " ****************************** \n",
      "\n",
      "Grupo de True \n",
      "      Salario\n",
      "0    3200.50\n",
      "2    2700.75\n",
      "3    5200.00\n",
      "5    3300.00\n",
      "7    4000.00\n",
      "12  20000.00\n",
      "14  17000.00\n",
      "15    600.00 \n",
      " <class 'pandas.core.frame.DataFrame'> \n",
      " ****************************** \n",
      "\n"
     ]
    }
   ],
   "source": [
    "# Si queremos verlo solo los valores de salario, de aquellos que estan activos (True) o inactivos (False)\n",
    "\n",
    "for name, group in df.groupby('Activo')[['Salario']]:\n",
    "    print(f\"Grupo de {name} \\n {group} \\n {type(group)} \\n {\"*\"*30} \\n\")"
   ]
  },
  {
   "cell_type": "code",
   "execution_count": 465,
   "id": "4887f28e",
   "metadata": {},
   "outputs": [
    {
     "name": "stdout",
     "output_type": "stream",
     "text": [
      "Grupo de False \n",
      "     Salario\n",
      "1    4100.0\n",
      "4    3800.2\n",
      "6    2950.1\n",
      "13    450.0\n",
      "16  25000.0) \n",
      " <class 'pandas.core.frame.DataFrame'> \n",
      " ****************************** \n",
      "\n",
      "Grupo de True \n",
      "      Salario\n",
      "0    3200.50\n",
      "2    2700.75\n",
      "3    5200.00\n",
      "5    3300.00\n",
      "7    4000.00\n",
      "12  20000.00\n",
      "14  17000.00\n",
      "15    600.00) \n",
      " <class 'pandas.core.frame.DataFrame'> \n",
      " ****************************** \n",
      "\n"
     ]
    }
   ],
   "source": [
    "# Si queremos verlo solo los valores de salario, de aquellos que estan activos (True) o inactivos (False), también se puede:\n",
    "\n",
    "for name, group in df.groupby('Activo'):\n",
    "    print(f\"Grupo de {name} \\n {group[['Salario']]}) \\n {type(group)} \\n {\"*\"*30} \\n\")"
   ]
  },
  {
   "cell_type": "markdown",
   "id": "c169aa4e",
   "metadata": {},
   "source": [
    "### Uso de funciones en groupby: mean() y sum()"
   ]
  },
  {
   "cell_type": "code",
   "execution_count": 466,
   "id": "8215bd99",
   "metadata": {},
   "outputs": [],
   "source": [
    "# Agrupar por la columna 'Activo' y calcular el promedio de 'Salario' en cada grupo\n",
    "promedio_salario = df.groupby('Activo')[['Salario']].mean() # Con doble corchete, se selecciona un data frame, y así es posible usar metodos que creados para data \n",
    "                                                            # frames, o bien, simplemente para tener una mejor visualización de los datos.\n",
    "suma_salario = df.groupby('Activo')['Salario'].sum()  #Sin doble corchete, se selecciona una serie.\n"
   ]
  },
  {
   "cell_type": "code",
   "execution_count": 467,
   "id": "3c614f95",
   "metadata": {},
   "outputs": [
    {
     "data": {
      "text/html": [
       "<div>\n",
       "<style scoped>\n",
       "    .dataframe tbody tr th:only-of-type {\n",
       "        vertical-align: middle;\n",
       "    }\n",
       "\n",
       "    .dataframe tbody tr th {\n",
       "        vertical-align: top;\n",
       "    }\n",
       "\n",
       "    .dataframe thead th {\n",
       "        text-align: right;\n",
       "    }\n",
       "</style>\n",
       "<table border=\"1\" class=\"dataframe\">\n",
       "  <thead>\n",
       "    <tr style=\"text-align: right;\">\n",
       "      <th></th>\n",
       "      <th>Salario</th>\n",
       "    </tr>\n",
       "    <tr>\n",
       "      <th>Activo</th>\n",
       "      <th></th>\n",
       "    </tr>\n",
       "  </thead>\n",
       "  <tbody>\n",
       "    <tr>\n",
       "      <th>False</th>\n",
       "      <td>7260.06000</td>\n",
       "    </tr>\n",
       "    <tr>\n",
       "      <th>True</th>\n",
       "      <td>7000.15625</td>\n",
       "    </tr>\n",
       "  </tbody>\n",
       "</table>\n",
       "</div>"
      ],
      "text/plain": [
       "           Salario\n",
       "Activo            \n",
       "False   7260.06000\n",
       "True    7000.15625"
      ]
     },
     "execution_count": 467,
     "metadata": {},
     "output_type": "execute_result"
    }
   ],
   "source": [
    "promedio_salario"
   ]
  },
  {
   "cell_type": "code",
   "execution_count": 468,
   "id": "642d136a",
   "metadata": {},
   "outputs": [
    {
     "data": {
      "text/plain": [
       "Activo\n",
       "False    36300.30\n",
       "True     56001.25\n",
       "Name: Salario, dtype: float64"
      ]
     },
     "execution_count": 468,
     "metadata": {},
     "output_type": "execute_result"
    }
   ],
   "source": [
    "suma_salario"
   ]
  },
  {
   "cell_type": "code",
   "execution_count": 469,
   "id": "efaecbc7",
   "metadata": {},
   "outputs": [
    {
     "data": {
      "text/plain": [
       "pandas.core.frame.DataFrame"
      ]
     },
     "execution_count": 469,
     "metadata": {},
     "output_type": "execute_result"
    }
   ],
   "source": [
    "type(promedio_salario)"
   ]
  },
  {
   "cell_type": "code",
   "execution_count": 470,
   "id": "828f4978",
   "metadata": {},
   "outputs": [
    {
     "data": {
      "text/plain": [
       "pandas.core.series.Series"
      ]
     },
     "execution_count": 470,
     "metadata": {},
     "output_type": "execute_result"
    }
   ],
   "source": [
    "type(suma_salario)"
   ]
  },
  {
   "cell_type": "code",
   "execution_count": 471,
   "id": "2a36730e",
   "metadata": {},
   "outputs": [
    {
     "data": {
      "text/plain": [
       "Activo\n",
       "False    7260.06000\n",
       "True     7000.15625\n",
       "Name: Salario, dtype: float64"
      ]
     },
     "execution_count": 471,
     "metadata": {},
     "output_type": "execute_result"
    }
   ],
   "source": [
    "promedio_salario[\"Salario\"]"
   ]
  },
  {
   "cell_type": "code",
   "execution_count": 472,
   "id": "240550df",
   "metadata": {},
   "outputs": [
    {
     "name": "stdout",
     "output_type": "stream",
     "text": [
      "No es posible acceder a la columna Salario porque 'suma_salario' es una serie y no un data frame\n"
     ]
    }
   ],
   "source": [
    "try:\n",
    "    suma_salario[\"Salario\"]\n",
    "except KeyError:\n",
    "    print(f\"No es posible acceder a la columna Salario porque 'suma_salario' es una serie y no un data frame\")"
   ]
  },
  {
   "cell_type": "markdown",
   "id": "3f08b70c",
   "metadata": {},
   "source": [
    "# Visualización de datos: Histogramas con pandas\n",
    "\n",
    "Pandas permite crear histogramas directamente a partir de columnas de un DataFrame utilizando el método `.hist()`. Los histogramas son útiles para visualizar la distribución de los datos numéricos, mostrando cómo se agrupan los valores en diferentes intervalos. Esta funcionalidad facilita el análisis exploratorio y la detección de patrones, tendencias o valores atípicos en los datos de manera rápida y sencilla."
   ]
  },
  {
   "cell_type": "code",
   "execution_count": 473,
   "id": "f474c5a1",
   "metadata": {},
   "outputs": [
    {
     "data": {
      "text/plain": [
       "<Axes: >"
      ]
     },
     "execution_count": 473,
     "metadata": {},
     "output_type": "execute_result"
    },
    {
     "data": {
      "image/png": "[encoded data removed]",
      "text/plain": [
       "<Figure size 640x480 with 1 Axes>"
      ]
     },
     "metadata": {},
     "output_type": "display_data"
    }
   ],
   "source": [
    "df[\"Salario\"].hist(bins=10) #Los bins nos indica en cuantas barras o intervalos se divide el rango horizontal de los datos, en este caso, los salarios.\n",
    "                            # A menor bins, mayor será el intervalo de los datos, y por lo tanto, menor información se tendrá."
   ]
  },
  {
   "cell_type": "code",
   "execution_count": 474,
   "id": "21b9dbd4",
   "metadata": {},
   "outputs": [
    {
     "data": {
      "text/plain": [
       "<Axes: >"
      ]
     },
     "execution_count": 474,
     "metadata": {},
     "output_type": "execute_result"
    },
    {
     "data": {
      "image/png": "[encoded data removed]",
      "text/plain": [
       "<Figure size 640x480 with 1 Axes>"
      ]
     },
     "metadata": {},
     "output_type": "display_data"
    }
   ],
   "source": [
    "df[\"Salario\"].hist(bins=5) #Menos bins"
   ]
  },
  {
   "cell_type": "code",
   "execution_count": 475,
   "id": "7b9cd735",
   "metadata": {},
   "outputs": [
    {
     "data": {
      "text/plain": [
       "<Axes: >"
      ]
     },
     "execution_count": 475,
     "metadata": {},
     "output_type": "execute_result"
    },
    {
     "data": {
      "image/png": "[encoded data removed]",
      "text/plain": [
       "<Figure size 640x480 with 1 Axes>"
      ]
     },
     "metadata": {},
     "output_type": "display_data"
    }
   ],
   "source": [
    "df['Salario'].hist(bins=30)"
   ]
  },
  {
   "cell_type": "code",
   "execution_count": 476,
   "id": "4614c3be",
   "metadata": {},
   "outputs": [
    {
     "data": {
      "text/plain": [
       "<Axes: >"
      ]
     },
     "execution_count": 476,
     "metadata": {},
     "output_type": "execute_result"
    },
    {
     "data": {
      "image/png": "[encoded data removed]",
      "text/plain": [
       "<Figure size 640x480 with 1 Axes>"
      ]
     },
     "metadata": {},
     "output_type": "display_data"
    }
   ],
   "source": [
    "df['Salario'].hist(bins=60)"
   ]
  },
  {
   "cell_type": "markdown",
   "id": "0f9bfd09",
   "metadata": {},
   "source": [
    "## Librería para visualización: Matplotlib\n",
    "\n",
    "**Matplotlib** es una librería de Python utilizada para crear gráficos y visualizaciones de datos. Permite generar desde gráficos simples como líneas y barras, hasta visualizaciones más complejas como histogramas y diagramas de dispersión. Es muy flexible y ampliamente usada en ciencia de datos para analizar y mostrar resultados de manera visual.\n",
    "\n",
    "Ahora bien, para poder generar visualizaciones de los datos, como historgramas, es necesario entender que `matplotlib` es el paquete principal, que contiene muchas submódulos y funciones para crear gráficos, pero eso no significa que con llamarlo de manera a secas basta para poder crear dichas visualizaciones, ya que, **es solo la librería que contiene los modulos o submodulos que se encargan de realizarlas**. `pyplot` es un submódulo específico dentro de matplotlib que proporciona funciones sencillas y similares a las de **MATLAB** para crear gráficos de manera rápida y directa, como por ejemplo: plt.plot(), plt.hist(), plt.show(), etc."
   ]
  },
  {
   "cell_type": "code",
   "execution_count": 477,
   "id": "f532b42a",
   "metadata": {},
   "outputs": [
    {
     "data": {
      "image/png": "[encoded data removed]",
      "text/plain": [
       "<Figure size 640x480 with 1 Axes>"
      ]
     },
     "metadata": {},
     "output_type": "display_data"
    }
   ],
   "source": [
    "import matplotlib.pyplot as plt #importamos pyplot de matplotlib\n",
    "\n",
    "\n",
    "# Histograma con matplotlib\n",
    "plt.hist(df[\"Salario\"], bins=60, edgecolor=\"black\")  \n",
    "\n",
    "# Opciones de estilo, como titulos general, o a cada eje del histograma. \n",
    "plt.title(\"Distribución de salarios\") # Titulo general de la visualización \n",
    "plt.xlabel(\"Rango de salarios\") # Titulo del eje x.\n",
    "plt.ylabel(\"Frecuencia\") # Titulo del eje y.\n",
    "\n",
    "plt.show()\n"
   ]
  },
  {
   "cell_type": "markdown",
   "id": "68b5ffd8",
   "metadata": {},
   "source": [
    "# Detección de outliers con boxplot en pandas\n",
    "\n",
    "Los **outliers** (o valores atípicos) son datos que se encuentran significativamente alejados del resto de los valores en un conjunto de datos. Estos pueden indicar errores, variabilidad natural o fenómenos interesantes que requieren atención especial. Identificar outliers es importante porque pueden afectar el análisis estadístico y la interpretación de los resultados.\n",
    "\n",
    "Con pandas, es posible visualizar y detectar outliers fácilmente usando el método `.boxplot()`, que muestra la distribución de los datos y resalta los valores atípicos."
   ]
  },
  {
   "cell_type": "code",
   "execution_count": 478,
   "id": "f56a0ca2",
   "metadata": {},
   "outputs": [
    {
     "data": {
      "text/plain": [
       "<Axes: >"
      ]
     },
     "execution_count": 478,
     "metadata": {},
     "output_type": "execute_result"
    },
    {
     "data": {
      "image/png": "[encoded data removed]",
      "text/plain": [
       "<Figure size 640x480 with 1 Axes>"
      ]
     },
     "metadata": {},
     "output_type": "display_data"
    }
   ],
   "source": [
    "# Visualizar outliers en la columna 'Salario' usando boxplot\n",
    "df.boxplot(column='Salario')"
   ]
  },
  {
   "cell_type": "markdown",
   "id": "59c773d5",
   "metadata": {},
   "source": [
    "### Con matplotlib"
   ]
  },
  {
   "cell_type": "code",
   "execution_count": 479,
   "id": "6a2fd5f7",
   "metadata": {},
   "outputs": [
    {
     "data": {
      "image/png": "[encoded data removed]",
      "text/plain": [
       "<Figure size 640x480 with 1 Axes>"
      ]
     },
     "metadata": {},
     "output_type": "display_data"
    }
   ],
   "source": [
    "import matplotlib.pyplot as plt #importamos pyplot de matplotlib\n",
    "\n",
    "plt.boxplot(df['Salario']) #Otra forma de hacerlo, pero con la misma función. \n",
    "\n",
    "# Opciones de estilo, como titulos general, o a cada eje del histograma. \n",
    "plt.title(\"Distribución de salarios\") # Titulo general de la visualización \n",
    "plt.xlabel(\"Rango de salarios\") # Titulo del eje x.\n",
    "plt.ylabel(\"Frecuencia\") # Titulo del eje y.\n",
    "\n",
    "plt.show()\n"
   ]
  },
  {
   "cell_type": "markdown",
   "id": "27665951",
   "metadata": {},
   "source": [
    "Elimnar Ouliers es parte de la limpieza de un data frame, así como lo fue la eliminación de sus valores nulos, ya que no queremos considerar casos atipicos que no representan el patrón común de los datos.\n",
    "\n",
    "Una forma de eliminarlos es con el metodo del **rango intercuartílico (IQR)**, usando las funciones `quantile(cuartil)`"
   ]
  },
  {
   "cell_type": "code",
   "execution_count": 480,
   "id": "2ed11e38",
   "metadata": {},
   "outputs": [
    {
     "data": {
      "text/plain": [
       "13      450.00\n",
       "15      600.00\n",
       "2      2700.75\n",
       "6      2950.10\n",
       "0      3200.50\n",
       "5      3300.00\n",
       "4      3800.20\n",
       "7      4000.00\n",
       "1      4100.00\n",
       "3      5200.00\n",
       "14    17000.00\n",
       "12    20000.00\n",
       "16    25000.00\n",
       "Name: Salario, dtype: float64"
      ]
     },
     "execution_count": 480,
     "metadata": {},
     "output_type": "execute_result"
    }
   ],
   "source": [
    "df['Salario'].sort_values() # Metodo que sirve para ordenar los valores de una columna numerica de un df de menor a mayor."
   ]
  },
  {
   "cell_type": "code",
   "execution_count": 481,
   "id": "448a1da7",
   "metadata": {},
   "outputs": [
    {
     "data": {
      "text/plain": [
       "16    25000.00\n",
       "12    20000.00\n",
       "14    17000.00\n",
       "3      5200.00\n",
       "1      4100.00\n",
       "7      4000.00\n",
       "4      3800.20\n",
       "5      3300.00\n",
       "0      3200.50\n",
       "6      2950.10\n",
       "2      2700.75\n",
       "15      600.00\n",
       "13      450.00\n",
       "Name: Salario, dtype: float64"
      ]
     },
     "execution_count": 481,
     "metadata": {},
     "output_type": "execute_result"
    }
   ],
   "source": [
    "df['Salario'].sort_values(ascending=False) # Caso que queramos hacerlo de mayor a menor "
   ]
  },
  {
   "cell_type": "code",
   "execution_count": 482,
   "id": "20b71d79",
   "metadata": {},
   "outputs": [],
   "source": [
    "# Método del rango intercuartílico (IQR)\n",
    "Q1 = df['Salario'].quantile(0.25)\n",
    "Q3 = df['Salario'].quantile(0.75)\n",
    "IQR = Q3 - Q1"
   ]
  },
  {
   "cell_type": "code",
   "execution_count": 483,
   "id": "14cce75f",
   "metadata": {},
   "outputs": [
    {
     "data": {
      "text/plain": [
       "2950.1"
      ]
     },
     "execution_count": 483,
     "metadata": {},
     "output_type": "execute_result"
    }
   ],
   "source": [
    "Q1"
   ]
  },
  {
   "cell_type": "code",
   "execution_count": 484,
   "id": "14b746e8",
   "metadata": {},
   "outputs": [
    {
     "data": {
      "text/plain": [
       "5200.0"
      ]
     },
     "execution_count": 484,
     "metadata": {},
     "output_type": "execute_result"
    }
   ],
   "source": [
    "Q3"
   ]
  },
  {
   "cell_type": "code",
   "execution_count": 485,
   "id": "191a6f8e",
   "metadata": {},
   "outputs": [
    {
     "data": {
      "text/plain": [
       "2249.9"
      ]
     },
     "execution_count": 485,
     "metadata": {},
     "output_type": "execute_result"
    }
   ],
   "source": [
    "IQR"
   ]
  },
  {
   "cell_type": "code",
   "execution_count": 486,
   "id": "f36ef784",
   "metadata": {},
   "outputs": [],
   "source": [
    "# Filtrar el DataFrame para eliminar los outliers\n",
    "df = df[(df['Salario'] >= Q1 - 1 * IQR) & (df['Salario'] <= Q3 + 1.5 * IQR)] # Consideraremos solo los datos que sean mayores al primer cuartil, y menores al ultimo cuartil.\n",
    "                                                                               # El parametro que le demos para multiplicar a IQR es una convención estadística, según que tanto queremos que \n",
    "                                                                               # quede fuera, tanto el rango inferior como el superior."
   ]
  },
  {
   "cell_type": "code",
   "execution_count": 487,
   "id": "47c4a540",
   "metadata": {},
   "outputs": [
    {
     "name": "stdout",
     "output_type": "stream",
     "text": [
      "700.1999999999998\n",
      "8574.85\n"
     ]
    }
   ],
   "source": [
    "print(Q1 - 1 * IQR)\n",
    "print(Q3 + 1.5 * IQR)"
   ]
  },
  {
   "cell_type": "code",
   "execution_count": 488,
   "id": "44d0462f",
   "metadata": {},
   "outputs": [
    {
     "data": {
      "text/html": [
       "<div>\n",
       "<style scoped>\n",
       "    .dataframe tbody tr th:only-of-type {\n",
       "        vertical-align: middle;\n",
       "    }\n",
       "\n",
       "    .dataframe tbody tr th {\n",
       "        vertical-align: top;\n",
       "    }\n",
       "\n",
       "    .dataframe thead th {\n",
       "        text-align: right;\n",
       "    }\n",
       "</style>\n",
       "<table border=\"1\" class=\"dataframe\">\n",
       "  <thead>\n",
       "    <tr style=\"text-align: right;\">\n",
       "      <th></th>\n",
       "      <th>Nombre</th>\n",
       "      <th>Edad</th>\n",
       "      <th>FechaNacimiento</th>\n",
       "      <th>Activo</th>\n",
       "      <th>Salario</th>\n",
       "    </tr>\n",
       "  </thead>\n",
       "  <tbody>\n",
       "    <tr>\n",
       "      <th>0</th>\n",
       "      <td>Ana</td>\n",
       "      <td>28.0</td>\n",
       "      <td>1997-05-12</td>\n",
       "      <td>True</td>\n",
       "      <td>3200.50</td>\n",
       "    </tr>\n",
       "    <tr>\n",
       "      <th>1</th>\n",
       "      <td>Luis</td>\n",
       "      <td>35.0</td>\n",
       "      <td>1990-11-23</td>\n",
       "      <td>False</td>\n",
       "      <td>4100.00</td>\n",
       "    </tr>\n",
       "    <tr>\n",
       "      <th>2</th>\n",
       "      <td>Sofía</td>\n",
       "      <td>22.0</td>\n",
       "      <td>2003-02-17</td>\n",
       "      <td>True</td>\n",
       "      <td>2700.75</td>\n",
       "    </tr>\n",
       "    <tr>\n",
       "      <th>3</th>\n",
       "      <td>Carlos</td>\n",
       "      <td>40.0</td>\n",
       "      <td>1985-08-30</td>\n",
       "      <td>True</td>\n",
       "      <td>5200.00</td>\n",
       "    </tr>\n",
       "    <tr>\n",
       "      <th>4</th>\n",
       "      <td>María</td>\n",
       "      <td>31.0</td>\n",
       "      <td>1994-03-05</td>\n",
       "      <td>False</td>\n",
       "      <td>3800.20</td>\n",
       "    </tr>\n",
       "    <tr>\n",
       "      <th>5</th>\n",
       "      <td>Pedro</td>\n",
       "      <td>29.0</td>\n",
       "      <td>1996-07-19</td>\n",
       "      <td>True</td>\n",
       "      <td>3300.00</td>\n",
       "    </tr>\n",
       "    <tr>\n",
       "      <th>6</th>\n",
       "      <td>Lucía</td>\n",
       "      <td>27.0</td>\n",
       "      <td>1998-12-01</td>\n",
       "      <td>False</td>\n",
       "      <td>2950.10</td>\n",
       "    </tr>\n",
       "    <tr>\n",
       "      <th>7</th>\n",
       "      <td>Javier</td>\n",
       "      <td>33.0</td>\n",
       "      <td>1992-04-25</td>\n",
       "      <td>True</td>\n",
       "      <td>4000.00</td>\n",
       "    </tr>\n",
       "  </tbody>\n",
       "</table>\n",
       "</div>"
      ],
      "text/plain": [
       "   Nombre  Edad FechaNacimiento Activo  Salario\n",
       "0     Ana  28.0      1997-05-12   True  3200.50\n",
       "1    Luis  35.0      1990-11-23  False  4100.00\n",
       "2   Sofía  22.0      2003-02-17   True  2700.75\n",
       "3  Carlos  40.0      1985-08-30   True  5200.00\n",
       "4   María  31.0      1994-03-05  False  3800.20\n",
       "5   Pedro  29.0      1996-07-19   True  3300.00\n",
       "6   Lucía  27.0      1998-12-01  False  2950.10\n",
       "7  Javier  33.0      1992-04-25   True  4000.00"
      ]
     },
     "execution_count": 488,
     "metadata": {},
     "output_type": "execute_result"
    }
   ],
   "source": [
    "df"
   ]
  },
  {
   "cell_type": "code",
   "execution_count": 489,
   "id": "5267fe61",
   "metadata": {},
   "outputs": [
    {
     "data": {
      "text/plain": [
       "array([[<Axes: title={'center': 'Salario'}>]], dtype=object)"
      ]
     },
     "execution_count": 489,
     "metadata": {},
     "output_type": "execute_result"
    },
    {
     "data": {
      "image/png": "[encoded data removed]",
      "text/plain": [
       "<Figure size 640x480 with 1 Axes>"
      ]
     },
     "metadata": {},
     "output_type": "display_data"
    }
   ],
   "source": [
    "df.hist(column='Salario', bins=60)"
   ]
  },
  {
   "cell_type": "code",
   "execution_count": 490,
   "id": "9fc319cd",
   "metadata": {},
   "outputs": [
    {
     "data": {
      "text/plain": [
       "<Axes: >"
      ]
     },
     "execution_count": 490,
     "metadata": {},
     "output_type": "execute_result"
    },
    {
     "data": {
      "image/png": "[encoded data removed]",
      "text/plain": [
       "<Figure size 640x480 with 1 Axes>"
      ]
     },
     "metadata": {},
     "output_type": "display_data"
    }
   ],
   "source": [
    "df.boxplot(column='Salario')"
   ]
  },
  {
   "cell_type": "markdown",
   "id": "0895576a",
   "metadata": {},
   "source": [
    "### Con Matplotlib"
   ]
  },
  {
   "cell_type": "code",
   "execution_count": 491,
   "id": "dc4f7fc8",
   "metadata": {},
   "outputs": [
    {
     "data": {
      "image/png": "[encoded data removed]",
      "text/plain": [
       "<Figure size 640x480 with 1 Axes>"
      ]
     },
     "metadata": {},
     "output_type": "display_data"
    }
   ],
   "source": [
    "import matplotlib.pyplot as plt #importamos pyplot de matplotlib\n",
    "\n",
    "\n",
    "# Histograma con matplotlib\n",
    "plt.hist(df[\"Salario\"], bins=60, edgecolor=\"black\")  \n",
    "\n",
    "# Opciones de estilo, como titulos general, o a cada eje del histograma. \n",
    "plt.title(\"Distribución de salarios\") # Titulo general de la visualización \n",
    "plt.xlabel(\"Rango de salarios\") # Titulo del eje x.\n",
    "plt.ylabel(\"Frecuencia\") # Titulo del eje y.\n",
    "\n",
    "plt.show()\n"
   ]
  },
  {
   "cell_type": "code",
   "execution_count": 492,
   "id": "fb4e96bc",
   "metadata": {},
   "outputs": [
    {
     "data": {
      "image/png": "[encoded data removed]",
      "text/plain": [
       "<Figure size 640x480 with 1 Axes>"
      ]
     },
     "metadata": {},
     "output_type": "display_data"
    }
   ],
   "source": [
    "import matplotlib.pyplot as plt #importamos pyplot de matplotlib\n",
    "\n",
    "plt.boxplot(df['Salario']) #Otra forma de hacerlo, pero con la misma función.\n",
    "\n",
    "# Opciones de estilo, como titulos generales, o a cada eje del diagrama.\n",
    "plt.title(\"Distribución de salarios\")\n",
    "plt.xlabel(\"Rango de salarios\")\n",
    "plt.ylabel(\"Frecuencia\")\n",
    "\n",
    "plt.show()"
   ]
  }
 ],
 "metadata": {
  "kernelspec": {
   "display_name": "Python 3",
   "language": "python",
   "name": "python3"
  },
  "language_info": {
   "codemirror_mode": {
    "name": "ipython",
    "version": 3
   },
   "file_extension": ".py",
   "mimetype": "text/x-python",
   "name": "python",
   "nbconvert_exporter": "python",
   "pygments_lexer": "ipython3",
   "version": "3.12.4"
  }
 },
 "nbformat": 4,
 "nbformat_minor": 5
}
