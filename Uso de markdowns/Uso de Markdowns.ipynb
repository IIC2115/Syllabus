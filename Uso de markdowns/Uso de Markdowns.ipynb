{
 "cells": [
  {
   "cell_type": "markdown",
   "id": "ad0dd0b5",
   "metadata": {},
   "source": [
    "# <h><center> Tips para el correcto uso de Markdowns en <font color='dodgerblue'>Pyt<font color='gold'>hon</font></font> y <font color='darkorange'>Jupyter</font></center></h>"
   ]
  },
  {
   "cell_type": "markdown",
   "id": "d8c08d3d",
   "metadata": {},
   "source": [
    "**Autor:** Pedro Saavedra Benavente"
   ]
  },
  {
   "cell_type": "markdown",
   "id": "e5555853",
   "metadata": {},
   "source": [
    "<div style=\"text-align: justify\"> Cuando queremos programar en Python, R u otros lenguajes una de las primeras dudas que pueden surgir es ¿dónde hacerlo? esta pregunta no es fácil de responder pues existen múltiples entornos como PyCharm, Spyder, Visual Studio, entre muchísimos otros. Si bien todos tienen sus fortalezas y debilidades, la principal ventaja que tiene trabajar en formato “ipynb” y Jupyter es la existencia de celdas de texto conocidas como Markdowns las cuales permiten agregar explicaciones, insertar imágenes, escribir ecuaciones, entre otras cosas. Si se utilizan celdas de código y texto de forma correcta el resultado es un documento fácil de leer y de seguir sin perder la funcionalidad del programa desarrollado. De esta manera Jupyter es muy atractivo en ambientes académicos y laborales donde lo que se requiere programar no es excesivamente extenso y se tiene que poder explicar el código de forma rápida y clara incluso si es a alguien sin muchos conocimientos de programación. El objetivo de este documento es introducir al uso de Markdowns y mostrar algunos “trucos” útiles para personalizar los documentos creados. </div>"
   ]
  },
  {
   "cell_type": "markdown",
   "id": "5f2dd607",
   "metadata": {},
   "source": [
    "## <u>Cosas Básicas</u>\n",
    "\n",
    "<br>"
   ]
  },
  {
   "cell_type": "markdown",
   "id": "1cd832c8",
   "metadata": {},
   "source": [
    "**Escribir texto simple:**\n",
    "\n",
    "Para crear una celda de Texto tenemos dos opciones. En primer lugar, podemos transformar la celda (código por defecto) a markdown seleccionando la celda completa y presionado la tecla M. La segunda manera es cambiándolo desde el menú que se muestra en la imagen.\n",
    "\n",
    "![](figs/Imagen1.png)\n",
    "\n",
    "En las celdas de texto se puede escribir de forma directa sin necesidad de “comentar” como ocurre en las celdas de código."
   ]
  },
  {
   "cell_type": "markdown",
   "id": "1cf062e9",
   "metadata": {},
   "source": [
    "**Crear títulos:**\n",
    "\n",
    "La forma más rápida y directa de crear títulos es utilizando ``#`` antes de escribir el texto correspondiente. Además, se puede modificar el tamaño del título según la cantidad de ``#`` que se utilicen, por ejemplo, si queremos escribir un título/encabezado ponemos simplemente “# Título correspondiente” y si queremos hacer un subtítulo ponemos “## Subtítulo correspondiente”. Mientras mas ``#`` se utilicen de menor tamaño va a ser el texto creado.\n",
    "\n",
    "Algunos ejemplos:\n",
    "\n",
    "- \\# Título\n",
    "\n",
    "- \\## Subtítulo 1\n",
    "\n",
    "- \\### Subtítulo 2"
   ]
  },
  {
   "cell_type": "markdown",
   "id": "159a4dda",
   "metadata": {},
   "source": [
    "**Destacar texto:**\n",
    "\n",
    "Existen múltiples formas de resaltar/destacar texto. La primera es resaltar utilizando **negritas** con los signos `**` de la forma `**Texto a resaltar**`. La segunda es `destacar` el texto utilizando los signos **\\`** , por ejemplo escribiendo **\\` Texto a destacar\\`**. Por último, se puede escribir en *cursiva* utilizando el signo `*` de la forma `*Texto en cursivas*`.\n",
    "\n",
    "Algunos ejemplos:\n",
    "\n",
    "- \\*\\*Texto resaltado \\*\\*\n",
    "\n",
    "- \\` Texto destacado\\`\n",
    "\n",
    "- \\*Texto en cursivas\\*"
   ]
  },
  {
   "cell_type": "markdown",
   "id": "63445ba8",
   "metadata": {},
   "source": [
    "**Insertar links:**\n",
    "\n",
    "Se pueden insertar links de dos maneras diferentes. La primera es simplemente copiando y pegando el link correspondiente en la celda de texto, por ejemplo, https://es.wikipedia.org. La segunda es “personalizar” el link utilizando paréntesis de corchetes `[]` y paréntesis comunes `()` de esta manera para insertar un link se escribe entre corchetes el texto que se quiera utilizar como link y entre paréntesis el link “real”, por ejemplo, `[nuevo nombre del link](link real que se quiere utilizar)`. Así el enlace anterior lo podemos poner como [este es el nuevo link](https://es.wikipedia.org)"
   ]
  },
  {
   "cell_type": "markdown",
   "id": "e5df3f57",
   "metadata": {},
   "source": [
    "## <u>Otros comandos útiles</u>\n",
    "\n",
    "<br>"
   ]
  },
  {
   "cell_type": "markdown",
   "id": "faf4bcfa",
   "metadata": {},
   "source": [
    "Las cosas básicas mostradas anteriormente son muy útiles, pero claramente existen muchísimos mas comandos que permiten personalizar y ordenar los markdowns."
   ]
  },
  {
   "cell_type": "markdown",
   "id": "e7bab65d",
   "metadata": {},
   "source": [
    "**Alineación del texto:**\n",
    "\n",
    "Para modificar la alineación por defecto de un texto se puede utilizar el siguiente comando `<div style=\"text-align: justify\"> Párrafo que se quiere alinear </div>` en este caso al poner “justify” significa que el texto escrito está justificado, pero también se puede cambiar y poner una alineación a la derecha con “right” o a la izquierda con “left”\n",
    "\n",
    "Algunos ejemplos:\n",
    "\n",
    "- <div style=\"text-align: justify\"> Texto justificado </div>\n",
    "\n",
    "- <div style=\"text-align: left\"> Texto alineado a la izquierda </div>\n",
    "\n",
    "- <div style=\"text-align: center\"> Texto centrado </div>\n",
    "\n",
    "- <div style=\"text-align: right\"> Texto alineado a la derecha </div>"
   ]
  },
  {
   "cell_type": "markdown",
   "id": "65608d75",
   "metadata": {},
   "source": [
    "**Importante**: en caso de estar trabajando en google colab, el comando anterior no funciona y se tiene que utilizar `<p align='justify'>Texto justificado </p>`"
   ]
  },
  {
   "cell_type": "markdown",
   "id": "d37272ba",
   "metadata": {},
   "source": [
    "**Subrayar:**\n",
    "\n",
    "Se pueden <u>subrayar</u> palabras simples o títulos, para esto se tiene que utilizar el formato `<u>Palabras que se quieren subrayar</u>`.\n"
   ]
  },
  {
   "cell_type": "markdown",
   "id": "acbd9f91",
   "metadata": {},
   "source": [
    "**Separar textos:**\n",
    "\n",
    "<br>\n",
    "\n",
    "Muchas veces los párrafos de Markdowns y código quedan demasiado “juntos” lo que se puede ver estéticamente mal. Para solucionar lo anterior se puede escribir el comando `<br>` en una línea vacía lo cual genera un espaciamiento adicional al generado con un salto de linea."
   ]
  },
  {
   "cell_type": "markdown",
   "id": "f7e696b8",
   "metadata": {},
   "source": [
    "**Distintos colores:**\n",
    "\n",
    "Se pueden utilizar distintos colores para escribir texto utilizando el comando `<font color=nombre_del_color >Texto a colorear</font>`. Se puede usar prácticamente cualquier color si se conoce su nombre en python, por ejemplo, `<font color=magenta >Texto a colorear</font>` escribe las palabras en color <font color=magenta >magenta </font>.\n"
   ]
  },
  {
   "cell_type": "markdown",
   "id": "2f61a9b2",
   "metadata": {},
   "source": [
    "**Tamaño de la letra:**\n",
    "\n",
    "Si bien ya hemos visto como modificar de forma sencilla el tamaño de la letra con el comando `#` se puede especificar de forma exacta el tamaño de letra que se quiere utilizando el comando `<font size='tamaño_de_letra'>Texto escrito</font>` y especificando el tamaño reemplazando *tamaño_de_letra* por un número. Por ejemplo, si queremos utilizar una letra <font size='1'>Diminuta</font> se puede escribir `<font size='1' >Texto escrito</font>`.\n"
   ]
  },
  {
   "cell_type": "markdown",
   "id": "6a2d24c7",
   "metadata": {},
   "source": [
    "**Hacer listas:**\n",
    "\n",
    "Hay varias maneras de listar información. Una manera es utilizando números con el formato `numero. texto`, por ejemplo:\n",
    "\n",
    "1. Primer item\n",
    "2. Segundo item\n",
    "3. tercer item\n",
    "\n",
    "Otra manera es sin orden de prioridad, utilizando `- texto`:\n",
    "\n",
    "- item 1\n",
    "- item 2\n",
    "- item 3"
   ]
  },
  {
   "cell_type": "markdown",
   "id": "49efea45",
   "metadata": {},
   "source": [
    "## <u>Comandos útiles avanzados:</u>\n",
    "\n",
    "<br>"
   ]
  },
  {
   "cell_type": "markdown",
   "id": "8c20076b",
   "metadata": {},
   "source": [
    "Además de poder crear y ordenar texto, los markdowns permiten crear cosas diferentes y mas avanzadas."
   ]
  },
  {
   "cell_type": "markdown",
   "id": "061a3bd0",
   "metadata": {},
   "source": [
    "**Crear tablas:**\n",
    "\n",
    "También se pueden crear tablas, para información más detalladas se puede comenzar leyendo lo que se explica [aquí]( https://stackoverflow.com/questions/48655801/tables-in-markdown-in-jupyter) Pero una vez se entiende es muy sencillo de utilizar. Por ejemplo se puede generar una tabla como se muestra a continuación:\n",
    "\n",
    "Lista del Supermercado | Producto | Cantidades\n",
    ":-------------------|:---------------:|--------------------:\n",
    "                    | Jamon         | 3 kilos\n",
    "                    | Manjar        | 1 kilo\n",
    "                    | Leche         | 2 litros\n",
    "                    | Pepinillos    | 80 frascos   \n",
    "                    | Gomitas Acidas Trolli   | 10 kilos\n",
    "                    | Posta rosada  | 1 kilo     \n",
    "                    | Harina  | 3 kilos  "
   ]
  },
  {
   "cell_type": "markdown",
   "id": "2910832e",
   "metadata": {},
   "source": [
    "**Crear ecuaciones:**\n",
    "\n",
    "Las celdas de texto de jupyter permiten insertar ecuaciones escritas según el mismo formato que se utilizaría en LaTeX utilizando \\$\\$ al comienzo y al final. Así para hacerlo se tiene que escribir de la forma `$$ ecuacion en LaTeX $$`. Por ejemplo, se puede escribir un modelo de optimización tal cual se hace en LaTeX como se muestra a continuación\n",
    "\n",
    "\n",
    "$$ Min \\sum_{(i,j)\\in A}c_{ij}x_{ij} $$\n",
    "\n",
    "                         S.a:\n",
    "                         \n",
    "$$\\sum_{j\\in \\delta^+(i)}x_{ij}=1  \\qquad   \\forall i\\in N \\qquad Primera\\; restriccion$$ \n",
    "\n",
    "$$\\sum_{i\\in \\delta^-(j)}x_{ij}=1  \\qquad   \\forall j\\in N \\qquad Segunda\\; restriccion$$ \n",
    "\n",
    "$$\\sum_{j\\in \\delta^+(0)}x_{0j}= \\left |  K\\right |  \\qquad    \\qquad Tercera\\; restriccion$$ \n",
    "\n",
    "$$\\sum_{(i,j)\\in \\delta^{+}(S)}x_{ij}\\geq \\left \\lceil \\frac{\\sum_{i\\in S}q_{i}}{Q} \\right \\rceil \\qquad S\\subseteq N, S\\neq \\varnothing \\qquad Cuarta\\; restriccion$$\n",
    "\n",
    "$$ x_{ij} \\in \\left \\{ 0,1 \\right \\} \\qquad \\forall (i,j)\\in A \\qquad Quinta\\; restriccion$$\n",
    "\n"
   ]
  },
  {
   "cell_type": "markdown",
   "id": "395a27c6",
   "metadata": {},
   "source": [
    "**Insertar imágenes:**\n",
    "\n",
    "Se pueden insertar imágenes en las celdas de Markdowns. La manera más básica de realizarlo es copiando y pegando la imagen que se quiere insertar el la celda con lo que se genera algo del formato `![nombre_imagen ](attachment:imagen)` lo cual se podrá visualizar una vez “corrida” la celda actual. Otra forma de insertar imágenes es teniendo descargada la imagen en la misma carpeta del archivo o en otra diferente y utilizando el comando `![nombre_imagen](ubicación_del_archivo/nombre_de_imagen.png)`. Por ejemplo la siguiente imagen fue copiada y pegada:\n",
    "\n",
    "![](figs/Imagen2.jpg)\n",
    "\n",
    "\n",
    "<font size='1'>Imagen obtenida de [link](https://www.genbeta.com/desarrollo/free-python-books-lista-definitiva-libros-gratis-para-desarrolladores-que-quieren-aprender-python)</font>"
   ]
  },
  {
   "cell_type": "markdown",
   "id": "6f74e258",
   "metadata": {},
   "source": [
    "## <u>Recomendaciones finales:</u>\n",
    "\n",
    "<br>\n",
    "\n",
    "Cuando se trabaja con Jupyter Notebook y en caso de disponer del tiempo suficiente, el uso de markdowns puede hacer la diferencia entre un trabajo bueno y uno excelente, pues entrega muchísimo valor presentar de forma clara y ordenada aquello que fue correctamente codificado. Por otra parte, existen múltiples comandos adicionales que no fueron mencionados aquí y que se invita al lector a explorar por su cuenta, ya sea en Google o la documentación oficial de Jupyter."
   ]
  }
 ],
 "metadata": {
  "kernelspec": {
   "display_name": "Python 3",
   "language": "python",
   "name": "python3"
  },
  "language_info": {
   "codemirror_mode": {
    "name": "ipython",
    "version": 3
   },
   "file_extension": ".py",
   "mimetype": "text/x-python",
   "name": "python",
   "nbconvert_exporter": "python",
   "pygments_lexer": "ipython3",
   "version": "3.8.8"
  }
 },
 "nbformat": 4,
 "nbformat_minor": 5
}
